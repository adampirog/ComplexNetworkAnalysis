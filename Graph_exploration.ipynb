{
 "cells": [
  {
   "cell_type": "code",
   "execution_count": null,
   "id": "595b23b5-a150-44b6-8d56-e5f65aa426e8",
   "metadata": {},
   "outputs": [],
   "source": [
    "import pandas as pd\n",
    "import seaborn as sns\n",
    "from matplotlib import pyplot as plt\n",
    "import networkx as nx\n",
    "import numpy as np\n",
    "from scipy import stats\n",
    "from itertools import combinations"
   ]
  },
  {
   "cell_type": "markdown",
   "id": "1fbf65d9-491f-4f36-9176-04879b634d5a",
   "metadata": {},
   "source": [
    "# Smaller graph"
   ]
  },
  {
   "cell_type": "code",
   "execution_count": null,
   "id": "da32a6c8-f0b7-46f7-a6e1-6ab95014acc6",
   "metadata": {},
   "outputs": [],
   "source": [
    "def saturation(G):\n",
    "    n = len(G.nodes)\n",
    "    e = len(G.edges)\n",
    "    full_graph = (n * (n - 1)) // 2\n",
    "\n",
    "    return (e / full_graph) * 100\n",
    "\n",
    "\n",
    "def avg_degree(G):\n",
    "    return sum([val for (node, val) in G.degree()]) / len(G.nodes)\n",
    "\n",
    "\n",
    "def shortest_paths(G, cutoff=50_000):\n",
    "    result = []\n",
    "    not_connected = 0\n",
    "    all_pairs = 0\n",
    "    for source, target in combinations(np.random.permutation(list(G.nodes)), 2):\n",
    "        all_pairs += 1\n",
    "        try:\n",
    "            result.append(len(nx.shortest_path(G, source=source, target=target)))\n",
    "        except nx.NetworkXNoPath:\n",
    "            not_connected += 1\n",
    "\n",
    "        if all_pairs >= cutoff:\n",
    "            break\n",
    "    return result, (not_connected / all_pairs)\n",
    "\n",
    "\n",
    "def print_stats(G):\n",
    "    print(f\"Nodes: {len(G.nodes)}\")\n",
    "    print(f\"Edges: {len(G.edges)}\")\n",
    "    print(f\"Components: {nx.number_connected_components(G)}\")\n",
    "    print(f\"Graph saturation: {saturation(G):.2f}%\")\n",
    "    print(f\"Average degree: {avg_degree(G)}\")\n",
    "    print(f\"Average clustering coef: {nx.cluster.average_clustering(G)}\")\n",
    "\n",
    "\n",
    "def path_summary(G):\n",
    "    paths, not_connected = shortest_paths(G)\n",
    "    print(f\"Shortest path: {np.min(paths)}\")\n",
    "    print(f\"Longest path: {np.max(paths)}\")\n",
    "    print(f\"Average path length (median): {np.median(paths)}\")\n",
    "    print(f\"Percentage of not connected pairs: {not_connected * 100}%\")\n",
    "    sns.histplot(paths)\n",
    "    plt.xlabel(\"Shortest path length\")\n",
    "\n",
    "\n",
    "def print_top(array, n=5):\n",
    "    for index, (node, value) in enumerate(array[:n]):\n",
    "        print(f\"{index + 1}. {node}: {value:.2f}\")\n",
    "    print(\"---\")"
   ]
  },
  {
   "cell_type": "code",
   "execution_count": null,
   "id": "578067e6-b4a9-4fc2-9d4e-bf11d7890dd3",
   "metadata": {},
   "outputs": [],
   "source": [
    "df = pd.read_csv(\"data/graph.csv\")\n",
    "G = nx.convert_matrix.from_pandas_edgelist(df, source='source', target='target', edge_attr='title')"
   ]
  },
  {
   "cell_type": "code",
   "execution_count": null,
   "id": "cf0ebdbe-d8b2-4771-b6bb-d5a9cc25e853",
   "metadata": {},
   "outputs": [],
   "source": [
    "print_stats(G)"
   ]
  },
  {
   "cell_type": "code",
   "execution_count": null,
   "id": "bfd86971-db74-4c7c-abd0-8675fc7dce95",
   "metadata": {},
   "outputs": [],
   "source": [
    "path_summary(G)"
   ]
  },
  {
   "cell_type": "code",
   "execution_count": null,
   "id": "d4f19221-7baa-42e1-ba48-bb1b44ffa649",
   "metadata": {},
   "outputs": [],
   "source": [
    "plt.figure(figsize=(18, 9))\n",
    "pos = nx.spring_layout(G)\n",
    "nx.draw(G, pos=pos, node_size=50)\n",
    "plt.show()"
   ]
  },
  {
   "cell_type": "code",
   "execution_count": null,
   "id": "0c817e28-de73-4f71-bb32-6e01ce139bf0",
   "metadata": {},
   "outputs": [],
   "source": [
    "degrees = {node: val for (node, val) in G.degree()}\n",
    "betweenness = nx.algorithms.centrality.betweenness_centrality(G)\n",
    "closeness = nx.algorithms.centrality.closeness_centrality(G)\n",
    "clustering = nx.algorithms.cluster.clustering(G)\n",
    "\n",
    "sorted_degrees = list((k, v) for k, v in sorted(degrees.items(), key=lambda item: item[1], reverse=True))\n",
    "sorted_betweenness = list((k, v) for k, v in sorted(betweenness.items(), key=lambda item: item[1], reverse=True))\n",
    "sorted_closeness = list((k, v) for k, v in sorted(closeness.items(), key=lambda item: item[1], reverse=True))\n",
    "sorted_clustering = list((k, v) for k, v in sorted(clustering.items(), key=lambda item: item[1], reverse=True))"
   ]
  },
  {
   "cell_type": "code",
   "execution_count": null,
   "id": "0ca58fa5-c496-4608-b960-a250d1e06248",
   "metadata": {},
   "outputs": [],
   "source": [
    "print(\"Top by degree: \")\n",
    "print_top(sorted_degrees)\n",
    "\n",
    "print(\"Top by betweenness: \")\n",
    "print_top(sorted_betweenness)\n",
    "\n",
    "print(\"Top by closeness: \")\n",
    "print_top(sorted_closeness)\n",
    "\n",
    "print(\"Top by clustering: \")\n",
    "print_top(sorted_clustering)"
   ]
  },
  {
   "cell_type": "code",
   "execution_count": null,
   "id": "5a128c81-77e1-4f8e-b5c5-4eef24b6d49b",
   "metadata": {},
   "outputs": [],
   "source": [
    "top_n = 5\n",
    "top_nodes = [i[0] for i in sorted_degrees[:top_n]] + [i[0] for i in sorted_betweenness[:top_n]] + [i[0] for i in sorted_closeness[:top_n]]\n",
    "top_nodes = list(set(top_nodes))"
   ]
  },
  {
   "cell_type": "code",
   "execution_count": null,
   "id": "74216296-fd00-42e3-aefb-8192069d50e9",
   "metadata": {},
   "outputs": [],
   "source": [
    "fig, (ax1, ax2) = plt.subplots(2, 2, figsize=(20, 10))\n",
    "sns.histplot(degrees.values(), legend=False, ax=ax1[0]).set_title(\"Degrees\")\n",
    "sns.histplot(betweenness.values(), legend=False, ax=ax1[1]).set_title(\"Betweenness\")\n",
    "sns.histplot(closeness.values(), legend=False, ax=ax2[0]).set_title(\"Closeness\")\n",
    "sns.histplot(clustering.values(), legend=False, ax=ax2[1]).set_title(\"Clustering coef\")\n",
    "plt.show()"
   ]
  },
  {
   "cell_type": "code",
   "execution_count": null,
   "id": "46c492f9-e820-403a-ad34-542d81c40562",
   "metadata": {},
   "outputs": [],
   "source": [
    "fig, (ax1, ax2) = plt.subplots(2, 2, figsize=(20, 10))\n",
    "sns.lineplot(data=degrees.values(), legend=False, ax=ax1[0]).set_title(\"Degrees\")\n",
    "sns.lineplot(data=betweenness.values(), legend=False, ax=ax1[1]).set_title(\"Betweenness\")\n",
    "sns.lineplot(data=closeness.values(), legend=False, ax=ax2[0]).set_title(\"Closeness\")\n",
    "sns.lineplot(data=clustering.values(), legend=False, ax=ax2[1]).set_title(\"Clustering coef\")\n",
    "plt.show()"
   ]
  },
  {
   "cell_type": "code",
   "execution_count": null,
   "id": "6cf797bd-be15-44a9-8157-171c1bcd83d8",
   "metadata": {},
   "outputs": [],
   "source": [
    "rank_names = ('degrees', 'closeness', 'betweenness', 'clustering')\n",
    "rank_values = (list(degrees.values()), list(closeness.values()), list(betweenness.values()), list(clustering.values()))"
   ]
  },
  {
   "cell_type": "code",
   "execution_count": null,
   "id": "9c0b9f69-df27-4cbc-8af3-0ad16f6d5232",
   "metadata": {},
   "outputs": [],
   "source": [
    "for value1, value2 in combinations(zip(rank_names, rank_values), 2):\n",
    "    stat = stats.kendalltau(value1[1], value2[1])\n",
    "    print(f\"Rank correlation for {value1[0]} and {value2[0]} {stat[0]}\")"
   ]
  },
  {
   "cell_type": "code",
   "execution_count": null,
   "id": "759ce7d2-e2ef-400f-8c35-9c253dca9ab5",
   "metadata": {},
   "outputs": [],
   "source": [
    "subgraphs = sorted(nx.connected_components(G), key=len, reverse=True)"
   ]
  },
  {
   "cell_type": "code",
   "execution_count": null,
   "id": "6a610d21-34e3-4c1f-a8b3-a8e68df0d70d",
   "metadata": {},
   "outputs": [],
   "source": [
    "labels = {}\n",
    "for node in G.nodes():\n",
    "    if node in top_nodes:\n",
    "        labels[node] = node"
   ]
  },
  {
   "cell_type": "code",
   "execution_count": null,
   "id": "4f581535-4836-495a-b45c-104d587900e3",
   "metadata": {},
   "outputs": [],
   "source": [
    "G0 = G.subgraph(subgraphs[0])\n",
    "plt.figure(figsize=(18, 9))\n",
    "pos = nx.kamada_kawai_layout(G0)\n",
    "nx.draw(G0, pos=pos, with_labels=False)\n",
    "nx.draw_networkx_labels(G0, pos, labels, font_size=14, font_color='red', font_weight=\"bold\")\n",
    "plt.show()"
   ]
  },
  {
   "cell_type": "code",
   "execution_count": null,
   "id": "8d50d638-451a-4fd8-a7fa-a358a1f6c7a6",
   "metadata": {
    "tags": []
   },
   "outputs": [],
   "source": [
    "for item in subgraphs[1:]:\n",
    "    G0 = G.subgraph(item)\n",
    "    plt.figure(figsize=(16, 8))\n",
    "    pos = nx.kamada_kawai_layout(G0)\n",
    "    nx.draw(G0, pos=pos, with_labels=False)\n",
    "    nx.draw_networkx_labels(G0, pos, None, font_size=15, font_color='red', font_weight=\"normal\")\n",
    "    plt.show()"
   ]
  },
  {
   "cell_type": "markdown",
   "id": "12a70b69-7ec1-400c-8234-beb61893b5f7",
   "metadata": {},
   "source": [
    "# Bigest component"
   ]
  },
  {
   "cell_type": "code",
   "execution_count": null,
   "id": "28a23ec9-e906-4d3d-aef2-772fbfca4db5",
   "metadata": {},
   "outputs": [],
   "source": [
    "G = G.subgraph(subgraphs[0])"
   ]
  },
  {
   "cell_type": "code",
   "execution_count": null,
   "id": "deb9078c-8d5e-4446-a07d-f939885b4d9d",
   "metadata": {},
   "outputs": [],
   "source": [
    "print_stats(G)"
   ]
  },
  {
   "cell_type": "code",
   "execution_count": null,
   "id": "f57bfb09-cb71-446b-84b1-7f3ae69d6a4d",
   "metadata": {},
   "outputs": [],
   "source": [
    "path_summary(G)"
   ]
  },
  {
   "cell_type": "code",
   "execution_count": null,
   "id": "0e7452e4-1713-46b6-857b-4643177c8996",
   "metadata": {},
   "outputs": [],
   "source": [
    "plt.figure(figsize=(18, 9))\n",
    "pos = nx.spring_layout(G)\n",
    "nx.draw(G, pos=pos, node_size=50)\n",
    "plt.show()"
   ]
  },
  {
   "cell_type": "code",
   "execution_count": null,
   "id": "f8db3803-00d7-4ef6-9b47-fe7eb2ef8c75",
   "metadata": {},
   "outputs": [],
   "source": [
    "degrees = {node: val for (node, val) in G.degree()}\n",
    "betweenness = nx.algorithms.centrality.betweenness_centrality(G)\n",
    "closeness = nx.algorithms.centrality.closeness_centrality(G)\n",
    "clustering = nx.algorithms.cluster.clustering(G)\n",
    "\n",
    "sorted_degrees = list((k, v) for k, v in sorted(degrees.items(), key=lambda item: item[1], reverse=True))\n",
    "sorted_betweenness = list((k, v) for k, v in sorted(betweenness.items(), key=lambda item: item[1], reverse=True))\n",
    "sorted_closeness = list((k, v) for k, v in sorted(closeness.items(), key=lambda item: item[1], reverse=True))\n",
    "sorted_clustering = list((k, v) for k, v in sorted(clustering.items(), key=lambda item: item[1], reverse=True))"
   ]
  },
  {
   "cell_type": "code",
   "execution_count": null,
   "id": "ff8bc9e8-8d59-4a1d-a762-e31adfaf8cd8",
   "metadata": {},
   "outputs": [],
   "source": [
    "print(\"Top by degree: \")\n",
    "print_top(sorted_degrees)\n",
    "\n",
    "print(\"Top by betweenness: \")\n",
    "print_top(sorted_betweenness)\n",
    "\n",
    "print(\"Top by closeness: \")\n",
    "print_top(sorted_closeness)\n",
    "\n",
    "print(\"Top by clustering: \")\n",
    "print_top(sorted_clustering)"
   ]
  },
  {
   "cell_type": "code",
   "execution_count": null,
   "id": "f7a6fa80-7c7b-48c4-a735-69abfc98c0be",
   "metadata": {},
   "outputs": [],
   "source": [
    "top_n = 5\n",
    "top_nodes = [i[0] for i in sorted_degrees[:top_n]] + [i[0] for i in sorted_betweenness[:top_n]] + [i[0] for i in sorted_closeness[:top_n]]\n",
    "top_nodes = list(set(top_nodes))"
   ]
  },
  {
   "cell_type": "code",
   "execution_count": null,
   "id": "b2b6a4d1-463b-4de1-ae68-cefcf646abc8",
   "metadata": {},
   "outputs": [],
   "source": [
    "fig, (ax1, ax2) = plt.subplots(2, 2, figsize=(20, 10))\n",
    "sns.histplot(degrees.values(), legend=False, ax=ax1[0]).set_title(\"Degrees\")\n",
    "sns.histplot(betweenness.values(), legend=False, ax=ax1[1]).set_title(\"Betweenness\")\n",
    "sns.histplot(closeness.values(), legend=False, ax=ax2[0]).set_title(\"Closeness\")\n",
    "sns.histplot(clustering.values(), legend=False, ax=ax2[1]).set_title(\"Clustering coef\")\n",
    "plt.show()"
   ]
  },
  {
   "cell_type": "code",
   "execution_count": null,
   "id": "e940a535-8c7c-4e6c-b36d-c4385c69ca5d",
   "metadata": {},
   "outputs": [],
   "source": [
    "fig, (ax1, ax2) = plt.subplots(2, 2, figsize=(20, 10))\n",
    "sns.lineplot(data=degrees.values(), legend=False, ax=ax1[0]).set_title(\"Degrees\")\n",
    "sns.lineplot(data=betweenness.values(), legend=False, ax=ax1[1]).set_title(\"Betweenness\")\n",
    "sns.lineplot(data=closeness.values(), legend=False, ax=ax2[0]).set_title(\"Closeness\")\n",
    "sns.lineplot(data=clustering.values(), legend=False, ax=ax2[1]).set_title(\"Clustering coef\")\n",
    "plt.show()"
   ]
  },
  {
   "cell_type": "code",
   "execution_count": null,
   "id": "25abb89d-19e9-4573-9e0b-c64c473d0746",
   "metadata": {},
   "outputs": [],
   "source": [
    "rank_names = ('degrees', 'closeness', 'betweenness', 'clustering')\n",
    "rank_values = (list(degrees.values()), list(closeness.values()), list(betweenness.values()), list(clustering.values()))"
   ]
  },
  {
   "cell_type": "code",
   "execution_count": null,
   "id": "e95448d8-e83e-44d0-8575-ac304e4d3a09",
   "metadata": {},
   "outputs": [],
   "source": [
    "for value1, value2 in combinations(zip(rank_names, rank_values), 2):\n",
    "    stat = stats.kendalltau(value1[1], value2[1])\n",
    "    print(f\"Rank correlation for {value1[0]} and {value2[0]} {stat[0]}\")"
   ]
  }
 ],
 "metadata": {
  "kernelspec": {
   "display_name": "Python 3 (ipykernel)",
   "language": "python",
   "name": "python3"
  },
  "language_info": {
   "codemirror_mode": {
    "name": "ipython",
    "version": 3
   },
   "file_extension": ".py",
   "mimetype": "text/x-python",
   "name": "python",
   "nbconvert_exporter": "python",
   "pygments_lexer": "ipython3",
   "version": "3.9.7"
  }
 },
 "nbformat": 4,
 "nbformat_minor": 5
}
