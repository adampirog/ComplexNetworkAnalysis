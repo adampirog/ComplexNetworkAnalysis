{
 "cells": [
  {
   "cell_type": "code",
   "execution_count": null,
   "id": "ed91555b-40fa-4aa3-af80-60c746e55db0",
   "metadata": {},
   "outputs": [],
   "source": [
    "import pandas as pd\n",
    "import seaborn as sns\n",
    "from matplotlib import pyplot as plt\n",
    "import networkx as nx\n",
    "import numpy as np\n",
    "from scipy import stats\n",
    "from itertools import combinations"
   ]
  },
  {
   "cell_type": "markdown",
   "id": "fea6e954-6ef4-4a59-a7ee-18ca06359d0d",
   "metadata": {},
   "source": [
    "# Smaller graph"
   ]
  },
  {
   "cell_type": "code",
   "execution_count": null,
   "id": "654b463c-39ee-4db1-95c6-7ab5309b8ca2",
   "metadata": {},
   "outputs": [],
   "source": [
    "def saturation(G):\n",
    "    n = len(G.nodes)\n",
    "    e = len(G.edges)\n",
    "    full_graph = (n * (n - 1)) // 2\n",
    "\n",
    "    return (e / full_graph) * 100\n",
    "\n",
    "\n",
    "def avg_degree(G):\n",
    "    return sum([val for (node, val) in G.degree()]) / len(G.nodes)\n",
    "\n",
    "\n",
    "def shortest_paths(G, cutoff=50_000):\n",
    "    result = []\n",
    "    not_connected = 0\n",
    "    all_pairs = 0\n",
    "    for source, target in combinations(np.random.permutation(list(G.nodes)), 2):\n",
    "        all_pairs += 1\n",
    "        try:\n",
    "            result.append(len(nx.shortest_path(G, source=source, target=target)))\n",
    "        except nx.NetworkXNoPath:\n",
    "            not_connected += 1\n",
    "\n",
    "        if all_pairs >= cutoff:\n",
    "            break\n",
    "    return result, (not_connected / all_pairs)\n",
    "\n",
    "\n",
    "def print_stats(G):\n",
    "    print(f\"Nodes: {len(G.nodes)}\")\n",
    "    print(f\"Edges: {len(G.edges)}\")\n",
    "    print(f\"Components: {nx.number_connected_components(G)}\")\n",
    "    print(f\"Graph saturation: {saturation(G):.2f}%\")\n",
    "    print(f\"Average degree: {avg_degree(G)}\")\n",
    "    print(f\"Average clustering coef: {nx.cluster.average_clustering(G)}\")\n",
    "\n",
    "\n",
    "def path_summary(G):\n",
    "    paths, not_connected = shortest_paths(G)\n",
    "    print(f\"Shortest path: {np.min(paths)}\")\n",
    "    print(f\"Longest path: {np.max(paths)}\")\n",
    "    print(f\"Average path length (median): {np.median(paths)}\")\n",
    "    print(f\"Percentage of not connected pairs: {not_connected * 100}%\")\n",
    "    sns.histplot(paths)\n",
    "    plt.xlabel(\"Shortest path length\")\n",
    "\n",
    "\n",
    "def print_top(array, n=5):\n",
    "    for index, (node, value) in enumerate(array[:n]):\n",
    "        print(f\"{index + 1}. {node}: {value:.2f}\")\n",
    "    print(\"---\")"
   ]
  },
  {
   "cell_type": "code",
   "execution_count": null,
   "id": "bfe9e28d-6cf5-44b0-b6b3-b287c122f134",
   "metadata": {},
   "outputs": [],
   "source": [
    "df = pd.read_csv(\"data/graph_2hop.csv\")\n",
    "G = nx.convert_matrix.from_pandas_edgelist(df, source='source', target='target', edge_attr='title')"
   ]
  },
  {
   "cell_type": "code",
   "execution_count": null,
   "id": "60bb6c00-5ccc-4cbe-94ea-d0e2a1a5cffb",
   "metadata": {},
   "outputs": [],
   "source": [
    "print_stats(G)"
   ]
  },
  {
   "cell_type": "code",
   "execution_count": null,
   "id": "ea17dc59-3f58-43e6-820e-9027177981d7",
   "metadata": {},
   "outputs": [],
   "source": [
    "path_summary(G)"
   ]
  },
  {
   "cell_type": "code",
   "execution_count": null,
   "id": "ee9422b5-1adf-4eed-a019-3c1e24ce6570",
   "metadata": {},
   "outputs": [],
   "source": [
    "plt.figure(figsize=(18, 9))\n",
    "pos = nx.spring_layout(G)\n",
    "nx.draw(G, pos=pos, node_size=20)\n",
    "plt.show()"
   ]
  },
  {
   "cell_type": "code",
   "execution_count": null,
   "id": "249568eb-7e61-4204-a9da-1f619d50d6f8",
   "metadata": {},
   "outputs": [],
   "source": [
    "degrees = {node: val for (node, val) in G.degree()}\n",
    "betweenness = nx.algorithms.centrality.betweenness_centrality(G)\n",
    "closeness = nx.algorithms.centrality.closeness_centrality(G)\n",
    "clustering = nx.algorithms.cluster.clustering(G)\n",
    "\n",
    "sorted_degrees = list((k, v) for k, v in sorted(degrees.items(), key=lambda item: item[1], reverse=True))\n",
    "sorted_betweenness = list((k, v) for k, v in sorted(betweenness.items(), key=lambda item: item[1], reverse=True))\n",
    "sorted_closeness = list((k, v) for k, v in sorted(closeness.items(), key=lambda item: item[1], reverse=True))\n",
    "sorted_clustering = list((k, v) for k, v in sorted(clustering.items(), key=lambda item: item[1], reverse=True))"
   ]
  },
  {
   "cell_type": "code",
   "execution_count": null,
   "id": "ff018e6a-da23-49c0-b432-f8f9b7924129",
   "metadata": {},
   "outputs": [],
   "source": [
    "print(\"Top by degree: \")\n",
    "print_top(sorted_degrees)\n",
    "\n",
    "print(\"Top by betweenness: \")\n",
    "print_top(sorted_betweenness)\n",
    "\n",
    "print(\"Top by closeness: \")\n",
    "print_top(sorted_closeness)\n",
    "\n",
    "print(\"Top by clustering: \")\n",
    "print_top(sorted_clustering)"
   ]
  },
  {
   "cell_type": "code",
   "execution_count": null,
   "id": "ae26c019-fa00-44e7-9c14-1c5fb25370b7",
   "metadata": {},
   "outputs": [],
   "source": [
    "top_n = 5\n",
    "top_nodes = [i[0] for i in sorted_degrees[:top_n]] + [i[0] for i in sorted_betweenness[:top_n]] + [i[0] for i in sorted_closeness[:top_n]]\n",
    "top_nodes = list(set(top_nodes))"
   ]
  },
  {
   "cell_type": "code",
   "execution_count": null,
   "id": "4fd15af5-cf34-4051-b4d2-5e725ac8a242",
   "metadata": {
    "tags": []
   },
   "outputs": [],
   "source": [
    "fig, (ax1, ax2) = plt.subplots(2, 2, figsize=(20, 10))\n",
    "sns.histplot(degrees.values(), legend=False, ax=ax1[0]).set_title(\"Degrees\")\n",
    "sns.histplot(betweenness.values(), legend=False, ax=ax1[1], bins=40).set_title(\"Betweenness\")\n",
    "sns.histplot(closeness.values(), legend=False, ax=ax2[0]).set_title(\"Closeness\")\n",
    "sns.histplot(clustering.values(), legend=False, ax=ax2[1]).set_title(\"Clustering coef\")\n",
    "plt.show()"
   ]
  },
  {
   "cell_type": "code",
   "execution_count": null,
   "id": "bb3d2dde-ff5d-4442-a381-e8feae2c14d0",
   "metadata": {},
   "outputs": [],
   "source": [
    "fig, (ax1, ax2) = plt.subplots(2, 2, figsize=(20, 10))\n",
    "sns.lineplot(data=degrees.values(), legend=False, ax=ax1[0]).set_title(\"Degrees\")\n",
    "sns.lineplot(data=betweenness.values(), legend=False, ax=ax1[1]).set_title(\"Betweenness\")\n",
    "sns.lineplot(data=closeness.values(), legend=False, ax=ax2[0]).set_title(\"Closeness\")\n",
    "sns.lineplot(data=clustering.values(), legend=False, ax=ax2[1]).set_title(\"Clustering coef\")\n",
    "plt.show()"
   ]
  },
  {
   "cell_type": "code",
   "execution_count": null,
   "id": "96cbd607-4fda-408c-80ec-2b3607b873ec",
   "metadata": {},
   "outputs": [],
   "source": [
    "rank_names = ('degrees', 'closeness', 'betweenness', 'clustering')\n",
    "rank_values = (list(degrees.values()), list(closeness.values()), list(betweenness.values()), list(clustering.values()))"
   ]
  },
  {
   "cell_type": "code",
   "execution_count": null,
   "id": "0aca954c-c591-45ea-bebb-d03de39eb71f",
   "metadata": {},
   "outputs": [],
   "source": [
    "for value1, value2 in combinations(zip(rank_names, rank_values), 2):\n",
    "    stat = stats.kendalltau(value1[1], value2[1])\n",
    "    print(f\"Rank correlation for {value1[0]} and {value2[0]} {stat[0]}\")"
   ]
  },
  {
   "cell_type": "code",
   "execution_count": null,
   "id": "7fb9c4c1-a4ba-4dd5-9009-d11cfa459601",
   "metadata": {},
   "outputs": [],
   "source": [
    "subgraphs = sorted(nx.connected_components(G), key=len, reverse=True)"
   ]
  },
  {
   "cell_type": "code",
   "execution_count": null,
   "id": "046a0c1d-5f04-4070-8c9b-cffb1feaf136",
   "metadata": {},
   "outputs": [],
   "source": [
    "labels = {}\n",
    "for node in G.nodes():\n",
    "    if node in top_nodes:\n",
    "        labels[node] = node"
   ]
  },
  {
   "cell_type": "code",
   "execution_count": null,
   "id": "75b18a21-ffc8-4cda-8b9a-79f438d914ae",
   "metadata": {},
   "outputs": [],
   "source": [
    "G0 = G.subgraph(subgraphs[0])\n",
    "plt.figure(figsize=(18, 9))\n",
    "pos = nx.spring_layout(G0)\n",
    "nx.draw(G0, pos=pos, with_labels=False, node_size=20)\n",
    "plt.show()"
   ]
  },
  {
   "cell_type": "code",
   "execution_count": null,
   "id": "d40560b8-238e-49f9-85ce-de8706e4eb2b",
   "metadata": {
    "tags": []
   },
   "outputs": [],
   "source": [
    "for item in subgraphs[1:]:\n",
    "    G0 = G.subgraph(item)\n",
    "    plt.figure(figsize=(16, 8))\n",
    "    pos = nx.kamada_kawai_layout(G0)\n",
    "    nx.draw(G0, pos=pos, with_labels=False)\n",
    "    nx.draw_networkx_labels(G0, pos, None, font_size=15, font_color='red', font_weight=\"normal\")\n",
    "    plt.show()"
   ]
  },
  {
   "cell_type": "markdown",
   "id": "47cf785c-947f-4936-8c20-77ebd38fdfd2",
   "metadata": {},
   "source": [
    "# Bigest component"
   ]
  },
  {
   "cell_type": "code",
   "execution_count": null,
   "id": "53f97d13-2c12-4e20-adff-407c9b9fd225",
   "metadata": {},
   "outputs": [],
   "source": [
    "G = G.subgraph(subgraphs[0])"
   ]
  },
  {
   "cell_type": "code",
   "execution_count": null,
   "id": "a18ad4e7-49b0-4aea-ada8-75a2d3574b12",
   "metadata": {},
   "outputs": [],
   "source": [
    "print_stats(G)"
   ]
  },
  {
   "cell_type": "code",
   "execution_count": null,
   "id": "e7af0e4e-e7fb-460f-82b0-25017daf6e84",
   "metadata": {},
   "outputs": [],
   "source": [
    "path_summary(G)"
   ]
  },
  {
   "cell_type": "code",
   "execution_count": null,
   "id": "6bc3c317-c263-4d53-b46e-57dfab06b6ae",
   "metadata": {},
   "outputs": [],
   "source": [
    "plt.figure(figsize=(18, 9))\n",
    "pos = nx.spring_layout(G)\n",
    "nx.draw(G, pos=pos, node_size=30)\n",
    "plt.show()"
   ]
  },
  {
   "cell_type": "code",
   "execution_count": null,
   "id": "4fe60f96-5f07-4ee8-8ddd-46927bd56423",
   "metadata": {},
   "outputs": [],
   "source": [
    "degrees = {node: val for (node, val) in G.degree()}\n",
    "betweenness = nx.algorithms.centrality.betweenness_centrality(G)\n",
    "closeness = nx.algorithms.centrality.closeness_centrality(G)\n",
    "clustering = nx.algorithms.cluster.clustering(G)\n",
    "\n",
    "sorted_degrees = list((k, v) for k, v in sorted(degrees.items(), key=lambda item: item[1], reverse=True))\n",
    "sorted_betweenness = list((k, v) for k, v in sorted(betweenness.items(), key=lambda item: item[1], reverse=True))\n",
    "sorted_closeness = list((k, v) for k, v in sorted(closeness.items(), key=lambda item: item[1], reverse=True))\n",
    "sorted_clustering = list((k, v) for k, v in sorted(clustering.items(), key=lambda item: item[1], reverse=True))"
   ]
  },
  {
   "cell_type": "code",
   "execution_count": null,
   "id": "2b29875c-7e7f-4e23-a514-8ba77593721b",
   "metadata": {},
   "outputs": [],
   "source": [
    "print(\"Top by degree: \")\n",
    "print_top(sorted_degrees)\n",
    "\n",
    "print(\"Top by betweenness: \")\n",
    "print_top(sorted_betweenness)\n",
    "\n",
    "print(\"Top by closeness: \")\n",
    "print_top(sorted_closeness)\n",
    "\n",
    "print(\"Top by clustering: \")\n",
    "print_top(sorted_clustering)"
   ]
  },
  {
   "cell_type": "code",
   "execution_count": null,
   "id": "772aa08a-908d-4578-b4b4-eb7ecb15dd7b",
   "metadata": {},
   "outputs": [],
   "source": [
    "top_n = 5\n",
    "top_nodes = [i[0] for i in sorted_degrees[:top_n]] + [i[0] for i in sorted_betweenness[:top_n]] + [i[0] for i in sorted_closeness[:top_n]]\n",
    "top_nodes = list(set(top_nodes))"
   ]
  },
  {
   "cell_type": "code",
   "execution_count": null,
   "id": "affb4b65-2818-4e54-b160-69c68a940573",
   "metadata": {
    "tags": []
   },
   "outputs": [],
   "source": [
    "fig, (ax1, ax2) = plt.subplots(2, 2, figsize=(20, 10))\n",
    "sns.histplot(degrees.values(), legend=False, ax=ax1[0]).set_title(\"Degrees\")\n",
    "sns.histplot(betweenness.values(), legend=False, ax=ax1[1], bins=40).set_title(\"Betweenness\")\n",
    "sns.histplot(closeness.values(), legend=False, ax=ax2[0]).set_title(\"Closeness\")\n",
    "sns.histplot(clustering.values(), legend=False, ax=ax2[1]).set_title(\"Clustering coef\")\n",
    "plt.show()"
   ]
  },
  {
   "cell_type": "code",
   "execution_count": null,
   "id": "eed5730b-8521-4287-a626-14f51122ae75",
   "metadata": {},
   "outputs": [],
   "source": [
    "fig, (ax1, ax2) = plt.subplots(2, 2, figsize=(20, 10))\n",
    "sns.lineplot(data=degrees.values(), legend=False, ax=ax1[0]).set_title(\"Degrees\")\n",
    "sns.lineplot(data=betweenness.values(), legend=False, ax=ax1[1]).set_title(\"Betweenness\")\n",
    "sns.lineplot(data=closeness.values(), legend=False, ax=ax2[0]).set_title(\"Closeness\")\n",
    "sns.lineplot(data=clustering.values(), legend=False, ax=ax2[1]).set_title(\"Clustering coef\")\n",
    "plt.show()"
   ]
  },
  {
   "cell_type": "code",
   "execution_count": null,
   "id": "b594b459-aeba-47e8-9396-7c7791c15c61",
   "metadata": {},
   "outputs": [],
   "source": [
    "rank_names = ('degrees', 'closeness', 'betweenness', 'clustering')\n",
    "rank_values = (list(degrees.values()), list(closeness.values()), list(betweenness.values()), list(clustering.values()))"
   ]
  },
  {
   "cell_type": "code",
   "execution_count": null,
   "id": "21babde4-b3c3-4c76-820f-3e6ad2fea9b5",
   "metadata": {},
   "outputs": [],
   "source": [
    "for value1, value2 in combinations(zip(rank_names, rank_values), 2):\n",
    "    stat = stats.kendalltau(value1[1], value2[1])\n",
    "    print(f\"Rank correlation for {value1[0]} and {value2[0]} {stat[0]}\")"
   ]
  }
 ],
 "metadata": {
  "kernelspec": {
   "display_name": "Python 3 (ipykernel)",
   "language": "python",
   "name": "python3"
  },
  "language_info": {
   "codemirror_mode": {
    "name": "ipython",
    "version": 3
   },
   "file_extension": ".py",
   "mimetype": "text/x-python",
   "name": "python",
   "nbconvert_exporter": "python",
   "pygments_lexer": "ipython3",
   "version": "3.9.7"
  }
 },
 "nbformat": 4,
 "nbformat_minor": 5
}
