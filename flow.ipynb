{
 "cells": [
  {
   "cell_type": "code",
   "execution_count": 173,
   "metadata": {},
   "outputs": [],
   "source": [
    "import pandas as pd\n",
    "import os\n",
    "import networkx\n",
    "import seaborn as sns\n",
    "import matplotlib.pyplot as plt\n",
    "\n",
    "from ndlib.models.epidemics.IndependentCascadesModel import IndependentCascadesModel\n",
    "import ndlib.models.epidemics as ep\n",
    "from ndlib.models.ModelConfig import Configuration\n",
    "\n",
    "from tqdm.auto import tqdm\n",
    "import numpy as np\n"
   ]
  },
  {
   "cell_type": "code",
   "execution_count": 6,
   "metadata": {},
   "outputs": [],
   "source": [
    "gr = pd.read_csv(os.path.join('data', 'graph.csv'))"
   ]
  },
  {
   "cell_type": "code",
   "execution_count": 7,
   "metadata": {},
   "outputs": [
    {
     "data": {
      "text/html": [
       "<div>\n",
       "<style scoped>\n",
       "    .dataframe tbody tr th:only-of-type {\n",
       "        vertical-align: middle;\n",
       "    }\n",
       "\n",
       "    .dataframe tbody tr th {\n",
       "        vertical-align: top;\n",
       "    }\n",
       "\n",
       "    .dataframe thead th {\n",
       "        text-align: right;\n",
       "    }\n",
       "</style>\n",
       "<table border=\"1\" class=\"dataframe\">\n",
       "  <thead>\n",
       "    <tr style=\"text-align: right;\">\n",
       "      <th></th>\n",
       "      <th>published</th>\n",
       "      <th>title</th>\n",
       "      <th>summary</th>\n",
       "      <th>doi</th>\n",
       "      <th>primary_category</th>\n",
       "      <th>pdf_url</th>\n",
       "      <th>no_authors</th>\n",
       "      <th>source</th>\n",
       "      <th>target</th>\n",
       "    </tr>\n",
       "  </thead>\n",
       "  <tbody>\n",
       "    <tr>\n",
       "      <th>0</th>\n",
       "      <td>2016-03-28 06:38:56+00:00</td>\n",
       "      <td>Hierarchy of Groups Evaluation Using Different...</td>\n",
       "      <td>The paper presents a cursory examination of cl...</td>\n",
       "      <td>10.1007/978-3-662-49381-6_63</td>\n",
       "      <td>cs.CV</td>\n",
       "      <td>http://arxiv.org/pdf/1603.08323v1</td>\n",
       "      <td>3</td>\n",
       "      <td>M. Spytkowski</td>\n",
       "      <td>L. Olech</td>\n",
       "    </tr>\n",
       "    <tr>\n",
       "      <th>1</th>\n",
       "      <td>2016-03-28 06:38:56+00:00</td>\n",
       "      <td>Hierarchy of Groups Evaluation Using Different...</td>\n",
       "      <td>The paper presents a cursory examination of cl...</td>\n",
       "      <td>10.1007/978-3-662-49381-6_63</td>\n",
       "      <td>cs.CV</td>\n",
       "      <td>http://arxiv.org/pdf/1603.08323v1</td>\n",
       "      <td>3</td>\n",
       "      <td>M. Spytkowski</td>\n",
       "      <td>H. Kwasnicka</td>\n",
       "    </tr>\n",
       "    <tr>\n",
       "      <th>2</th>\n",
       "      <td>2016-03-28 06:38:56+00:00</td>\n",
       "      <td>Hierarchy of Groups Evaluation Using Different...</td>\n",
       "      <td>The paper presents a cursory examination of cl...</td>\n",
       "      <td>10.1007/978-3-662-49381-6_63</td>\n",
       "      <td>cs.CV</td>\n",
       "      <td>http://arxiv.org/pdf/1603.08323v1</td>\n",
       "      <td>3</td>\n",
       "      <td>L. Olech</td>\n",
       "      <td>H. Kwasnicka</td>\n",
       "    </tr>\n",
       "    <tr>\n",
       "      <th>3</th>\n",
       "      <td>2016-06-17 21:21:15+00:00</td>\n",
       "      <td>Hierarchical Data Generator based on Tree-Stru...</td>\n",
       "      <td>Object Cluster Hierarchies is a new variant of...</td>\n",
       "      <td>NaN</td>\n",
       "      <td>cs.CV</td>\n",
       "      <td>http://arxiv.org/pdf/1606.05681v3</td>\n",
       "      <td>4</td>\n",
       "      <td>L. Olech</td>\n",
       "      <td>M. Spytkowski</td>\n",
       "    </tr>\n",
       "    <tr>\n",
       "      <th>4</th>\n",
       "      <td>2016-06-17 21:21:15+00:00</td>\n",
       "      <td>Hierarchical Data Generator based on Tree-Stru...</td>\n",
       "      <td>Object Cluster Hierarchies is a new variant of...</td>\n",
       "      <td>NaN</td>\n",
       "      <td>cs.CV</td>\n",
       "      <td>http://arxiv.org/pdf/1606.05681v3</td>\n",
       "      <td>4</td>\n",
       "      <td>L. Olech</td>\n",
       "      <td>H. Kwasnicka</td>\n",
       "    </tr>\n",
       "    <tr>\n",
       "      <th>...</th>\n",
       "      <td>...</td>\n",
       "      <td>...</td>\n",
       "      <td>...</td>\n",
       "      <td>...</td>\n",
       "      <td>...</td>\n",
       "      <td>...</td>\n",
       "      <td>...</td>\n",
       "      <td>...</td>\n",
       "      <td>...</td>\n",
       "    </tr>\n",
       "    <tr>\n",
       "      <th>813</th>\n",
       "      <td>2021-08-03 21:53:31+00:00</td>\n",
       "      <td>HTTP2vec: Embedding of HTTP Requests for Detec...</td>\n",
       "      <td>Hypertext transfer protocol (HTTP) is one of t...</td>\n",
       "      <td>NaN</td>\n",
       "      <td>cs.LG</td>\n",
       "      <td>http://arxiv.org/pdf/2108.01763v1</td>\n",
       "      <td>4</td>\n",
       "      <td>M. Gniewkowski</td>\n",
       "      <td>T. Surmacz</td>\n",
       "    </tr>\n",
       "    <tr>\n",
       "      <th>814</th>\n",
       "      <td>2021-08-03 21:53:31+00:00</td>\n",
       "      <td>HTTP2vec: Embedding of HTTP Requests for Detec...</td>\n",
       "      <td>Hypertext transfer protocol (HTTP) is one of t...</td>\n",
       "      <td>NaN</td>\n",
       "      <td>cs.LG</td>\n",
       "      <td>http://arxiv.org/pdf/2108.01763v1</td>\n",
       "      <td>4</td>\n",
       "      <td>M. Gniewkowski</td>\n",
       "      <td>W. Walentynowicz</td>\n",
       "    </tr>\n",
       "    <tr>\n",
       "      <th>815</th>\n",
       "      <td>2021-08-03 21:53:31+00:00</td>\n",
       "      <td>HTTP2vec: Embedding of HTTP Requests for Detec...</td>\n",
       "      <td>Hypertext transfer protocol (HTTP) is one of t...</td>\n",
       "      <td>NaN</td>\n",
       "      <td>cs.LG</td>\n",
       "      <td>http://arxiv.org/pdf/2108.01763v1</td>\n",
       "      <td>4</td>\n",
       "      <td>H. Maciejewski</td>\n",
       "      <td>T. Surmacz</td>\n",
       "    </tr>\n",
       "    <tr>\n",
       "      <th>816</th>\n",
       "      <td>2021-08-03 21:53:31+00:00</td>\n",
       "      <td>HTTP2vec: Embedding of HTTP Requests for Detec...</td>\n",
       "      <td>Hypertext transfer protocol (HTTP) is one of t...</td>\n",
       "      <td>NaN</td>\n",
       "      <td>cs.LG</td>\n",
       "      <td>http://arxiv.org/pdf/2108.01763v1</td>\n",
       "      <td>4</td>\n",
       "      <td>H. Maciejewski</td>\n",
       "      <td>W. Walentynowicz</td>\n",
       "    </tr>\n",
       "    <tr>\n",
       "      <th>817</th>\n",
       "      <td>2021-08-03 21:53:31+00:00</td>\n",
       "      <td>HTTP2vec: Embedding of HTTP Requests for Detec...</td>\n",
       "      <td>Hypertext transfer protocol (HTTP) is one of t...</td>\n",
       "      <td>NaN</td>\n",
       "      <td>cs.LG</td>\n",
       "      <td>http://arxiv.org/pdf/2108.01763v1</td>\n",
       "      <td>4</td>\n",
       "      <td>T. Surmacz</td>\n",
       "      <td>W. Walentynowicz</td>\n",
       "    </tr>\n",
       "  </tbody>\n",
       "</table>\n",
       "<p>818 rows × 9 columns</p>\n",
       "</div>"
      ],
      "text/plain": [
       "                     published  \\\n",
       "0    2016-03-28 06:38:56+00:00   \n",
       "1    2016-03-28 06:38:56+00:00   \n",
       "2    2016-03-28 06:38:56+00:00   \n",
       "3    2016-06-17 21:21:15+00:00   \n",
       "4    2016-06-17 21:21:15+00:00   \n",
       "..                         ...   \n",
       "813  2021-08-03 21:53:31+00:00   \n",
       "814  2021-08-03 21:53:31+00:00   \n",
       "815  2021-08-03 21:53:31+00:00   \n",
       "816  2021-08-03 21:53:31+00:00   \n",
       "817  2021-08-03 21:53:31+00:00   \n",
       "\n",
       "                                                 title  \\\n",
       "0    Hierarchy of Groups Evaluation Using Different...   \n",
       "1    Hierarchy of Groups Evaluation Using Different...   \n",
       "2    Hierarchy of Groups Evaluation Using Different...   \n",
       "3    Hierarchical Data Generator based on Tree-Stru...   \n",
       "4    Hierarchical Data Generator based on Tree-Stru...   \n",
       "..                                                 ...   \n",
       "813  HTTP2vec: Embedding of HTTP Requests for Detec...   \n",
       "814  HTTP2vec: Embedding of HTTP Requests for Detec...   \n",
       "815  HTTP2vec: Embedding of HTTP Requests for Detec...   \n",
       "816  HTTP2vec: Embedding of HTTP Requests for Detec...   \n",
       "817  HTTP2vec: Embedding of HTTP Requests for Detec...   \n",
       "\n",
       "                                               summary  \\\n",
       "0    The paper presents a cursory examination of cl...   \n",
       "1    The paper presents a cursory examination of cl...   \n",
       "2    The paper presents a cursory examination of cl...   \n",
       "3    Object Cluster Hierarchies is a new variant of...   \n",
       "4    Object Cluster Hierarchies is a new variant of...   \n",
       "..                                                 ...   \n",
       "813  Hypertext transfer protocol (HTTP) is one of t...   \n",
       "814  Hypertext transfer protocol (HTTP) is one of t...   \n",
       "815  Hypertext transfer protocol (HTTP) is one of t...   \n",
       "816  Hypertext transfer protocol (HTTP) is one of t...   \n",
       "817  Hypertext transfer protocol (HTTP) is one of t...   \n",
       "\n",
       "                              doi primary_category  \\\n",
       "0    10.1007/978-3-662-49381-6_63            cs.CV   \n",
       "1    10.1007/978-3-662-49381-6_63            cs.CV   \n",
       "2    10.1007/978-3-662-49381-6_63            cs.CV   \n",
       "3                             NaN            cs.CV   \n",
       "4                             NaN            cs.CV   \n",
       "..                            ...              ...   \n",
       "813                           NaN            cs.LG   \n",
       "814                           NaN            cs.LG   \n",
       "815                           NaN            cs.LG   \n",
       "816                           NaN            cs.LG   \n",
       "817                           NaN            cs.LG   \n",
       "\n",
       "                               pdf_url  no_authors          source  \\\n",
       "0    http://arxiv.org/pdf/1603.08323v1           3   M. Spytkowski   \n",
       "1    http://arxiv.org/pdf/1603.08323v1           3   M. Spytkowski   \n",
       "2    http://arxiv.org/pdf/1603.08323v1           3        L. Olech   \n",
       "3    http://arxiv.org/pdf/1606.05681v3           4        L. Olech   \n",
       "4    http://arxiv.org/pdf/1606.05681v3           4        L. Olech   \n",
       "..                                 ...         ...             ...   \n",
       "813  http://arxiv.org/pdf/2108.01763v1           4  M. Gniewkowski   \n",
       "814  http://arxiv.org/pdf/2108.01763v1           4  M. Gniewkowski   \n",
       "815  http://arxiv.org/pdf/2108.01763v1           4  H. Maciejewski   \n",
       "816  http://arxiv.org/pdf/2108.01763v1           4  H. Maciejewski   \n",
       "817  http://arxiv.org/pdf/2108.01763v1           4      T. Surmacz   \n",
       "\n",
       "               target  \n",
       "0            L. Olech  \n",
       "1        H. Kwasnicka  \n",
       "2        H. Kwasnicka  \n",
       "3       M. Spytkowski  \n",
       "4        H. Kwasnicka  \n",
       "..                ...  \n",
       "813        T. Surmacz  \n",
       "814  W. Walentynowicz  \n",
       "815        T. Surmacz  \n",
       "816  W. Walentynowicz  \n",
       "817  W. Walentynowicz  \n",
       "\n",
       "[818 rows x 9 columns]"
      ]
     },
     "execution_count": 7,
     "metadata": {},
     "output_type": "execute_result"
    }
   ],
   "source": [
    "gr"
   ]
  },
  {
   "cell_type": "code",
   "execution_count": 10,
   "metadata": {},
   "outputs": [],
   "source": [
    "ge = networkx.convert_matrix.from_pandas_edgelist(email_gra_pd, create_using=networkx.MultiGraph())"
   ]
  },
  {
   "cell_type": "code",
   "execution_count": 33,
   "metadata": {},
   "outputs": [
    {
     "data": {
      "text/plain": [
       "[('P. Kazienko', 0.43738977072310403),\n",
       " ('T. Kajdanowicz', 0.43538339562804396),\n",
       " ('P. Brodka', 0.40217618748692197),\n",
       " ('R. Michalski', 0.388990082979154),\n",
       " ('J. Jankowski', 0.358164453761938),\n",
       " ('B. Szymanski', 0.35023461345724566),\n",
       " ('K. Musial', 0.34894698620188813),\n",
       " ('M. Piasecki', 0.3426483041404822),\n",
       " ('L. Augustyniak', 0.3426483041404822),\n",
       " ('R. Bartusiak', 0.3261635060031394)]"
      ]
     },
     "execution_count": 33,
     "metadata": {},
     "output_type": "execute_result"
    }
   ],
   "source": [
    "list(reversed(sorted(networkx.closeness_centrality(ge).items(), key=lambda x: x[1])))[:10]"
   ]
  },
  {
   "cell_type": "code",
   "execution_count": 48,
   "metadata": {},
   "outputs": [],
   "source": [
    "from networkx.drawing.layout import spring_layout"
   ]
  },
  {
   "cell_type": "code",
   "execution_count": null,
   "metadata": {},
   "outputs": [],
   "source": [
    "# pr_erg = networkx.algorithms.link_analysis.pagerank_alg.pagerank(ge)\n",
    "labels = ['P. Kazienko', 'J. Pawelczyk']\n",
    "labels = {x: x for x in labels}\n",
    "plt.figure(figsize=(12,12)) \n",
    "\n",
    "networkx.draw(ge, node_size=15, with_labels = False)\n",
    "nx.draw_networkx_labels(ge,spring_layout(ge), labels,font_size=16,font_color='r')\n",
    "plt.show()"
   ]
  },
  {
   "cell_type": "code",
   "execution_count": 43,
   "metadata": {},
   "outputs": [],
   "source": [
    "import networkx as nx\n",
    "import numpy as np\n",
    "\n",
    "\n",
    "\n",
    "\n",
    "\n",
    "def IC(Networkx_Graph,Seed_Set,Probability,Num_of_Simulations):\n",
    "    spread = []\n",
    "    for i in range(Num_of_Simulations):\n",
    "        \n",
    "        new_active, Ans = Seed_Set[:], Seed_Set[:]\n",
    "        while new_active:\n",
    "            #Getting neighbour nodes of newly activate node\n",
    "            targets = Neighbour_finder(Networkx_Graph,Probability,new_active)\n",
    "    \n",
    "            #Calculating if any nodes of those neighbours can be activated, if yes add them to new_ones.\n",
    "            np.random.seed(i)\n",
    "            success = np.random.uniform(0,1,len(targets)) < Probability\n",
    "            new_ones = list(np.extract(success, sorted(targets)))\n",
    "            \n",
    "            #Checking which ones in new_ones are not in our Ans...only adding them to our Ans so that no duplicate in Ans.\n",
    "            new_active = list(set(new_ones) - set(Ans))\n",
    "            Ans += new_active\n",
    "            \n",
    "        spread.append(len(Ans))\n",
    "        \n",
    "    return(np.mean(spread))\n",
    "    \n",
    "    \n",
    "    \n",
    "def Neighbour_finder(g,p,new_active):\n",
    "    \n",
    "    targets = []\n",
    "    for node in new_active:\n",
    "        targets += g.neighbors(node)\n",
    "\n",
    "    return(targets)\n",
    "\n",
    "\n",
    "def KempeGreedy(graph, num_seed_nodes, prob=0.2, n_iters=1000):\n",
    "   #Solution gives 2 parameters: the selected seed set for which we found the maximum influence & their influences\n",
    "   #Here we used this method for Networkx Directed Graph\n",
    "    max_spreads = []\n",
    "    ultimate_seed_set = []\n",
    "    for _ in range(num_seed_nodes):\n",
    "        best_node = -999\n",
    "        best_spread = -np.inf\n",
    "\n",
    "       \n",
    "        nods = graph.nodes - ultimate_seed_set;\n",
    "\n",
    "\n",
    "        \n",
    "        for node in nods:\n",
    "            print(ultimate_seed_set+[node])\n",
    "            each_infl  = IC(graph, ultimate_seed_set + [node], prob, n_iters)\n",
    "            if each_infl  > best_spread:\n",
    "                ALL_inf.append(each_infl)\n",
    "                best_spread = each_infl \n",
    "                best_node = node\n",
    "                \n",
    "        ultimate_seed_set.append(best_node)\n",
    "        max_spreads.append(best_spread)\n",
    "    return ultimate_seed_set, max_spreads"
   ]
  },
  {
   "cell_type": "code",
   "execution_count": 63,
   "metadata": {},
   "outputs": [
    {
     "name": "stdout",
     "output_type": "stream",
     "text": [
      "['W. Liu']\n",
      "['B. V']\n",
      "['Z. Michalewicz']\n",
      "['M. Zolnieruk']\n",
      "['B. Koloszczyk']\n",
      "['M. Morzy']\n",
      "['B. Szymanski']\n",
      "['P. Oleszczyk']\n",
      "['A. Borg']\n",
      "['E. Kosasih']\n",
      "['E. Kanaga']\n",
      "['L. Zhao']\n",
      "['K. Meissner']\n",
      "['Z. Lalak']\n",
      "['K. Gorman']\n",
      "['A. Krakovska']\n",
      "['A. Polak']\n",
      "['N. Chawla']\n",
      "['J. Pawelczyk']\n",
      "['I. Gisterek']\n",
      "['M. Ujma']\n",
      "['J. Cabezas']\n",
      "['P. Bielak']\n",
      "['G. Miebs']\n",
      "['J. Gaworecki']\n",
      "['K. Kowalska']\n",
      "['M. Przewozniczek']\n",
      "['E. Sessolo']\n",
      "['M. Szymanski']\n",
      "['H. Kwasnicka']\n",
      "['J. Ethier']\n",
      "['W. Walentynowicz']\n",
      "['V. Halyan']\n",
      "['S. Yankielowicz']\n",
      "['P. Zelasko']\n",
      "['P. Doskocz']\n",
      "['A. Rusin']\n",
      "['T. Surmacz']\n",
      "['V. Yukhymchuk']\n",
      "['I. Ivashchenko']\n",
      "['M. Rizoiu']\n",
      "['N. Garau']\n",
      "['N. Bisagno']\n",
      "['T. Filipowski']\n",
      "['K. Ozga']\n",
      "['I. Olekseyuk']\n",
      "['P. Gramacki']\n",
      "['J. Banaszczak']\n",
      "['P. Rozewski']\n",
      "['M. Gniewkowski']\n",
      "['R. Bartusiak']\n",
      "['A. Chmiel']\n",
      "['P. Brodka']\n",
      "['J. Jankowski']\n",
      "['M. Skoryk']\n",
      "['X. Wang']\n",
      "['A. Zbieg']\n",
      "['M. Nikolajuk']\n",
      "['S. Utz']\n",
      "['K. Juszczyszyn']\n",
      "['S. Zhao']\n",
      "['W. Michalska']\n",
      "['M. Holecyova']\n",
      "['T. Arvanitis']\n",
      "['Y. Ran']\n",
      "['S. Cheong']\n",
      "['M. Dziezyc']\n",
      "['P. Dziurzanski']\n",
      "['M. Paradowski']\n",
      "['Y. Carmiel']\n",
      "['H. Budacova']\n",
      "['M. Koziarski']\n",
      "['R. Suszek']\n",
      "['O. Lizardo']\n",
      "['L. Indrusiak']\n",
      "['N. Dehak']\n",
      "['M. Boldt']\n",
      "['P. Kazienko']\n",
      "['J. Kuraszkiewicz']\n",
      "['M. Bernaczyk']\n",
      "['N. Conci']\n",
      "['X. Sumba']\n",
      "['W. Indyk']\n",
      "['P. Myszkowski']\n",
      "['A. Binding']\n",
      "['K. Kersting']\n",
      "['K. Kania']\n",
      "['H. Maciejewski']\n",
      "['J. Mizgajski']\n",
      "['M. Shevchuk']\n",
      "['M. Magnani']\n",
      "['Y. Wang']\n",
      "['S. Saganowski']\n",
      "['M. Zyla-Hoppe']\n",
      "['S. Keung']\n",
      "['A. Kevshyn']\n",
      "['S. Feuerriegel']\n",
      "['K. Rajda']\n",
      "['Y. Yeliseyenka']\n",
      "['L. Olech']\n",
      "['J. Jakubik']\n",
      "['M. Spytkowski']\n",
      "['K. Raczycki']\n",
      "['M. Zieba']\n",
      "['F. Erlandsson']\n",
      "['M. Skowronski']\n",
      "['A. Dutkowiak']\n",
      "['M. Falkiewicz']\n",
      "['K. Musial']\n",
      "['K. Pasierb']\n",
      "['K. Oslizlo']\n",
      "['K. Idanwekhai']\n",
      "['H. Steinacker']\n",
      "['B. Tjandra']\n",
      "['J. Komoszynska']\n",
      "['H. Johnson']\n",
      "['L. Augustyniak']\n",
      "['N. Mastellos']\n",
      "['A. Andreasson']\n",
      "['V. Curcin']\n",
      "['B. Czerny']\n",
      "['M. Panfil']\n",
      "['B. Gliwa']\n",
      "['K. Jedryka']\n",
      "['M. Mcgilchrist']\n",
      "['Y. Gule']\n",
      "['K. Skibicki']\n",
      "['J. Kwiatkowski']\n",
      "['R. Radwanski']\n",
      "['R. Michalski']\n",
      "['J. Grobelny']\n",
      "['A. Zygmunt']\n",
      "['W. Karwowski']\n",
      "['T. Jelinski']\n",
      "['P. Tishchenko']\n",
      "['P. Jakimow']\n",
      "['S. Rey']\n",
      "['S. Pokorski']\n",
      "['S. Wozniak']\n",
      "['C. Lebiere']\n",
      "['A. Jamasb']\n",
      "['T. Kajdanowicz']\n",
      "['P. Szymanski']\n",
      "['M. Nurek']\n",
      "['J. Kozlak']\n",
      "['K. Turzynski']\n",
      "['A. Szymczak']\n",
      "['S. Theisen']\n",
      "['S. Ciuberek']\n",
      "['H. Jegierski']\n",
      "['M. Piasecki']\n",
      "['B. Delaney']\n",
      "['A. Burgun']\n",
      "['T. Jia']\n",
      "['P. Stawiak']\n",
      "['K. Tagowski']\n",
      "['J. Hamari']\n",
      "['A. Dziadek']\n",
      "['Z. Ropka']\n",
      "['M. Kulisiewicz']\n",
      "['O. Aharony']\n",
      "['G. Ragozini']\n",
      "['B. Zak']\n",
      "['P. Kazienko', 'W. Liu']\n",
      "['P. Kazienko', 'B. V']\n",
      "['P. Kazienko', 'Z. Michalewicz']\n",
      "['P. Kazienko', 'M. Zolnieruk']\n",
      "['P. Kazienko', 'B. Koloszczyk']\n",
      "['P. Kazienko', 'M. Morzy']\n",
      "['P. Kazienko', 'B. Szymanski']\n",
      "['P. Kazienko', 'P. Oleszczyk']\n",
      "['P. Kazienko', 'A. Borg']\n",
      "['P. Kazienko', 'E. Kosasih']\n",
      "['P. Kazienko', 'E. Kanaga']\n",
      "['P. Kazienko', 'L. Zhao']\n",
      "['P. Kazienko', 'K. Meissner']\n",
      "['P. Kazienko', 'Z. Lalak']\n",
      "['P. Kazienko', 'K. Gorman']\n",
      "['P. Kazienko', 'A. Krakovska']\n",
      "['P. Kazienko', 'A. Polak']\n",
      "['P. Kazienko', 'N. Chawla']\n",
      "['P. Kazienko', 'J. Pawelczyk']\n",
      "['P. Kazienko', 'I. Gisterek']\n",
      "['P. Kazienko', 'M. Ujma']\n",
      "['P. Kazienko', 'J. Cabezas']\n",
      "['P. Kazienko', 'P. Bielak']\n",
      "['P. Kazienko', 'G. Miebs']\n",
      "['P. Kazienko', 'J. Gaworecki']\n",
      "['P. Kazienko', 'K. Kowalska']\n",
      "['P. Kazienko', 'M. Przewozniczek']\n",
      "['P. Kazienko', 'E. Sessolo']\n",
      "['P. Kazienko', 'M. Szymanski']\n",
      "['P. Kazienko', 'H. Kwasnicka']\n",
      "['P. Kazienko', 'J. Ethier']\n",
      "['P. Kazienko', 'W. Walentynowicz']\n",
      "['P. Kazienko', 'V. Halyan']\n",
      "['P. Kazienko', 'S. Yankielowicz']\n",
      "['P. Kazienko', 'P. Zelasko']\n",
      "['P. Kazienko', 'P. Doskocz']\n",
      "['P. Kazienko', 'A. Rusin']\n",
      "['P. Kazienko', 'T. Surmacz']\n",
      "['P. Kazienko', 'V. Yukhymchuk']\n",
      "['P. Kazienko', 'I. Ivashchenko']\n",
      "['P. Kazienko', 'M. Rizoiu']\n",
      "['P. Kazienko', 'N. Garau']\n",
      "['P. Kazienko', 'N. Bisagno']\n",
      "['P. Kazienko', 'T. Filipowski']\n",
      "['P. Kazienko', 'K. Ozga']\n",
      "['P. Kazienko', 'I. Olekseyuk']\n",
      "['P. Kazienko', 'P. Gramacki']\n",
      "['P. Kazienko', 'J. Banaszczak']\n",
      "['P. Kazienko', 'P. Rozewski']\n",
      "['P. Kazienko', 'M. Gniewkowski']\n",
      "['P. Kazienko', 'R. Bartusiak']\n",
      "['P. Kazienko', 'A. Chmiel']\n",
      "['P. Kazienko', 'P. Brodka']\n",
      "['P. Kazienko', 'J. Jankowski']\n",
      "['P. Kazienko', 'M. Skoryk']\n",
      "['P. Kazienko', 'X. Wang']\n",
      "['P. Kazienko', 'A. Zbieg']\n",
      "['P. Kazienko', 'M. Nikolajuk']\n",
      "['P. Kazienko', 'S. Utz']\n",
      "['P. Kazienko', 'K. Juszczyszyn']\n",
      "['P. Kazienko', 'S. Zhao']\n",
      "['P. Kazienko', 'W. Michalska']\n",
      "['P. Kazienko', 'M. Holecyova']\n",
      "['P. Kazienko', 'T. Arvanitis']\n",
      "['P. Kazienko', 'Y. Ran']\n",
      "['P. Kazienko', 'S. Cheong']\n",
      "['P. Kazienko', 'M. Dziezyc']\n",
      "['P. Kazienko', 'P. Dziurzanski']\n",
      "['P. Kazienko', 'M. Paradowski']\n",
      "['P. Kazienko', 'Y. Carmiel']\n",
      "['P. Kazienko', 'H. Budacova']\n",
      "['P. Kazienko', 'M. Koziarski']\n",
      "['P. Kazienko', 'R. Suszek']\n",
      "['P. Kazienko', 'O. Lizardo']\n",
      "['P. Kazienko', 'L. Indrusiak']\n",
      "['P. Kazienko', 'N. Dehak']\n",
      "['P. Kazienko', 'M. Boldt']\n",
      "['P. Kazienko', 'J. Kuraszkiewicz']\n",
      "['P. Kazienko', 'M. Bernaczyk']\n",
      "['P. Kazienko', 'N. Conci']\n",
      "['P. Kazienko', 'X. Sumba']\n",
      "['P. Kazienko', 'W. Indyk']\n",
      "['P. Kazienko', 'P. Myszkowski']\n",
      "['P. Kazienko', 'A. Binding']\n",
      "['P. Kazienko', 'K. Kersting']\n",
      "['P. Kazienko', 'K. Kania']\n",
      "['P. Kazienko', 'H. Maciejewski']\n",
      "['P. Kazienko', 'J. Mizgajski']\n",
      "['P. Kazienko', 'M. Shevchuk']\n",
      "['P. Kazienko', 'M. Magnani']\n",
      "['P. Kazienko', 'Y. Wang']\n",
      "['P. Kazienko', 'S. Saganowski']\n",
      "['P. Kazienko', 'M. Zyla-Hoppe']\n",
      "['P. Kazienko', 'S. Keung']\n",
      "['P. Kazienko', 'A. Kevshyn']\n",
      "['P. Kazienko', 'S. Feuerriegel']\n",
      "['P. Kazienko', 'K. Rajda']\n",
      "['P. Kazienko', 'Y. Yeliseyenka']\n",
      "['P. Kazienko', 'L. Olech']\n",
      "['P. Kazienko', 'J. Jakubik']\n",
      "['P. Kazienko', 'M. Spytkowski']\n",
      "['P. Kazienko', 'K. Raczycki']\n",
      "['P. Kazienko', 'M. Zieba']\n",
      "['P. Kazienko', 'F. Erlandsson']\n",
      "['P. Kazienko', 'M. Skowronski']\n",
      "['P. Kazienko', 'A. Dutkowiak']\n",
      "['P. Kazienko', 'M. Falkiewicz']\n",
      "['P. Kazienko', 'K. Musial']\n",
      "['P. Kazienko', 'K. Pasierb']\n",
      "['P. Kazienko', 'K. Oslizlo']\n",
      "['P. Kazienko', 'K. Idanwekhai']\n",
      "['P. Kazienko', 'H. Steinacker']\n",
      "['P. Kazienko', 'B. Tjandra']\n",
      "['P. Kazienko', 'J. Komoszynska']\n",
      "['P. Kazienko', 'H. Johnson']\n",
      "['P. Kazienko', 'L. Augustyniak']\n",
      "['P. Kazienko', 'N. Mastellos']\n",
      "['P. Kazienko', 'A. Andreasson']\n",
      "['P. Kazienko', 'V. Curcin']\n",
      "['P. Kazienko', 'B. Czerny']\n",
      "['P. Kazienko', 'M. Panfil']\n",
      "['P. Kazienko', 'B. Gliwa']\n",
      "['P. Kazienko', 'K. Jedryka']\n",
      "['P. Kazienko', 'M. Mcgilchrist']\n",
      "['P. Kazienko', 'Y. Gule']\n",
      "['P. Kazienko', 'K. Skibicki']\n",
      "['P. Kazienko', 'J. Kwiatkowski']\n",
      "['P. Kazienko', 'R. Radwanski']\n",
      "['P. Kazienko', 'R. Michalski']\n",
      "['P. Kazienko', 'J. Grobelny']\n",
      "['P. Kazienko', 'A. Zygmunt']\n",
      "['P. Kazienko', 'W. Karwowski']\n",
      "['P. Kazienko', 'T. Jelinski']\n",
      "['P. Kazienko', 'P. Tishchenko']\n",
      "['P. Kazienko', 'P. Jakimow']\n",
      "['P. Kazienko', 'S. Rey']\n",
      "['P. Kazienko', 'S. Pokorski']\n",
      "['P. Kazienko', 'S. Wozniak']\n",
      "['P. Kazienko', 'C. Lebiere']\n",
      "['P. Kazienko', 'A. Jamasb']\n",
      "['P. Kazienko', 'T. Kajdanowicz']\n",
      "['P. Kazienko', 'P. Szymanski']\n",
      "['P. Kazienko', 'M. Nurek']\n",
      "['P. Kazienko', 'J. Kozlak']\n",
      "['P. Kazienko', 'K. Turzynski']\n",
      "['P. Kazienko', 'A. Szymczak']\n",
      "['P. Kazienko', 'S. Theisen']\n",
      "['P. Kazienko', 'S. Ciuberek']\n",
      "['P. Kazienko', 'H. Jegierski']\n",
      "['P. Kazienko', 'M. Piasecki']\n",
      "['P. Kazienko', 'B. Delaney']\n",
      "['P. Kazienko', 'A. Burgun']\n",
      "['P. Kazienko', 'T. Jia']\n",
      "['P. Kazienko', 'P. Stawiak']\n",
      "['P. Kazienko', 'K. Tagowski']\n",
      "['P. Kazienko', 'J. Hamari']\n",
      "['P. Kazienko', 'A. Dziadek']\n",
      "['P. Kazienko', 'Z. Ropka']\n",
      "['P. Kazienko', 'M. Kulisiewicz']\n",
      "['P. Kazienko', 'O. Aharony']\n",
      "['P. Kazienko', 'G. Ragozini']\n",
      "['P. Kazienko', 'B. Zak']\n",
      "['P. Kazienko', 'J. Pawelczyk', 'W. Liu']\n",
      "['P. Kazienko', 'J. Pawelczyk', 'B. V']\n",
      "['P. Kazienko', 'J. Pawelczyk', 'Z. Michalewicz']\n",
      "['P. Kazienko', 'J. Pawelczyk', 'M. Zolnieruk']\n",
      "['P. Kazienko', 'J. Pawelczyk', 'B. Koloszczyk']\n",
      "['P. Kazienko', 'J. Pawelczyk', 'M. Morzy']\n",
      "['P. Kazienko', 'J. Pawelczyk', 'B. Szymanski']\n",
      "['P. Kazienko', 'J. Pawelczyk', 'P. Oleszczyk']\n",
      "['P. Kazienko', 'J. Pawelczyk', 'A. Borg']\n",
      "['P. Kazienko', 'J. Pawelczyk', 'E. Kosasih']\n",
      "['P. Kazienko', 'J. Pawelczyk', 'E. Kanaga']\n",
      "['P. Kazienko', 'J. Pawelczyk', 'L. Zhao']\n",
      "['P. Kazienko', 'J. Pawelczyk', 'K. Meissner']\n",
      "['P. Kazienko', 'J. Pawelczyk', 'Z. Lalak']\n",
      "['P. Kazienko', 'J. Pawelczyk', 'K. Gorman']\n",
      "['P. Kazienko', 'J. Pawelczyk', 'A. Krakovska']\n"
     ]
    },
    {
     "name": "stdout",
     "output_type": "stream",
     "text": [
      "['P. Kazienko', 'J. Pawelczyk', 'A. Polak']\n",
      "['P. Kazienko', 'J. Pawelczyk', 'N. Chawla']\n",
      "['P. Kazienko', 'J. Pawelczyk', 'I. Gisterek']\n",
      "['P. Kazienko', 'J. Pawelczyk', 'M. Ujma']\n",
      "['P. Kazienko', 'J. Pawelczyk', 'J. Cabezas']\n",
      "['P. Kazienko', 'J. Pawelczyk', 'P. Bielak']\n",
      "['P. Kazienko', 'J. Pawelczyk', 'G. Miebs']\n",
      "['P. Kazienko', 'J. Pawelczyk', 'J. Gaworecki']\n",
      "['P. Kazienko', 'J. Pawelczyk', 'K. Kowalska']\n",
      "['P. Kazienko', 'J. Pawelczyk', 'M. Przewozniczek']\n",
      "['P. Kazienko', 'J. Pawelczyk', 'E. Sessolo']\n",
      "['P. Kazienko', 'J. Pawelczyk', 'M. Szymanski']\n",
      "['P. Kazienko', 'J. Pawelczyk', 'H. Kwasnicka']\n",
      "['P. Kazienko', 'J. Pawelczyk', 'J. Ethier']\n",
      "['P. Kazienko', 'J. Pawelczyk', 'W. Walentynowicz']\n",
      "['P. Kazienko', 'J. Pawelczyk', 'V. Halyan']\n",
      "['P. Kazienko', 'J. Pawelczyk', 'S. Yankielowicz']\n",
      "['P. Kazienko', 'J. Pawelczyk', 'P. Zelasko']\n",
      "['P. Kazienko', 'J. Pawelczyk', 'P. Doskocz']\n",
      "['P. Kazienko', 'J. Pawelczyk', 'A. Rusin']\n",
      "['P. Kazienko', 'J. Pawelczyk', 'T. Surmacz']\n",
      "['P. Kazienko', 'J. Pawelczyk', 'V. Yukhymchuk']\n",
      "['P. Kazienko', 'J. Pawelczyk', 'I. Ivashchenko']\n",
      "['P. Kazienko', 'J. Pawelczyk', 'M. Rizoiu']\n",
      "['P. Kazienko', 'J. Pawelczyk', 'N. Garau']\n",
      "['P. Kazienko', 'J. Pawelczyk', 'N. Bisagno']\n",
      "['P. Kazienko', 'J. Pawelczyk', 'T. Filipowski']\n",
      "['P. Kazienko', 'J. Pawelczyk', 'K. Ozga']\n",
      "['P. Kazienko', 'J. Pawelczyk', 'I. Olekseyuk']\n",
      "['P. Kazienko', 'J. Pawelczyk', 'P. Gramacki']\n",
      "['P. Kazienko', 'J. Pawelczyk', 'J. Banaszczak']\n",
      "['P. Kazienko', 'J. Pawelczyk', 'P. Rozewski']\n",
      "['P. Kazienko', 'J. Pawelczyk', 'M. Gniewkowski']\n",
      "['P. Kazienko', 'J. Pawelczyk', 'R. Bartusiak']\n",
      "['P. Kazienko', 'J. Pawelczyk', 'A. Chmiel']\n",
      "['P. Kazienko', 'J. Pawelczyk', 'P. Brodka']\n",
      "['P. Kazienko', 'J. Pawelczyk', 'J. Jankowski']\n",
      "['P. Kazienko', 'J. Pawelczyk', 'M. Skoryk']\n",
      "['P. Kazienko', 'J. Pawelczyk', 'X. Wang']\n",
      "['P. Kazienko', 'J. Pawelczyk', 'A. Zbieg']\n",
      "['P. Kazienko', 'J. Pawelczyk', 'M. Nikolajuk']\n",
      "['P. Kazienko', 'J. Pawelczyk', 'S. Utz']\n",
      "['P. Kazienko', 'J. Pawelczyk', 'K. Juszczyszyn']\n",
      "['P. Kazienko', 'J. Pawelczyk', 'S. Zhao']\n",
      "['P. Kazienko', 'J. Pawelczyk', 'W. Michalska']\n",
      "['P. Kazienko', 'J. Pawelczyk', 'M. Holecyova']\n",
      "['P. Kazienko', 'J. Pawelczyk', 'T. Arvanitis']\n",
      "['P. Kazienko', 'J. Pawelczyk', 'Y. Ran']\n",
      "['P. Kazienko', 'J. Pawelczyk', 'S. Cheong']\n",
      "['P. Kazienko', 'J. Pawelczyk', 'M. Dziezyc']\n",
      "['P. Kazienko', 'J. Pawelczyk', 'P. Dziurzanski']\n",
      "['P. Kazienko', 'J. Pawelczyk', 'M. Paradowski']\n",
      "['P. Kazienko', 'J. Pawelczyk', 'Y. Carmiel']\n",
      "['P. Kazienko', 'J. Pawelczyk', 'H. Budacova']\n",
      "['P. Kazienko', 'J. Pawelczyk', 'M. Koziarski']\n",
      "['P. Kazienko', 'J. Pawelczyk', 'R. Suszek']\n",
      "['P. Kazienko', 'J. Pawelczyk', 'O. Lizardo']\n",
      "['P. Kazienko', 'J. Pawelczyk', 'L. Indrusiak']\n",
      "['P. Kazienko', 'J. Pawelczyk', 'N. Dehak']\n",
      "['P. Kazienko', 'J. Pawelczyk', 'M. Boldt']\n",
      "['P. Kazienko', 'J. Pawelczyk', 'J. Kuraszkiewicz']\n",
      "['P. Kazienko', 'J. Pawelczyk', 'M. Bernaczyk']\n",
      "['P. Kazienko', 'J. Pawelczyk', 'N. Conci']\n",
      "['P. Kazienko', 'J. Pawelczyk', 'X. Sumba']\n",
      "['P. Kazienko', 'J. Pawelczyk', 'W. Indyk']\n",
      "['P. Kazienko', 'J. Pawelczyk', 'P. Myszkowski']\n",
      "['P. Kazienko', 'J. Pawelczyk', 'A. Binding']\n",
      "['P. Kazienko', 'J. Pawelczyk', 'K. Kersting']\n",
      "['P. Kazienko', 'J. Pawelczyk', 'K. Kania']\n",
      "['P. Kazienko', 'J. Pawelczyk', 'H. Maciejewski']\n",
      "['P. Kazienko', 'J. Pawelczyk', 'J. Mizgajski']\n",
      "['P. Kazienko', 'J. Pawelczyk', 'M. Shevchuk']\n",
      "['P. Kazienko', 'J. Pawelczyk', 'M. Magnani']\n",
      "['P. Kazienko', 'J. Pawelczyk', 'Y. Wang']\n",
      "['P. Kazienko', 'J. Pawelczyk', 'S. Saganowski']\n",
      "['P. Kazienko', 'J. Pawelczyk', 'M. Zyla-Hoppe']\n",
      "['P. Kazienko', 'J. Pawelczyk', 'S. Keung']\n",
      "['P. Kazienko', 'J. Pawelczyk', 'A. Kevshyn']\n",
      "['P. Kazienko', 'J. Pawelczyk', 'S. Feuerriegel']\n",
      "['P. Kazienko', 'J. Pawelczyk', 'K. Rajda']\n",
      "['P. Kazienko', 'J. Pawelczyk', 'Y. Yeliseyenka']\n",
      "['P. Kazienko', 'J. Pawelczyk', 'L. Olech']\n",
      "['P. Kazienko', 'J. Pawelczyk', 'J. Jakubik']\n",
      "['P. Kazienko', 'J. Pawelczyk', 'M. Spytkowski']\n",
      "['P. Kazienko', 'J. Pawelczyk', 'K. Raczycki']\n",
      "['P. Kazienko', 'J. Pawelczyk', 'M. Zieba']\n",
      "['P. Kazienko', 'J. Pawelczyk', 'F. Erlandsson']\n",
      "['P. Kazienko', 'J. Pawelczyk', 'M. Skowronski']\n",
      "['P. Kazienko', 'J. Pawelczyk', 'A. Dutkowiak']\n",
      "['P. Kazienko', 'J. Pawelczyk', 'M. Falkiewicz']\n",
      "['P. Kazienko', 'J. Pawelczyk', 'K. Musial']\n",
      "['P. Kazienko', 'J. Pawelczyk', 'K. Pasierb']\n",
      "['P. Kazienko', 'J. Pawelczyk', 'K. Oslizlo']\n",
      "['P. Kazienko', 'J. Pawelczyk', 'K. Idanwekhai']\n",
      "['P. Kazienko', 'J. Pawelczyk', 'H. Steinacker']\n",
      "['P. Kazienko', 'J. Pawelczyk', 'B. Tjandra']\n",
      "['P. Kazienko', 'J. Pawelczyk', 'J. Komoszynska']\n",
      "['P. Kazienko', 'J. Pawelczyk', 'H. Johnson']\n",
      "['P. Kazienko', 'J. Pawelczyk', 'L. Augustyniak']\n",
      "['P. Kazienko', 'J. Pawelczyk', 'N. Mastellos']\n",
      "['P. Kazienko', 'J. Pawelczyk', 'A. Andreasson']\n",
      "['P. Kazienko', 'J. Pawelczyk', 'V. Curcin']\n",
      "['P. Kazienko', 'J. Pawelczyk', 'B. Czerny']\n",
      "['P. Kazienko', 'J. Pawelczyk', 'M. Panfil']\n",
      "['P. Kazienko', 'J. Pawelczyk', 'B. Gliwa']\n",
      "['P. Kazienko', 'J. Pawelczyk', 'K. Jedryka']\n",
      "['P. Kazienko', 'J. Pawelczyk', 'M. Mcgilchrist']\n",
      "['P. Kazienko', 'J. Pawelczyk', 'Y. Gule']\n",
      "['P. Kazienko', 'J. Pawelczyk', 'K. Skibicki']\n",
      "['P. Kazienko', 'J. Pawelczyk', 'J. Kwiatkowski']\n",
      "['P. Kazienko', 'J. Pawelczyk', 'R. Radwanski']\n",
      "['P. Kazienko', 'J. Pawelczyk', 'R. Michalski']\n",
      "['P. Kazienko', 'J. Pawelczyk', 'J. Grobelny']\n",
      "['P. Kazienko', 'J. Pawelczyk', 'A. Zygmunt']\n",
      "['P. Kazienko', 'J. Pawelczyk', 'W. Karwowski']\n",
      "['P. Kazienko', 'J. Pawelczyk', 'T. Jelinski']\n",
      "['P. Kazienko', 'J. Pawelczyk', 'P. Tishchenko']\n",
      "['P. Kazienko', 'J. Pawelczyk', 'P. Jakimow']\n",
      "['P. Kazienko', 'J. Pawelczyk', 'S. Rey']\n",
      "['P. Kazienko', 'J. Pawelczyk', 'S. Pokorski']\n",
      "['P. Kazienko', 'J. Pawelczyk', 'S. Wozniak']\n",
      "['P. Kazienko', 'J. Pawelczyk', 'C. Lebiere']\n",
      "['P. Kazienko', 'J. Pawelczyk', 'A. Jamasb']\n",
      "['P. Kazienko', 'J. Pawelczyk', 'T. Kajdanowicz']\n",
      "['P. Kazienko', 'J. Pawelczyk', 'P. Szymanski']\n",
      "['P. Kazienko', 'J. Pawelczyk', 'M. Nurek']\n",
      "['P. Kazienko', 'J. Pawelczyk', 'J. Kozlak']\n",
      "['P. Kazienko', 'J. Pawelczyk', 'K. Turzynski']\n",
      "['P. Kazienko', 'J. Pawelczyk', 'A. Szymczak']\n",
      "['P. Kazienko', 'J. Pawelczyk', 'S. Theisen']\n",
      "['P. Kazienko', 'J. Pawelczyk', 'S. Ciuberek']\n",
      "['P. Kazienko', 'J. Pawelczyk', 'H. Jegierski']\n",
      "['P. Kazienko', 'J. Pawelczyk', 'M. Piasecki']\n",
      "['P. Kazienko', 'J. Pawelczyk', 'B. Delaney']\n",
      "['P. Kazienko', 'J. Pawelczyk', 'A. Burgun']\n",
      "['P. Kazienko', 'J. Pawelczyk', 'T. Jia']\n",
      "['P. Kazienko', 'J. Pawelczyk', 'P. Stawiak']\n",
      "['P. Kazienko', 'J. Pawelczyk', 'K. Tagowski']\n",
      "['P. Kazienko', 'J. Pawelczyk', 'J. Hamari']\n",
      "['P. Kazienko', 'J. Pawelczyk', 'A. Dziadek']\n",
      "['P. Kazienko', 'J. Pawelczyk', 'Z. Ropka']\n",
      "['P. Kazienko', 'J. Pawelczyk', 'M. Kulisiewicz']\n",
      "['P. Kazienko', 'J. Pawelczyk', 'O. Aharony']\n",
      "['P. Kazienko', 'J. Pawelczyk', 'G. Ragozini']\n",
      "['P. Kazienko', 'J. Pawelczyk', 'B. Zak']\n",
      "['P. Kazienko', 'J. Pawelczyk', 'M. Skoryk', 'W. Liu']\n",
      "['P. Kazienko', 'J. Pawelczyk', 'M. Skoryk', 'B. V']\n",
      "['P. Kazienko', 'J. Pawelczyk', 'M. Skoryk', 'Z. Michalewicz']\n",
      "['P. Kazienko', 'J. Pawelczyk', 'M. Skoryk', 'M. Zolnieruk']\n",
      "['P. Kazienko', 'J. Pawelczyk', 'M. Skoryk', 'B. Koloszczyk']\n",
      "['P. Kazienko', 'J. Pawelczyk', 'M. Skoryk', 'M. Morzy']\n",
      "['P. Kazienko', 'J. Pawelczyk', 'M. Skoryk', 'B. Szymanski']\n",
      "['P. Kazienko', 'J. Pawelczyk', 'M. Skoryk', 'P. Oleszczyk']\n",
      "['P. Kazienko', 'J. Pawelczyk', 'M. Skoryk', 'A. Borg']\n",
      "['P. Kazienko', 'J. Pawelczyk', 'M. Skoryk', 'E. Kosasih']\n",
      "['P. Kazienko', 'J. Pawelczyk', 'M. Skoryk', 'E. Kanaga']\n",
      "['P. Kazienko', 'J. Pawelczyk', 'M. Skoryk', 'L. Zhao']\n",
      "['P. Kazienko', 'J. Pawelczyk', 'M. Skoryk', 'K. Meissner']\n",
      "['P. Kazienko', 'J. Pawelczyk', 'M. Skoryk', 'Z. Lalak']\n",
      "['P. Kazienko', 'J. Pawelczyk', 'M. Skoryk', 'K. Gorman']\n",
      "['P. Kazienko', 'J. Pawelczyk', 'M. Skoryk', 'A. Krakovska']\n",
      "['P. Kazienko', 'J. Pawelczyk', 'M. Skoryk', 'A. Polak']\n",
      "['P. Kazienko', 'J. Pawelczyk', 'M. Skoryk', 'N. Chawla']\n",
      "['P. Kazienko', 'J. Pawelczyk', 'M. Skoryk', 'I. Gisterek']\n",
      "['P. Kazienko', 'J. Pawelczyk', 'M. Skoryk', 'M. Ujma']\n",
      "['P. Kazienko', 'J. Pawelczyk', 'M. Skoryk', 'J. Cabezas']\n",
      "['P. Kazienko', 'J. Pawelczyk', 'M. Skoryk', 'P. Bielak']\n",
      "['P. Kazienko', 'J. Pawelczyk', 'M. Skoryk', 'G. Miebs']\n",
      "['P. Kazienko', 'J. Pawelczyk', 'M. Skoryk', 'J. Gaworecki']\n",
      "['P. Kazienko', 'J. Pawelczyk', 'M. Skoryk', 'K. Kowalska']\n"
     ]
    },
    {
     "name": "stdout",
     "output_type": "stream",
     "text": [
      "['P. Kazienko', 'J. Pawelczyk', 'M. Skoryk', 'M. Przewozniczek']\n",
      "['P. Kazienko', 'J. Pawelczyk', 'M. Skoryk', 'E. Sessolo']\n",
      "['P. Kazienko', 'J. Pawelczyk', 'M. Skoryk', 'M. Szymanski']\n",
      "['P. Kazienko', 'J. Pawelczyk', 'M. Skoryk', 'H. Kwasnicka']\n",
      "['P. Kazienko', 'J. Pawelczyk', 'M. Skoryk', 'J. Ethier']\n",
      "['P. Kazienko', 'J. Pawelczyk', 'M. Skoryk', 'W. Walentynowicz']\n",
      "['P. Kazienko', 'J. Pawelczyk', 'M. Skoryk', 'V. Halyan']\n",
      "['P. Kazienko', 'J. Pawelczyk', 'M. Skoryk', 'S. Yankielowicz']\n",
      "['P. Kazienko', 'J. Pawelczyk', 'M. Skoryk', 'P. Zelasko']\n",
      "['P. Kazienko', 'J. Pawelczyk', 'M. Skoryk', 'P. Doskocz']\n",
      "['P. Kazienko', 'J. Pawelczyk', 'M. Skoryk', 'A. Rusin']\n",
      "['P. Kazienko', 'J. Pawelczyk', 'M. Skoryk', 'T. Surmacz']\n",
      "['P. Kazienko', 'J. Pawelczyk', 'M. Skoryk', 'V. Yukhymchuk']\n",
      "['P. Kazienko', 'J. Pawelczyk', 'M. Skoryk', 'I. Ivashchenko']\n",
      "['P. Kazienko', 'J. Pawelczyk', 'M. Skoryk', 'M. Rizoiu']\n",
      "['P. Kazienko', 'J. Pawelczyk', 'M. Skoryk', 'N. Garau']\n",
      "['P. Kazienko', 'J. Pawelczyk', 'M. Skoryk', 'N. Bisagno']\n",
      "['P. Kazienko', 'J. Pawelczyk', 'M. Skoryk', 'T. Filipowski']\n",
      "['P. Kazienko', 'J. Pawelczyk', 'M. Skoryk', 'K. Ozga']\n",
      "['P. Kazienko', 'J. Pawelczyk', 'M. Skoryk', 'I. Olekseyuk']\n",
      "['P. Kazienko', 'J. Pawelczyk', 'M. Skoryk', 'P. Gramacki']\n",
      "['P. Kazienko', 'J. Pawelczyk', 'M. Skoryk', 'J. Banaszczak']\n",
      "['P. Kazienko', 'J. Pawelczyk', 'M. Skoryk', 'P. Rozewski']\n",
      "['P. Kazienko', 'J. Pawelczyk', 'M. Skoryk', 'M. Gniewkowski']\n",
      "['P. Kazienko', 'J. Pawelczyk', 'M. Skoryk', 'R. Bartusiak']\n",
      "['P. Kazienko', 'J. Pawelczyk', 'M. Skoryk', 'A. Chmiel']\n",
      "['P. Kazienko', 'J. Pawelczyk', 'M. Skoryk', 'P. Brodka']\n",
      "['P. Kazienko', 'J. Pawelczyk', 'M. Skoryk', 'J. Jankowski']\n",
      "['P. Kazienko', 'J. Pawelczyk', 'M. Skoryk', 'X. Wang']\n",
      "['P. Kazienko', 'J. Pawelczyk', 'M. Skoryk', 'A. Zbieg']\n",
      "['P. Kazienko', 'J. Pawelczyk', 'M. Skoryk', 'M. Nikolajuk']\n",
      "['P. Kazienko', 'J. Pawelczyk', 'M. Skoryk', 'S. Utz']\n",
      "['P. Kazienko', 'J. Pawelczyk', 'M. Skoryk', 'K. Juszczyszyn']\n",
      "['P. Kazienko', 'J. Pawelczyk', 'M. Skoryk', 'S. Zhao']\n",
      "['P. Kazienko', 'J. Pawelczyk', 'M. Skoryk', 'W. Michalska']\n",
      "['P. Kazienko', 'J. Pawelczyk', 'M. Skoryk', 'M. Holecyova']\n",
      "['P. Kazienko', 'J. Pawelczyk', 'M. Skoryk', 'T. Arvanitis']\n",
      "['P. Kazienko', 'J. Pawelczyk', 'M. Skoryk', 'Y. Ran']\n",
      "['P. Kazienko', 'J. Pawelczyk', 'M. Skoryk', 'S. Cheong']\n",
      "['P. Kazienko', 'J. Pawelczyk', 'M. Skoryk', 'M. Dziezyc']\n",
      "['P. Kazienko', 'J. Pawelczyk', 'M. Skoryk', 'P. Dziurzanski']\n",
      "['P. Kazienko', 'J. Pawelczyk', 'M. Skoryk', 'M. Paradowski']\n",
      "['P. Kazienko', 'J. Pawelczyk', 'M. Skoryk', 'Y. Carmiel']\n",
      "['P. Kazienko', 'J. Pawelczyk', 'M. Skoryk', 'H. Budacova']\n",
      "['P. Kazienko', 'J. Pawelczyk', 'M. Skoryk', 'M. Koziarski']\n",
      "['P. Kazienko', 'J. Pawelczyk', 'M. Skoryk', 'R. Suszek']\n",
      "['P. Kazienko', 'J. Pawelczyk', 'M. Skoryk', 'O. Lizardo']\n",
      "['P. Kazienko', 'J. Pawelczyk', 'M. Skoryk', 'L. Indrusiak']\n",
      "['P. Kazienko', 'J. Pawelczyk', 'M. Skoryk', 'N. Dehak']\n",
      "['P. Kazienko', 'J. Pawelczyk', 'M. Skoryk', 'M. Boldt']\n",
      "['P. Kazienko', 'J. Pawelczyk', 'M. Skoryk', 'J. Kuraszkiewicz']\n",
      "['P. Kazienko', 'J. Pawelczyk', 'M. Skoryk', 'M. Bernaczyk']\n",
      "['P. Kazienko', 'J. Pawelczyk', 'M. Skoryk', 'N. Conci']\n",
      "['P. Kazienko', 'J. Pawelczyk', 'M. Skoryk', 'X. Sumba']\n",
      "['P. Kazienko', 'J. Pawelczyk', 'M. Skoryk', 'W. Indyk']\n",
      "['P. Kazienko', 'J. Pawelczyk', 'M. Skoryk', 'P. Myszkowski']\n",
      "['P. Kazienko', 'J. Pawelczyk', 'M. Skoryk', 'A. Binding']\n",
      "['P. Kazienko', 'J. Pawelczyk', 'M. Skoryk', 'K. Kersting']\n",
      "['P. Kazienko', 'J. Pawelczyk', 'M. Skoryk', 'K. Kania']\n",
      "['P. Kazienko', 'J. Pawelczyk', 'M. Skoryk', 'H. Maciejewski']\n",
      "['P. Kazienko', 'J. Pawelczyk', 'M. Skoryk', 'J. Mizgajski']\n",
      "['P. Kazienko', 'J. Pawelczyk', 'M. Skoryk', 'M. Shevchuk']\n",
      "['P. Kazienko', 'J. Pawelczyk', 'M. Skoryk', 'M. Magnani']\n",
      "['P. Kazienko', 'J. Pawelczyk', 'M. Skoryk', 'Y. Wang']\n",
      "['P. Kazienko', 'J. Pawelczyk', 'M. Skoryk', 'S. Saganowski']\n",
      "['P. Kazienko', 'J. Pawelczyk', 'M. Skoryk', 'M. Zyla-Hoppe']\n",
      "['P. Kazienko', 'J. Pawelczyk', 'M. Skoryk', 'S. Keung']\n",
      "['P. Kazienko', 'J. Pawelczyk', 'M. Skoryk', 'A. Kevshyn']\n",
      "['P. Kazienko', 'J. Pawelczyk', 'M. Skoryk', 'S. Feuerriegel']\n",
      "['P. Kazienko', 'J. Pawelczyk', 'M. Skoryk', 'K. Rajda']\n",
      "['P. Kazienko', 'J. Pawelczyk', 'M. Skoryk', 'Y. Yeliseyenka']\n",
      "['P. Kazienko', 'J. Pawelczyk', 'M. Skoryk', 'L. Olech']\n",
      "['P. Kazienko', 'J. Pawelczyk', 'M. Skoryk', 'J. Jakubik']\n",
      "['P. Kazienko', 'J. Pawelczyk', 'M. Skoryk', 'M. Spytkowski']\n",
      "['P. Kazienko', 'J. Pawelczyk', 'M. Skoryk', 'K. Raczycki']\n",
      "['P. Kazienko', 'J. Pawelczyk', 'M. Skoryk', 'M. Zieba']\n",
      "['P. Kazienko', 'J. Pawelczyk', 'M. Skoryk', 'F. Erlandsson']\n",
      "['P. Kazienko', 'J. Pawelczyk', 'M. Skoryk', 'M. Skowronski']\n",
      "['P. Kazienko', 'J. Pawelczyk', 'M. Skoryk', 'A. Dutkowiak']\n",
      "['P. Kazienko', 'J. Pawelczyk', 'M. Skoryk', 'M. Falkiewicz']\n",
      "['P. Kazienko', 'J. Pawelczyk', 'M. Skoryk', 'K. Musial']\n",
      "['P. Kazienko', 'J. Pawelczyk', 'M. Skoryk', 'K. Pasierb']\n",
      "['P. Kazienko', 'J. Pawelczyk', 'M. Skoryk', 'K. Oslizlo']\n",
      "['P. Kazienko', 'J. Pawelczyk', 'M. Skoryk', 'K. Idanwekhai']\n",
      "['P. Kazienko', 'J. Pawelczyk', 'M. Skoryk', 'H. Steinacker']\n",
      "['P. Kazienko', 'J. Pawelczyk', 'M. Skoryk', 'B. Tjandra']\n",
      "['P. Kazienko', 'J. Pawelczyk', 'M. Skoryk', 'J. Komoszynska']\n",
      "['P. Kazienko', 'J. Pawelczyk', 'M. Skoryk', 'H. Johnson']\n",
      "['P. Kazienko', 'J. Pawelczyk', 'M. Skoryk', 'L. Augustyniak']\n",
      "['P. Kazienko', 'J. Pawelczyk', 'M. Skoryk', 'N. Mastellos']\n",
      "['P. Kazienko', 'J. Pawelczyk', 'M. Skoryk', 'A. Andreasson']\n",
      "['P. Kazienko', 'J. Pawelczyk', 'M. Skoryk', 'V. Curcin']\n",
      "['P. Kazienko', 'J. Pawelczyk', 'M. Skoryk', 'B. Czerny']\n",
      "['P. Kazienko', 'J. Pawelczyk', 'M. Skoryk', 'M. Panfil']\n",
      "['P. Kazienko', 'J. Pawelczyk', 'M. Skoryk', 'B. Gliwa']\n",
      "['P. Kazienko', 'J. Pawelczyk', 'M. Skoryk', 'K. Jedryka']\n",
      "['P. Kazienko', 'J. Pawelczyk', 'M. Skoryk', 'M. Mcgilchrist']\n",
      "['P. Kazienko', 'J. Pawelczyk', 'M. Skoryk', 'Y. Gule']\n",
      "['P. Kazienko', 'J. Pawelczyk', 'M. Skoryk', 'K. Skibicki']\n",
      "['P. Kazienko', 'J. Pawelczyk', 'M. Skoryk', 'J. Kwiatkowski']\n",
      "['P. Kazienko', 'J. Pawelczyk', 'M. Skoryk', 'R. Radwanski']\n",
      "['P. Kazienko', 'J. Pawelczyk', 'M. Skoryk', 'R. Michalski']\n",
      "['P. Kazienko', 'J. Pawelczyk', 'M. Skoryk', 'J. Grobelny']\n",
      "['P. Kazienko', 'J. Pawelczyk', 'M. Skoryk', 'A. Zygmunt']\n",
      "['P. Kazienko', 'J. Pawelczyk', 'M. Skoryk', 'W. Karwowski']\n",
      "['P. Kazienko', 'J. Pawelczyk', 'M. Skoryk', 'T. Jelinski']\n",
      "['P. Kazienko', 'J. Pawelczyk', 'M. Skoryk', 'P. Tishchenko']\n",
      "['P. Kazienko', 'J. Pawelczyk', 'M. Skoryk', 'P. Jakimow']\n",
      "['P. Kazienko', 'J. Pawelczyk', 'M. Skoryk', 'S. Rey']\n",
      "['P. Kazienko', 'J. Pawelczyk', 'M. Skoryk', 'S. Pokorski']\n",
      "['P. Kazienko', 'J. Pawelczyk', 'M. Skoryk', 'S. Wozniak']\n",
      "['P. Kazienko', 'J. Pawelczyk', 'M. Skoryk', 'C. Lebiere']\n",
      "['P. Kazienko', 'J. Pawelczyk', 'M. Skoryk', 'A. Jamasb']\n",
      "['P. Kazienko', 'J. Pawelczyk', 'M. Skoryk', 'T. Kajdanowicz']\n",
      "['P. Kazienko', 'J. Pawelczyk', 'M. Skoryk', 'P. Szymanski']\n",
      "['P. Kazienko', 'J. Pawelczyk', 'M. Skoryk', 'M. Nurek']\n",
      "['P. Kazienko', 'J. Pawelczyk', 'M. Skoryk', 'J. Kozlak']\n",
      "['P. Kazienko', 'J. Pawelczyk', 'M. Skoryk', 'K. Turzynski']\n",
      "['P. Kazienko', 'J. Pawelczyk', 'M. Skoryk', 'A. Szymczak']\n",
      "['P. Kazienko', 'J. Pawelczyk', 'M. Skoryk', 'S. Theisen']\n",
      "['P. Kazienko', 'J. Pawelczyk', 'M. Skoryk', 'S. Ciuberek']\n",
      "['P. Kazienko', 'J. Pawelczyk', 'M. Skoryk', 'H. Jegierski']\n",
      "['P. Kazienko', 'J. Pawelczyk', 'M. Skoryk', 'M. Piasecki']\n",
      "['P. Kazienko', 'J. Pawelczyk', 'M. Skoryk', 'B. Delaney']\n",
      "['P. Kazienko', 'J. Pawelczyk', 'M. Skoryk', 'A. Burgun']\n",
      "['P. Kazienko', 'J. Pawelczyk', 'M. Skoryk', 'T. Jia']\n",
      "['P. Kazienko', 'J. Pawelczyk', 'M. Skoryk', 'P. Stawiak']\n",
      "['P. Kazienko', 'J. Pawelczyk', 'M. Skoryk', 'K. Tagowski']\n",
      "['P. Kazienko', 'J. Pawelczyk', 'M. Skoryk', 'J. Hamari']\n",
      "['P. Kazienko', 'J. Pawelczyk', 'M. Skoryk', 'A. Dziadek']\n",
      "['P. Kazienko', 'J. Pawelczyk', 'M. Skoryk', 'Z. Ropka']\n",
      "['P. Kazienko', 'J. Pawelczyk', 'M. Skoryk', 'M. Kulisiewicz']\n",
      "['P. Kazienko', 'J. Pawelczyk', 'M. Skoryk', 'O. Aharony']\n",
      "['P. Kazienko', 'J. Pawelczyk', 'M. Skoryk', 'G. Ragozini']\n",
      "['P. Kazienko', 'J. Pawelczyk', 'M. Skoryk', 'B. Zak']\n",
      "['P. Kazienko', 'J. Pawelczyk', 'M. Skoryk', 'L. Olech', 'W. Liu']\n",
      "['P. Kazienko', 'J. Pawelczyk', 'M. Skoryk', 'L. Olech', 'B. V']\n",
      "['P. Kazienko', 'J. Pawelczyk', 'M. Skoryk', 'L. Olech', 'Z. Michalewicz']\n"
     ]
    },
    {
     "name": "stdout",
     "output_type": "stream",
     "text": [
      "['P. Kazienko', 'J. Pawelczyk', 'M. Skoryk', 'L. Olech', 'M. Zolnieruk']\n",
      "['P. Kazienko', 'J. Pawelczyk', 'M. Skoryk', 'L. Olech', 'B. Koloszczyk']\n",
      "['P. Kazienko', 'J. Pawelczyk', 'M. Skoryk', 'L. Olech', 'M. Morzy']\n",
      "['P. Kazienko', 'J. Pawelczyk', 'M. Skoryk', 'L. Olech', 'B. Szymanski']\n",
      "['P. Kazienko', 'J. Pawelczyk', 'M. Skoryk', 'L. Olech', 'P. Oleszczyk']\n",
      "['P. Kazienko', 'J. Pawelczyk', 'M. Skoryk', 'L. Olech', 'A. Borg']\n",
      "['P. Kazienko', 'J. Pawelczyk', 'M. Skoryk', 'L. Olech', 'E. Kosasih']\n",
      "['P. Kazienko', 'J. Pawelczyk', 'M. Skoryk', 'L. Olech', 'E. Kanaga']\n",
      "['P. Kazienko', 'J. Pawelczyk', 'M. Skoryk', 'L. Olech', 'L. Zhao']\n",
      "['P. Kazienko', 'J. Pawelczyk', 'M. Skoryk', 'L. Olech', 'K. Meissner']\n",
      "['P. Kazienko', 'J. Pawelczyk', 'M. Skoryk', 'L. Olech', 'Z. Lalak']\n",
      "['P. Kazienko', 'J. Pawelczyk', 'M. Skoryk', 'L. Olech', 'K. Gorman']\n",
      "['P. Kazienko', 'J. Pawelczyk', 'M. Skoryk', 'L. Olech', 'A. Krakovska']\n",
      "['P. Kazienko', 'J. Pawelczyk', 'M. Skoryk', 'L. Olech', 'A. Polak']\n",
      "['P. Kazienko', 'J. Pawelczyk', 'M. Skoryk', 'L. Olech', 'N. Chawla']\n",
      "['P. Kazienko', 'J. Pawelczyk', 'M. Skoryk', 'L. Olech', 'I. Gisterek']\n",
      "['P. Kazienko', 'J. Pawelczyk', 'M. Skoryk', 'L. Olech', 'M. Ujma']\n",
      "['P. Kazienko', 'J. Pawelczyk', 'M. Skoryk', 'L. Olech', 'J. Cabezas']\n",
      "['P. Kazienko', 'J. Pawelczyk', 'M. Skoryk', 'L. Olech', 'P. Bielak']\n",
      "['P. Kazienko', 'J. Pawelczyk', 'M. Skoryk', 'L. Olech', 'G. Miebs']\n",
      "['P. Kazienko', 'J. Pawelczyk', 'M. Skoryk', 'L. Olech', 'J. Gaworecki']\n",
      "['P. Kazienko', 'J. Pawelczyk', 'M. Skoryk', 'L. Olech', 'K. Kowalska']\n",
      "['P. Kazienko', 'J. Pawelczyk', 'M. Skoryk', 'L. Olech', 'M. Przewozniczek']\n",
      "['P. Kazienko', 'J. Pawelczyk', 'M. Skoryk', 'L. Olech', 'E. Sessolo']\n",
      "['P. Kazienko', 'J. Pawelczyk', 'M. Skoryk', 'L. Olech', 'M. Szymanski']\n",
      "['P. Kazienko', 'J. Pawelczyk', 'M. Skoryk', 'L. Olech', 'H. Kwasnicka']\n",
      "['P. Kazienko', 'J. Pawelczyk', 'M. Skoryk', 'L. Olech', 'J. Ethier']\n",
      "['P. Kazienko', 'J. Pawelczyk', 'M. Skoryk', 'L. Olech', 'W. Walentynowicz']\n",
      "['P. Kazienko', 'J. Pawelczyk', 'M. Skoryk', 'L. Olech', 'V. Halyan']\n",
      "['P. Kazienko', 'J. Pawelczyk', 'M. Skoryk', 'L. Olech', 'S. Yankielowicz']\n",
      "['P. Kazienko', 'J. Pawelczyk', 'M. Skoryk', 'L. Olech', 'P. Zelasko']\n",
      "['P. Kazienko', 'J. Pawelczyk', 'M. Skoryk', 'L. Olech', 'P. Doskocz']\n",
      "['P. Kazienko', 'J. Pawelczyk', 'M. Skoryk', 'L. Olech', 'A. Rusin']\n",
      "['P. Kazienko', 'J. Pawelczyk', 'M. Skoryk', 'L. Olech', 'T. Surmacz']\n",
      "['P. Kazienko', 'J. Pawelczyk', 'M. Skoryk', 'L. Olech', 'V. Yukhymchuk']\n",
      "['P. Kazienko', 'J. Pawelczyk', 'M. Skoryk', 'L. Olech', 'I. Ivashchenko']\n",
      "['P. Kazienko', 'J. Pawelczyk', 'M. Skoryk', 'L. Olech', 'M. Rizoiu']\n",
      "['P. Kazienko', 'J. Pawelczyk', 'M. Skoryk', 'L. Olech', 'N. Garau']\n",
      "['P. Kazienko', 'J. Pawelczyk', 'M. Skoryk', 'L. Olech', 'N. Bisagno']\n",
      "['P. Kazienko', 'J. Pawelczyk', 'M. Skoryk', 'L. Olech', 'T. Filipowski']\n",
      "['P. Kazienko', 'J. Pawelczyk', 'M. Skoryk', 'L. Olech', 'K. Ozga']\n",
      "['P. Kazienko', 'J. Pawelczyk', 'M. Skoryk', 'L. Olech', 'I. Olekseyuk']\n",
      "['P. Kazienko', 'J. Pawelczyk', 'M. Skoryk', 'L. Olech', 'P. Gramacki']\n",
      "['P. Kazienko', 'J. Pawelczyk', 'M. Skoryk', 'L. Olech', 'J. Banaszczak']\n",
      "['P. Kazienko', 'J. Pawelczyk', 'M. Skoryk', 'L. Olech', 'P. Rozewski']\n",
      "['P. Kazienko', 'J. Pawelczyk', 'M. Skoryk', 'L. Olech', 'M. Gniewkowski']\n",
      "['P. Kazienko', 'J. Pawelczyk', 'M. Skoryk', 'L. Olech', 'R. Bartusiak']\n",
      "['P. Kazienko', 'J. Pawelczyk', 'M. Skoryk', 'L. Olech', 'A. Chmiel']\n",
      "['P. Kazienko', 'J. Pawelczyk', 'M. Skoryk', 'L. Olech', 'P. Brodka']\n",
      "['P. Kazienko', 'J. Pawelczyk', 'M. Skoryk', 'L. Olech', 'J. Jankowski']\n",
      "['P. Kazienko', 'J. Pawelczyk', 'M. Skoryk', 'L. Olech', 'X. Wang']\n",
      "['P. Kazienko', 'J. Pawelczyk', 'M. Skoryk', 'L. Olech', 'A. Zbieg']\n",
      "['P. Kazienko', 'J. Pawelczyk', 'M. Skoryk', 'L. Olech', 'M. Nikolajuk']\n",
      "['P. Kazienko', 'J. Pawelczyk', 'M. Skoryk', 'L. Olech', 'S. Utz']\n",
      "['P. Kazienko', 'J. Pawelczyk', 'M. Skoryk', 'L. Olech', 'K. Juszczyszyn']\n",
      "['P. Kazienko', 'J. Pawelczyk', 'M. Skoryk', 'L. Olech', 'S. Zhao']\n",
      "['P. Kazienko', 'J. Pawelczyk', 'M. Skoryk', 'L. Olech', 'W. Michalska']\n",
      "['P. Kazienko', 'J. Pawelczyk', 'M. Skoryk', 'L. Olech', 'M. Holecyova']\n",
      "['P. Kazienko', 'J. Pawelczyk', 'M. Skoryk', 'L. Olech', 'T. Arvanitis']\n",
      "['P. Kazienko', 'J. Pawelczyk', 'M. Skoryk', 'L. Olech', 'Y. Ran']\n",
      "['P. Kazienko', 'J. Pawelczyk', 'M. Skoryk', 'L. Olech', 'S. Cheong']\n",
      "['P. Kazienko', 'J. Pawelczyk', 'M. Skoryk', 'L. Olech', 'M. Dziezyc']\n",
      "['P. Kazienko', 'J. Pawelczyk', 'M. Skoryk', 'L. Olech', 'P. Dziurzanski']\n",
      "['P. Kazienko', 'J. Pawelczyk', 'M. Skoryk', 'L. Olech', 'M. Paradowski']\n",
      "['P. Kazienko', 'J. Pawelczyk', 'M. Skoryk', 'L. Olech', 'Y. Carmiel']\n",
      "['P. Kazienko', 'J. Pawelczyk', 'M. Skoryk', 'L. Olech', 'H. Budacova']\n",
      "['P. Kazienko', 'J. Pawelczyk', 'M. Skoryk', 'L. Olech', 'M. Koziarski']\n",
      "['P. Kazienko', 'J. Pawelczyk', 'M. Skoryk', 'L. Olech', 'R. Suszek']\n",
      "['P. Kazienko', 'J. Pawelczyk', 'M. Skoryk', 'L. Olech', 'O. Lizardo']\n",
      "['P. Kazienko', 'J. Pawelczyk', 'M. Skoryk', 'L. Olech', 'L. Indrusiak']\n",
      "['P. Kazienko', 'J. Pawelczyk', 'M. Skoryk', 'L. Olech', 'N. Dehak']\n",
      "['P. Kazienko', 'J. Pawelczyk', 'M. Skoryk', 'L. Olech', 'M. Boldt']\n",
      "['P. Kazienko', 'J. Pawelczyk', 'M. Skoryk', 'L. Olech', 'J. Kuraszkiewicz']\n",
      "['P. Kazienko', 'J. Pawelczyk', 'M. Skoryk', 'L. Olech', 'M. Bernaczyk']\n",
      "['P. Kazienko', 'J. Pawelczyk', 'M. Skoryk', 'L. Olech', 'N. Conci']\n",
      "['P. Kazienko', 'J. Pawelczyk', 'M. Skoryk', 'L. Olech', 'X. Sumba']\n",
      "['P. Kazienko', 'J. Pawelczyk', 'M. Skoryk', 'L. Olech', 'W. Indyk']\n",
      "['P. Kazienko', 'J. Pawelczyk', 'M. Skoryk', 'L. Olech', 'P. Myszkowski']\n",
      "['P. Kazienko', 'J. Pawelczyk', 'M. Skoryk', 'L. Olech', 'A. Binding']\n",
      "['P. Kazienko', 'J. Pawelczyk', 'M. Skoryk', 'L. Olech', 'K. Kersting']\n",
      "['P. Kazienko', 'J. Pawelczyk', 'M. Skoryk', 'L. Olech', 'K. Kania']\n",
      "['P. Kazienko', 'J. Pawelczyk', 'M. Skoryk', 'L. Olech', 'H. Maciejewski']\n",
      "['P. Kazienko', 'J. Pawelczyk', 'M. Skoryk', 'L. Olech', 'J. Mizgajski']\n",
      "['P. Kazienko', 'J. Pawelczyk', 'M. Skoryk', 'L. Olech', 'M. Shevchuk']\n",
      "['P. Kazienko', 'J. Pawelczyk', 'M. Skoryk', 'L. Olech', 'M. Magnani']\n",
      "['P. Kazienko', 'J. Pawelczyk', 'M. Skoryk', 'L. Olech', 'Y. Wang']\n",
      "['P. Kazienko', 'J. Pawelczyk', 'M. Skoryk', 'L. Olech', 'S. Saganowski']\n",
      "['P. Kazienko', 'J. Pawelczyk', 'M. Skoryk', 'L. Olech', 'M. Zyla-Hoppe']\n",
      "['P. Kazienko', 'J. Pawelczyk', 'M. Skoryk', 'L. Olech', 'S. Keung']\n",
      "['P. Kazienko', 'J. Pawelczyk', 'M. Skoryk', 'L. Olech', 'A. Kevshyn']\n",
      "['P. Kazienko', 'J. Pawelczyk', 'M. Skoryk', 'L. Olech', 'S. Feuerriegel']\n",
      "['P. Kazienko', 'J. Pawelczyk', 'M. Skoryk', 'L. Olech', 'K. Rajda']\n",
      "['P. Kazienko', 'J. Pawelczyk', 'M. Skoryk', 'L. Olech', 'Y. Yeliseyenka']\n",
      "['P. Kazienko', 'J. Pawelczyk', 'M. Skoryk', 'L. Olech', 'J. Jakubik']\n",
      "['P. Kazienko', 'J. Pawelczyk', 'M. Skoryk', 'L. Olech', 'M. Spytkowski']\n",
      "['P. Kazienko', 'J. Pawelczyk', 'M. Skoryk', 'L. Olech', 'K. Raczycki']\n",
      "['P. Kazienko', 'J. Pawelczyk', 'M. Skoryk', 'L. Olech', 'M. Zieba']\n",
      "['P. Kazienko', 'J. Pawelczyk', 'M. Skoryk', 'L. Olech', 'F. Erlandsson']\n",
      "['P. Kazienko', 'J. Pawelczyk', 'M. Skoryk', 'L. Olech', 'M. Skowronski']\n",
      "['P. Kazienko', 'J. Pawelczyk', 'M. Skoryk', 'L. Olech', 'A. Dutkowiak']\n",
      "['P. Kazienko', 'J. Pawelczyk', 'M. Skoryk', 'L. Olech', 'M. Falkiewicz']\n",
      "['P. Kazienko', 'J. Pawelczyk', 'M. Skoryk', 'L. Olech', 'K. Musial']\n",
      "['P. Kazienko', 'J. Pawelczyk', 'M. Skoryk', 'L. Olech', 'K. Pasierb']\n",
      "['P. Kazienko', 'J. Pawelczyk', 'M. Skoryk', 'L. Olech', 'K. Oslizlo']\n",
      "['P. Kazienko', 'J. Pawelczyk', 'M. Skoryk', 'L. Olech', 'K. Idanwekhai']\n",
      "['P. Kazienko', 'J. Pawelczyk', 'M. Skoryk', 'L. Olech', 'H. Steinacker']\n",
      "['P. Kazienko', 'J. Pawelczyk', 'M. Skoryk', 'L. Olech', 'B. Tjandra']\n",
      "['P. Kazienko', 'J. Pawelczyk', 'M. Skoryk', 'L. Olech', 'J. Komoszynska']\n",
      "['P. Kazienko', 'J. Pawelczyk', 'M. Skoryk', 'L. Olech', 'H. Johnson']\n",
      "['P. Kazienko', 'J. Pawelczyk', 'M. Skoryk', 'L. Olech', 'L. Augustyniak']\n",
      "['P. Kazienko', 'J. Pawelczyk', 'M. Skoryk', 'L. Olech', 'N. Mastellos']\n",
      "['P. Kazienko', 'J. Pawelczyk', 'M. Skoryk', 'L. Olech', 'A. Andreasson']\n",
      "['P. Kazienko', 'J. Pawelczyk', 'M. Skoryk', 'L. Olech', 'V. Curcin']\n",
      "['P. Kazienko', 'J. Pawelczyk', 'M. Skoryk', 'L. Olech', 'B. Czerny']\n",
      "['P. Kazienko', 'J. Pawelczyk', 'M. Skoryk', 'L. Olech', 'M. Panfil']\n"
     ]
    },
    {
     "name": "stdout",
     "output_type": "stream",
     "text": [
      "['P. Kazienko', 'J. Pawelczyk', 'M. Skoryk', 'L. Olech', 'B. Gliwa']\n",
      "['P. Kazienko', 'J. Pawelczyk', 'M. Skoryk', 'L. Olech', 'K. Jedryka']\n",
      "['P. Kazienko', 'J. Pawelczyk', 'M. Skoryk', 'L. Olech', 'M. Mcgilchrist']\n",
      "['P. Kazienko', 'J. Pawelczyk', 'M. Skoryk', 'L. Olech', 'Y. Gule']\n",
      "['P. Kazienko', 'J. Pawelczyk', 'M. Skoryk', 'L. Olech', 'K. Skibicki']\n",
      "['P. Kazienko', 'J. Pawelczyk', 'M. Skoryk', 'L. Olech', 'J. Kwiatkowski']\n",
      "['P. Kazienko', 'J. Pawelczyk', 'M. Skoryk', 'L. Olech', 'R. Radwanski']\n",
      "['P. Kazienko', 'J. Pawelczyk', 'M. Skoryk', 'L. Olech', 'R. Michalski']\n",
      "['P. Kazienko', 'J. Pawelczyk', 'M. Skoryk', 'L. Olech', 'J. Grobelny']\n",
      "['P. Kazienko', 'J. Pawelczyk', 'M. Skoryk', 'L. Olech', 'A. Zygmunt']\n",
      "['P. Kazienko', 'J. Pawelczyk', 'M. Skoryk', 'L. Olech', 'W. Karwowski']\n",
      "['P. Kazienko', 'J. Pawelczyk', 'M. Skoryk', 'L. Olech', 'T. Jelinski']\n",
      "['P. Kazienko', 'J. Pawelczyk', 'M. Skoryk', 'L. Olech', 'P. Tishchenko']\n",
      "['P. Kazienko', 'J. Pawelczyk', 'M. Skoryk', 'L. Olech', 'P. Jakimow']\n",
      "['P. Kazienko', 'J. Pawelczyk', 'M. Skoryk', 'L. Olech', 'S. Rey']\n",
      "['P. Kazienko', 'J. Pawelczyk', 'M. Skoryk', 'L. Olech', 'S. Pokorski']\n",
      "['P. Kazienko', 'J. Pawelczyk', 'M. Skoryk', 'L. Olech', 'S. Wozniak']\n",
      "['P. Kazienko', 'J. Pawelczyk', 'M. Skoryk', 'L. Olech', 'C. Lebiere']\n",
      "['P. Kazienko', 'J. Pawelczyk', 'M. Skoryk', 'L. Olech', 'A. Jamasb']\n",
      "['P. Kazienko', 'J. Pawelczyk', 'M. Skoryk', 'L. Olech', 'T. Kajdanowicz']\n",
      "['P. Kazienko', 'J. Pawelczyk', 'M. Skoryk', 'L. Olech', 'P. Szymanski']\n",
      "['P. Kazienko', 'J. Pawelczyk', 'M. Skoryk', 'L. Olech', 'M. Nurek']\n",
      "['P. Kazienko', 'J. Pawelczyk', 'M. Skoryk', 'L. Olech', 'J. Kozlak']\n",
      "['P. Kazienko', 'J. Pawelczyk', 'M. Skoryk', 'L. Olech', 'K. Turzynski']\n",
      "['P. Kazienko', 'J. Pawelczyk', 'M. Skoryk', 'L. Olech', 'A. Szymczak']\n",
      "['P. Kazienko', 'J. Pawelczyk', 'M. Skoryk', 'L. Olech', 'S. Theisen']\n",
      "['P. Kazienko', 'J. Pawelczyk', 'M. Skoryk', 'L. Olech', 'S. Ciuberek']\n",
      "['P. Kazienko', 'J. Pawelczyk', 'M. Skoryk', 'L. Olech', 'H. Jegierski']\n",
      "['P. Kazienko', 'J. Pawelczyk', 'M. Skoryk', 'L. Olech', 'M. Piasecki']\n",
      "['P. Kazienko', 'J. Pawelczyk', 'M. Skoryk', 'L. Olech', 'B. Delaney']\n",
      "['P. Kazienko', 'J. Pawelczyk', 'M. Skoryk', 'L. Olech', 'A. Burgun']\n",
      "['P. Kazienko', 'J. Pawelczyk', 'M. Skoryk', 'L. Olech', 'T. Jia']\n",
      "['P. Kazienko', 'J. Pawelczyk', 'M. Skoryk', 'L. Olech', 'P. Stawiak']\n",
      "['P. Kazienko', 'J. Pawelczyk', 'M. Skoryk', 'L. Olech', 'K. Tagowski']\n",
      "['P. Kazienko', 'J. Pawelczyk', 'M. Skoryk', 'L. Olech', 'J. Hamari']\n",
      "['P. Kazienko', 'J. Pawelczyk', 'M. Skoryk', 'L. Olech', 'A. Dziadek']\n",
      "['P. Kazienko', 'J. Pawelczyk', 'M. Skoryk', 'L. Olech', 'Z. Ropka']\n",
      "['P. Kazienko', 'J. Pawelczyk', 'M. Skoryk', 'L. Olech', 'M. Kulisiewicz']\n",
      "['P. Kazienko', 'J. Pawelczyk', 'M. Skoryk', 'L. Olech', 'O. Aharony']\n",
      "['P. Kazienko', 'J. Pawelczyk', 'M. Skoryk', 'L. Olech', 'G. Ragozini']\n",
      "['P. Kazienko', 'J. Pawelczyk', 'M. Skoryk', 'L. Olech', 'B. Zak']\n",
      "['P. Kazienko', 'J. Pawelczyk', 'M. Skoryk', 'L. Olech', 'K. Idanwekhai', 'W. Liu']\n",
      "['P. Kazienko', 'J. Pawelczyk', 'M. Skoryk', 'L. Olech', 'K. Idanwekhai', 'B. V']\n",
      "['P. Kazienko', 'J. Pawelczyk', 'M. Skoryk', 'L. Olech', 'K. Idanwekhai', 'Z. Michalewicz']\n",
      "['P. Kazienko', 'J. Pawelczyk', 'M. Skoryk', 'L. Olech', 'K. Idanwekhai', 'M. Zolnieruk']\n",
      "['P. Kazienko', 'J. Pawelczyk', 'M. Skoryk', 'L. Olech', 'K. Idanwekhai', 'B. Koloszczyk']\n",
      "['P. Kazienko', 'J. Pawelczyk', 'M. Skoryk', 'L. Olech', 'K. Idanwekhai', 'M. Morzy']\n",
      "['P. Kazienko', 'J. Pawelczyk', 'M. Skoryk', 'L. Olech', 'K. Idanwekhai', 'B. Szymanski']\n",
      "['P. Kazienko', 'J. Pawelczyk', 'M. Skoryk', 'L. Olech', 'K. Idanwekhai', 'P. Oleszczyk']\n",
      "['P. Kazienko', 'J. Pawelczyk', 'M. Skoryk', 'L. Olech', 'K. Idanwekhai', 'A. Borg']\n",
      "['P. Kazienko', 'J. Pawelczyk', 'M. Skoryk', 'L. Olech', 'K. Idanwekhai', 'E. Kosasih']\n",
      "['P. Kazienko', 'J. Pawelczyk', 'M. Skoryk', 'L. Olech', 'K. Idanwekhai', 'E. Kanaga']\n",
      "['P. Kazienko', 'J. Pawelczyk', 'M. Skoryk', 'L. Olech', 'K. Idanwekhai', 'L. Zhao']\n",
      "['P. Kazienko', 'J. Pawelczyk', 'M. Skoryk', 'L. Olech', 'K. Idanwekhai', 'K. Meissner']\n",
      "['P. Kazienko', 'J. Pawelczyk', 'M. Skoryk', 'L. Olech', 'K. Idanwekhai', 'Z. Lalak']\n",
      "['P. Kazienko', 'J. Pawelczyk', 'M. Skoryk', 'L. Olech', 'K. Idanwekhai', 'K. Gorman']\n",
      "['P. Kazienko', 'J. Pawelczyk', 'M. Skoryk', 'L. Olech', 'K. Idanwekhai', 'A. Krakovska']\n",
      "['P. Kazienko', 'J. Pawelczyk', 'M. Skoryk', 'L. Olech', 'K. Idanwekhai', 'A. Polak']\n",
      "['P. Kazienko', 'J. Pawelczyk', 'M. Skoryk', 'L. Olech', 'K. Idanwekhai', 'N. Chawla']\n",
      "['P. Kazienko', 'J. Pawelczyk', 'M. Skoryk', 'L. Olech', 'K. Idanwekhai', 'I. Gisterek']\n",
      "['P. Kazienko', 'J. Pawelczyk', 'M. Skoryk', 'L. Olech', 'K. Idanwekhai', 'M. Ujma']\n",
      "['P. Kazienko', 'J. Pawelczyk', 'M. Skoryk', 'L. Olech', 'K. Idanwekhai', 'J. Cabezas']\n",
      "['P. Kazienko', 'J. Pawelczyk', 'M. Skoryk', 'L. Olech', 'K. Idanwekhai', 'P. Bielak']\n",
      "['P. Kazienko', 'J. Pawelczyk', 'M. Skoryk', 'L. Olech', 'K. Idanwekhai', 'G. Miebs']\n",
      "['P. Kazienko', 'J. Pawelczyk', 'M. Skoryk', 'L. Olech', 'K. Idanwekhai', 'J. Gaworecki']\n",
      "['P. Kazienko', 'J. Pawelczyk', 'M. Skoryk', 'L. Olech', 'K. Idanwekhai', 'K. Kowalska']\n",
      "['P. Kazienko', 'J. Pawelczyk', 'M. Skoryk', 'L. Olech', 'K. Idanwekhai', 'M. Przewozniczek']\n",
      "['P. Kazienko', 'J. Pawelczyk', 'M. Skoryk', 'L. Olech', 'K. Idanwekhai', 'E. Sessolo']\n",
      "['P. Kazienko', 'J. Pawelczyk', 'M. Skoryk', 'L. Olech', 'K. Idanwekhai', 'M. Szymanski']\n",
      "['P. Kazienko', 'J. Pawelczyk', 'M. Skoryk', 'L. Olech', 'K. Idanwekhai', 'H. Kwasnicka']\n",
      "['P. Kazienko', 'J. Pawelczyk', 'M. Skoryk', 'L. Olech', 'K. Idanwekhai', 'J. Ethier']\n",
      "['P. Kazienko', 'J. Pawelczyk', 'M. Skoryk', 'L. Olech', 'K. Idanwekhai', 'W. Walentynowicz']\n",
      "['P. Kazienko', 'J. Pawelczyk', 'M. Skoryk', 'L. Olech', 'K. Idanwekhai', 'V. Halyan']\n",
      "['P. Kazienko', 'J. Pawelczyk', 'M. Skoryk', 'L. Olech', 'K. Idanwekhai', 'S. Yankielowicz']\n",
      "['P. Kazienko', 'J. Pawelczyk', 'M. Skoryk', 'L. Olech', 'K. Idanwekhai', 'P. Zelasko']\n",
      "['P. Kazienko', 'J. Pawelczyk', 'M. Skoryk', 'L. Olech', 'K. Idanwekhai', 'P. Doskocz']\n",
      "['P. Kazienko', 'J. Pawelczyk', 'M. Skoryk', 'L. Olech', 'K. Idanwekhai', 'A. Rusin']\n",
      "['P. Kazienko', 'J. Pawelczyk', 'M. Skoryk', 'L. Olech', 'K. Idanwekhai', 'T. Surmacz']\n",
      "['P. Kazienko', 'J. Pawelczyk', 'M. Skoryk', 'L. Olech', 'K. Idanwekhai', 'V. Yukhymchuk']\n",
      "['P. Kazienko', 'J. Pawelczyk', 'M. Skoryk', 'L. Olech', 'K. Idanwekhai', 'I. Ivashchenko']\n",
      "['P. Kazienko', 'J. Pawelczyk', 'M. Skoryk', 'L. Olech', 'K. Idanwekhai', 'M. Rizoiu']\n",
      "['P. Kazienko', 'J. Pawelczyk', 'M. Skoryk', 'L. Olech', 'K. Idanwekhai', 'N. Garau']\n",
      "['P. Kazienko', 'J. Pawelczyk', 'M. Skoryk', 'L. Olech', 'K. Idanwekhai', 'N. Bisagno']\n",
      "['P. Kazienko', 'J. Pawelczyk', 'M. Skoryk', 'L. Olech', 'K. Idanwekhai', 'T. Filipowski']\n",
      "['P. Kazienko', 'J. Pawelczyk', 'M. Skoryk', 'L. Olech', 'K. Idanwekhai', 'K. Ozga']\n",
      "['P. Kazienko', 'J. Pawelczyk', 'M. Skoryk', 'L. Olech', 'K. Idanwekhai', 'I. Olekseyuk']\n",
      "['P. Kazienko', 'J. Pawelczyk', 'M. Skoryk', 'L. Olech', 'K. Idanwekhai', 'P. Gramacki']\n",
      "['P. Kazienko', 'J. Pawelczyk', 'M. Skoryk', 'L. Olech', 'K. Idanwekhai', 'J. Banaszczak']\n",
      "['P. Kazienko', 'J. Pawelczyk', 'M. Skoryk', 'L. Olech', 'K. Idanwekhai', 'P. Rozewski']\n",
      "['P. Kazienko', 'J. Pawelczyk', 'M. Skoryk', 'L. Olech', 'K. Idanwekhai', 'M. Gniewkowski']\n",
      "['P. Kazienko', 'J. Pawelczyk', 'M. Skoryk', 'L. Olech', 'K. Idanwekhai', 'R. Bartusiak']\n",
      "['P. Kazienko', 'J. Pawelczyk', 'M. Skoryk', 'L. Olech', 'K. Idanwekhai', 'A. Chmiel']\n",
      "['P. Kazienko', 'J. Pawelczyk', 'M. Skoryk', 'L. Olech', 'K. Idanwekhai', 'P. Brodka']\n",
      "['P. Kazienko', 'J. Pawelczyk', 'M. Skoryk', 'L. Olech', 'K. Idanwekhai', 'J. Jankowski']\n",
      "['P. Kazienko', 'J. Pawelczyk', 'M. Skoryk', 'L. Olech', 'K. Idanwekhai', 'X. Wang']\n",
      "['P. Kazienko', 'J. Pawelczyk', 'M. Skoryk', 'L. Olech', 'K. Idanwekhai', 'A. Zbieg']\n",
      "['P. Kazienko', 'J. Pawelczyk', 'M. Skoryk', 'L. Olech', 'K. Idanwekhai', 'M. Nikolajuk']\n",
      "['P. Kazienko', 'J. Pawelczyk', 'M. Skoryk', 'L. Olech', 'K. Idanwekhai', 'S. Utz']\n",
      "['P. Kazienko', 'J. Pawelczyk', 'M. Skoryk', 'L. Olech', 'K. Idanwekhai', 'K. Juszczyszyn']\n",
      "['P. Kazienko', 'J. Pawelczyk', 'M. Skoryk', 'L. Olech', 'K. Idanwekhai', 'S. Zhao']\n",
      "['P. Kazienko', 'J. Pawelczyk', 'M. Skoryk', 'L. Olech', 'K. Idanwekhai', 'W. Michalska']\n"
     ]
    },
    {
     "name": "stdout",
     "output_type": "stream",
     "text": [
      "['P. Kazienko', 'J. Pawelczyk', 'M. Skoryk', 'L. Olech', 'K. Idanwekhai', 'M. Holecyova']\n",
      "['P. Kazienko', 'J. Pawelczyk', 'M. Skoryk', 'L. Olech', 'K. Idanwekhai', 'T. Arvanitis']\n",
      "['P. Kazienko', 'J. Pawelczyk', 'M. Skoryk', 'L. Olech', 'K. Idanwekhai', 'Y. Ran']\n",
      "['P. Kazienko', 'J. Pawelczyk', 'M. Skoryk', 'L. Olech', 'K. Idanwekhai', 'S. Cheong']\n",
      "['P. Kazienko', 'J. Pawelczyk', 'M. Skoryk', 'L. Olech', 'K. Idanwekhai', 'M. Dziezyc']\n",
      "['P. Kazienko', 'J. Pawelczyk', 'M. Skoryk', 'L. Olech', 'K. Idanwekhai', 'P. Dziurzanski']\n",
      "['P. Kazienko', 'J. Pawelczyk', 'M. Skoryk', 'L. Olech', 'K. Idanwekhai', 'M. Paradowski']\n",
      "['P. Kazienko', 'J. Pawelczyk', 'M. Skoryk', 'L. Olech', 'K. Idanwekhai', 'Y. Carmiel']\n",
      "['P. Kazienko', 'J. Pawelczyk', 'M. Skoryk', 'L. Olech', 'K. Idanwekhai', 'H. Budacova']\n",
      "['P. Kazienko', 'J. Pawelczyk', 'M. Skoryk', 'L. Olech', 'K. Idanwekhai', 'M. Koziarski']\n",
      "['P. Kazienko', 'J. Pawelczyk', 'M. Skoryk', 'L. Olech', 'K. Idanwekhai', 'R. Suszek']\n",
      "['P. Kazienko', 'J. Pawelczyk', 'M. Skoryk', 'L. Olech', 'K. Idanwekhai', 'O. Lizardo']\n",
      "['P. Kazienko', 'J. Pawelczyk', 'M. Skoryk', 'L. Olech', 'K. Idanwekhai', 'L. Indrusiak']\n",
      "['P. Kazienko', 'J. Pawelczyk', 'M. Skoryk', 'L. Olech', 'K. Idanwekhai', 'N. Dehak']\n",
      "['P. Kazienko', 'J. Pawelczyk', 'M. Skoryk', 'L. Olech', 'K. Idanwekhai', 'M. Boldt']\n",
      "['P. Kazienko', 'J. Pawelczyk', 'M. Skoryk', 'L. Olech', 'K. Idanwekhai', 'J. Kuraszkiewicz']\n",
      "['P. Kazienko', 'J. Pawelczyk', 'M. Skoryk', 'L. Olech', 'K. Idanwekhai', 'M. Bernaczyk']\n",
      "['P. Kazienko', 'J. Pawelczyk', 'M. Skoryk', 'L. Olech', 'K. Idanwekhai', 'N. Conci']\n",
      "['P. Kazienko', 'J. Pawelczyk', 'M. Skoryk', 'L. Olech', 'K. Idanwekhai', 'X. Sumba']\n",
      "['P. Kazienko', 'J. Pawelczyk', 'M. Skoryk', 'L. Olech', 'K. Idanwekhai', 'W. Indyk']\n",
      "['P. Kazienko', 'J. Pawelczyk', 'M. Skoryk', 'L. Olech', 'K. Idanwekhai', 'P. Myszkowski']\n",
      "['P. Kazienko', 'J. Pawelczyk', 'M. Skoryk', 'L. Olech', 'K. Idanwekhai', 'A. Binding']\n",
      "['P. Kazienko', 'J. Pawelczyk', 'M. Skoryk', 'L. Olech', 'K. Idanwekhai', 'K. Kersting']\n",
      "['P. Kazienko', 'J. Pawelczyk', 'M. Skoryk', 'L. Olech', 'K. Idanwekhai', 'K. Kania']\n",
      "['P. Kazienko', 'J. Pawelczyk', 'M. Skoryk', 'L. Olech', 'K. Idanwekhai', 'H. Maciejewski']\n",
      "['P. Kazienko', 'J. Pawelczyk', 'M. Skoryk', 'L. Olech', 'K. Idanwekhai', 'J. Mizgajski']\n",
      "['P. Kazienko', 'J. Pawelczyk', 'M. Skoryk', 'L. Olech', 'K. Idanwekhai', 'M. Shevchuk']\n",
      "['P. Kazienko', 'J. Pawelczyk', 'M. Skoryk', 'L. Olech', 'K. Idanwekhai', 'M. Magnani']\n",
      "['P. Kazienko', 'J. Pawelczyk', 'M. Skoryk', 'L. Olech', 'K. Idanwekhai', 'Y. Wang']\n",
      "['P. Kazienko', 'J. Pawelczyk', 'M. Skoryk', 'L. Olech', 'K. Idanwekhai', 'S. Saganowski']\n",
      "['P. Kazienko', 'J. Pawelczyk', 'M. Skoryk', 'L. Olech', 'K. Idanwekhai', 'M. Zyla-Hoppe']\n",
      "['P. Kazienko', 'J. Pawelczyk', 'M. Skoryk', 'L. Olech', 'K. Idanwekhai', 'S. Keung']\n",
      "['P. Kazienko', 'J. Pawelczyk', 'M. Skoryk', 'L. Olech', 'K. Idanwekhai', 'A. Kevshyn']\n",
      "['P. Kazienko', 'J. Pawelczyk', 'M. Skoryk', 'L. Olech', 'K. Idanwekhai', 'S. Feuerriegel']\n",
      "['P. Kazienko', 'J. Pawelczyk', 'M. Skoryk', 'L. Olech', 'K. Idanwekhai', 'K. Rajda']\n",
      "['P. Kazienko', 'J. Pawelczyk', 'M. Skoryk', 'L. Olech', 'K. Idanwekhai', 'Y. Yeliseyenka']\n",
      "['P. Kazienko', 'J. Pawelczyk', 'M. Skoryk', 'L. Olech', 'K. Idanwekhai', 'J. Jakubik']\n",
      "['P. Kazienko', 'J. Pawelczyk', 'M. Skoryk', 'L. Olech', 'K. Idanwekhai', 'M. Spytkowski']\n",
      "['P. Kazienko', 'J. Pawelczyk', 'M. Skoryk', 'L. Olech', 'K. Idanwekhai', 'K. Raczycki']\n",
      "['P. Kazienko', 'J. Pawelczyk', 'M. Skoryk', 'L. Olech', 'K. Idanwekhai', 'M. Zieba']\n",
      "['P. Kazienko', 'J. Pawelczyk', 'M. Skoryk', 'L. Olech', 'K. Idanwekhai', 'F. Erlandsson']\n",
      "['P. Kazienko', 'J. Pawelczyk', 'M. Skoryk', 'L. Olech', 'K. Idanwekhai', 'M. Skowronski']\n",
      "['P. Kazienko', 'J. Pawelczyk', 'M. Skoryk', 'L. Olech', 'K. Idanwekhai', 'A. Dutkowiak']\n",
      "['P. Kazienko', 'J. Pawelczyk', 'M. Skoryk', 'L. Olech', 'K. Idanwekhai', 'M. Falkiewicz']\n",
      "['P. Kazienko', 'J. Pawelczyk', 'M. Skoryk', 'L. Olech', 'K. Idanwekhai', 'K. Musial']\n",
      "['P. Kazienko', 'J. Pawelczyk', 'M. Skoryk', 'L. Olech', 'K. Idanwekhai', 'K. Pasierb']\n",
      "['P. Kazienko', 'J. Pawelczyk', 'M. Skoryk', 'L. Olech', 'K. Idanwekhai', 'K. Oslizlo']\n",
      "['P. Kazienko', 'J. Pawelczyk', 'M. Skoryk', 'L. Olech', 'K. Idanwekhai', 'H. Steinacker']\n",
      "['P. Kazienko', 'J. Pawelczyk', 'M. Skoryk', 'L. Olech', 'K. Idanwekhai', 'B. Tjandra']\n",
      "['P. Kazienko', 'J. Pawelczyk', 'M. Skoryk', 'L. Olech', 'K. Idanwekhai', 'J. Komoszynska']\n",
      "['P. Kazienko', 'J. Pawelczyk', 'M. Skoryk', 'L. Olech', 'K. Idanwekhai', 'H. Johnson']\n",
      "['P. Kazienko', 'J. Pawelczyk', 'M. Skoryk', 'L. Olech', 'K. Idanwekhai', 'L. Augustyniak']\n",
      "['P. Kazienko', 'J. Pawelczyk', 'M. Skoryk', 'L. Olech', 'K. Idanwekhai', 'N. Mastellos']\n",
      "['P. Kazienko', 'J. Pawelczyk', 'M. Skoryk', 'L. Olech', 'K. Idanwekhai', 'A. Andreasson']\n",
      "['P. Kazienko', 'J. Pawelczyk', 'M. Skoryk', 'L. Olech', 'K. Idanwekhai', 'V. Curcin']\n",
      "['P. Kazienko', 'J. Pawelczyk', 'M. Skoryk', 'L. Olech', 'K. Idanwekhai', 'B. Czerny']\n",
      "['P. Kazienko', 'J. Pawelczyk', 'M. Skoryk', 'L. Olech', 'K. Idanwekhai', 'M. Panfil']\n",
      "['P. Kazienko', 'J. Pawelczyk', 'M. Skoryk', 'L. Olech', 'K. Idanwekhai', 'B. Gliwa']\n",
      "['P. Kazienko', 'J. Pawelczyk', 'M. Skoryk', 'L. Olech', 'K. Idanwekhai', 'K. Jedryka']\n",
      "['P. Kazienko', 'J. Pawelczyk', 'M. Skoryk', 'L. Olech', 'K. Idanwekhai', 'M. Mcgilchrist']\n",
      "['P. Kazienko', 'J. Pawelczyk', 'M. Skoryk', 'L. Olech', 'K. Idanwekhai', 'Y. Gule']\n",
      "['P. Kazienko', 'J. Pawelczyk', 'M. Skoryk', 'L. Olech', 'K. Idanwekhai', 'K. Skibicki']\n",
      "['P. Kazienko', 'J. Pawelczyk', 'M. Skoryk', 'L. Olech', 'K. Idanwekhai', 'J. Kwiatkowski']\n",
      "['P. Kazienko', 'J. Pawelczyk', 'M. Skoryk', 'L. Olech', 'K. Idanwekhai', 'R. Radwanski']\n",
      "['P. Kazienko', 'J. Pawelczyk', 'M. Skoryk', 'L. Olech', 'K. Idanwekhai', 'R. Michalski']\n",
      "['P. Kazienko', 'J. Pawelczyk', 'M. Skoryk', 'L. Olech', 'K. Idanwekhai', 'J. Grobelny']\n",
      "['P. Kazienko', 'J. Pawelczyk', 'M. Skoryk', 'L. Olech', 'K. Idanwekhai', 'A. Zygmunt']\n",
      "['P. Kazienko', 'J. Pawelczyk', 'M. Skoryk', 'L. Olech', 'K. Idanwekhai', 'W. Karwowski']\n",
      "['P. Kazienko', 'J. Pawelczyk', 'M. Skoryk', 'L. Olech', 'K. Idanwekhai', 'T. Jelinski']\n",
      "['P. Kazienko', 'J. Pawelczyk', 'M. Skoryk', 'L. Olech', 'K. Idanwekhai', 'P. Tishchenko']\n",
      "['P. Kazienko', 'J. Pawelczyk', 'M. Skoryk', 'L. Olech', 'K. Idanwekhai', 'P. Jakimow']\n",
      "['P. Kazienko', 'J. Pawelczyk', 'M. Skoryk', 'L. Olech', 'K. Idanwekhai', 'S. Rey']\n",
      "['P. Kazienko', 'J. Pawelczyk', 'M. Skoryk', 'L. Olech', 'K. Idanwekhai', 'S. Pokorski']\n",
      "['P. Kazienko', 'J. Pawelczyk', 'M. Skoryk', 'L. Olech', 'K. Idanwekhai', 'S. Wozniak']\n",
      "['P. Kazienko', 'J. Pawelczyk', 'M. Skoryk', 'L. Olech', 'K. Idanwekhai', 'C. Lebiere']\n",
      "['P. Kazienko', 'J. Pawelczyk', 'M. Skoryk', 'L. Olech', 'K. Idanwekhai', 'A. Jamasb']\n",
      "['P. Kazienko', 'J. Pawelczyk', 'M. Skoryk', 'L. Olech', 'K. Idanwekhai', 'T. Kajdanowicz']\n",
      "['P. Kazienko', 'J. Pawelczyk', 'M. Skoryk', 'L. Olech', 'K. Idanwekhai', 'P. Szymanski']\n",
      "['P. Kazienko', 'J. Pawelczyk', 'M. Skoryk', 'L. Olech', 'K. Idanwekhai', 'M. Nurek']\n",
      "['P. Kazienko', 'J. Pawelczyk', 'M. Skoryk', 'L. Olech', 'K. Idanwekhai', 'J. Kozlak']\n",
      "['P. Kazienko', 'J. Pawelczyk', 'M. Skoryk', 'L. Olech', 'K. Idanwekhai', 'K. Turzynski']\n",
      "['P. Kazienko', 'J. Pawelczyk', 'M. Skoryk', 'L. Olech', 'K. Idanwekhai', 'A. Szymczak']\n",
      "['P. Kazienko', 'J. Pawelczyk', 'M. Skoryk', 'L. Olech', 'K. Idanwekhai', 'S. Theisen']\n",
      "['P. Kazienko', 'J. Pawelczyk', 'M. Skoryk', 'L. Olech', 'K. Idanwekhai', 'S. Ciuberek']\n",
      "['P. Kazienko', 'J. Pawelczyk', 'M. Skoryk', 'L. Olech', 'K. Idanwekhai', 'H. Jegierski']\n",
      "['P. Kazienko', 'J. Pawelczyk', 'M. Skoryk', 'L. Olech', 'K. Idanwekhai', 'M. Piasecki']\n",
      "['P. Kazienko', 'J. Pawelczyk', 'M. Skoryk', 'L. Olech', 'K. Idanwekhai', 'B. Delaney']\n",
      "['P. Kazienko', 'J. Pawelczyk', 'M. Skoryk', 'L. Olech', 'K. Idanwekhai', 'A. Burgun']\n",
      "['P. Kazienko', 'J. Pawelczyk', 'M. Skoryk', 'L. Olech', 'K. Idanwekhai', 'T. Jia']\n",
      "['P. Kazienko', 'J. Pawelczyk', 'M. Skoryk', 'L. Olech', 'K. Idanwekhai', 'P. Stawiak']\n",
      "['P. Kazienko', 'J. Pawelczyk', 'M. Skoryk', 'L. Olech', 'K. Idanwekhai', 'K. Tagowski']\n",
      "['P. Kazienko', 'J. Pawelczyk', 'M. Skoryk', 'L. Olech', 'K. Idanwekhai', 'J. Hamari']\n",
      "['P. Kazienko', 'J. Pawelczyk', 'M. Skoryk', 'L. Olech', 'K. Idanwekhai', 'A. Dziadek']\n"
     ]
    },
    {
     "name": "stdout",
     "output_type": "stream",
     "text": [
      "['P. Kazienko', 'J. Pawelczyk', 'M. Skoryk', 'L. Olech', 'K. Idanwekhai', 'Z. Ropka']\n",
      "['P. Kazienko', 'J. Pawelczyk', 'M. Skoryk', 'L. Olech', 'K. Idanwekhai', 'M. Kulisiewicz']\n",
      "['P. Kazienko', 'J. Pawelczyk', 'M. Skoryk', 'L. Olech', 'K. Idanwekhai', 'O. Aharony']\n",
      "['P. Kazienko', 'J. Pawelczyk', 'M. Skoryk', 'L. Olech', 'K. Idanwekhai', 'G. Ragozini']\n",
      "['P. Kazienko', 'J. Pawelczyk', 'M. Skoryk', 'L. Olech', 'K. Idanwekhai', 'B. Zak']\n",
      "['P. Kazienko', 'J. Pawelczyk', 'M. Skoryk', 'L. Olech', 'K. Idanwekhai', 'J. Jakubik', 'W. Liu']\n",
      "['P. Kazienko', 'J. Pawelczyk', 'M. Skoryk', 'L. Olech', 'K. Idanwekhai', 'J. Jakubik', 'B. V']\n",
      "['P. Kazienko', 'J. Pawelczyk', 'M. Skoryk', 'L. Olech', 'K. Idanwekhai', 'J. Jakubik', 'Z. Michalewicz']\n",
      "['P. Kazienko', 'J. Pawelczyk', 'M. Skoryk', 'L. Olech', 'K. Idanwekhai', 'J. Jakubik', 'M. Zolnieruk']\n",
      "['P. Kazienko', 'J. Pawelczyk', 'M. Skoryk', 'L. Olech', 'K. Idanwekhai', 'J. Jakubik', 'B. Koloszczyk']\n",
      "['P. Kazienko', 'J. Pawelczyk', 'M. Skoryk', 'L. Olech', 'K. Idanwekhai', 'J. Jakubik', 'M. Morzy']\n",
      "['P. Kazienko', 'J. Pawelczyk', 'M. Skoryk', 'L. Olech', 'K. Idanwekhai', 'J. Jakubik', 'B. Szymanski']\n",
      "['P. Kazienko', 'J. Pawelczyk', 'M. Skoryk', 'L. Olech', 'K. Idanwekhai', 'J. Jakubik', 'P. Oleszczyk']\n",
      "['P. Kazienko', 'J. Pawelczyk', 'M. Skoryk', 'L. Olech', 'K. Idanwekhai', 'J. Jakubik', 'A. Borg']\n",
      "['P. Kazienko', 'J. Pawelczyk', 'M. Skoryk', 'L. Olech', 'K. Idanwekhai', 'J. Jakubik', 'E. Kosasih']\n",
      "['P. Kazienko', 'J. Pawelczyk', 'M. Skoryk', 'L. Olech', 'K. Idanwekhai', 'J. Jakubik', 'E. Kanaga']\n",
      "['P. Kazienko', 'J. Pawelczyk', 'M. Skoryk', 'L. Olech', 'K. Idanwekhai', 'J. Jakubik', 'L. Zhao']\n",
      "['P. Kazienko', 'J. Pawelczyk', 'M. Skoryk', 'L. Olech', 'K. Idanwekhai', 'J. Jakubik', 'K. Meissner']\n",
      "['P. Kazienko', 'J. Pawelczyk', 'M. Skoryk', 'L. Olech', 'K. Idanwekhai', 'J. Jakubik', 'Z. Lalak']\n",
      "['P. Kazienko', 'J. Pawelczyk', 'M. Skoryk', 'L. Olech', 'K. Idanwekhai', 'J. Jakubik', 'K. Gorman']\n",
      "['P. Kazienko', 'J. Pawelczyk', 'M. Skoryk', 'L. Olech', 'K. Idanwekhai', 'J. Jakubik', 'A. Krakovska']\n",
      "['P. Kazienko', 'J. Pawelczyk', 'M. Skoryk', 'L. Olech', 'K. Idanwekhai', 'J. Jakubik', 'A. Polak']\n",
      "['P. Kazienko', 'J. Pawelczyk', 'M. Skoryk', 'L. Olech', 'K. Idanwekhai', 'J. Jakubik', 'N. Chawla']\n",
      "['P. Kazienko', 'J. Pawelczyk', 'M. Skoryk', 'L. Olech', 'K. Idanwekhai', 'J. Jakubik', 'I. Gisterek']\n",
      "['P. Kazienko', 'J. Pawelczyk', 'M. Skoryk', 'L. Olech', 'K. Idanwekhai', 'J. Jakubik', 'M. Ujma']\n",
      "['P. Kazienko', 'J. Pawelczyk', 'M. Skoryk', 'L. Olech', 'K. Idanwekhai', 'J. Jakubik', 'J. Cabezas']\n",
      "['P. Kazienko', 'J. Pawelczyk', 'M. Skoryk', 'L. Olech', 'K. Idanwekhai', 'J. Jakubik', 'P. Bielak']\n",
      "['P. Kazienko', 'J. Pawelczyk', 'M. Skoryk', 'L. Olech', 'K. Idanwekhai', 'J. Jakubik', 'G. Miebs']\n",
      "['P. Kazienko', 'J. Pawelczyk', 'M. Skoryk', 'L. Olech', 'K. Idanwekhai', 'J. Jakubik', 'J. Gaworecki']\n",
      "['P. Kazienko', 'J. Pawelczyk', 'M. Skoryk', 'L. Olech', 'K. Idanwekhai', 'J. Jakubik', 'K. Kowalska']\n",
      "['P. Kazienko', 'J. Pawelczyk', 'M. Skoryk', 'L. Olech', 'K. Idanwekhai', 'J. Jakubik', 'M. Przewozniczek']\n",
      "['P. Kazienko', 'J. Pawelczyk', 'M. Skoryk', 'L. Olech', 'K. Idanwekhai', 'J. Jakubik', 'E. Sessolo']\n",
      "['P. Kazienko', 'J. Pawelczyk', 'M. Skoryk', 'L. Olech', 'K. Idanwekhai', 'J. Jakubik', 'M. Szymanski']\n",
      "['P. Kazienko', 'J. Pawelczyk', 'M. Skoryk', 'L. Olech', 'K. Idanwekhai', 'J. Jakubik', 'H. Kwasnicka']\n",
      "['P. Kazienko', 'J. Pawelczyk', 'M. Skoryk', 'L. Olech', 'K. Idanwekhai', 'J. Jakubik', 'J. Ethier']\n",
      "['P. Kazienko', 'J. Pawelczyk', 'M. Skoryk', 'L. Olech', 'K. Idanwekhai', 'J. Jakubik', 'W. Walentynowicz']\n",
      "['P. Kazienko', 'J. Pawelczyk', 'M. Skoryk', 'L. Olech', 'K. Idanwekhai', 'J. Jakubik', 'V. Halyan']\n",
      "['P. Kazienko', 'J. Pawelczyk', 'M. Skoryk', 'L. Olech', 'K. Idanwekhai', 'J. Jakubik', 'S. Yankielowicz']\n",
      "['P. Kazienko', 'J. Pawelczyk', 'M. Skoryk', 'L. Olech', 'K. Idanwekhai', 'J. Jakubik', 'P. Zelasko']\n",
      "['P. Kazienko', 'J. Pawelczyk', 'M. Skoryk', 'L. Olech', 'K. Idanwekhai', 'J. Jakubik', 'P. Doskocz']\n",
      "['P. Kazienko', 'J. Pawelczyk', 'M. Skoryk', 'L. Olech', 'K. Idanwekhai', 'J. Jakubik', 'A. Rusin']\n",
      "['P. Kazienko', 'J. Pawelczyk', 'M. Skoryk', 'L. Olech', 'K. Idanwekhai', 'J. Jakubik', 'T. Surmacz']\n",
      "['P. Kazienko', 'J. Pawelczyk', 'M. Skoryk', 'L. Olech', 'K. Idanwekhai', 'J. Jakubik', 'V. Yukhymchuk']\n",
      "['P. Kazienko', 'J. Pawelczyk', 'M. Skoryk', 'L. Olech', 'K. Idanwekhai', 'J. Jakubik', 'I. Ivashchenko']\n",
      "['P. Kazienko', 'J. Pawelczyk', 'M. Skoryk', 'L. Olech', 'K. Idanwekhai', 'J. Jakubik', 'M. Rizoiu']\n",
      "['P. Kazienko', 'J. Pawelczyk', 'M. Skoryk', 'L. Olech', 'K. Idanwekhai', 'J. Jakubik', 'N. Garau']\n",
      "['P. Kazienko', 'J. Pawelczyk', 'M. Skoryk', 'L. Olech', 'K. Idanwekhai', 'J. Jakubik', 'N. Bisagno']\n",
      "['P. Kazienko', 'J. Pawelczyk', 'M. Skoryk', 'L. Olech', 'K. Idanwekhai', 'J. Jakubik', 'T. Filipowski']\n",
      "['P. Kazienko', 'J. Pawelczyk', 'M. Skoryk', 'L. Olech', 'K. Idanwekhai', 'J. Jakubik', 'K. Ozga']\n",
      "['P. Kazienko', 'J. Pawelczyk', 'M. Skoryk', 'L. Olech', 'K. Idanwekhai', 'J. Jakubik', 'I. Olekseyuk']\n",
      "['P. Kazienko', 'J. Pawelczyk', 'M. Skoryk', 'L. Olech', 'K. Idanwekhai', 'J. Jakubik', 'P. Gramacki']\n",
      "['P. Kazienko', 'J. Pawelczyk', 'M. Skoryk', 'L. Olech', 'K. Idanwekhai', 'J. Jakubik', 'J. Banaszczak']\n",
      "['P. Kazienko', 'J. Pawelczyk', 'M. Skoryk', 'L. Olech', 'K. Idanwekhai', 'J. Jakubik', 'P. Rozewski']\n",
      "['P. Kazienko', 'J. Pawelczyk', 'M. Skoryk', 'L. Olech', 'K. Idanwekhai', 'J. Jakubik', 'M. Gniewkowski']\n",
      "['P. Kazienko', 'J. Pawelczyk', 'M. Skoryk', 'L. Olech', 'K. Idanwekhai', 'J. Jakubik', 'R. Bartusiak']\n",
      "['P. Kazienko', 'J. Pawelczyk', 'M. Skoryk', 'L. Olech', 'K. Idanwekhai', 'J. Jakubik', 'A. Chmiel']\n",
      "['P. Kazienko', 'J. Pawelczyk', 'M. Skoryk', 'L. Olech', 'K. Idanwekhai', 'J. Jakubik', 'P. Brodka']\n",
      "['P. Kazienko', 'J. Pawelczyk', 'M. Skoryk', 'L. Olech', 'K. Idanwekhai', 'J. Jakubik', 'J. Jankowski']\n",
      "['P. Kazienko', 'J. Pawelczyk', 'M. Skoryk', 'L. Olech', 'K. Idanwekhai', 'J. Jakubik', 'X. Wang']\n",
      "['P. Kazienko', 'J. Pawelczyk', 'M. Skoryk', 'L. Olech', 'K. Idanwekhai', 'J. Jakubik', 'A. Zbieg']\n",
      "['P. Kazienko', 'J. Pawelczyk', 'M. Skoryk', 'L. Olech', 'K. Idanwekhai', 'J. Jakubik', 'M. Nikolajuk']\n",
      "['P. Kazienko', 'J. Pawelczyk', 'M. Skoryk', 'L. Olech', 'K. Idanwekhai', 'J. Jakubik', 'S. Utz']\n",
      "['P. Kazienko', 'J. Pawelczyk', 'M. Skoryk', 'L. Olech', 'K. Idanwekhai', 'J. Jakubik', 'K. Juszczyszyn']\n",
      "['P. Kazienko', 'J. Pawelczyk', 'M. Skoryk', 'L. Olech', 'K. Idanwekhai', 'J. Jakubik', 'S. Zhao']\n",
      "['P. Kazienko', 'J. Pawelczyk', 'M. Skoryk', 'L. Olech', 'K. Idanwekhai', 'J. Jakubik', 'W. Michalska']\n",
      "['P. Kazienko', 'J. Pawelczyk', 'M. Skoryk', 'L. Olech', 'K. Idanwekhai', 'J. Jakubik', 'M. Holecyova']\n",
      "['P. Kazienko', 'J. Pawelczyk', 'M. Skoryk', 'L. Olech', 'K. Idanwekhai', 'J. Jakubik', 'T. Arvanitis']\n",
      "['P. Kazienko', 'J. Pawelczyk', 'M. Skoryk', 'L. Olech', 'K. Idanwekhai', 'J. Jakubik', 'Y. Ran']\n",
      "['P. Kazienko', 'J. Pawelczyk', 'M. Skoryk', 'L. Olech', 'K. Idanwekhai', 'J. Jakubik', 'S. Cheong']\n",
      "['P. Kazienko', 'J. Pawelczyk', 'M. Skoryk', 'L. Olech', 'K. Idanwekhai', 'J. Jakubik', 'M. Dziezyc']\n",
      "['P. Kazienko', 'J. Pawelczyk', 'M. Skoryk', 'L. Olech', 'K. Idanwekhai', 'J. Jakubik', 'P. Dziurzanski']\n",
      "['P. Kazienko', 'J. Pawelczyk', 'M. Skoryk', 'L. Olech', 'K. Idanwekhai', 'J. Jakubik', 'M. Paradowski']\n",
      "['P. Kazienko', 'J. Pawelczyk', 'M. Skoryk', 'L. Olech', 'K. Idanwekhai', 'J. Jakubik', 'Y. Carmiel']\n",
      "['P. Kazienko', 'J. Pawelczyk', 'M. Skoryk', 'L. Olech', 'K. Idanwekhai', 'J. Jakubik', 'H. Budacova']\n",
      "['P. Kazienko', 'J. Pawelczyk', 'M. Skoryk', 'L. Olech', 'K. Idanwekhai', 'J. Jakubik', 'M. Koziarski']\n",
      "['P. Kazienko', 'J. Pawelczyk', 'M. Skoryk', 'L. Olech', 'K. Idanwekhai', 'J. Jakubik', 'R. Suszek']\n",
      "['P. Kazienko', 'J. Pawelczyk', 'M. Skoryk', 'L. Olech', 'K. Idanwekhai', 'J. Jakubik', 'O. Lizardo']\n",
      "['P. Kazienko', 'J. Pawelczyk', 'M. Skoryk', 'L. Olech', 'K. Idanwekhai', 'J. Jakubik', 'L. Indrusiak']\n",
      "['P. Kazienko', 'J. Pawelczyk', 'M. Skoryk', 'L. Olech', 'K. Idanwekhai', 'J. Jakubik', 'N. Dehak']\n",
      "['P. Kazienko', 'J. Pawelczyk', 'M. Skoryk', 'L. Olech', 'K. Idanwekhai', 'J. Jakubik', 'M. Boldt']\n",
      "['P. Kazienko', 'J. Pawelczyk', 'M. Skoryk', 'L. Olech', 'K. Idanwekhai', 'J. Jakubik', 'J. Kuraszkiewicz']\n"
     ]
    },
    {
     "name": "stdout",
     "output_type": "stream",
     "text": [
      "['P. Kazienko', 'J. Pawelczyk', 'M. Skoryk', 'L. Olech', 'K. Idanwekhai', 'J. Jakubik', 'M. Bernaczyk']\n",
      "['P. Kazienko', 'J. Pawelczyk', 'M. Skoryk', 'L. Olech', 'K. Idanwekhai', 'J. Jakubik', 'N. Conci']\n",
      "['P. Kazienko', 'J. Pawelczyk', 'M. Skoryk', 'L. Olech', 'K. Idanwekhai', 'J. Jakubik', 'X. Sumba']\n",
      "['P. Kazienko', 'J. Pawelczyk', 'M. Skoryk', 'L. Olech', 'K. Idanwekhai', 'J. Jakubik', 'W. Indyk']\n",
      "['P. Kazienko', 'J. Pawelczyk', 'M. Skoryk', 'L. Olech', 'K. Idanwekhai', 'J. Jakubik', 'P. Myszkowski']\n",
      "['P. Kazienko', 'J. Pawelczyk', 'M. Skoryk', 'L. Olech', 'K. Idanwekhai', 'J. Jakubik', 'A. Binding']\n",
      "['P. Kazienko', 'J. Pawelczyk', 'M. Skoryk', 'L. Olech', 'K. Idanwekhai', 'J. Jakubik', 'K. Kersting']\n",
      "['P. Kazienko', 'J. Pawelczyk', 'M. Skoryk', 'L. Olech', 'K. Idanwekhai', 'J. Jakubik', 'K. Kania']\n",
      "['P. Kazienko', 'J. Pawelczyk', 'M. Skoryk', 'L. Olech', 'K. Idanwekhai', 'J. Jakubik', 'H. Maciejewski']\n",
      "['P. Kazienko', 'J. Pawelczyk', 'M. Skoryk', 'L. Olech', 'K. Idanwekhai', 'J. Jakubik', 'J. Mizgajski']\n",
      "['P. Kazienko', 'J. Pawelczyk', 'M. Skoryk', 'L. Olech', 'K. Idanwekhai', 'J. Jakubik', 'M. Shevchuk']\n",
      "['P. Kazienko', 'J. Pawelczyk', 'M. Skoryk', 'L. Olech', 'K. Idanwekhai', 'J. Jakubik', 'M. Magnani']\n",
      "['P. Kazienko', 'J. Pawelczyk', 'M. Skoryk', 'L. Olech', 'K. Idanwekhai', 'J. Jakubik', 'Y. Wang']\n",
      "['P. Kazienko', 'J. Pawelczyk', 'M. Skoryk', 'L. Olech', 'K. Idanwekhai', 'J. Jakubik', 'S. Saganowski']\n",
      "['P. Kazienko', 'J. Pawelczyk', 'M. Skoryk', 'L. Olech', 'K. Idanwekhai', 'J. Jakubik', 'M. Zyla-Hoppe']\n",
      "['P. Kazienko', 'J. Pawelczyk', 'M. Skoryk', 'L. Olech', 'K. Idanwekhai', 'J. Jakubik', 'S. Keung']\n",
      "['P. Kazienko', 'J. Pawelczyk', 'M. Skoryk', 'L. Olech', 'K. Idanwekhai', 'J. Jakubik', 'A. Kevshyn']\n",
      "['P. Kazienko', 'J. Pawelczyk', 'M. Skoryk', 'L. Olech', 'K. Idanwekhai', 'J. Jakubik', 'S. Feuerriegel']\n",
      "['P. Kazienko', 'J. Pawelczyk', 'M. Skoryk', 'L. Olech', 'K. Idanwekhai', 'J. Jakubik', 'K. Rajda']\n",
      "['P. Kazienko', 'J. Pawelczyk', 'M. Skoryk', 'L. Olech', 'K. Idanwekhai', 'J. Jakubik', 'Y. Yeliseyenka']\n",
      "['P. Kazienko', 'J. Pawelczyk', 'M. Skoryk', 'L. Olech', 'K. Idanwekhai', 'J. Jakubik', 'M. Spytkowski']\n",
      "['P. Kazienko', 'J. Pawelczyk', 'M. Skoryk', 'L. Olech', 'K. Idanwekhai', 'J. Jakubik', 'K. Raczycki']\n",
      "['P. Kazienko', 'J. Pawelczyk', 'M. Skoryk', 'L. Olech', 'K. Idanwekhai', 'J. Jakubik', 'M. Zieba']\n",
      "['P. Kazienko', 'J. Pawelczyk', 'M. Skoryk', 'L. Olech', 'K. Idanwekhai', 'J. Jakubik', 'F. Erlandsson']\n",
      "['P. Kazienko', 'J. Pawelczyk', 'M. Skoryk', 'L. Olech', 'K. Idanwekhai', 'J. Jakubik', 'M. Skowronski']\n",
      "['P. Kazienko', 'J. Pawelczyk', 'M. Skoryk', 'L. Olech', 'K. Idanwekhai', 'J. Jakubik', 'A. Dutkowiak']\n",
      "['P. Kazienko', 'J. Pawelczyk', 'M. Skoryk', 'L. Olech', 'K. Idanwekhai', 'J. Jakubik', 'M. Falkiewicz']\n",
      "['P. Kazienko', 'J. Pawelczyk', 'M. Skoryk', 'L. Olech', 'K. Idanwekhai', 'J. Jakubik', 'K. Musial']\n",
      "['P. Kazienko', 'J. Pawelczyk', 'M. Skoryk', 'L. Olech', 'K. Idanwekhai', 'J. Jakubik', 'K. Pasierb']\n",
      "['P. Kazienko', 'J. Pawelczyk', 'M. Skoryk', 'L. Olech', 'K. Idanwekhai', 'J. Jakubik', 'K. Oslizlo']\n",
      "['P. Kazienko', 'J. Pawelczyk', 'M. Skoryk', 'L. Olech', 'K. Idanwekhai', 'J. Jakubik', 'H. Steinacker']\n",
      "['P. Kazienko', 'J. Pawelczyk', 'M. Skoryk', 'L. Olech', 'K. Idanwekhai', 'J. Jakubik', 'B. Tjandra']\n",
      "['P. Kazienko', 'J. Pawelczyk', 'M. Skoryk', 'L. Olech', 'K. Idanwekhai', 'J. Jakubik', 'J. Komoszynska']\n",
      "['P. Kazienko', 'J. Pawelczyk', 'M. Skoryk', 'L. Olech', 'K. Idanwekhai', 'J. Jakubik', 'H. Johnson']\n",
      "['P. Kazienko', 'J. Pawelczyk', 'M. Skoryk', 'L. Olech', 'K. Idanwekhai', 'J. Jakubik', 'L. Augustyniak']\n",
      "['P. Kazienko', 'J. Pawelczyk', 'M. Skoryk', 'L. Olech', 'K. Idanwekhai', 'J. Jakubik', 'N. Mastellos']\n",
      "['P. Kazienko', 'J. Pawelczyk', 'M. Skoryk', 'L. Olech', 'K. Idanwekhai', 'J. Jakubik', 'A. Andreasson']\n",
      "['P. Kazienko', 'J. Pawelczyk', 'M. Skoryk', 'L. Olech', 'K. Idanwekhai', 'J. Jakubik', 'V. Curcin']\n",
      "['P. Kazienko', 'J. Pawelczyk', 'M. Skoryk', 'L. Olech', 'K. Idanwekhai', 'J. Jakubik', 'B. Czerny']\n",
      "['P. Kazienko', 'J. Pawelczyk', 'M. Skoryk', 'L. Olech', 'K. Idanwekhai', 'J. Jakubik', 'M. Panfil']\n",
      "['P. Kazienko', 'J. Pawelczyk', 'M. Skoryk', 'L. Olech', 'K. Idanwekhai', 'J. Jakubik', 'B. Gliwa']\n",
      "['P. Kazienko', 'J. Pawelczyk', 'M. Skoryk', 'L. Olech', 'K. Idanwekhai', 'J. Jakubik', 'K. Jedryka']\n",
      "['P. Kazienko', 'J. Pawelczyk', 'M. Skoryk', 'L. Olech', 'K. Idanwekhai', 'J. Jakubik', 'M. Mcgilchrist']\n",
      "['P. Kazienko', 'J. Pawelczyk', 'M. Skoryk', 'L. Olech', 'K. Idanwekhai', 'J. Jakubik', 'Y. Gule']\n",
      "['P. Kazienko', 'J. Pawelczyk', 'M. Skoryk', 'L. Olech', 'K. Idanwekhai', 'J. Jakubik', 'K. Skibicki']\n",
      "['P. Kazienko', 'J. Pawelczyk', 'M. Skoryk', 'L. Olech', 'K. Idanwekhai', 'J. Jakubik', 'J. Kwiatkowski']\n",
      "['P. Kazienko', 'J. Pawelczyk', 'M. Skoryk', 'L. Olech', 'K. Idanwekhai', 'J. Jakubik', 'R. Radwanski']\n",
      "['P. Kazienko', 'J. Pawelczyk', 'M. Skoryk', 'L. Olech', 'K. Idanwekhai', 'J. Jakubik', 'R. Michalski']\n",
      "['P. Kazienko', 'J. Pawelczyk', 'M. Skoryk', 'L. Olech', 'K. Idanwekhai', 'J. Jakubik', 'J. Grobelny']\n",
      "['P. Kazienko', 'J. Pawelczyk', 'M. Skoryk', 'L. Olech', 'K. Idanwekhai', 'J. Jakubik', 'A. Zygmunt']\n",
      "['P. Kazienko', 'J. Pawelczyk', 'M. Skoryk', 'L. Olech', 'K. Idanwekhai', 'J. Jakubik', 'W. Karwowski']\n",
      "['P. Kazienko', 'J. Pawelczyk', 'M. Skoryk', 'L. Olech', 'K. Idanwekhai', 'J. Jakubik', 'T. Jelinski']\n",
      "['P. Kazienko', 'J. Pawelczyk', 'M. Skoryk', 'L. Olech', 'K. Idanwekhai', 'J. Jakubik', 'P. Tishchenko']\n",
      "['P. Kazienko', 'J. Pawelczyk', 'M. Skoryk', 'L. Olech', 'K. Idanwekhai', 'J. Jakubik', 'P. Jakimow']\n",
      "['P. Kazienko', 'J. Pawelczyk', 'M. Skoryk', 'L. Olech', 'K. Idanwekhai', 'J. Jakubik', 'S. Rey']\n",
      "['P. Kazienko', 'J. Pawelczyk', 'M. Skoryk', 'L. Olech', 'K. Idanwekhai', 'J. Jakubik', 'S. Pokorski']\n",
      "['P. Kazienko', 'J. Pawelczyk', 'M. Skoryk', 'L. Olech', 'K. Idanwekhai', 'J. Jakubik', 'S. Wozniak']\n",
      "['P. Kazienko', 'J. Pawelczyk', 'M. Skoryk', 'L. Olech', 'K. Idanwekhai', 'J. Jakubik', 'C. Lebiere']\n",
      "['P. Kazienko', 'J. Pawelczyk', 'M. Skoryk', 'L. Olech', 'K. Idanwekhai', 'J. Jakubik', 'A. Jamasb']\n",
      "['P. Kazienko', 'J. Pawelczyk', 'M. Skoryk', 'L. Olech', 'K. Idanwekhai', 'J. Jakubik', 'T. Kajdanowicz']\n",
      "['P. Kazienko', 'J. Pawelczyk', 'M. Skoryk', 'L. Olech', 'K. Idanwekhai', 'J. Jakubik', 'P. Szymanski']\n",
      "['P. Kazienko', 'J. Pawelczyk', 'M. Skoryk', 'L. Olech', 'K. Idanwekhai', 'J. Jakubik', 'M. Nurek']\n",
      "['P. Kazienko', 'J. Pawelczyk', 'M. Skoryk', 'L. Olech', 'K. Idanwekhai', 'J. Jakubik', 'J. Kozlak']\n",
      "['P. Kazienko', 'J. Pawelczyk', 'M. Skoryk', 'L. Olech', 'K. Idanwekhai', 'J. Jakubik', 'K. Turzynski']\n",
      "['P. Kazienko', 'J. Pawelczyk', 'M. Skoryk', 'L. Olech', 'K. Idanwekhai', 'J. Jakubik', 'A. Szymczak']\n",
      "['P. Kazienko', 'J. Pawelczyk', 'M. Skoryk', 'L. Olech', 'K. Idanwekhai', 'J. Jakubik', 'S. Theisen']\n",
      "['P. Kazienko', 'J. Pawelczyk', 'M. Skoryk', 'L. Olech', 'K. Idanwekhai', 'J. Jakubik', 'S. Ciuberek']\n",
      "['P. Kazienko', 'J. Pawelczyk', 'M. Skoryk', 'L. Olech', 'K. Idanwekhai', 'J. Jakubik', 'H. Jegierski']\n",
      "['P. Kazienko', 'J. Pawelczyk', 'M. Skoryk', 'L. Olech', 'K. Idanwekhai', 'J. Jakubik', 'M. Piasecki']\n",
      "['P. Kazienko', 'J. Pawelczyk', 'M. Skoryk', 'L. Olech', 'K. Idanwekhai', 'J. Jakubik', 'B. Delaney']\n",
      "['P. Kazienko', 'J. Pawelczyk', 'M. Skoryk', 'L. Olech', 'K. Idanwekhai', 'J. Jakubik', 'A. Burgun']\n",
      "['P. Kazienko', 'J. Pawelczyk', 'M. Skoryk', 'L. Olech', 'K. Idanwekhai', 'J. Jakubik', 'T. Jia']\n",
      "['P. Kazienko', 'J. Pawelczyk', 'M. Skoryk', 'L. Olech', 'K. Idanwekhai', 'J. Jakubik', 'P. Stawiak']\n",
      "['P. Kazienko', 'J. Pawelczyk', 'M. Skoryk', 'L. Olech', 'K. Idanwekhai', 'J. Jakubik', 'K. Tagowski']\n",
      "['P. Kazienko', 'J. Pawelczyk', 'M. Skoryk', 'L. Olech', 'K. Idanwekhai', 'J. Jakubik', 'J. Hamari']\n",
      "['P. Kazienko', 'J. Pawelczyk', 'M. Skoryk', 'L. Olech', 'K. Idanwekhai', 'J. Jakubik', 'A. Dziadek']\n",
      "['P. Kazienko', 'J. Pawelczyk', 'M. Skoryk', 'L. Olech', 'K. Idanwekhai', 'J. Jakubik', 'Z. Ropka']\n",
      "['P. Kazienko', 'J. Pawelczyk', 'M. Skoryk', 'L. Olech', 'K. Idanwekhai', 'J. Jakubik', 'M. Kulisiewicz']\n",
      "['P. Kazienko', 'J. Pawelczyk', 'M. Skoryk', 'L. Olech', 'K. Idanwekhai', 'J. Jakubik', 'O. Aharony']\n",
      "['P. Kazienko', 'J. Pawelczyk', 'M. Skoryk', 'L. Olech', 'K. Idanwekhai', 'J. Jakubik', 'G. Ragozini']\n"
     ]
    },
    {
     "name": "stdout",
     "output_type": "stream",
     "text": [
      "['P. Kazienko', 'J. Pawelczyk', 'M. Skoryk', 'L. Olech', 'K. Idanwekhai', 'J. Jakubik', 'B. Zak']\n",
      "['P. Kazienko', 'J. Pawelczyk', 'M. Skoryk', 'L. Olech', 'K. Idanwekhai', 'J. Jakubik', 'S. Zhao', 'W. Liu']\n",
      "['P. Kazienko', 'J. Pawelczyk', 'M. Skoryk', 'L. Olech', 'K. Idanwekhai', 'J. Jakubik', 'S. Zhao', 'B. V']\n",
      "['P. Kazienko', 'J. Pawelczyk', 'M. Skoryk', 'L. Olech', 'K. Idanwekhai', 'J. Jakubik', 'S. Zhao', 'Z. Michalewicz']\n",
      "['P. Kazienko', 'J. Pawelczyk', 'M. Skoryk', 'L. Olech', 'K. Idanwekhai', 'J. Jakubik', 'S. Zhao', 'M. Zolnieruk']\n",
      "['P. Kazienko', 'J. Pawelczyk', 'M. Skoryk', 'L. Olech', 'K. Idanwekhai', 'J. Jakubik', 'S. Zhao', 'B. Koloszczyk']\n",
      "['P. Kazienko', 'J. Pawelczyk', 'M. Skoryk', 'L. Olech', 'K. Idanwekhai', 'J. Jakubik', 'S. Zhao', 'M. Morzy']\n",
      "['P. Kazienko', 'J. Pawelczyk', 'M. Skoryk', 'L. Olech', 'K. Idanwekhai', 'J. Jakubik', 'S. Zhao', 'B. Szymanski']\n",
      "['P. Kazienko', 'J. Pawelczyk', 'M. Skoryk', 'L. Olech', 'K. Idanwekhai', 'J. Jakubik', 'S. Zhao', 'P. Oleszczyk']\n",
      "['P. Kazienko', 'J. Pawelczyk', 'M. Skoryk', 'L. Olech', 'K. Idanwekhai', 'J. Jakubik', 'S. Zhao', 'A. Borg']\n",
      "['P. Kazienko', 'J. Pawelczyk', 'M. Skoryk', 'L. Olech', 'K. Idanwekhai', 'J. Jakubik', 'S. Zhao', 'E. Kosasih']\n",
      "['P. Kazienko', 'J. Pawelczyk', 'M. Skoryk', 'L. Olech', 'K. Idanwekhai', 'J. Jakubik', 'S. Zhao', 'E. Kanaga']\n",
      "['P. Kazienko', 'J. Pawelczyk', 'M. Skoryk', 'L. Olech', 'K. Idanwekhai', 'J. Jakubik', 'S. Zhao', 'L. Zhao']\n",
      "['P. Kazienko', 'J. Pawelczyk', 'M. Skoryk', 'L. Olech', 'K. Idanwekhai', 'J. Jakubik', 'S. Zhao', 'K. Meissner']\n",
      "['P. Kazienko', 'J. Pawelczyk', 'M. Skoryk', 'L. Olech', 'K. Idanwekhai', 'J. Jakubik', 'S. Zhao', 'Z. Lalak']\n",
      "['P. Kazienko', 'J. Pawelczyk', 'M. Skoryk', 'L. Olech', 'K. Idanwekhai', 'J. Jakubik', 'S. Zhao', 'K. Gorman']\n",
      "['P. Kazienko', 'J. Pawelczyk', 'M. Skoryk', 'L. Olech', 'K. Idanwekhai', 'J. Jakubik', 'S. Zhao', 'A. Krakovska']\n",
      "['P. Kazienko', 'J. Pawelczyk', 'M. Skoryk', 'L. Olech', 'K. Idanwekhai', 'J. Jakubik', 'S. Zhao', 'A. Polak']\n",
      "['P. Kazienko', 'J. Pawelczyk', 'M. Skoryk', 'L. Olech', 'K. Idanwekhai', 'J. Jakubik', 'S. Zhao', 'N. Chawla']\n",
      "['P. Kazienko', 'J. Pawelczyk', 'M. Skoryk', 'L. Olech', 'K. Idanwekhai', 'J. Jakubik', 'S. Zhao', 'I. Gisterek']\n",
      "['P. Kazienko', 'J. Pawelczyk', 'M. Skoryk', 'L. Olech', 'K. Idanwekhai', 'J. Jakubik', 'S. Zhao', 'M. Ujma']\n",
      "['P. Kazienko', 'J. Pawelczyk', 'M. Skoryk', 'L. Olech', 'K. Idanwekhai', 'J. Jakubik', 'S. Zhao', 'J. Cabezas']\n",
      "['P. Kazienko', 'J. Pawelczyk', 'M. Skoryk', 'L. Olech', 'K. Idanwekhai', 'J. Jakubik', 'S. Zhao', 'P. Bielak']\n",
      "['P. Kazienko', 'J. Pawelczyk', 'M. Skoryk', 'L. Olech', 'K. Idanwekhai', 'J. Jakubik', 'S. Zhao', 'G. Miebs']\n",
      "['P. Kazienko', 'J. Pawelczyk', 'M. Skoryk', 'L. Olech', 'K. Idanwekhai', 'J. Jakubik', 'S. Zhao', 'J. Gaworecki']\n",
      "['P. Kazienko', 'J. Pawelczyk', 'M. Skoryk', 'L. Olech', 'K. Idanwekhai', 'J. Jakubik', 'S. Zhao', 'K. Kowalska']\n",
      "['P. Kazienko', 'J. Pawelczyk', 'M. Skoryk', 'L. Olech', 'K. Idanwekhai', 'J. Jakubik', 'S. Zhao', 'M. Przewozniczek']\n",
      "['P. Kazienko', 'J. Pawelczyk', 'M. Skoryk', 'L. Olech', 'K. Idanwekhai', 'J. Jakubik', 'S. Zhao', 'E. Sessolo']\n",
      "['P. Kazienko', 'J. Pawelczyk', 'M. Skoryk', 'L. Olech', 'K. Idanwekhai', 'J. Jakubik', 'S. Zhao', 'M. Szymanski']\n",
      "['P. Kazienko', 'J. Pawelczyk', 'M. Skoryk', 'L. Olech', 'K. Idanwekhai', 'J. Jakubik', 'S. Zhao', 'H. Kwasnicka']\n",
      "['P. Kazienko', 'J. Pawelczyk', 'M. Skoryk', 'L. Olech', 'K. Idanwekhai', 'J. Jakubik', 'S. Zhao', 'J. Ethier']\n",
      "['P. Kazienko', 'J. Pawelczyk', 'M. Skoryk', 'L. Olech', 'K. Idanwekhai', 'J. Jakubik', 'S. Zhao', 'W. Walentynowicz']\n",
      "['P. Kazienko', 'J. Pawelczyk', 'M. Skoryk', 'L. Olech', 'K. Idanwekhai', 'J. Jakubik', 'S. Zhao', 'V. Halyan']\n",
      "['P. Kazienko', 'J. Pawelczyk', 'M. Skoryk', 'L. Olech', 'K. Idanwekhai', 'J. Jakubik', 'S. Zhao', 'S. Yankielowicz']\n",
      "['P. Kazienko', 'J. Pawelczyk', 'M. Skoryk', 'L. Olech', 'K. Idanwekhai', 'J. Jakubik', 'S. Zhao', 'P. Zelasko']\n",
      "['P. Kazienko', 'J. Pawelczyk', 'M. Skoryk', 'L. Olech', 'K. Idanwekhai', 'J. Jakubik', 'S. Zhao', 'P. Doskocz']\n",
      "['P. Kazienko', 'J. Pawelczyk', 'M. Skoryk', 'L. Olech', 'K. Idanwekhai', 'J. Jakubik', 'S. Zhao', 'A. Rusin']\n",
      "['P. Kazienko', 'J. Pawelczyk', 'M. Skoryk', 'L. Olech', 'K. Idanwekhai', 'J. Jakubik', 'S. Zhao', 'T. Surmacz']\n",
      "['P. Kazienko', 'J. Pawelczyk', 'M. Skoryk', 'L. Olech', 'K. Idanwekhai', 'J. Jakubik', 'S. Zhao', 'V. Yukhymchuk']\n",
      "['P. Kazienko', 'J. Pawelczyk', 'M. Skoryk', 'L. Olech', 'K. Idanwekhai', 'J. Jakubik', 'S. Zhao', 'I. Ivashchenko']\n",
      "['P. Kazienko', 'J. Pawelczyk', 'M. Skoryk', 'L. Olech', 'K. Idanwekhai', 'J. Jakubik', 'S. Zhao', 'M. Rizoiu']\n",
      "['P. Kazienko', 'J. Pawelczyk', 'M. Skoryk', 'L. Olech', 'K. Idanwekhai', 'J. Jakubik', 'S. Zhao', 'N. Garau']\n",
      "['P. Kazienko', 'J. Pawelczyk', 'M. Skoryk', 'L. Olech', 'K. Idanwekhai', 'J. Jakubik', 'S. Zhao', 'N. Bisagno']\n",
      "['P. Kazienko', 'J. Pawelczyk', 'M. Skoryk', 'L. Olech', 'K. Idanwekhai', 'J. Jakubik', 'S. Zhao', 'T. Filipowski']\n",
      "['P. Kazienko', 'J. Pawelczyk', 'M. Skoryk', 'L. Olech', 'K. Idanwekhai', 'J. Jakubik', 'S. Zhao', 'K. Ozga']\n",
      "['P. Kazienko', 'J. Pawelczyk', 'M. Skoryk', 'L. Olech', 'K. Idanwekhai', 'J. Jakubik', 'S. Zhao', 'I. Olekseyuk']\n",
      "['P. Kazienko', 'J. Pawelczyk', 'M. Skoryk', 'L. Olech', 'K. Idanwekhai', 'J. Jakubik', 'S. Zhao', 'P. Gramacki']\n",
      "['P. Kazienko', 'J. Pawelczyk', 'M. Skoryk', 'L. Olech', 'K. Idanwekhai', 'J. Jakubik', 'S. Zhao', 'J. Banaszczak']\n",
      "['P. Kazienko', 'J. Pawelczyk', 'M. Skoryk', 'L. Olech', 'K. Idanwekhai', 'J. Jakubik', 'S. Zhao', 'P. Rozewski']\n",
      "['P. Kazienko', 'J. Pawelczyk', 'M. Skoryk', 'L. Olech', 'K. Idanwekhai', 'J. Jakubik', 'S. Zhao', 'M. Gniewkowski']\n",
      "['P. Kazienko', 'J. Pawelczyk', 'M. Skoryk', 'L. Olech', 'K. Idanwekhai', 'J. Jakubik', 'S. Zhao', 'R. Bartusiak']\n",
      "['P. Kazienko', 'J. Pawelczyk', 'M. Skoryk', 'L. Olech', 'K. Idanwekhai', 'J. Jakubik', 'S. Zhao', 'A. Chmiel']\n",
      "['P. Kazienko', 'J. Pawelczyk', 'M. Skoryk', 'L. Olech', 'K. Idanwekhai', 'J. Jakubik', 'S. Zhao', 'P. Brodka']\n",
      "['P. Kazienko', 'J. Pawelczyk', 'M. Skoryk', 'L. Olech', 'K. Idanwekhai', 'J. Jakubik', 'S. Zhao', 'J. Jankowski']\n",
      "['P. Kazienko', 'J. Pawelczyk', 'M. Skoryk', 'L. Olech', 'K. Idanwekhai', 'J. Jakubik', 'S. Zhao', 'X. Wang']\n",
      "['P. Kazienko', 'J. Pawelczyk', 'M. Skoryk', 'L. Olech', 'K. Idanwekhai', 'J. Jakubik', 'S. Zhao', 'A. Zbieg']\n",
      "['P. Kazienko', 'J. Pawelczyk', 'M. Skoryk', 'L. Olech', 'K. Idanwekhai', 'J. Jakubik', 'S. Zhao', 'M. Nikolajuk']\n",
      "['P. Kazienko', 'J. Pawelczyk', 'M. Skoryk', 'L. Olech', 'K. Idanwekhai', 'J. Jakubik', 'S. Zhao', 'S. Utz']\n",
      "['P. Kazienko', 'J. Pawelczyk', 'M. Skoryk', 'L. Olech', 'K. Idanwekhai', 'J. Jakubik', 'S. Zhao', 'K. Juszczyszyn']\n",
      "['P. Kazienko', 'J. Pawelczyk', 'M. Skoryk', 'L. Olech', 'K. Idanwekhai', 'J. Jakubik', 'S. Zhao', 'W. Michalska']\n",
      "['P. Kazienko', 'J. Pawelczyk', 'M. Skoryk', 'L. Olech', 'K. Idanwekhai', 'J. Jakubik', 'S. Zhao', 'M. Holecyova']\n",
      "['P. Kazienko', 'J. Pawelczyk', 'M. Skoryk', 'L. Olech', 'K. Idanwekhai', 'J. Jakubik', 'S. Zhao', 'T. Arvanitis']\n",
      "['P. Kazienko', 'J. Pawelczyk', 'M. Skoryk', 'L. Olech', 'K. Idanwekhai', 'J. Jakubik', 'S. Zhao', 'Y. Ran']\n",
      "['P. Kazienko', 'J. Pawelczyk', 'M. Skoryk', 'L. Olech', 'K. Idanwekhai', 'J. Jakubik', 'S. Zhao', 'S. Cheong']\n",
      "['P. Kazienko', 'J. Pawelczyk', 'M. Skoryk', 'L. Olech', 'K. Idanwekhai', 'J. Jakubik', 'S. Zhao', 'M. Dziezyc']\n",
      "['P. Kazienko', 'J. Pawelczyk', 'M. Skoryk', 'L. Olech', 'K. Idanwekhai', 'J. Jakubik', 'S. Zhao', 'P. Dziurzanski']\n",
      "['P. Kazienko', 'J. Pawelczyk', 'M. Skoryk', 'L. Olech', 'K. Idanwekhai', 'J. Jakubik', 'S. Zhao', 'M. Paradowski']\n",
      "['P. Kazienko', 'J. Pawelczyk', 'M. Skoryk', 'L. Olech', 'K. Idanwekhai', 'J. Jakubik', 'S. Zhao', 'Y. Carmiel']\n",
      "['P. Kazienko', 'J. Pawelczyk', 'M. Skoryk', 'L. Olech', 'K. Idanwekhai', 'J. Jakubik', 'S. Zhao', 'H. Budacova']\n",
      "['P. Kazienko', 'J. Pawelczyk', 'M. Skoryk', 'L. Olech', 'K. Idanwekhai', 'J. Jakubik', 'S. Zhao', 'M. Koziarski']\n",
      "['P. Kazienko', 'J. Pawelczyk', 'M. Skoryk', 'L. Olech', 'K. Idanwekhai', 'J. Jakubik', 'S. Zhao', 'R. Suszek']\n",
      "['P. Kazienko', 'J. Pawelczyk', 'M. Skoryk', 'L. Olech', 'K. Idanwekhai', 'J. Jakubik', 'S. Zhao', 'O. Lizardo']\n",
      "['P. Kazienko', 'J. Pawelczyk', 'M. Skoryk', 'L. Olech', 'K. Idanwekhai', 'J. Jakubik', 'S. Zhao', 'L. Indrusiak']\n"
     ]
    },
    {
     "name": "stdout",
     "output_type": "stream",
     "text": [
      "['P. Kazienko', 'J. Pawelczyk', 'M. Skoryk', 'L. Olech', 'K. Idanwekhai', 'J. Jakubik', 'S. Zhao', 'N. Dehak']\n",
      "['P. Kazienko', 'J. Pawelczyk', 'M. Skoryk', 'L. Olech', 'K. Idanwekhai', 'J. Jakubik', 'S. Zhao', 'M. Boldt']\n",
      "['P. Kazienko', 'J. Pawelczyk', 'M. Skoryk', 'L. Olech', 'K. Idanwekhai', 'J. Jakubik', 'S. Zhao', 'J. Kuraszkiewicz']\n",
      "['P. Kazienko', 'J. Pawelczyk', 'M. Skoryk', 'L. Olech', 'K. Idanwekhai', 'J. Jakubik', 'S. Zhao', 'M. Bernaczyk']\n",
      "['P. Kazienko', 'J. Pawelczyk', 'M. Skoryk', 'L. Olech', 'K. Idanwekhai', 'J. Jakubik', 'S. Zhao', 'N. Conci']\n",
      "['P. Kazienko', 'J. Pawelczyk', 'M. Skoryk', 'L. Olech', 'K. Idanwekhai', 'J. Jakubik', 'S. Zhao', 'X. Sumba']\n",
      "['P. Kazienko', 'J. Pawelczyk', 'M. Skoryk', 'L. Olech', 'K. Idanwekhai', 'J. Jakubik', 'S. Zhao', 'W. Indyk']\n",
      "['P. Kazienko', 'J. Pawelczyk', 'M. Skoryk', 'L. Olech', 'K. Idanwekhai', 'J. Jakubik', 'S. Zhao', 'P. Myszkowski']\n",
      "['P. Kazienko', 'J. Pawelczyk', 'M. Skoryk', 'L. Olech', 'K. Idanwekhai', 'J. Jakubik', 'S. Zhao', 'A. Binding']\n",
      "['P. Kazienko', 'J. Pawelczyk', 'M. Skoryk', 'L. Olech', 'K. Idanwekhai', 'J. Jakubik', 'S. Zhao', 'K. Kersting']\n",
      "['P. Kazienko', 'J. Pawelczyk', 'M. Skoryk', 'L. Olech', 'K. Idanwekhai', 'J. Jakubik', 'S. Zhao', 'K. Kania']\n",
      "['P. Kazienko', 'J. Pawelczyk', 'M. Skoryk', 'L. Olech', 'K. Idanwekhai', 'J. Jakubik', 'S. Zhao', 'H. Maciejewski']\n",
      "['P. Kazienko', 'J. Pawelczyk', 'M. Skoryk', 'L. Olech', 'K. Idanwekhai', 'J. Jakubik', 'S. Zhao', 'J. Mizgajski']\n",
      "['P. Kazienko', 'J. Pawelczyk', 'M. Skoryk', 'L. Olech', 'K. Idanwekhai', 'J. Jakubik', 'S. Zhao', 'M. Shevchuk']\n",
      "['P. Kazienko', 'J. Pawelczyk', 'M. Skoryk', 'L. Olech', 'K. Idanwekhai', 'J. Jakubik', 'S. Zhao', 'M. Magnani']\n",
      "['P. Kazienko', 'J. Pawelczyk', 'M. Skoryk', 'L. Olech', 'K. Idanwekhai', 'J. Jakubik', 'S. Zhao', 'Y. Wang']\n",
      "['P. Kazienko', 'J. Pawelczyk', 'M. Skoryk', 'L. Olech', 'K. Idanwekhai', 'J. Jakubik', 'S. Zhao', 'S. Saganowski']\n",
      "['P. Kazienko', 'J. Pawelczyk', 'M. Skoryk', 'L. Olech', 'K. Idanwekhai', 'J. Jakubik', 'S. Zhao', 'M. Zyla-Hoppe']\n",
      "['P. Kazienko', 'J. Pawelczyk', 'M. Skoryk', 'L. Olech', 'K. Idanwekhai', 'J. Jakubik', 'S. Zhao', 'S. Keung']\n",
      "['P. Kazienko', 'J. Pawelczyk', 'M. Skoryk', 'L. Olech', 'K. Idanwekhai', 'J. Jakubik', 'S. Zhao', 'A. Kevshyn']\n",
      "['P. Kazienko', 'J. Pawelczyk', 'M. Skoryk', 'L. Olech', 'K. Idanwekhai', 'J. Jakubik', 'S. Zhao', 'S. Feuerriegel']\n",
      "['P. Kazienko', 'J. Pawelczyk', 'M. Skoryk', 'L. Olech', 'K. Idanwekhai', 'J. Jakubik', 'S. Zhao', 'K. Rajda']\n",
      "['P. Kazienko', 'J. Pawelczyk', 'M. Skoryk', 'L. Olech', 'K. Idanwekhai', 'J. Jakubik', 'S. Zhao', 'Y. Yeliseyenka']\n",
      "['P. Kazienko', 'J. Pawelczyk', 'M. Skoryk', 'L. Olech', 'K. Idanwekhai', 'J. Jakubik', 'S. Zhao', 'M. Spytkowski']\n",
      "['P. Kazienko', 'J. Pawelczyk', 'M. Skoryk', 'L. Olech', 'K. Idanwekhai', 'J. Jakubik', 'S. Zhao', 'K. Raczycki']\n",
      "['P. Kazienko', 'J. Pawelczyk', 'M. Skoryk', 'L. Olech', 'K. Idanwekhai', 'J. Jakubik', 'S. Zhao', 'M. Zieba']\n",
      "['P. Kazienko', 'J. Pawelczyk', 'M. Skoryk', 'L. Olech', 'K. Idanwekhai', 'J. Jakubik', 'S. Zhao', 'F. Erlandsson']\n",
      "['P. Kazienko', 'J. Pawelczyk', 'M. Skoryk', 'L. Olech', 'K. Idanwekhai', 'J. Jakubik', 'S. Zhao', 'M. Skowronski']\n",
      "['P. Kazienko', 'J. Pawelczyk', 'M. Skoryk', 'L. Olech', 'K. Idanwekhai', 'J. Jakubik', 'S. Zhao', 'A. Dutkowiak']\n",
      "['P. Kazienko', 'J. Pawelczyk', 'M. Skoryk', 'L. Olech', 'K. Idanwekhai', 'J. Jakubik', 'S. Zhao', 'M. Falkiewicz']\n",
      "['P. Kazienko', 'J. Pawelczyk', 'M. Skoryk', 'L. Olech', 'K. Idanwekhai', 'J. Jakubik', 'S. Zhao', 'K. Musial']\n",
      "['P. Kazienko', 'J. Pawelczyk', 'M. Skoryk', 'L. Olech', 'K. Idanwekhai', 'J. Jakubik', 'S. Zhao', 'K. Pasierb']\n",
      "['P. Kazienko', 'J. Pawelczyk', 'M. Skoryk', 'L. Olech', 'K. Idanwekhai', 'J. Jakubik', 'S. Zhao', 'K. Oslizlo']\n",
      "['P. Kazienko', 'J. Pawelczyk', 'M. Skoryk', 'L. Olech', 'K. Idanwekhai', 'J. Jakubik', 'S. Zhao', 'H. Steinacker']\n",
      "['P. Kazienko', 'J. Pawelczyk', 'M. Skoryk', 'L. Olech', 'K. Idanwekhai', 'J. Jakubik', 'S. Zhao', 'B. Tjandra']\n",
      "['P. Kazienko', 'J. Pawelczyk', 'M. Skoryk', 'L. Olech', 'K. Idanwekhai', 'J. Jakubik', 'S. Zhao', 'J. Komoszynska']\n",
      "['P. Kazienko', 'J. Pawelczyk', 'M. Skoryk', 'L. Olech', 'K. Idanwekhai', 'J. Jakubik', 'S. Zhao', 'H. Johnson']\n",
      "['P. Kazienko', 'J. Pawelczyk', 'M. Skoryk', 'L. Olech', 'K. Idanwekhai', 'J. Jakubik', 'S. Zhao', 'L. Augustyniak']\n",
      "['P. Kazienko', 'J. Pawelczyk', 'M. Skoryk', 'L. Olech', 'K. Idanwekhai', 'J. Jakubik', 'S. Zhao', 'N. Mastellos']\n",
      "['P. Kazienko', 'J. Pawelczyk', 'M. Skoryk', 'L. Olech', 'K. Idanwekhai', 'J. Jakubik', 'S. Zhao', 'A. Andreasson']\n",
      "['P. Kazienko', 'J. Pawelczyk', 'M. Skoryk', 'L. Olech', 'K. Idanwekhai', 'J. Jakubik', 'S. Zhao', 'V. Curcin']\n",
      "['P. Kazienko', 'J. Pawelczyk', 'M. Skoryk', 'L. Olech', 'K. Idanwekhai', 'J. Jakubik', 'S. Zhao', 'B. Czerny']\n",
      "['P. Kazienko', 'J. Pawelczyk', 'M. Skoryk', 'L. Olech', 'K. Idanwekhai', 'J. Jakubik', 'S. Zhao', 'M. Panfil']\n",
      "['P. Kazienko', 'J. Pawelczyk', 'M. Skoryk', 'L. Olech', 'K. Idanwekhai', 'J. Jakubik', 'S. Zhao', 'B. Gliwa']\n",
      "['P. Kazienko', 'J. Pawelczyk', 'M. Skoryk', 'L. Olech', 'K. Idanwekhai', 'J. Jakubik', 'S. Zhao', 'K. Jedryka']\n",
      "['P. Kazienko', 'J. Pawelczyk', 'M. Skoryk', 'L. Olech', 'K. Idanwekhai', 'J. Jakubik', 'S. Zhao', 'M. Mcgilchrist']\n",
      "['P. Kazienko', 'J. Pawelczyk', 'M. Skoryk', 'L. Olech', 'K. Idanwekhai', 'J. Jakubik', 'S. Zhao', 'Y. Gule']\n",
      "['P. Kazienko', 'J. Pawelczyk', 'M. Skoryk', 'L. Olech', 'K. Idanwekhai', 'J. Jakubik', 'S. Zhao', 'K. Skibicki']\n",
      "['P. Kazienko', 'J. Pawelczyk', 'M. Skoryk', 'L. Olech', 'K. Idanwekhai', 'J. Jakubik', 'S. Zhao', 'J. Kwiatkowski']\n",
      "['P. Kazienko', 'J. Pawelczyk', 'M. Skoryk', 'L. Olech', 'K. Idanwekhai', 'J. Jakubik', 'S. Zhao', 'R. Radwanski']\n",
      "['P. Kazienko', 'J. Pawelczyk', 'M. Skoryk', 'L. Olech', 'K. Idanwekhai', 'J. Jakubik', 'S. Zhao', 'R. Michalski']\n",
      "['P. Kazienko', 'J. Pawelczyk', 'M. Skoryk', 'L. Olech', 'K. Idanwekhai', 'J. Jakubik', 'S. Zhao', 'J. Grobelny']\n",
      "['P. Kazienko', 'J. Pawelczyk', 'M. Skoryk', 'L. Olech', 'K. Idanwekhai', 'J. Jakubik', 'S. Zhao', 'A. Zygmunt']\n",
      "['P. Kazienko', 'J. Pawelczyk', 'M. Skoryk', 'L. Olech', 'K. Idanwekhai', 'J. Jakubik', 'S. Zhao', 'W. Karwowski']\n",
      "['P. Kazienko', 'J. Pawelczyk', 'M. Skoryk', 'L. Olech', 'K. Idanwekhai', 'J. Jakubik', 'S. Zhao', 'T. Jelinski']\n",
      "['P. Kazienko', 'J. Pawelczyk', 'M. Skoryk', 'L. Olech', 'K. Idanwekhai', 'J. Jakubik', 'S. Zhao', 'P. Tishchenko']\n",
      "['P. Kazienko', 'J. Pawelczyk', 'M. Skoryk', 'L. Olech', 'K. Idanwekhai', 'J. Jakubik', 'S. Zhao', 'P. Jakimow']\n",
      "['P. Kazienko', 'J. Pawelczyk', 'M. Skoryk', 'L. Olech', 'K. Idanwekhai', 'J. Jakubik', 'S. Zhao', 'S. Rey']\n",
      "['P. Kazienko', 'J. Pawelczyk', 'M. Skoryk', 'L. Olech', 'K. Idanwekhai', 'J. Jakubik', 'S. Zhao', 'S. Pokorski']\n",
      "['P. Kazienko', 'J. Pawelczyk', 'M. Skoryk', 'L. Olech', 'K. Idanwekhai', 'J. Jakubik', 'S. Zhao', 'S. Wozniak']\n",
      "['P. Kazienko', 'J. Pawelczyk', 'M. Skoryk', 'L. Olech', 'K. Idanwekhai', 'J. Jakubik', 'S. Zhao', 'C. Lebiere']\n",
      "['P. Kazienko', 'J. Pawelczyk', 'M. Skoryk', 'L. Olech', 'K. Idanwekhai', 'J. Jakubik', 'S. Zhao', 'A. Jamasb']\n",
      "['P. Kazienko', 'J. Pawelczyk', 'M. Skoryk', 'L. Olech', 'K. Idanwekhai', 'J. Jakubik', 'S. Zhao', 'T. Kajdanowicz']\n",
      "['P. Kazienko', 'J. Pawelczyk', 'M. Skoryk', 'L. Olech', 'K. Idanwekhai', 'J. Jakubik', 'S. Zhao', 'P. Szymanski']\n",
      "['P. Kazienko', 'J. Pawelczyk', 'M. Skoryk', 'L. Olech', 'K. Idanwekhai', 'J. Jakubik', 'S. Zhao', 'M. Nurek']\n",
      "['P. Kazienko', 'J. Pawelczyk', 'M. Skoryk', 'L. Olech', 'K. Idanwekhai', 'J. Jakubik', 'S. Zhao', 'J. Kozlak']\n",
      "['P. Kazienko', 'J. Pawelczyk', 'M. Skoryk', 'L. Olech', 'K. Idanwekhai', 'J. Jakubik', 'S. Zhao', 'K. Turzynski']\n",
      "['P. Kazienko', 'J. Pawelczyk', 'M. Skoryk', 'L. Olech', 'K. Idanwekhai', 'J. Jakubik', 'S. Zhao', 'A. Szymczak']\n",
      "['P. Kazienko', 'J. Pawelczyk', 'M. Skoryk', 'L. Olech', 'K. Idanwekhai', 'J. Jakubik', 'S. Zhao', 'S. Theisen']\n",
      "['P. Kazienko', 'J. Pawelczyk', 'M. Skoryk', 'L. Olech', 'K. Idanwekhai', 'J. Jakubik', 'S. Zhao', 'S. Ciuberek']\n",
      "['P. Kazienko', 'J. Pawelczyk', 'M. Skoryk', 'L. Olech', 'K. Idanwekhai', 'J. Jakubik', 'S. Zhao', 'H. Jegierski']\n",
      "['P. Kazienko', 'J. Pawelczyk', 'M. Skoryk', 'L. Olech', 'K. Idanwekhai', 'J. Jakubik', 'S. Zhao', 'M. Piasecki']\n"
     ]
    },
    {
     "name": "stdout",
     "output_type": "stream",
     "text": [
      "['P. Kazienko', 'J. Pawelczyk', 'M. Skoryk', 'L. Olech', 'K. Idanwekhai', 'J. Jakubik', 'S. Zhao', 'B. Delaney']\n",
      "['P. Kazienko', 'J. Pawelczyk', 'M. Skoryk', 'L. Olech', 'K. Idanwekhai', 'J. Jakubik', 'S. Zhao', 'A. Burgun']\n",
      "['P. Kazienko', 'J. Pawelczyk', 'M. Skoryk', 'L. Olech', 'K. Idanwekhai', 'J. Jakubik', 'S. Zhao', 'T. Jia']\n",
      "['P. Kazienko', 'J. Pawelczyk', 'M. Skoryk', 'L. Olech', 'K. Idanwekhai', 'J. Jakubik', 'S. Zhao', 'P. Stawiak']\n",
      "['P. Kazienko', 'J. Pawelczyk', 'M. Skoryk', 'L. Olech', 'K. Idanwekhai', 'J. Jakubik', 'S. Zhao', 'K. Tagowski']\n",
      "['P. Kazienko', 'J. Pawelczyk', 'M. Skoryk', 'L. Olech', 'K. Idanwekhai', 'J. Jakubik', 'S. Zhao', 'J. Hamari']\n",
      "['P. Kazienko', 'J. Pawelczyk', 'M. Skoryk', 'L. Olech', 'K. Idanwekhai', 'J. Jakubik', 'S. Zhao', 'A. Dziadek']\n",
      "['P. Kazienko', 'J. Pawelczyk', 'M. Skoryk', 'L. Olech', 'K. Idanwekhai', 'J. Jakubik', 'S. Zhao', 'Z. Ropka']\n",
      "['P. Kazienko', 'J. Pawelczyk', 'M. Skoryk', 'L. Olech', 'K. Idanwekhai', 'J. Jakubik', 'S. Zhao', 'M. Kulisiewicz']\n",
      "['P. Kazienko', 'J. Pawelczyk', 'M. Skoryk', 'L. Olech', 'K. Idanwekhai', 'J. Jakubik', 'S. Zhao', 'O. Aharony']\n",
      "['P. Kazienko', 'J. Pawelczyk', 'M. Skoryk', 'L. Olech', 'K. Idanwekhai', 'J. Jakubik', 'S. Zhao', 'G. Ragozini']\n",
      "['P. Kazienko', 'J. Pawelczyk', 'M. Skoryk', 'L. Olech', 'K. Idanwekhai', 'J. Jakubik', 'S. Zhao', 'B. Zak']\n",
      "['P. Kazienko', 'J. Pawelczyk', 'M. Skoryk', 'L. Olech', 'K. Idanwekhai', 'J. Jakubik', 'S. Zhao', 'H. Maciejewski', 'W. Liu']\n",
      "['P. Kazienko', 'J. Pawelczyk', 'M. Skoryk', 'L. Olech', 'K. Idanwekhai', 'J. Jakubik', 'S. Zhao', 'H. Maciejewski', 'B. V']\n",
      "['P. Kazienko', 'J. Pawelczyk', 'M. Skoryk', 'L. Olech', 'K. Idanwekhai', 'J. Jakubik', 'S. Zhao', 'H. Maciejewski', 'Z. Michalewicz']\n",
      "['P. Kazienko', 'J. Pawelczyk', 'M. Skoryk', 'L. Olech', 'K. Idanwekhai', 'J. Jakubik', 'S. Zhao', 'H. Maciejewski', 'M. Zolnieruk']\n",
      "['P. Kazienko', 'J. Pawelczyk', 'M. Skoryk', 'L. Olech', 'K. Idanwekhai', 'J. Jakubik', 'S. Zhao', 'H. Maciejewski', 'B. Koloszczyk']\n",
      "['P. Kazienko', 'J. Pawelczyk', 'M. Skoryk', 'L. Olech', 'K. Idanwekhai', 'J. Jakubik', 'S. Zhao', 'H. Maciejewski', 'M. Morzy']\n",
      "['P. Kazienko', 'J. Pawelczyk', 'M. Skoryk', 'L. Olech', 'K. Idanwekhai', 'J. Jakubik', 'S. Zhao', 'H. Maciejewski', 'B. Szymanski']\n",
      "['P. Kazienko', 'J. Pawelczyk', 'M. Skoryk', 'L. Olech', 'K. Idanwekhai', 'J. Jakubik', 'S. Zhao', 'H. Maciejewski', 'P. Oleszczyk']\n",
      "['P. Kazienko', 'J. Pawelczyk', 'M. Skoryk', 'L. Olech', 'K. Idanwekhai', 'J. Jakubik', 'S. Zhao', 'H. Maciejewski', 'A. Borg']\n",
      "['P. Kazienko', 'J. Pawelczyk', 'M. Skoryk', 'L. Olech', 'K. Idanwekhai', 'J. Jakubik', 'S. Zhao', 'H. Maciejewski', 'E. Kosasih']\n",
      "['P. Kazienko', 'J. Pawelczyk', 'M. Skoryk', 'L. Olech', 'K. Idanwekhai', 'J. Jakubik', 'S. Zhao', 'H. Maciejewski', 'E. Kanaga']\n",
      "['P. Kazienko', 'J. Pawelczyk', 'M. Skoryk', 'L. Olech', 'K. Idanwekhai', 'J. Jakubik', 'S. Zhao', 'H. Maciejewski', 'L. Zhao']\n",
      "['P. Kazienko', 'J. Pawelczyk', 'M. Skoryk', 'L. Olech', 'K. Idanwekhai', 'J. Jakubik', 'S. Zhao', 'H. Maciejewski', 'K. Meissner']\n",
      "['P. Kazienko', 'J. Pawelczyk', 'M. Skoryk', 'L. Olech', 'K. Idanwekhai', 'J. Jakubik', 'S. Zhao', 'H. Maciejewski', 'Z. Lalak']\n",
      "['P. Kazienko', 'J. Pawelczyk', 'M. Skoryk', 'L. Olech', 'K. Idanwekhai', 'J. Jakubik', 'S. Zhao', 'H. Maciejewski', 'K. Gorman']\n",
      "['P. Kazienko', 'J. Pawelczyk', 'M. Skoryk', 'L. Olech', 'K. Idanwekhai', 'J. Jakubik', 'S. Zhao', 'H. Maciejewski', 'A. Krakovska']\n",
      "['P. Kazienko', 'J. Pawelczyk', 'M. Skoryk', 'L. Olech', 'K. Idanwekhai', 'J. Jakubik', 'S. Zhao', 'H. Maciejewski', 'A. Polak']\n",
      "['P. Kazienko', 'J. Pawelczyk', 'M. Skoryk', 'L. Olech', 'K. Idanwekhai', 'J. Jakubik', 'S. Zhao', 'H. Maciejewski', 'N. Chawla']\n",
      "['P. Kazienko', 'J. Pawelczyk', 'M. Skoryk', 'L. Olech', 'K. Idanwekhai', 'J. Jakubik', 'S. Zhao', 'H. Maciejewski', 'I. Gisterek']\n",
      "['P. Kazienko', 'J. Pawelczyk', 'M. Skoryk', 'L. Olech', 'K. Idanwekhai', 'J. Jakubik', 'S. Zhao', 'H. Maciejewski', 'M. Ujma']\n",
      "['P. Kazienko', 'J. Pawelczyk', 'M. Skoryk', 'L. Olech', 'K. Idanwekhai', 'J. Jakubik', 'S. Zhao', 'H. Maciejewski', 'J. Cabezas']\n",
      "['P. Kazienko', 'J. Pawelczyk', 'M. Skoryk', 'L. Olech', 'K. Idanwekhai', 'J. Jakubik', 'S. Zhao', 'H. Maciejewski', 'P. Bielak']\n",
      "['P. Kazienko', 'J. Pawelczyk', 'M. Skoryk', 'L. Olech', 'K. Idanwekhai', 'J. Jakubik', 'S. Zhao', 'H. Maciejewski', 'G. Miebs']\n",
      "['P. Kazienko', 'J. Pawelczyk', 'M. Skoryk', 'L. Olech', 'K. Idanwekhai', 'J. Jakubik', 'S. Zhao', 'H. Maciejewski', 'J. Gaworecki']\n",
      "['P. Kazienko', 'J. Pawelczyk', 'M. Skoryk', 'L. Olech', 'K. Idanwekhai', 'J. Jakubik', 'S. Zhao', 'H. Maciejewski', 'K. Kowalska']\n",
      "['P. Kazienko', 'J. Pawelczyk', 'M. Skoryk', 'L. Olech', 'K. Idanwekhai', 'J. Jakubik', 'S. Zhao', 'H. Maciejewski', 'M. Przewozniczek']\n",
      "['P. Kazienko', 'J. Pawelczyk', 'M. Skoryk', 'L. Olech', 'K. Idanwekhai', 'J. Jakubik', 'S. Zhao', 'H. Maciejewski', 'E. Sessolo']\n",
      "['P. Kazienko', 'J. Pawelczyk', 'M. Skoryk', 'L. Olech', 'K. Idanwekhai', 'J. Jakubik', 'S. Zhao', 'H. Maciejewski', 'M. Szymanski']\n",
      "['P. Kazienko', 'J. Pawelczyk', 'M. Skoryk', 'L. Olech', 'K. Idanwekhai', 'J. Jakubik', 'S. Zhao', 'H. Maciejewski', 'H. Kwasnicka']\n",
      "['P. Kazienko', 'J. Pawelczyk', 'M. Skoryk', 'L. Olech', 'K. Idanwekhai', 'J. Jakubik', 'S. Zhao', 'H. Maciejewski', 'J. Ethier']\n",
      "['P. Kazienko', 'J. Pawelczyk', 'M. Skoryk', 'L. Olech', 'K. Idanwekhai', 'J. Jakubik', 'S. Zhao', 'H. Maciejewski', 'W. Walentynowicz']\n",
      "['P. Kazienko', 'J. Pawelczyk', 'M. Skoryk', 'L. Olech', 'K. Idanwekhai', 'J. Jakubik', 'S. Zhao', 'H. Maciejewski', 'V. Halyan']\n",
      "['P. Kazienko', 'J. Pawelczyk', 'M. Skoryk', 'L. Olech', 'K. Idanwekhai', 'J. Jakubik', 'S. Zhao', 'H. Maciejewski', 'S. Yankielowicz']\n",
      "['P. Kazienko', 'J. Pawelczyk', 'M. Skoryk', 'L. Olech', 'K. Idanwekhai', 'J. Jakubik', 'S. Zhao', 'H. Maciejewski', 'P. Zelasko']\n",
      "['P. Kazienko', 'J. Pawelczyk', 'M. Skoryk', 'L. Olech', 'K. Idanwekhai', 'J. Jakubik', 'S. Zhao', 'H. Maciejewski', 'P. Doskocz']\n",
      "['P. Kazienko', 'J. Pawelczyk', 'M. Skoryk', 'L. Olech', 'K. Idanwekhai', 'J. Jakubik', 'S. Zhao', 'H. Maciejewski', 'A. Rusin']\n",
      "['P. Kazienko', 'J. Pawelczyk', 'M. Skoryk', 'L. Olech', 'K. Idanwekhai', 'J. Jakubik', 'S. Zhao', 'H. Maciejewski', 'T. Surmacz']\n",
      "['P. Kazienko', 'J. Pawelczyk', 'M. Skoryk', 'L. Olech', 'K. Idanwekhai', 'J. Jakubik', 'S. Zhao', 'H. Maciejewski', 'V. Yukhymchuk']\n",
      "['P. Kazienko', 'J. Pawelczyk', 'M. Skoryk', 'L. Olech', 'K. Idanwekhai', 'J. Jakubik', 'S. Zhao', 'H. Maciejewski', 'I. Ivashchenko']\n",
      "['P. Kazienko', 'J. Pawelczyk', 'M. Skoryk', 'L. Olech', 'K. Idanwekhai', 'J. Jakubik', 'S. Zhao', 'H. Maciejewski', 'M. Rizoiu']\n",
      "['P. Kazienko', 'J. Pawelczyk', 'M. Skoryk', 'L. Olech', 'K. Idanwekhai', 'J. Jakubik', 'S. Zhao', 'H. Maciejewski', 'N. Garau']\n",
      "['P. Kazienko', 'J. Pawelczyk', 'M. Skoryk', 'L. Olech', 'K. Idanwekhai', 'J. Jakubik', 'S. Zhao', 'H. Maciejewski', 'N. Bisagno']\n",
      "['P. Kazienko', 'J. Pawelczyk', 'M. Skoryk', 'L. Olech', 'K. Idanwekhai', 'J. Jakubik', 'S. Zhao', 'H. Maciejewski', 'T. Filipowski']\n",
      "['P. Kazienko', 'J. Pawelczyk', 'M. Skoryk', 'L. Olech', 'K. Idanwekhai', 'J. Jakubik', 'S. Zhao', 'H. Maciejewski', 'K. Ozga']\n",
      "['P. Kazienko', 'J. Pawelczyk', 'M. Skoryk', 'L. Olech', 'K. Idanwekhai', 'J. Jakubik', 'S. Zhao', 'H. Maciejewski', 'I. Olekseyuk']\n",
      "['P. Kazienko', 'J. Pawelczyk', 'M. Skoryk', 'L. Olech', 'K. Idanwekhai', 'J. Jakubik', 'S. Zhao', 'H. Maciejewski', 'P. Gramacki']\n",
      "['P. Kazienko', 'J. Pawelczyk', 'M. Skoryk', 'L. Olech', 'K. Idanwekhai', 'J. Jakubik', 'S. Zhao', 'H. Maciejewski', 'J. Banaszczak']\n",
      "['P. Kazienko', 'J. Pawelczyk', 'M. Skoryk', 'L. Olech', 'K. Idanwekhai', 'J. Jakubik', 'S. Zhao', 'H. Maciejewski', 'P. Rozewski']\n",
      "['P. Kazienko', 'J. Pawelczyk', 'M. Skoryk', 'L. Olech', 'K. Idanwekhai', 'J. Jakubik', 'S. Zhao', 'H. Maciejewski', 'M. Gniewkowski']\n",
      "['P. Kazienko', 'J. Pawelczyk', 'M. Skoryk', 'L. Olech', 'K. Idanwekhai', 'J. Jakubik', 'S. Zhao', 'H. Maciejewski', 'R. Bartusiak']\n",
      "['P. Kazienko', 'J. Pawelczyk', 'M. Skoryk', 'L. Olech', 'K. Idanwekhai', 'J. Jakubik', 'S. Zhao', 'H. Maciejewski', 'A. Chmiel']\n",
      "['P. Kazienko', 'J. Pawelczyk', 'M. Skoryk', 'L. Olech', 'K. Idanwekhai', 'J. Jakubik', 'S. Zhao', 'H. Maciejewski', 'P. Brodka']\n",
      "['P. Kazienko', 'J. Pawelczyk', 'M. Skoryk', 'L. Olech', 'K. Idanwekhai', 'J. Jakubik', 'S. Zhao', 'H. Maciejewski', 'J. Jankowski']\n"
     ]
    },
    {
     "name": "stdout",
     "output_type": "stream",
     "text": [
      "['P. Kazienko', 'J. Pawelczyk', 'M. Skoryk', 'L. Olech', 'K. Idanwekhai', 'J. Jakubik', 'S. Zhao', 'H. Maciejewski', 'X. Wang']\n",
      "['P. Kazienko', 'J. Pawelczyk', 'M. Skoryk', 'L. Olech', 'K. Idanwekhai', 'J. Jakubik', 'S. Zhao', 'H. Maciejewski', 'A. Zbieg']\n",
      "['P. Kazienko', 'J. Pawelczyk', 'M. Skoryk', 'L. Olech', 'K. Idanwekhai', 'J. Jakubik', 'S. Zhao', 'H. Maciejewski', 'M. Nikolajuk']\n",
      "['P. Kazienko', 'J. Pawelczyk', 'M. Skoryk', 'L. Olech', 'K. Idanwekhai', 'J. Jakubik', 'S. Zhao', 'H. Maciejewski', 'S. Utz']\n",
      "['P. Kazienko', 'J. Pawelczyk', 'M. Skoryk', 'L. Olech', 'K. Idanwekhai', 'J. Jakubik', 'S. Zhao', 'H. Maciejewski', 'K. Juszczyszyn']\n",
      "['P. Kazienko', 'J. Pawelczyk', 'M. Skoryk', 'L. Olech', 'K. Idanwekhai', 'J. Jakubik', 'S. Zhao', 'H. Maciejewski', 'W. Michalska']\n",
      "['P. Kazienko', 'J. Pawelczyk', 'M. Skoryk', 'L. Olech', 'K. Idanwekhai', 'J. Jakubik', 'S. Zhao', 'H. Maciejewski', 'M. Holecyova']\n",
      "['P. Kazienko', 'J. Pawelczyk', 'M. Skoryk', 'L. Olech', 'K. Idanwekhai', 'J. Jakubik', 'S. Zhao', 'H. Maciejewski', 'T. Arvanitis']\n",
      "['P. Kazienko', 'J. Pawelczyk', 'M. Skoryk', 'L. Olech', 'K. Idanwekhai', 'J. Jakubik', 'S. Zhao', 'H. Maciejewski', 'Y. Ran']\n",
      "['P. Kazienko', 'J. Pawelczyk', 'M. Skoryk', 'L. Olech', 'K. Idanwekhai', 'J. Jakubik', 'S. Zhao', 'H. Maciejewski', 'S. Cheong']\n",
      "['P. Kazienko', 'J. Pawelczyk', 'M. Skoryk', 'L. Olech', 'K. Idanwekhai', 'J. Jakubik', 'S. Zhao', 'H. Maciejewski', 'M. Dziezyc']\n",
      "['P. Kazienko', 'J. Pawelczyk', 'M. Skoryk', 'L. Olech', 'K. Idanwekhai', 'J. Jakubik', 'S. Zhao', 'H. Maciejewski', 'P. Dziurzanski']\n",
      "['P. Kazienko', 'J. Pawelczyk', 'M. Skoryk', 'L. Olech', 'K. Idanwekhai', 'J. Jakubik', 'S. Zhao', 'H. Maciejewski', 'M. Paradowski']\n",
      "['P. Kazienko', 'J. Pawelczyk', 'M. Skoryk', 'L. Olech', 'K. Idanwekhai', 'J. Jakubik', 'S. Zhao', 'H. Maciejewski', 'Y. Carmiel']\n",
      "['P. Kazienko', 'J. Pawelczyk', 'M. Skoryk', 'L. Olech', 'K. Idanwekhai', 'J. Jakubik', 'S. Zhao', 'H. Maciejewski', 'H. Budacova']\n",
      "['P. Kazienko', 'J. Pawelczyk', 'M. Skoryk', 'L. Olech', 'K. Idanwekhai', 'J. Jakubik', 'S. Zhao', 'H. Maciejewski', 'M. Koziarski']\n",
      "['P. Kazienko', 'J. Pawelczyk', 'M. Skoryk', 'L. Olech', 'K. Idanwekhai', 'J. Jakubik', 'S. Zhao', 'H. Maciejewski', 'R. Suszek']\n",
      "['P. Kazienko', 'J. Pawelczyk', 'M. Skoryk', 'L. Olech', 'K. Idanwekhai', 'J. Jakubik', 'S. Zhao', 'H. Maciejewski', 'O. Lizardo']\n",
      "['P. Kazienko', 'J. Pawelczyk', 'M. Skoryk', 'L. Olech', 'K. Idanwekhai', 'J. Jakubik', 'S. Zhao', 'H. Maciejewski', 'L. Indrusiak']\n",
      "['P. Kazienko', 'J. Pawelczyk', 'M. Skoryk', 'L. Olech', 'K. Idanwekhai', 'J. Jakubik', 'S. Zhao', 'H. Maciejewski', 'N. Dehak']\n",
      "['P. Kazienko', 'J. Pawelczyk', 'M. Skoryk', 'L. Olech', 'K. Idanwekhai', 'J. Jakubik', 'S. Zhao', 'H. Maciejewski', 'M. Boldt']\n",
      "['P. Kazienko', 'J. Pawelczyk', 'M. Skoryk', 'L. Olech', 'K. Idanwekhai', 'J. Jakubik', 'S. Zhao', 'H. Maciejewski', 'J. Kuraszkiewicz']\n",
      "['P. Kazienko', 'J. Pawelczyk', 'M. Skoryk', 'L. Olech', 'K. Idanwekhai', 'J. Jakubik', 'S. Zhao', 'H. Maciejewski', 'M. Bernaczyk']\n",
      "['P. Kazienko', 'J. Pawelczyk', 'M. Skoryk', 'L. Olech', 'K. Idanwekhai', 'J. Jakubik', 'S. Zhao', 'H. Maciejewski', 'N. Conci']\n",
      "['P. Kazienko', 'J. Pawelczyk', 'M. Skoryk', 'L. Olech', 'K. Idanwekhai', 'J. Jakubik', 'S. Zhao', 'H. Maciejewski', 'X. Sumba']\n",
      "['P. Kazienko', 'J. Pawelczyk', 'M. Skoryk', 'L. Olech', 'K. Idanwekhai', 'J. Jakubik', 'S. Zhao', 'H. Maciejewski', 'W. Indyk']\n",
      "['P. Kazienko', 'J. Pawelczyk', 'M. Skoryk', 'L. Olech', 'K. Idanwekhai', 'J. Jakubik', 'S. Zhao', 'H. Maciejewski', 'P. Myszkowski']\n",
      "['P. Kazienko', 'J. Pawelczyk', 'M. Skoryk', 'L. Olech', 'K. Idanwekhai', 'J. Jakubik', 'S. Zhao', 'H. Maciejewski', 'A. Binding']\n",
      "['P. Kazienko', 'J. Pawelczyk', 'M. Skoryk', 'L. Olech', 'K. Idanwekhai', 'J. Jakubik', 'S. Zhao', 'H. Maciejewski', 'K. Kersting']\n",
      "['P. Kazienko', 'J. Pawelczyk', 'M. Skoryk', 'L. Olech', 'K. Idanwekhai', 'J. Jakubik', 'S. Zhao', 'H. Maciejewski', 'K. Kania']\n",
      "['P. Kazienko', 'J. Pawelczyk', 'M. Skoryk', 'L. Olech', 'K. Idanwekhai', 'J. Jakubik', 'S. Zhao', 'H. Maciejewski', 'J. Mizgajski']\n",
      "['P. Kazienko', 'J. Pawelczyk', 'M. Skoryk', 'L. Olech', 'K. Idanwekhai', 'J. Jakubik', 'S. Zhao', 'H. Maciejewski', 'M. Shevchuk']\n",
      "['P. Kazienko', 'J. Pawelczyk', 'M. Skoryk', 'L. Olech', 'K. Idanwekhai', 'J. Jakubik', 'S. Zhao', 'H. Maciejewski', 'M. Magnani']\n",
      "['P. Kazienko', 'J. Pawelczyk', 'M. Skoryk', 'L. Olech', 'K. Idanwekhai', 'J. Jakubik', 'S. Zhao', 'H. Maciejewski', 'Y. Wang']\n",
      "['P. Kazienko', 'J. Pawelczyk', 'M. Skoryk', 'L. Olech', 'K. Idanwekhai', 'J. Jakubik', 'S. Zhao', 'H. Maciejewski', 'S. Saganowski']\n",
      "['P. Kazienko', 'J. Pawelczyk', 'M. Skoryk', 'L. Olech', 'K. Idanwekhai', 'J. Jakubik', 'S. Zhao', 'H. Maciejewski', 'M. Zyla-Hoppe']\n",
      "['P. Kazienko', 'J. Pawelczyk', 'M. Skoryk', 'L. Olech', 'K. Idanwekhai', 'J. Jakubik', 'S. Zhao', 'H. Maciejewski', 'S. Keung']\n",
      "['P. Kazienko', 'J. Pawelczyk', 'M. Skoryk', 'L. Olech', 'K. Idanwekhai', 'J. Jakubik', 'S. Zhao', 'H. Maciejewski', 'A. Kevshyn']\n",
      "['P. Kazienko', 'J. Pawelczyk', 'M. Skoryk', 'L. Olech', 'K. Idanwekhai', 'J. Jakubik', 'S. Zhao', 'H. Maciejewski', 'S. Feuerriegel']\n",
      "['P. Kazienko', 'J. Pawelczyk', 'M. Skoryk', 'L. Olech', 'K. Idanwekhai', 'J. Jakubik', 'S. Zhao', 'H. Maciejewski', 'K. Rajda']\n",
      "['P. Kazienko', 'J. Pawelczyk', 'M. Skoryk', 'L. Olech', 'K. Idanwekhai', 'J. Jakubik', 'S. Zhao', 'H. Maciejewski', 'Y. Yeliseyenka']\n",
      "['P. Kazienko', 'J. Pawelczyk', 'M. Skoryk', 'L. Olech', 'K. Idanwekhai', 'J. Jakubik', 'S. Zhao', 'H. Maciejewski', 'M. Spytkowski']\n",
      "['P. Kazienko', 'J. Pawelczyk', 'M. Skoryk', 'L. Olech', 'K. Idanwekhai', 'J. Jakubik', 'S. Zhao', 'H. Maciejewski', 'K. Raczycki']\n",
      "['P. Kazienko', 'J. Pawelczyk', 'M. Skoryk', 'L. Olech', 'K. Idanwekhai', 'J. Jakubik', 'S. Zhao', 'H. Maciejewski', 'M. Zieba']\n",
      "['P. Kazienko', 'J. Pawelczyk', 'M. Skoryk', 'L. Olech', 'K. Idanwekhai', 'J. Jakubik', 'S. Zhao', 'H. Maciejewski', 'F. Erlandsson']\n",
      "['P. Kazienko', 'J. Pawelczyk', 'M. Skoryk', 'L. Olech', 'K. Idanwekhai', 'J. Jakubik', 'S. Zhao', 'H. Maciejewski', 'M. Skowronski']\n",
      "['P. Kazienko', 'J. Pawelczyk', 'M. Skoryk', 'L. Olech', 'K. Idanwekhai', 'J. Jakubik', 'S. Zhao', 'H. Maciejewski', 'A. Dutkowiak']\n",
      "['P. Kazienko', 'J. Pawelczyk', 'M. Skoryk', 'L. Olech', 'K. Idanwekhai', 'J. Jakubik', 'S. Zhao', 'H. Maciejewski', 'M. Falkiewicz']\n",
      "['P. Kazienko', 'J. Pawelczyk', 'M. Skoryk', 'L. Olech', 'K. Idanwekhai', 'J. Jakubik', 'S. Zhao', 'H. Maciejewski', 'K. Musial']\n",
      "['P. Kazienko', 'J. Pawelczyk', 'M. Skoryk', 'L. Olech', 'K. Idanwekhai', 'J. Jakubik', 'S. Zhao', 'H. Maciejewski', 'K. Pasierb']\n",
      "['P. Kazienko', 'J. Pawelczyk', 'M. Skoryk', 'L. Olech', 'K. Idanwekhai', 'J. Jakubik', 'S. Zhao', 'H. Maciejewski', 'K. Oslizlo']\n",
      "['P. Kazienko', 'J. Pawelczyk', 'M. Skoryk', 'L. Olech', 'K. Idanwekhai', 'J. Jakubik', 'S. Zhao', 'H. Maciejewski', 'H. Steinacker']\n",
      "['P. Kazienko', 'J. Pawelczyk', 'M. Skoryk', 'L. Olech', 'K. Idanwekhai', 'J. Jakubik', 'S. Zhao', 'H. Maciejewski', 'B. Tjandra']\n",
      "['P. Kazienko', 'J. Pawelczyk', 'M. Skoryk', 'L. Olech', 'K. Idanwekhai', 'J. Jakubik', 'S. Zhao', 'H. Maciejewski', 'J. Komoszynska']\n",
      "['P. Kazienko', 'J. Pawelczyk', 'M. Skoryk', 'L. Olech', 'K. Idanwekhai', 'J. Jakubik', 'S. Zhao', 'H. Maciejewski', 'H. Johnson']\n",
      "['P. Kazienko', 'J. Pawelczyk', 'M. Skoryk', 'L. Olech', 'K. Idanwekhai', 'J. Jakubik', 'S. Zhao', 'H. Maciejewski', 'L. Augustyniak']\n",
      "['P. Kazienko', 'J. Pawelczyk', 'M. Skoryk', 'L. Olech', 'K. Idanwekhai', 'J. Jakubik', 'S. Zhao', 'H. Maciejewski', 'N. Mastellos']\n",
      "['P. Kazienko', 'J. Pawelczyk', 'M. Skoryk', 'L. Olech', 'K. Idanwekhai', 'J. Jakubik', 'S. Zhao', 'H. Maciejewski', 'A. Andreasson']\n",
      "['P. Kazienko', 'J. Pawelczyk', 'M. Skoryk', 'L. Olech', 'K. Idanwekhai', 'J. Jakubik', 'S. Zhao', 'H. Maciejewski', 'V. Curcin']\n",
      "['P. Kazienko', 'J. Pawelczyk', 'M. Skoryk', 'L. Olech', 'K. Idanwekhai', 'J. Jakubik', 'S. Zhao', 'H. Maciejewski', 'B. Czerny']\n",
      "['P. Kazienko', 'J. Pawelczyk', 'M. Skoryk', 'L. Olech', 'K. Idanwekhai', 'J. Jakubik', 'S. Zhao', 'H. Maciejewski', 'M. Panfil']\n",
      "['P. Kazienko', 'J. Pawelczyk', 'M. Skoryk', 'L. Olech', 'K. Idanwekhai', 'J. Jakubik', 'S. Zhao', 'H. Maciejewski', 'B. Gliwa']\n",
      "['P. Kazienko', 'J. Pawelczyk', 'M. Skoryk', 'L. Olech', 'K. Idanwekhai', 'J. Jakubik', 'S. Zhao', 'H. Maciejewski', 'K. Jedryka']\n"
     ]
    },
    {
     "name": "stdout",
     "output_type": "stream",
     "text": [
      "['P. Kazienko', 'J. Pawelczyk', 'M. Skoryk', 'L. Olech', 'K. Idanwekhai', 'J. Jakubik', 'S. Zhao', 'H. Maciejewski', 'M. Mcgilchrist']\n",
      "['P. Kazienko', 'J. Pawelczyk', 'M. Skoryk', 'L. Olech', 'K. Idanwekhai', 'J. Jakubik', 'S. Zhao', 'H. Maciejewski', 'Y. Gule']\n",
      "['P. Kazienko', 'J. Pawelczyk', 'M. Skoryk', 'L. Olech', 'K. Idanwekhai', 'J. Jakubik', 'S. Zhao', 'H. Maciejewski', 'K. Skibicki']\n",
      "['P. Kazienko', 'J. Pawelczyk', 'M. Skoryk', 'L. Olech', 'K. Idanwekhai', 'J. Jakubik', 'S. Zhao', 'H. Maciejewski', 'J. Kwiatkowski']\n",
      "['P. Kazienko', 'J. Pawelczyk', 'M. Skoryk', 'L. Olech', 'K. Idanwekhai', 'J. Jakubik', 'S. Zhao', 'H. Maciejewski', 'R. Radwanski']\n",
      "['P. Kazienko', 'J. Pawelczyk', 'M. Skoryk', 'L. Olech', 'K. Idanwekhai', 'J. Jakubik', 'S. Zhao', 'H. Maciejewski', 'R. Michalski']\n",
      "['P. Kazienko', 'J. Pawelczyk', 'M. Skoryk', 'L. Olech', 'K. Idanwekhai', 'J. Jakubik', 'S. Zhao', 'H. Maciejewski', 'J. Grobelny']\n",
      "['P. Kazienko', 'J. Pawelczyk', 'M. Skoryk', 'L. Olech', 'K. Idanwekhai', 'J. Jakubik', 'S. Zhao', 'H. Maciejewski', 'A. Zygmunt']\n",
      "['P. Kazienko', 'J. Pawelczyk', 'M. Skoryk', 'L. Olech', 'K. Idanwekhai', 'J. Jakubik', 'S. Zhao', 'H. Maciejewski', 'W. Karwowski']\n",
      "['P. Kazienko', 'J. Pawelczyk', 'M. Skoryk', 'L. Olech', 'K. Idanwekhai', 'J. Jakubik', 'S. Zhao', 'H. Maciejewski', 'T. Jelinski']\n",
      "['P. Kazienko', 'J. Pawelczyk', 'M. Skoryk', 'L. Olech', 'K. Idanwekhai', 'J. Jakubik', 'S. Zhao', 'H. Maciejewski', 'P. Tishchenko']\n",
      "['P. Kazienko', 'J. Pawelczyk', 'M. Skoryk', 'L. Olech', 'K. Idanwekhai', 'J. Jakubik', 'S. Zhao', 'H. Maciejewski', 'P. Jakimow']\n",
      "['P. Kazienko', 'J. Pawelczyk', 'M. Skoryk', 'L. Olech', 'K. Idanwekhai', 'J. Jakubik', 'S. Zhao', 'H. Maciejewski', 'S. Rey']\n",
      "['P. Kazienko', 'J. Pawelczyk', 'M. Skoryk', 'L. Olech', 'K. Idanwekhai', 'J. Jakubik', 'S. Zhao', 'H. Maciejewski', 'S. Pokorski']\n",
      "['P. Kazienko', 'J. Pawelczyk', 'M. Skoryk', 'L. Olech', 'K. Idanwekhai', 'J. Jakubik', 'S. Zhao', 'H. Maciejewski', 'S. Wozniak']\n",
      "['P. Kazienko', 'J. Pawelczyk', 'M. Skoryk', 'L. Olech', 'K. Idanwekhai', 'J. Jakubik', 'S. Zhao', 'H. Maciejewski', 'C. Lebiere']\n",
      "['P. Kazienko', 'J. Pawelczyk', 'M. Skoryk', 'L. Olech', 'K. Idanwekhai', 'J. Jakubik', 'S. Zhao', 'H. Maciejewski', 'A. Jamasb']\n",
      "['P. Kazienko', 'J. Pawelczyk', 'M. Skoryk', 'L. Olech', 'K. Idanwekhai', 'J. Jakubik', 'S. Zhao', 'H. Maciejewski', 'T. Kajdanowicz']\n",
      "['P. Kazienko', 'J. Pawelczyk', 'M. Skoryk', 'L. Olech', 'K. Idanwekhai', 'J. Jakubik', 'S. Zhao', 'H. Maciejewski', 'P. Szymanski']\n",
      "['P. Kazienko', 'J. Pawelczyk', 'M. Skoryk', 'L. Olech', 'K. Idanwekhai', 'J. Jakubik', 'S. Zhao', 'H. Maciejewski', 'M. Nurek']\n",
      "['P. Kazienko', 'J. Pawelczyk', 'M. Skoryk', 'L. Olech', 'K. Idanwekhai', 'J. Jakubik', 'S. Zhao', 'H. Maciejewski', 'J. Kozlak']\n",
      "['P. Kazienko', 'J. Pawelczyk', 'M. Skoryk', 'L. Olech', 'K. Idanwekhai', 'J. Jakubik', 'S. Zhao', 'H. Maciejewski', 'K. Turzynski']\n",
      "['P. Kazienko', 'J. Pawelczyk', 'M. Skoryk', 'L. Olech', 'K. Idanwekhai', 'J. Jakubik', 'S. Zhao', 'H. Maciejewski', 'A. Szymczak']\n",
      "['P. Kazienko', 'J. Pawelczyk', 'M. Skoryk', 'L. Olech', 'K. Idanwekhai', 'J. Jakubik', 'S. Zhao', 'H. Maciejewski', 'S. Theisen']\n",
      "['P. Kazienko', 'J. Pawelczyk', 'M. Skoryk', 'L. Olech', 'K. Idanwekhai', 'J. Jakubik', 'S. Zhao', 'H. Maciejewski', 'S. Ciuberek']\n",
      "['P. Kazienko', 'J. Pawelczyk', 'M. Skoryk', 'L. Olech', 'K. Idanwekhai', 'J. Jakubik', 'S. Zhao', 'H. Maciejewski', 'H. Jegierski']\n",
      "['P. Kazienko', 'J. Pawelczyk', 'M. Skoryk', 'L. Olech', 'K. Idanwekhai', 'J. Jakubik', 'S. Zhao', 'H. Maciejewski', 'M. Piasecki']\n",
      "['P. Kazienko', 'J. Pawelczyk', 'M. Skoryk', 'L. Olech', 'K. Idanwekhai', 'J. Jakubik', 'S. Zhao', 'H. Maciejewski', 'B. Delaney']\n",
      "['P. Kazienko', 'J. Pawelczyk', 'M. Skoryk', 'L. Olech', 'K. Idanwekhai', 'J. Jakubik', 'S. Zhao', 'H. Maciejewski', 'A. Burgun']\n",
      "['P. Kazienko', 'J. Pawelczyk', 'M. Skoryk', 'L. Olech', 'K. Idanwekhai', 'J. Jakubik', 'S. Zhao', 'H. Maciejewski', 'T. Jia']\n",
      "['P. Kazienko', 'J. Pawelczyk', 'M. Skoryk', 'L. Olech', 'K. Idanwekhai', 'J. Jakubik', 'S. Zhao', 'H. Maciejewski', 'P. Stawiak']\n",
      "['P. Kazienko', 'J. Pawelczyk', 'M. Skoryk', 'L. Olech', 'K. Idanwekhai', 'J. Jakubik', 'S. Zhao', 'H. Maciejewski', 'K. Tagowski']\n",
      "['P. Kazienko', 'J. Pawelczyk', 'M. Skoryk', 'L. Olech', 'K. Idanwekhai', 'J. Jakubik', 'S. Zhao', 'H. Maciejewski', 'J. Hamari']\n",
      "['P. Kazienko', 'J. Pawelczyk', 'M. Skoryk', 'L. Olech', 'K. Idanwekhai', 'J. Jakubik', 'S. Zhao', 'H. Maciejewski', 'A. Dziadek']\n",
      "['P. Kazienko', 'J. Pawelczyk', 'M. Skoryk', 'L. Olech', 'K. Idanwekhai', 'J. Jakubik', 'S. Zhao', 'H. Maciejewski', 'Z. Ropka']\n",
      "['P. Kazienko', 'J. Pawelczyk', 'M. Skoryk', 'L. Olech', 'K. Idanwekhai', 'J. Jakubik', 'S. Zhao', 'H. Maciejewski', 'M. Kulisiewicz']\n",
      "['P. Kazienko', 'J. Pawelczyk', 'M. Skoryk', 'L. Olech', 'K. Idanwekhai', 'J. Jakubik', 'S. Zhao', 'H. Maciejewski', 'O. Aharony']\n",
      "['P. Kazienko', 'J. Pawelczyk', 'M. Skoryk', 'L. Olech', 'K. Idanwekhai', 'J. Jakubik', 'S. Zhao', 'H. Maciejewski', 'G. Ragozini']\n",
      "['P. Kazienko', 'J. Pawelczyk', 'M. Skoryk', 'L. Olech', 'K. Idanwekhai', 'J. Jakubik', 'S. Zhao', 'H. Maciejewski', 'B. Zak']\n",
      "['P. Kazienko', 'J. Pawelczyk', 'M. Skoryk', 'L. Olech', 'K. Idanwekhai', 'J. Jakubik', 'S. Zhao', 'H. Maciejewski', 'A. Chmiel', 'W. Liu']\n",
      "['P. Kazienko', 'J. Pawelczyk', 'M. Skoryk', 'L. Olech', 'K. Idanwekhai', 'J. Jakubik', 'S. Zhao', 'H. Maciejewski', 'A. Chmiel', 'B. V']\n",
      "['P. Kazienko', 'J. Pawelczyk', 'M. Skoryk', 'L. Olech', 'K. Idanwekhai', 'J. Jakubik', 'S. Zhao', 'H. Maciejewski', 'A. Chmiel', 'Z. Michalewicz']\n",
      "['P. Kazienko', 'J. Pawelczyk', 'M. Skoryk', 'L. Olech', 'K. Idanwekhai', 'J. Jakubik', 'S. Zhao', 'H. Maciejewski', 'A. Chmiel', 'M. Zolnieruk']\n",
      "['P. Kazienko', 'J. Pawelczyk', 'M. Skoryk', 'L. Olech', 'K. Idanwekhai', 'J. Jakubik', 'S. Zhao', 'H. Maciejewski', 'A. Chmiel', 'B. Koloszczyk']\n",
      "['P. Kazienko', 'J. Pawelczyk', 'M. Skoryk', 'L. Olech', 'K. Idanwekhai', 'J. Jakubik', 'S. Zhao', 'H. Maciejewski', 'A. Chmiel', 'M. Morzy']\n",
      "['P. Kazienko', 'J. Pawelczyk', 'M. Skoryk', 'L. Olech', 'K. Idanwekhai', 'J. Jakubik', 'S. Zhao', 'H. Maciejewski', 'A. Chmiel', 'B. Szymanski']\n",
      "['P. Kazienko', 'J. Pawelczyk', 'M. Skoryk', 'L. Olech', 'K. Idanwekhai', 'J. Jakubik', 'S. Zhao', 'H. Maciejewski', 'A. Chmiel', 'P. Oleszczyk']\n",
      "['P. Kazienko', 'J. Pawelczyk', 'M. Skoryk', 'L. Olech', 'K. Idanwekhai', 'J. Jakubik', 'S. Zhao', 'H. Maciejewski', 'A. Chmiel', 'A. Borg']\n",
      "['P. Kazienko', 'J. Pawelczyk', 'M. Skoryk', 'L. Olech', 'K. Idanwekhai', 'J. Jakubik', 'S. Zhao', 'H. Maciejewski', 'A. Chmiel', 'E. Kosasih']\n",
      "['P. Kazienko', 'J. Pawelczyk', 'M. Skoryk', 'L. Olech', 'K. Idanwekhai', 'J. Jakubik', 'S. Zhao', 'H. Maciejewski', 'A. Chmiel', 'E. Kanaga']\n",
      "['P. Kazienko', 'J. Pawelczyk', 'M. Skoryk', 'L. Olech', 'K. Idanwekhai', 'J. Jakubik', 'S. Zhao', 'H. Maciejewski', 'A. Chmiel', 'L. Zhao']\n",
      "['P. Kazienko', 'J. Pawelczyk', 'M. Skoryk', 'L. Olech', 'K. Idanwekhai', 'J. Jakubik', 'S. Zhao', 'H. Maciejewski', 'A. Chmiel', 'K. Meissner']\n",
      "['P. Kazienko', 'J. Pawelczyk', 'M. Skoryk', 'L. Olech', 'K. Idanwekhai', 'J. Jakubik', 'S. Zhao', 'H. Maciejewski', 'A. Chmiel', 'Z. Lalak']\n",
      "['P. Kazienko', 'J. Pawelczyk', 'M. Skoryk', 'L. Olech', 'K. Idanwekhai', 'J. Jakubik', 'S. Zhao', 'H. Maciejewski', 'A. Chmiel', 'K. Gorman']\n",
      "['P. Kazienko', 'J. Pawelczyk', 'M. Skoryk', 'L. Olech', 'K. Idanwekhai', 'J. Jakubik', 'S. Zhao', 'H. Maciejewski', 'A. Chmiel', 'A. Krakovska']\n",
      "['P. Kazienko', 'J. Pawelczyk', 'M. Skoryk', 'L. Olech', 'K. Idanwekhai', 'J. Jakubik', 'S. Zhao', 'H. Maciejewski', 'A. Chmiel', 'A. Polak']\n",
      "['P. Kazienko', 'J. Pawelczyk', 'M. Skoryk', 'L. Olech', 'K. Idanwekhai', 'J. Jakubik', 'S. Zhao', 'H. Maciejewski', 'A. Chmiel', 'N. Chawla']\n",
      "['P. Kazienko', 'J. Pawelczyk', 'M. Skoryk', 'L. Olech', 'K. Idanwekhai', 'J. Jakubik', 'S. Zhao', 'H. Maciejewski', 'A. Chmiel', 'I. Gisterek']\n",
      "['P. Kazienko', 'J. Pawelczyk', 'M. Skoryk', 'L. Olech', 'K. Idanwekhai', 'J. Jakubik', 'S. Zhao', 'H. Maciejewski', 'A. Chmiel', 'M. Ujma']\n",
      "['P. Kazienko', 'J. Pawelczyk', 'M. Skoryk', 'L. Olech', 'K. Idanwekhai', 'J. Jakubik', 'S. Zhao', 'H. Maciejewski', 'A. Chmiel', 'J. Cabezas']\n",
      "['P. Kazienko', 'J. Pawelczyk', 'M. Skoryk', 'L. Olech', 'K. Idanwekhai', 'J. Jakubik', 'S. Zhao', 'H. Maciejewski', 'A. Chmiel', 'P. Bielak']\n"
     ]
    },
    {
     "name": "stdout",
     "output_type": "stream",
     "text": [
      "['P. Kazienko', 'J. Pawelczyk', 'M. Skoryk', 'L. Olech', 'K. Idanwekhai', 'J. Jakubik', 'S. Zhao', 'H. Maciejewski', 'A. Chmiel', 'G. Miebs']\n",
      "['P. Kazienko', 'J. Pawelczyk', 'M. Skoryk', 'L. Olech', 'K. Idanwekhai', 'J. Jakubik', 'S. Zhao', 'H. Maciejewski', 'A. Chmiel', 'J. Gaworecki']\n",
      "['P. Kazienko', 'J. Pawelczyk', 'M. Skoryk', 'L. Olech', 'K. Idanwekhai', 'J. Jakubik', 'S. Zhao', 'H. Maciejewski', 'A. Chmiel', 'K. Kowalska']\n",
      "['P. Kazienko', 'J. Pawelczyk', 'M. Skoryk', 'L. Olech', 'K. Idanwekhai', 'J. Jakubik', 'S. Zhao', 'H. Maciejewski', 'A. Chmiel', 'M. Przewozniczek']\n",
      "['P. Kazienko', 'J. Pawelczyk', 'M. Skoryk', 'L. Olech', 'K. Idanwekhai', 'J. Jakubik', 'S. Zhao', 'H. Maciejewski', 'A. Chmiel', 'E. Sessolo']\n",
      "['P. Kazienko', 'J. Pawelczyk', 'M. Skoryk', 'L. Olech', 'K. Idanwekhai', 'J. Jakubik', 'S. Zhao', 'H. Maciejewski', 'A. Chmiel', 'M. Szymanski']\n",
      "['P. Kazienko', 'J. Pawelczyk', 'M. Skoryk', 'L. Olech', 'K. Idanwekhai', 'J. Jakubik', 'S. Zhao', 'H. Maciejewski', 'A. Chmiel', 'H. Kwasnicka']\n",
      "['P. Kazienko', 'J. Pawelczyk', 'M. Skoryk', 'L. Olech', 'K. Idanwekhai', 'J. Jakubik', 'S. Zhao', 'H. Maciejewski', 'A. Chmiel', 'J. Ethier']\n",
      "['P. Kazienko', 'J. Pawelczyk', 'M. Skoryk', 'L. Olech', 'K. Idanwekhai', 'J. Jakubik', 'S. Zhao', 'H. Maciejewski', 'A. Chmiel', 'W. Walentynowicz']\n",
      "['P. Kazienko', 'J. Pawelczyk', 'M. Skoryk', 'L. Olech', 'K. Idanwekhai', 'J. Jakubik', 'S. Zhao', 'H. Maciejewski', 'A. Chmiel', 'V. Halyan']\n",
      "['P. Kazienko', 'J. Pawelczyk', 'M. Skoryk', 'L. Olech', 'K. Idanwekhai', 'J. Jakubik', 'S. Zhao', 'H. Maciejewski', 'A. Chmiel', 'S. Yankielowicz']\n",
      "['P. Kazienko', 'J. Pawelczyk', 'M. Skoryk', 'L. Olech', 'K. Idanwekhai', 'J. Jakubik', 'S. Zhao', 'H. Maciejewski', 'A. Chmiel', 'P. Zelasko']\n",
      "['P. Kazienko', 'J. Pawelczyk', 'M. Skoryk', 'L. Olech', 'K. Idanwekhai', 'J. Jakubik', 'S. Zhao', 'H. Maciejewski', 'A. Chmiel', 'P. Doskocz']\n",
      "['P. Kazienko', 'J. Pawelczyk', 'M. Skoryk', 'L. Olech', 'K. Idanwekhai', 'J. Jakubik', 'S. Zhao', 'H. Maciejewski', 'A. Chmiel', 'A. Rusin']\n",
      "['P. Kazienko', 'J. Pawelczyk', 'M. Skoryk', 'L. Olech', 'K. Idanwekhai', 'J. Jakubik', 'S. Zhao', 'H. Maciejewski', 'A. Chmiel', 'T. Surmacz']\n",
      "['P. Kazienko', 'J. Pawelczyk', 'M. Skoryk', 'L. Olech', 'K. Idanwekhai', 'J. Jakubik', 'S. Zhao', 'H. Maciejewski', 'A. Chmiel', 'V. Yukhymchuk']\n",
      "['P. Kazienko', 'J. Pawelczyk', 'M. Skoryk', 'L. Olech', 'K. Idanwekhai', 'J. Jakubik', 'S. Zhao', 'H. Maciejewski', 'A. Chmiel', 'I. Ivashchenko']\n",
      "['P. Kazienko', 'J. Pawelczyk', 'M. Skoryk', 'L. Olech', 'K. Idanwekhai', 'J. Jakubik', 'S. Zhao', 'H. Maciejewski', 'A. Chmiel', 'M. Rizoiu']\n",
      "['P. Kazienko', 'J. Pawelczyk', 'M. Skoryk', 'L. Olech', 'K. Idanwekhai', 'J. Jakubik', 'S. Zhao', 'H. Maciejewski', 'A. Chmiel', 'N. Garau']\n",
      "['P. Kazienko', 'J. Pawelczyk', 'M. Skoryk', 'L. Olech', 'K. Idanwekhai', 'J. Jakubik', 'S. Zhao', 'H. Maciejewski', 'A. Chmiel', 'N. Bisagno']\n",
      "['P. Kazienko', 'J. Pawelczyk', 'M. Skoryk', 'L. Olech', 'K. Idanwekhai', 'J. Jakubik', 'S. Zhao', 'H. Maciejewski', 'A. Chmiel', 'T. Filipowski']\n",
      "['P. Kazienko', 'J. Pawelczyk', 'M. Skoryk', 'L. Olech', 'K. Idanwekhai', 'J. Jakubik', 'S. Zhao', 'H. Maciejewski', 'A. Chmiel', 'K. Ozga']\n",
      "['P. Kazienko', 'J. Pawelczyk', 'M. Skoryk', 'L. Olech', 'K. Idanwekhai', 'J. Jakubik', 'S. Zhao', 'H. Maciejewski', 'A. Chmiel', 'I. Olekseyuk']\n",
      "['P. Kazienko', 'J. Pawelczyk', 'M. Skoryk', 'L. Olech', 'K. Idanwekhai', 'J. Jakubik', 'S. Zhao', 'H. Maciejewski', 'A. Chmiel', 'P. Gramacki']\n",
      "['P. Kazienko', 'J. Pawelczyk', 'M. Skoryk', 'L. Olech', 'K. Idanwekhai', 'J. Jakubik', 'S. Zhao', 'H. Maciejewski', 'A. Chmiel', 'J. Banaszczak']\n",
      "['P. Kazienko', 'J. Pawelczyk', 'M. Skoryk', 'L. Olech', 'K. Idanwekhai', 'J. Jakubik', 'S. Zhao', 'H. Maciejewski', 'A. Chmiel', 'P. Rozewski']\n",
      "['P. Kazienko', 'J. Pawelczyk', 'M. Skoryk', 'L. Olech', 'K. Idanwekhai', 'J. Jakubik', 'S. Zhao', 'H. Maciejewski', 'A. Chmiel', 'M. Gniewkowski']\n",
      "['P. Kazienko', 'J. Pawelczyk', 'M. Skoryk', 'L. Olech', 'K. Idanwekhai', 'J. Jakubik', 'S. Zhao', 'H. Maciejewski', 'A. Chmiel', 'R. Bartusiak']\n",
      "['P. Kazienko', 'J. Pawelczyk', 'M. Skoryk', 'L. Olech', 'K. Idanwekhai', 'J. Jakubik', 'S. Zhao', 'H. Maciejewski', 'A. Chmiel', 'P. Brodka']\n",
      "['P. Kazienko', 'J. Pawelczyk', 'M. Skoryk', 'L. Olech', 'K. Idanwekhai', 'J. Jakubik', 'S. Zhao', 'H. Maciejewski', 'A. Chmiel', 'J. Jankowski']\n",
      "['P. Kazienko', 'J. Pawelczyk', 'M. Skoryk', 'L. Olech', 'K. Idanwekhai', 'J. Jakubik', 'S. Zhao', 'H. Maciejewski', 'A. Chmiel', 'X. Wang']\n",
      "['P. Kazienko', 'J. Pawelczyk', 'M. Skoryk', 'L. Olech', 'K. Idanwekhai', 'J. Jakubik', 'S. Zhao', 'H. Maciejewski', 'A. Chmiel', 'A. Zbieg']\n",
      "['P. Kazienko', 'J. Pawelczyk', 'M. Skoryk', 'L. Olech', 'K. Idanwekhai', 'J. Jakubik', 'S. Zhao', 'H. Maciejewski', 'A. Chmiel', 'M. Nikolajuk']\n",
      "['P. Kazienko', 'J. Pawelczyk', 'M. Skoryk', 'L. Olech', 'K. Idanwekhai', 'J. Jakubik', 'S. Zhao', 'H. Maciejewski', 'A. Chmiel', 'S. Utz']\n",
      "['P. Kazienko', 'J. Pawelczyk', 'M. Skoryk', 'L. Olech', 'K. Idanwekhai', 'J. Jakubik', 'S. Zhao', 'H. Maciejewski', 'A. Chmiel', 'K. Juszczyszyn']\n",
      "['P. Kazienko', 'J. Pawelczyk', 'M. Skoryk', 'L. Olech', 'K. Idanwekhai', 'J. Jakubik', 'S. Zhao', 'H. Maciejewski', 'A. Chmiel', 'W. Michalska']\n",
      "['P. Kazienko', 'J. Pawelczyk', 'M. Skoryk', 'L. Olech', 'K. Idanwekhai', 'J. Jakubik', 'S. Zhao', 'H. Maciejewski', 'A. Chmiel', 'M. Holecyova']\n",
      "['P. Kazienko', 'J. Pawelczyk', 'M. Skoryk', 'L. Olech', 'K. Idanwekhai', 'J. Jakubik', 'S. Zhao', 'H. Maciejewski', 'A. Chmiel', 'T. Arvanitis']\n",
      "['P. Kazienko', 'J. Pawelczyk', 'M. Skoryk', 'L. Olech', 'K. Idanwekhai', 'J. Jakubik', 'S. Zhao', 'H. Maciejewski', 'A. Chmiel', 'Y. Ran']\n",
      "['P. Kazienko', 'J. Pawelczyk', 'M. Skoryk', 'L. Olech', 'K. Idanwekhai', 'J. Jakubik', 'S. Zhao', 'H. Maciejewski', 'A. Chmiel', 'S. Cheong']\n",
      "['P. Kazienko', 'J. Pawelczyk', 'M. Skoryk', 'L. Olech', 'K. Idanwekhai', 'J. Jakubik', 'S. Zhao', 'H. Maciejewski', 'A. Chmiel', 'M. Dziezyc']\n",
      "['P. Kazienko', 'J. Pawelczyk', 'M. Skoryk', 'L. Olech', 'K. Idanwekhai', 'J. Jakubik', 'S. Zhao', 'H. Maciejewski', 'A. Chmiel', 'P. Dziurzanski']\n",
      "['P. Kazienko', 'J. Pawelczyk', 'M. Skoryk', 'L. Olech', 'K. Idanwekhai', 'J. Jakubik', 'S. Zhao', 'H. Maciejewski', 'A. Chmiel', 'M. Paradowski']\n",
      "['P. Kazienko', 'J. Pawelczyk', 'M. Skoryk', 'L. Olech', 'K. Idanwekhai', 'J. Jakubik', 'S. Zhao', 'H. Maciejewski', 'A. Chmiel', 'Y. Carmiel']\n",
      "['P. Kazienko', 'J. Pawelczyk', 'M. Skoryk', 'L. Olech', 'K. Idanwekhai', 'J. Jakubik', 'S. Zhao', 'H. Maciejewski', 'A. Chmiel', 'H. Budacova']\n",
      "['P. Kazienko', 'J. Pawelczyk', 'M. Skoryk', 'L. Olech', 'K. Idanwekhai', 'J. Jakubik', 'S. Zhao', 'H. Maciejewski', 'A. Chmiel', 'M. Koziarski']\n",
      "['P. Kazienko', 'J. Pawelczyk', 'M. Skoryk', 'L. Olech', 'K. Idanwekhai', 'J. Jakubik', 'S. Zhao', 'H. Maciejewski', 'A. Chmiel', 'R. Suszek']\n",
      "['P. Kazienko', 'J. Pawelczyk', 'M. Skoryk', 'L. Olech', 'K. Idanwekhai', 'J. Jakubik', 'S. Zhao', 'H. Maciejewski', 'A. Chmiel', 'O. Lizardo']\n",
      "['P. Kazienko', 'J. Pawelczyk', 'M. Skoryk', 'L. Olech', 'K. Idanwekhai', 'J. Jakubik', 'S. Zhao', 'H. Maciejewski', 'A. Chmiel', 'L. Indrusiak']\n",
      "['P. Kazienko', 'J. Pawelczyk', 'M. Skoryk', 'L. Olech', 'K. Idanwekhai', 'J. Jakubik', 'S. Zhao', 'H. Maciejewski', 'A. Chmiel', 'N. Dehak']\n",
      "['P. Kazienko', 'J. Pawelczyk', 'M. Skoryk', 'L. Olech', 'K. Idanwekhai', 'J. Jakubik', 'S. Zhao', 'H. Maciejewski', 'A. Chmiel', 'M. Boldt']\n",
      "['P. Kazienko', 'J. Pawelczyk', 'M. Skoryk', 'L. Olech', 'K. Idanwekhai', 'J. Jakubik', 'S. Zhao', 'H. Maciejewski', 'A. Chmiel', 'J. Kuraszkiewicz']\n",
      "['P. Kazienko', 'J. Pawelczyk', 'M. Skoryk', 'L. Olech', 'K. Idanwekhai', 'J. Jakubik', 'S. Zhao', 'H. Maciejewski', 'A. Chmiel', 'M. Bernaczyk']\n",
      "['P. Kazienko', 'J. Pawelczyk', 'M. Skoryk', 'L. Olech', 'K. Idanwekhai', 'J. Jakubik', 'S. Zhao', 'H. Maciejewski', 'A. Chmiel', 'N. Conci']\n",
      "['P. Kazienko', 'J. Pawelczyk', 'M. Skoryk', 'L. Olech', 'K. Idanwekhai', 'J. Jakubik', 'S. Zhao', 'H. Maciejewski', 'A. Chmiel', 'X. Sumba']\n",
      "['P. Kazienko', 'J. Pawelczyk', 'M. Skoryk', 'L. Olech', 'K. Idanwekhai', 'J. Jakubik', 'S. Zhao', 'H. Maciejewski', 'A. Chmiel', 'W. Indyk']\n",
      "['P. Kazienko', 'J. Pawelczyk', 'M. Skoryk', 'L. Olech', 'K. Idanwekhai', 'J. Jakubik', 'S. Zhao', 'H. Maciejewski', 'A. Chmiel', 'P. Myszkowski']\n"
     ]
    },
    {
     "name": "stdout",
     "output_type": "stream",
     "text": [
      "['P. Kazienko', 'J. Pawelczyk', 'M. Skoryk', 'L. Olech', 'K. Idanwekhai', 'J. Jakubik', 'S. Zhao', 'H. Maciejewski', 'A. Chmiel', 'A. Binding']\n",
      "['P. Kazienko', 'J. Pawelczyk', 'M. Skoryk', 'L. Olech', 'K. Idanwekhai', 'J. Jakubik', 'S. Zhao', 'H. Maciejewski', 'A. Chmiel', 'K. Kersting']\n",
      "['P. Kazienko', 'J. Pawelczyk', 'M. Skoryk', 'L. Olech', 'K. Idanwekhai', 'J. Jakubik', 'S. Zhao', 'H. Maciejewski', 'A. Chmiel', 'K. Kania']\n",
      "['P. Kazienko', 'J. Pawelczyk', 'M. Skoryk', 'L. Olech', 'K. Idanwekhai', 'J. Jakubik', 'S. Zhao', 'H. Maciejewski', 'A. Chmiel', 'J. Mizgajski']\n",
      "['P. Kazienko', 'J. Pawelczyk', 'M. Skoryk', 'L. Olech', 'K. Idanwekhai', 'J. Jakubik', 'S. Zhao', 'H. Maciejewski', 'A. Chmiel', 'M. Shevchuk']\n",
      "['P. Kazienko', 'J. Pawelczyk', 'M. Skoryk', 'L. Olech', 'K. Idanwekhai', 'J. Jakubik', 'S. Zhao', 'H. Maciejewski', 'A. Chmiel', 'M. Magnani']\n",
      "['P. Kazienko', 'J. Pawelczyk', 'M. Skoryk', 'L. Olech', 'K. Idanwekhai', 'J. Jakubik', 'S. Zhao', 'H. Maciejewski', 'A. Chmiel', 'Y. Wang']\n",
      "['P. Kazienko', 'J. Pawelczyk', 'M. Skoryk', 'L. Olech', 'K. Idanwekhai', 'J. Jakubik', 'S. Zhao', 'H. Maciejewski', 'A. Chmiel', 'S. Saganowski']\n",
      "['P. Kazienko', 'J. Pawelczyk', 'M. Skoryk', 'L. Olech', 'K. Idanwekhai', 'J. Jakubik', 'S. Zhao', 'H. Maciejewski', 'A. Chmiel', 'M. Zyla-Hoppe']\n",
      "['P. Kazienko', 'J. Pawelczyk', 'M. Skoryk', 'L. Olech', 'K. Idanwekhai', 'J. Jakubik', 'S. Zhao', 'H. Maciejewski', 'A. Chmiel', 'S. Keung']\n",
      "['P. Kazienko', 'J. Pawelczyk', 'M. Skoryk', 'L. Olech', 'K. Idanwekhai', 'J. Jakubik', 'S. Zhao', 'H. Maciejewski', 'A. Chmiel', 'A. Kevshyn']\n",
      "['P. Kazienko', 'J. Pawelczyk', 'M. Skoryk', 'L. Olech', 'K. Idanwekhai', 'J. Jakubik', 'S. Zhao', 'H. Maciejewski', 'A. Chmiel', 'S. Feuerriegel']\n",
      "['P. Kazienko', 'J. Pawelczyk', 'M. Skoryk', 'L. Olech', 'K. Idanwekhai', 'J. Jakubik', 'S. Zhao', 'H. Maciejewski', 'A. Chmiel', 'K. Rajda']\n",
      "['P. Kazienko', 'J. Pawelczyk', 'M. Skoryk', 'L. Olech', 'K. Idanwekhai', 'J. Jakubik', 'S. Zhao', 'H. Maciejewski', 'A. Chmiel', 'Y. Yeliseyenka']\n",
      "['P. Kazienko', 'J. Pawelczyk', 'M. Skoryk', 'L. Olech', 'K. Idanwekhai', 'J. Jakubik', 'S. Zhao', 'H. Maciejewski', 'A. Chmiel', 'M. Spytkowski']\n",
      "['P. Kazienko', 'J. Pawelczyk', 'M. Skoryk', 'L. Olech', 'K. Idanwekhai', 'J. Jakubik', 'S. Zhao', 'H. Maciejewski', 'A. Chmiel', 'K. Raczycki']\n",
      "['P. Kazienko', 'J. Pawelczyk', 'M. Skoryk', 'L. Olech', 'K. Idanwekhai', 'J. Jakubik', 'S. Zhao', 'H. Maciejewski', 'A. Chmiel', 'M. Zieba']\n",
      "['P. Kazienko', 'J. Pawelczyk', 'M. Skoryk', 'L. Olech', 'K. Idanwekhai', 'J. Jakubik', 'S. Zhao', 'H. Maciejewski', 'A. Chmiel', 'F. Erlandsson']\n",
      "['P. Kazienko', 'J. Pawelczyk', 'M. Skoryk', 'L. Olech', 'K. Idanwekhai', 'J. Jakubik', 'S. Zhao', 'H. Maciejewski', 'A. Chmiel', 'M. Skowronski']\n",
      "['P. Kazienko', 'J. Pawelczyk', 'M. Skoryk', 'L. Olech', 'K. Idanwekhai', 'J. Jakubik', 'S. Zhao', 'H. Maciejewski', 'A. Chmiel', 'A. Dutkowiak']\n",
      "['P. Kazienko', 'J. Pawelczyk', 'M. Skoryk', 'L. Olech', 'K. Idanwekhai', 'J. Jakubik', 'S. Zhao', 'H. Maciejewski', 'A. Chmiel', 'M. Falkiewicz']\n",
      "['P. Kazienko', 'J. Pawelczyk', 'M. Skoryk', 'L. Olech', 'K. Idanwekhai', 'J. Jakubik', 'S. Zhao', 'H. Maciejewski', 'A. Chmiel', 'K. Musial']\n",
      "['P. Kazienko', 'J. Pawelczyk', 'M. Skoryk', 'L. Olech', 'K. Idanwekhai', 'J. Jakubik', 'S. Zhao', 'H. Maciejewski', 'A. Chmiel', 'K. Pasierb']\n",
      "['P. Kazienko', 'J. Pawelczyk', 'M. Skoryk', 'L. Olech', 'K. Idanwekhai', 'J. Jakubik', 'S. Zhao', 'H. Maciejewski', 'A. Chmiel', 'K. Oslizlo']\n",
      "['P. Kazienko', 'J. Pawelczyk', 'M. Skoryk', 'L. Olech', 'K. Idanwekhai', 'J. Jakubik', 'S. Zhao', 'H. Maciejewski', 'A. Chmiel', 'H. Steinacker']\n",
      "['P. Kazienko', 'J. Pawelczyk', 'M. Skoryk', 'L. Olech', 'K. Idanwekhai', 'J. Jakubik', 'S. Zhao', 'H. Maciejewski', 'A. Chmiel', 'B. Tjandra']\n",
      "['P. Kazienko', 'J. Pawelczyk', 'M. Skoryk', 'L. Olech', 'K. Idanwekhai', 'J. Jakubik', 'S. Zhao', 'H. Maciejewski', 'A. Chmiel', 'J. Komoszynska']\n",
      "['P. Kazienko', 'J. Pawelczyk', 'M. Skoryk', 'L. Olech', 'K. Idanwekhai', 'J. Jakubik', 'S. Zhao', 'H. Maciejewski', 'A. Chmiel', 'H. Johnson']\n",
      "['P. Kazienko', 'J. Pawelczyk', 'M. Skoryk', 'L. Olech', 'K. Idanwekhai', 'J. Jakubik', 'S. Zhao', 'H. Maciejewski', 'A. Chmiel', 'L. Augustyniak']\n",
      "['P. Kazienko', 'J. Pawelczyk', 'M. Skoryk', 'L. Olech', 'K. Idanwekhai', 'J. Jakubik', 'S. Zhao', 'H. Maciejewski', 'A. Chmiel', 'N. Mastellos']\n",
      "['P. Kazienko', 'J. Pawelczyk', 'M. Skoryk', 'L. Olech', 'K. Idanwekhai', 'J. Jakubik', 'S. Zhao', 'H. Maciejewski', 'A. Chmiel', 'A. Andreasson']\n",
      "['P. Kazienko', 'J. Pawelczyk', 'M. Skoryk', 'L. Olech', 'K. Idanwekhai', 'J. Jakubik', 'S. Zhao', 'H. Maciejewski', 'A. Chmiel', 'V. Curcin']\n",
      "['P. Kazienko', 'J. Pawelczyk', 'M. Skoryk', 'L. Olech', 'K. Idanwekhai', 'J. Jakubik', 'S. Zhao', 'H. Maciejewski', 'A. Chmiel', 'B. Czerny']\n",
      "['P. Kazienko', 'J. Pawelczyk', 'M. Skoryk', 'L. Olech', 'K. Idanwekhai', 'J. Jakubik', 'S. Zhao', 'H. Maciejewski', 'A. Chmiel', 'M. Panfil']\n",
      "['P. Kazienko', 'J. Pawelczyk', 'M. Skoryk', 'L. Olech', 'K. Idanwekhai', 'J. Jakubik', 'S. Zhao', 'H. Maciejewski', 'A. Chmiel', 'B. Gliwa']\n",
      "['P. Kazienko', 'J. Pawelczyk', 'M. Skoryk', 'L. Olech', 'K. Idanwekhai', 'J. Jakubik', 'S. Zhao', 'H. Maciejewski', 'A. Chmiel', 'K. Jedryka']\n",
      "['P. Kazienko', 'J. Pawelczyk', 'M. Skoryk', 'L. Olech', 'K. Idanwekhai', 'J. Jakubik', 'S. Zhao', 'H. Maciejewski', 'A. Chmiel', 'M. Mcgilchrist']\n",
      "['P. Kazienko', 'J. Pawelczyk', 'M. Skoryk', 'L. Olech', 'K. Idanwekhai', 'J. Jakubik', 'S. Zhao', 'H. Maciejewski', 'A. Chmiel', 'Y. Gule']\n",
      "['P. Kazienko', 'J. Pawelczyk', 'M. Skoryk', 'L. Olech', 'K. Idanwekhai', 'J. Jakubik', 'S. Zhao', 'H. Maciejewski', 'A. Chmiel', 'K. Skibicki']\n",
      "['P. Kazienko', 'J. Pawelczyk', 'M. Skoryk', 'L. Olech', 'K. Idanwekhai', 'J. Jakubik', 'S. Zhao', 'H. Maciejewski', 'A. Chmiel', 'J. Kwiatkowski']\n",
      "['P. Kazienko', 'J. Pawelczyk', 'M. Skoryk', 'L. Olech', 'K. Idanwekhai', 'J. Jakubik', 'S. Zhao', 'H. Maciejewski', 'A. Chmiel', 'R. Radwanski']\n",
      "['P. Kazienko', 'J. Pawelczyk', 'M. Skoryk', 'L. Olech', 'K. Idanwekhai', 'J. Jakubik', 'S. Zhao', 'H. Maciejewski', 'A. Chmiel', 'R. Michalski']\n",
      "['P. Kazienko', 'J. Pawelczyk', 'M. Skoryk', 'L. Olech', 'K. Idanwekhai', 'J. Jakubik', 'S. Zhao', 'H. Maciejewski', 'A. Chmiel', 'J. Grobelny']\n",
      "['P. Kazienko', 'J. Pawelczyk', 'M. Skoryk', 'L. Olech', 'K. Idanwekhai', 'J. Jakubik', 'S. Zhao', 'H. Maciejewski', 'A. Chmiel', 'A. Zygmunt']\n",
      "['P. Kazienko', 'J. Pawelczyk', 'M. Skoryk', 'L. Olech', 'K. Idanwekhai', 'J. Jakubik', 'S. Zhao', 'H. Maciejewski', 'A. Chmiel', 'W. Karwowski']\n",
      "['P. Kazienko', 'J. Pawelczyk', 'M. Skoryk', 'L. Olech', 'K. Idanwekhai', 'J. Jakubik', 'S. Zhao', 'H. Maciejewski', 'A. Chmiel', 'T. Jelinski']\n",
      "['P. Kazienko', 'J. Pawelczyk', 'M. Skoryk', 'L. Olech', 'K. Idanwekhai', 'J. Jakubik', 'S. Zhao', 'H. Maciejewski', 'A. Chmiel', 'P. Tishchenko']\n",
      "['P. Kazienko', 'J. Pawelczyk', 'M. Skoryk', 'L. Olech', 'K. Idanwekhai', 'J. Jakubik', 'S. Zhao', 'H. Maciejewski', 'A. Chmiel', 'P. Jakimow']\n",
      "['P. Kazienko', 'J. Pawelczyk', 'M. Skoryk', 'L. Olech', 'K. Idanwekhai', 'J. Jakubik', 'S. Zhao', 'H. Maciejewski', 'A. Chmiel', 'S. Rey']\n",
      "['P. Kazienko', 'J. Pawelczyk', 'M. Skoryk', 'L. Olech', 'K. Idanwekhai', 'J. Jakubik', 'S. Zhao', 'H. Maciejewski', 'A. Chmiel', 'S. Pokorski']\n",
      "['P. Kazienko', 'J. Pawelczyk', 'M. Skoryk', 'L. Olech', 'K. Idanwekhai', 'J. Jakubik', 'S. Zhao', 'H. Maciejewski', 'A. Chmiel', 'S. Wozniak']\n",
      "['P. Kazienko', 'J. Pawelczyk', 'M. Skoryk', 'L. Olech', 'K. Idanwekhai', 'J. Jakubik', 'S. Zhao', 'H. Maciejewski', 'A. Chmiel', 'C. Lebiere']\n",
      "['P. Kazienko', 'J. Pawelczyk', 'M. Skoryk', 'L. Olech', 'K. Idanwekhai', 'J. Jakubik', 'S. Zhao', 'H. Maciejewski', 'A. Chmiel', 'A. Jamasb']\n",
      "['P. Kazienko', 'J. Pawelczyk', 'M. Skoryk', 'L. Olech', 'K. Idanwekhai', 'J. Jakubik', 'S. Zhao', 'H. Maciejewski', 'A. Chmiel', 'T. Kajdanowicz']\n",
      "['P. Kazienko', 'J. Pawelczyk', 'M. Skoryk', 'L. Olech', 'K. Idanwekhai', 'J. Jakubik', 'S. Zhao', 'H. Maciejewski', 'A. Chmiel', 'P. Szymanski']\n",
      "['P. Kazienko', 'J. Pawelczyk', 'M. Skoryk', 'L. Olech', 'K. Idanwekhai', 'J. Jakubik', 'S. Zhao', 'H. Maciejewski', 'A. Chmiel', 'M. Nurek']\n",
      "['P. Kazienko', 'J. Pawelczyk', 'M. Skoryk', 'L. Olech', 'K. Idanwekhai', 'J. Jakubik', 'S. Zhao', 'H. Maciejewski', 'A. Chmiel', 'J. Kozlak']\n"
     ]
    },
    {
     "name": "stdout",
     "output_type": "stream",
     "text": [
      "['P. Kazienko', 'J. Pawelczyk', 'M. Skoryk', 'L. Olech', 'K. Idanwekhai', 'J. Jakubik', 'S. Zhao', 'H. Maciejewski', 'A. Chmiel', 'K. Turzynski']\n",
      "['P. Kazienko', 'J. Pawelczyk', 'M. Skoryk', 'L. Olech', 'K. Idanwekhai', 'J. Jakubik', 'S. Zhao', 'H. Maciejewski', 'A. Chmiel', 'A. Szymczak']\n",
      "['P. Kazienko', 'J. Pawelczyk', 'M. Skoryk', 'L. Olech', 'K. Idanwekhai', 'J. Jakubik', 'S. Zhao', 'H. Maciejewski', 'A. Chmiel', 'S. Theisen']\n",
      "['P. Kazienko', 'J. Pawelczyk', 'M. Skoryk', 'L. Olech', 'K. Idanwekhai', 'J. Jakubik', 'S. Zhao', 'H. Maciejewski', 'A. Chmiel', 'S. Ciuberek']\n",
      "['P. Kazienko', 'J. Pawelczyk', 'M. Skoryk', 'L. Olech', 'K. Idanwekhai', 'J. Jakubik', 'S. Zhao', 'H. Maciejewski', 'A. Chmiel', 'H. Jegierski']\n",
      "['P. Kazienko', 'J. Pawelczyk', 'M. Skoryk', 'L. Olech', 'K. Idanwekhai', 'J. Jakubik', 'S. Zhao', 'H. Maciejewski', 'A. Chmiel', 'M. Piasecki']\n",
      "['P. Kazienko', 'J. Pawelczyk', 'M. Skoryk', 'L. Olech', 'K. Idanwekhai', 'J. Jakubik', 'S. Zhao', 'H. Maciejewski', 'A. Chmiel', 'B. Delaney']\n",
      "['P. Kazienko', 'J. Pawelczyk', 'M. Skoryk', 'L. Olech', 'K. Idanwekhai', 'J. Jakubik', 'S. Zhao', 'H. Maciejewski', 'A. Chmiel', 'A. Burgun']\n",
      "['P. Kazienko', 'J. Pawelczyk', 'M. Skoryk', 'L. Olech', 'K. Idanwekhai', 'J. Jakubik', 'S. Zhao', 'H. Maciejewski', 'A. Chmiel', 'T. Jia']\n",
      "['P. Kazienko', 'J. Pawelczyk', 'M. Skoryk', 'L. Olech', 'K. Idanwekhai', 'J. Jakubik', 'S. Zhao', 'H. Maciejewski', 'A. Chmiel', 'P. Stawiak']\n",
      "['P. Kazienko', 'J. Pawelczyk', 'M. Skoryk', 'L. Olech', 'K. Idanwekhai', 'J. Jakubik', 'S. Zhao', 'H. Maciejewski', 'A. Chmiel', 'K. Tagowski']\n",
      "['P. Kazienko', 'J. Pawelczyk', 'M. Skoryk', 'L. Olech', 'K. Idanwekhai', 'J. Jakubik', 'S. Zhao', 'H. Maciejewski', 'A. Chmiel', 'J. Hamari']\n",
      "['P. Kazienko', 'J. Pawelczyk', 'M. Skoryk', 'L. Olech', 'K. Idanwekhai', 'J. Jakubik', 'S. Zhao', 'H. Maciejewski', 'A. Chmiel', 'A. Dziadek']\n",
      "['P. Kazienko', 'J. Pawelczyk', 'M. Skoryk', 'L. Olech', 'K. Idanwekhai', 'J. Jakubik', 'S. Zhao', 'H. Maciejewski', 'A. Chmiel', 'Z. Ropka']\n",
      "['P. Kazienko', 'J. Pawelczyk', 'M. Skoryk', 'L. Olech', 'K. Idanwekhai', 'J. Jakubik', 'S. Zhao', 'H. Maciejewski', 'A. Chmiel', 'M. Kulisiewicz']\n",
      "['P. Kazienko', 'J. Pawelczyk', 'M. Skoryk', 'L. Olech', 'K. Idanwekhai', 'J. Jakubik', 'S. Zhao', 'H. Maciejewski', 'A. Chmiel', 'O. Aharony']\n",
      "['P. Kazienko', 'J. Pawelczyk', 'M. Skoryk', 'L. Olech', 'K. Idanwekhai', 'J. Jakubik', 'S. Zhao', 'H. Maciejewski', 'A. Chmiel', 'G. Ragozini']\n",
      "['P. Kazienko', 'J. Pawelczyk', 'M. Skoryk', 'L. Olech', 'K. Idanwekhai', 'J. Jakubik', 'S. Zhao', 'H. Maciejewski', 'A. Chmiel', 'B. Zak']\n"
     ]
    },
    {
     "data": {
      "text/plain": [
       "(['P. Kazienko',\n",
       "  'J. Pawelczyk',\n",
       "  'M. Skoryk',\n",
       "  'L. Olech',\n",
       "  'K. Idanwekhai',\n",
       "  'J. Jakubik',\n",
       "  'S. Zhao',\n",
       "  'H. Maciejewski',\n",
       "  'A. Chmiel',\n",
       "  'P. Dziurzanski'],\n",
       " [80.532,\n",
       "  86.917,\n",
       "  92.575,\n",
       "  96.538,\n",
       "  99.495,\n",
       "  102.383,\n",
       "  105.034,\n",
       "  107.339,\n",
       "  108.43,\n",
       "  109.304])"
      ]
     },
     "execution_count": 63,
     "metadata": {},
     "output_type": "execute_result"
    }
   ],
   "source": [
    "# KempeGreedy(ge, ['P. Kazienko', 'T. Kajdanowicz'], 0.3, 1000)\n",
    "ALL_inf=[]\n",
    "KempeGreedy(ge, 10, 0.3, 1000)"
   ]
  },
  {
   "cell_type": "code",
   "execution_count": 26,
   "metadata": {},
   "outputs": [],
   "source": [
    "def show_in_cas(gr, config_val):\n",
    "    ic = IndependentCascadesModel(gr)\n",
    "    config = Configuration()\n",
    "    if type(config_val) is float:\n",
    "        config.add_model_parameter(\"fraction_infected\", config_val)\n",
    "    else:\n",
    "        config.add_model_initial_configuration(\"Infected\", config_val)\n",
    "    ic.set_initial_status(config)\n",
    "    spread_info = ic.iteration_bunch(bunch_size=10, node_status=True)\n",
    "    n_count = [x['node_count'] for x in spread_info]\n",
    "    a = [0] * 10 + [1] * 10 + [2] * 10 \n",
    "    b = [c[0] for c in n_count] + [c[1] for c in n_count] + [c[2] for c in n_count]\n",
    "    df = pd.DataFrame({'number of nodes': b, 'status': a, 'iteration' : list(range(10)) * 3})\n",
    "    return df"
   ]
  },
  {
   "cell_type": "code",
   "execution_count": 35,
   "metadata": {},
   "outputs": [
    {
     "data": {
      "text/plain": [
       "<AxesSubplot:xlabel='iteration', ylabel='number of nodes'>"
      ]
     },
     "execution_count": 35,
     "metadata": {},
     "output_type": "execute_result"
    },
    {
     "data": {
      "image/png": "[encoded data removed]",
      "text/plain": [
       "<Figure size 432x288 with 1 Axes>"
      ]
     },
     "metadata": {
      "needs_background": "light"
     },
     "output_type": "display_data"
    }
   ],
   "source": [
    "dfs = []\n",
    "for _ in range(50):\n",
    "    dfs.append(show_in_cas(ge, ['P. Kazienko', 'T. Kajdanowicz']))\n",
    "sns.lineplot(data = pd.concat(dfs).reset_index(drop=True), x='iteration', y='number of nodes', hue='status')"
   ]
  },
  {
   "cell_type": "code",
   "execution_count": 130,
   "metadata": {},
   "outputs": [],
   "source": [
    "def relabel(sir_nodes, n_labels=10):\n",
    "    max_sir = max(sir_nodes, key=lambda x: x[1])[1]\n",
    "    min_sir = min(sir_nodes, key=lambda x: x[1])[1]\n",
    "    r = (float(max_sir) - min_sir) / n_labels \n",
    "    \n",
    "    def label(count):\n",
    "        return np.floor((count - min_sir) / r)\n",
    "    \n",
    "    return [(node, label(count)) for node, count in sir_nodes]"
   ]
  },
  {
   "cell_type": "code",
   "execution_count": 149,
   "metadata": {},
   "outputs": [],
   "source": [
    "def collect_sir(gr, node, beta=0.1, gamma=1):\n",
    "    model = ep.SIRModel(gr)\n",
    "\n",
    "    # Model Configuration\n",
    "    cfg = Configuration()\n",
    "    cfg.add_model_parameter('beta', beta)\n",
    "    cfg.add_model_parameter('gamma', gamma)\n",
    "    cfg.add_model_initial_configuration(\"Infected\", [node])\n",
    "    model.set_initial_status(cfg)\n",
    "    infected = []\n",
    "    iterations = model.iteration_bunch(100)\n",
    "    for it in iterations[1:]:\n",
    "        for node, status in it['status'].items():\n",
    "            if status == 1:\n",
    "                infected.append(node)\n",
    "    return len(infected)\n",
    "    "
   ]
  },
  {
   "cell_type": "code",
   "execution_count": 175,
   "metadata": {},
   "outputs": [],
   "source": [
    "def collect_sir_all(gr, beta=0.1, gamma=1):\n",
    "    sir_per_node = []\n",
    "    for node in tqdm(ge.nodes):\n",
    "        influence = collect_sir(ge, node)\n",
    "        sir_per_node.append((node, influence))\n",
    "    rl = relabel(sir_per_node)\n",
    "#     sns.histplot([x[1] for x in rl])\n",
    "    return dict(rl)"
   ]
  },
  {
   "cell_type": "code",
   "execution_count": 176,
   "metadata": {},
   "outputs": [
    {
     "data": {
      "application/vnd.jupyter.widget-view+json": {
       "model_id": "f5f80d88bf744824a26ea276c26db1d1",
       "version_major": 2,
       "version_minor": 0
      },
      "text/plain": [
       "  0%|          | 0/163 [00:00<?, ?it/s]"
      ]
     },
     "metadata": {},
     "output_type": "display_data"
    },
    {
     "data": {
      "application/vnd.jupyter.widget-view+json": {
       "model_id": "486df04bead24a0d913d64044e4c9040",
       "version_major": 2,
       "version_minor": 0
      },
      "text/plain": [
       "  0%|          | 0/163 [00:00<?, ?it/s]"
      ]
     },
     "metadata": {},
     "output_type": "display_data"
    },
    {
     "data": {
      "application/vnd.jupyter.widget-view+json": {
       "model_id": "34fd83ef2fcc441cb89f8b140cb4fdd8",
       "version_major": 2,
       "version_minor": 0
      },
      "text/plain": [
       "  0%|          | 0/163 [00:00<?, ?it/s]"
      ]
     },
     "metadata": {},
     "output_type": "display_data"
    },
    {
     "data": {
      "application/vnd.jupyter.widget-view+json": {
       "model_id": "b9c1593f921d45d89e3e1b99a34ae11f",
       "version_major": 2,
       "version_minor": 0
      },
      "text/plain": [
       "  0%|          | 0/163 [00:00<?, ?it/s]"
      ]
     },
     "metadata": {},
     "output_type": "display_data"
    },
    {
     "data": {
      "application/vnd.jupyter.widget-view+json": {
       "model_id": "09ccb5b38ac04e7eba53ebbdf050cca5",
       "version_major": 2,
       "version_minor": 0
      },
      "text/plain": [
       "  0%|          | 0/163 [00:00<?, ?it/s]"
      ]
     },
     "metadata": {},
     "output_type": "display_data"
    },
    {
     "data": {
      "application/vnd.jupyter.widget-view+json": {
       "model_id": "0407338b786e42e5b2ba9771b0d217c4",
       "version_major": 2,
       "version_minor": 0
      },
      "text/plain": [
       "  0%|          | 0/163 [00:00<?, ?it/s]"
      ]
     },
     "metadata": {},
     "output_type": "display_data"
    },
    {
     "data": {
      "application/vnd.jupyter.widget-view+json": {
       "model_id": "391273ce675148ffb4997c90e821188e",
       "version_major": 2,
       "version_minor": 0
      },
      "text/plain": [
       "  0%|          | 0/163 [00:00<?, ?it/s]"
      ]
     },
     "metadata": {},
     "output_type": "display_data"
    },
    {
     "data": {
      "application/vnd.jupyter.widget-view+json": {
       "model_id": "e29d8d03a20446e88c1136e579974e11",
       "version_major": 2,
       "version_minor": 0
      },
      "text/plain": [
       "  0%|          | 0/163 [00:00<?, ?it/s]"
      ]
     },
     "metadata": {},
     "output_type": "display_data"
    },
    {
     "data": {
      "application/vnd.jupyter.widget-view+json": {
       "model_id": "19d167f0a6374538892ede344aae8af3",
       "version_major": 2,
       "version_minor": 0
      },
      "text/plain": [
       "  0%|          | 0/163 [00:00<?, ?it/s]"
      ]
     },
     "metadata": {},
     "output_type": "display_data"
    },
    {
     "data": {
      "application/vnd.jupyter.widget-view+json": {
       "model_id": "370172b79fd8466fa6b1628757a3c127",
       "version_major": 2,
       "version_minor": 0
      },
      "text/plain": [
       "  0%|          | 0/163 [00:00<?, ?it/s]"
      ]
     },
     "metadata": {},
     "output_type": "display_data"
    },
    {
     "data": {
      "application/vnd.jupyter.widget-view+json": {
       "model_id": "164b38ddc03f4e029a5da774e4d7c014",
       "version_major": 2,
       "version_minor": 0
      },
      "text/plain": [
       "  0%|          | 0/163 [00:00<?, ?it/s]"
      ]
     },
     "metadata": {},
     "output_type": "display_data"
    },
    {
     "data": {
      "application/vnd.jupyter.widget-view+json": {
       "model_id": "c2b31533c9b14c08bdca309ca99e1a75",
       "version_major": 2,
       "version_minor": 0
      },
      "text/plain": [
       "  0%|          | 0/163 [00:00<?, ?it/s]"
      ]
     },
     "metadata": {},
     "output_type": "display_data"
    },
    {
     "data": {
      "application/vnd.jupyter.widget-view+json": {
       "model_id": "74195e35d1ab4cdcb3de55ae71a4b94a",
       "version_major": 2,
       "version_minor": 0
      },
      "text/plain": [
       "  0%|          | 0/163 [00:00<?, ?it/s]"
      ]
     },
     "metadata": {},
     "output_type": "display_data"
    },
    {
     "data": {
      "application/vnd.jupyter.widget-view+json": {
       "model_id": "aa874d57c8874644a7bae33d7cff40e7",
       "version_major": 2,
       "version_minor": 0
      },
      "text/plain": [
       "  0%|          | 0/163 [00:00<?, ?it/s]"
      ]
     },
     "metadata": {},
     "output_type": "display_data"
    },
    {
     "data": {
      "application/vnd.jupyter.widget-view+json": {
       "model_id": "30f5a8967d7147dfb0bdc9e1c1905a55",
       "version_major": 2,
       "version_minor": 0
      },
      "text/plain": [
       "  0%|          | 0/163 [00:00<?, ?it/s]"
      ]
     },
     "metadata": {},
     "output_type": "display_data"
    },
    {
     "data": {
      "application/vnd.jupyter.widget-view+json": {
       "model_id": "fbe6355bfb4940dd89dae8fab5a73d8b",
       "version_major": 2,
       "version_minor": 0
      },
      "text/plain": [
       "  0%|          | 0/163 [00:00<?, ?it/s]"
      ]
     },
     "metadata": {},
     "output_type": "display_data"
    },
    {
     "data": {
      "application/vnd.jupyter.widget-view+json": {
       "model_id": "b06132c0d3034cdb8c5ec635031ae950",
       "version_major": 2,
       "version_minor": 0
      },
      "text/plain": [
       "  0%|          | 0/163 [00:00<?, ?it/s]"
      ]
     },
     "metadata": {},
     "output_type": "display_data"
    },
    {
     "data": {
      "application/vnd.jupyter.widget-view+json": {
       "model_id": "f29317b8204a47028327c9893a5c0798",
       "version_major": 2,
       "version_minor": 0
      },
      "text/plain": [
       "  0%|          | 0/163 [00:00<?, ?it/s]"
      ]
     },
     "metadata": {},
     "output_type": "display_data"
    },
    {
     "data": {
      "application/vnd.jupyter.widget-view+json": {
       "model_id": "31bb442dddcb4b9b9c24554b992507c0",
       "version_major": 2,
       "version_minor": 0
      },
      "text/plain": [
       "  0%|          | 0/163 [00:00<?, ?it/s]"
      ]
     },
     "metadata": {},
     "output_type": "display_data"
    },
    {
     "data": {
      "application/vnd.jupyter.widget-view+json": {
       "model_id": "8fc99795af3c40fe9bbc2907242cb749",
       "version_major": 2,
       "version_minor": 0
      },
      "text/plain": [
       "  0%|          | 0/163 [00:00<?, ?it/s]"
      ]
     },
     "metadata": {},
     "output_type": "display_data"
    },
    {
     "data": {
      "application/vnd.jupyter.widget-view+json": {
       "model_id": "44d16f61b3fa4c4f9c38a04312c964d8",
       "version_major": 2,
       "version_minor": 0
      },
      "text/plain": [
       "  0%|          | 0/163 [00:00<?, ?it/s]"
      ]
     },
     "metadata": {},
     "output_type": "display_data"
    },
    {
     "data": {
      "application/vnd.jupyter.widget-view+json": {
       "model_id": "1fe1647338644de0879ef1e0ca6ef6bf",
       "version_major": 2,
       "version_minor": 0
      },
      "text/plain": [
       "  0%|          | 0/163 [00:00<?, ?it/s]"
      ]
     },
     "metadata": {},
     "output_type": "display_data"
    },
    {
     "data": {
      "application/vnd.jupyter.widget-view+json": {
       "model_id": "2dd98325990e4fa5b181223cdd9e3cac",
       "version_major": 2,
       "version_minor": 0
      },
      "text/plain": [
       "  0%|          | 0/163 [00:00<?, ?it/s]"
      ]
     },
     "metadata": {},
     "output_type": "display_data"
    },
    {
     "data": {
      "application/vnd.jupyter.widget-view+json": {
       "model_id": "ff4804112982424eae790838f8db3adc",
       "version_major": 2,
       "version_minor": 0
      },
      "text/plain": [
       "  0%|          | 0/163 [00:00<?, ?it/s]"
      ]
     },
     "metadata": {},
     "output_type": "display_data"
    },
    {
     "data": {
      "application/vnd.jupyter.widget-view+json": {
       "model_id": "7e1411acca0144e9ac85a60b030b6285",
       "version_major": 2,
       "version_minor": 0
      },
      "text/plain": [
       "  0%|          | 0/163 [00:00<?, ?it/s]"
      ]
     },
     "metadata": {},
     "output_type": "display_data"
    },
    {
     "data": {
      "application/vnd.jupyter.widget-view+json": {
       "model_id": "059c4649855046be927707d72fb454d8",
       "version_major": 2,
       "version_minor": 0
      },
      "text/plain": [
       "  0%|          | 0/163 [00:00<?, ?it/s]"
      ]
     },
     "metadata": {},
     "output_type": "display_data"
    },
    {
     "data": {
      "application/vnd.jupyter.widget-view+json": {
       "model_id": "045eeac432ed457fbb1101c2c7fba488",
       "version_major": 2,
       "version_minor": 0
      },
      "text/plain": [
       "  0%|          | 0/163 [00:00<?, ?it/s]"
      ]
     },
     "metadata": {},
     "output_type": "display_data"
    },
    {
     "data": {
      "application/vnd.jupyter.widget-view+json": {
       "model_id": "7bac8b3c12644fc4ade8589e2fc7082d",
       "version_major": 2,
       "version_minor": 0
      },
      "text/plain": [
       "  0%|          | 0/163 [00:00<?, ?it/s]"
      ]
     },
     "metadata": {},
     "output_type": "display_data"
    },
    {
     "data": {
      "application/vnd.jupyter.widget-view+json": {
       "model_id": "bbd92a199e584fffa05f92b4a7286d61",
       "version_major": 2,
       "version_minor": 0
      },
      "text/plain": [
       "  0%|          | 0/163 [00:00<?, ?it/s]"
      ]
     },
     "metadata": {},
     "output_type": "display_data"
    },
    {
     "data": {
      "application/vnd.jupyter.widget-view+json": {
       "model_id": "3e800e3b992743d99e56394dfa27bed2",
       "version_major": 2,
       "version_minor": 0
      },
      "text/plain": [
       "  0%|          | 0/163 [00:00<?, ?it/s]"
      ]
     },
     "metadata": {},
     "output_type": "display_data"
    },
    {
     "data": {
      "application/vnd.jupyter.widget-view+json": {
       "model_id": "9848f5cb539246dfa002b995d46f8830",
       "version_major": 2,
       "version_minor": 0
      },
      "text/plain": [
       "  0%|          | 0/163 [00:00<?, ?it/s]"
      ]
     },
     "metadata": {},
     "output_type": "display_data"
    },
    {
     "data": {
      "application/vnd.jupyter.widget-view+json": {
       "model_id": "c07cd92831c341c68acecfaec9a5f906",
       "version_major": 2,
       "version_minor": 0
      },
      "text/plain": [
       "  0%|          | 0/163 [00:00<?, ?it/s]"
      ]
     },
     "metadata": {},
     "output_type": "display_data"
    },
    {
     "data": {
      "application/vnd.jupyter.widget-view+json": {
       "model_id": "1b41f6b5df6b4db4a850d7ef76a3a494",
       "version_major": 2,
       "version_minor": 0
      },
      "text/plain": [
       "  0%|          | 0/163 [00:00<?, ?it/s]"
      ]
     },
     "metadata": {},
     "output_type": "display_data"
    },
    {
     "data": {
      "application/vnd.jupyter.widget-view+json": {
       "model_id": "562a061d0a28482c9569dfb6645fcbdb",
       "version_major": 2,
       "version_minor": 0
      },
      "text/plain": [
       "  0%|          | 0/163 [00:00<?, ?it/s]"
      ]
     },
     "metadata": {},
     "output_type": "display_data"
    },
    {
     "data": {
      "application/vnd.jupyter.widget-view+json": {
       "model_id": "c117e938a5c949e1ac0c655fddfb9681",
       "version_major": 2,
       "version_minor": 0
      },
      "text/plain": [
       "  0%|          | 0/163 [00:00<?, ?it/s]"
      ]
     },
     "metadata": {},
     "output_type": "display_data"
    },
    {
     "data": {
      "application/vnd.jupyter.widget-view+json": {
       "model_id": "6d4ac3b5c0b24395ad3ab46dedd8ffdd",
       "version_major": 2,
       "version_minor": 0
      },
      "text/plain": [
       "  0%|          | 0/163 [00:00<?, ?it/s]"
      ]
     },
     "metadata": {},
     "output_type": "display_data"
    },
    {
     "data": {
      "application/vnd.jupyter.widget-view+json": {
       "model_id": "4fda58df62474b3487aa8f81399a4475",
       "version_major": 2,
       "version_minor": 0
      },
      "text/plain": [
       "  0%|          | 0/163 [00:00<?, ?it/s]"
      ]
     },
     "metadata": {},
     "output_type": "display_data"
    },
    {
     "data": {
      "application/vnd.jupyter.widget-view+json": {
       "model_id": "66e6df641cc14ed8b6bccb70ad94a0b3",
       "version_major": 2,
       "version_minor": 0
      },
      "text/plain": [
       "  0%|          | 0/163 [00:00<?, ?it/s]"
      ]
     },
     "metadata": {},
     "output_type": "display_data"
    },
    {
     "data": {
      "application/vnd.jupyter.widget-view+json": {
       "model_id": "4b84ce85f9c7440dba868d78cb1f58ef",
       "version_major": 2,
       "version_minor": 0
      },
      "text/plain": [
       "  0%|          | 0/163 [00:00<?, ?it/s]"
      ]
     },
     "metadata": {},
     "output_type": "display_data"
    },
    {
     "data": {
      "application/vnd.jupyter.widget-view+json": {
       "model_id": "37741b65fd2343fb9474484cd62ed2c1",
       "version_major": 2,
       "version_minor": 0
      },
      "text/plain": [
       "  0%|          | 0/163 [00:00<?, ?it/s]"
      ]
     },
     "metadata": {},
     "output_type": "display_data"
    },
    {
     "data": {
      "application/vnd.jupyter.widget-view+json": {
       "model_id": "7907829c83834b2c841462496a2f7890",
       "version_major": 2,
       "version_minor": 0
      },
      "text/plain": [
       "  0%|          | 0/163 [00:00<?, ?it/s]"
      ]
     },
     "metadata": {},
     "output_type": "display_data"
    },
    {
     "data": {
      "application/vnd.jupyter.widget-view+json": {
       "model_id": "a10d63e264614a35af0dc2e98939d9d5",
       "version_major": 2,
       "version_minor": 0
      },
      "text/plain": [
       "  0%|          | 0/163 [00:00<?, ?it/s]"
      ]
     },
     "metadata": {},
     "output_type": "display_data"
    },
    {
     "data": {
      "application/vnd.jupyter.widget-view+json": {
       "model_id": "e2f7372ff89740ddb0d6e9b8af09d04a",
       "version_major": 2,
       "version_minor": 0
      },
      "text/plain": [
       "  0%|          | 0/163 [00:00<?, ?it/s]"
      ]
     },
     "metadata": {},
     "output_type": "display_data"
    },
    {
     "data": {
      "application/vnd.jupyter.widget-view+json": {
       "model_id": "68a001f79307408fb88e88d5403773aa",
       "version_major": 2,
       "version_minor": 0
      },
      "text/plain": [
       "  0%|          | 0/163 [00:00<?, ?it/s]"
      ]
     },
     "metadata": {},
     "output_type": "display_data"
    },
    {
     "data": {
      "application/vnd.jupyter.widget-view+json": {
       "model_id": "5fba157354f847da8c7dc03980f3d6ab",
       "version_major": 2,
       "version_minor": 0
      },
      "text/plain": [
       "  0%|          | 0/163 [00:00<?, ?it/s]"
      ]
     },
     "metadata": {},
     "output_type": "display_data"
    },
    {
     "data": {
      "application/vnd.jupyter.widget-view+json": {
       "model_id": "3a508570861040348686131ddf190069",
       "version_major": 2,
       "version_minor": 0
      },
      "text/plain": [
       "  0%|          | 0/163 [00:00<?, ?it/s]"
      ]
     },
     "metadata": {},
     "output_type": "display_data"
    },
    {
     "data": {
      "application/vnd.jupyter.widget-view+json": {
       "model_id": "d341cfec25284ef99f43918d30ce5074",
       "version_major": 2,
       "version_minor": 0
      },
      "text/plain": [
       "  0%|          | 0/163 [00:00<?, ?it/s]"
      ]
     },
     "metadata": {},
     "output_type": "display_data"
    },
    {
     "data": {
      "application/vnd.jupyter.widget-view+json": {
       "model_id": "6d88958aa8c648d1a3430bd5d48a4379",
       "version_major": 2,
       "version_minor": 0
      },
      "text/plain": [
       "  0%|          | 0/163 [00:00<?, ?it/s]"
      ]
     },
     "metadata": {},
     "output_type": "display_data"
    },
    {
     "data": {
      "application/vnd.jupyter.widget-view+json": {
       "model_id": "6881780ef8d442e3964c96a5977fbdb1",
       "version_major": 2,
       "version_minor": 0
      },
      "text/plain": [
       "  0%|          | 0/163 [00:00<?, ?it/s]"
      ]
     },
     "metadata": {},
     "output_type": "display_data"
    },
    {
     "data": {
      "application/vnd.jupyter.widget-view+json": {
       "model_id": "784aa992353447f2b39f3b5f8240275c",
       "version_major": 2,
       "version_minor": 0
      },
      "text/plain": [
       "  0%|          | 0/163 [00:00<?, ?it/s]"
      ]
     },
     "metadata": {},
     "output_type": "display_data"
    },
    {
     "data": {
      "application/vnd.jupyter.widget-view+json": {
       "model_id": "acb4e49a4b1f46e095774f69063278c3",
       "version_major": 2,
       "version_minor": 0
      },
      "text/plain": [
       "  0%|          | 0/163 [00:00<?, ?it/s]"
      ]
     },
     "metadata": {},
     "output_type": "display_data"
    },
    {
     "data": {
      "application/vnd.jupyter.widget-view+json": {
       "model_id": "0c7fe6bd38374baea3432d25bb2e1b7a",
       "version_major": 2,
       "version_minor": 0
      },
      "text/plain": [
       "  0%|          | 0/163 [00:00<?, ?it/s]"
      ]
     },
     "metadata": {},
     "output_type": "display_data"
    },
    {
     "data": {
      "application/vnd.jupyter.widget-view+json": {
       "model_id": "e58e9729827f4ae6ab5cfb387a01cfe5",
       "version_major": 2,
       "version_minor": 0
      },
      "text/plain": [
       "  0%|          | 0/163 [00:00<?, ?it/s]"
      ]
     },
     "metadata": {},
     "output_type": "display_data"
    },
    {
     "data": {
      "application/vnd.jupyter.widget-view+json": {
       "model_id": "dbd5eb8d0856481f80f409541a8e69be",
       "version_major": 2,
       "version_minor": 0
      },
      "text/plain": [
       "  0%|          | 0/163 [00:00<?, ?it/s]"
      ]
     },
     "metadata": {},
     "output_type": "display_data"
    },
    {
     "data": {
      "application/vnd.jupyter.widget-view+json": {
       "model_id": "2e1eee866e3a495193552e3b1a2874b5",
       "version_major": 2,
       "version_minor": 0
      },
      "text/plain": [
       "  0%|          | 0/163 [00:00<?, ?it/s]"
      ]
     },
     "metadata": {},
     "output_type": "display_data"
    },
    {
     "data": {
      "application/vnd.jupyter.widget-view+json": {
       "model_id": "8adca98e8ece4f88a3e149e339ef5ac5",
       "version_major": 2,
       "version_minor": 0
      },
      "text/plain": [
       "  0%|          | 0/163 [00:00<?, ?it/s]"
      ]
     },
     "metadata": {},
     "output_type": "display_data"
    },
    {
     "data": {
      "application/vnd.jupyter.widget-view+json": {
       "model_id": "4a96d42397f34bd19c36e78904a8d62f",
       "version_major": 2,
       "version_minor": 0
      },
      "text/plain": [
       "  0%|          | 0/163 [00:00<?, ?it/s]"
      ]
     },
     "metadata": {},
     "output_type": "display_data"
    },
    {
     "data": {
      "application/vnd.jupyter.widget-view+json": {
       "model_id": "1d60ff6a9f534729ac92f01dfed9de77",
       "version_major": 2,
       "version_minor": 0
      },
      "text/plain": [
       "  0%|          | 0/163 [00:00<?, ?it/s]"
      ]
     },
     "metadata": {},
     "output_type": "display_data"
    },
    {
     "data": {
      "application/vnd.jupyter.widget-view+json": {
       "model_id": "80b73b07858c44859a7ffbee6f3a0327",
       "version_major": 2,
       "version_minor": 0
      },
      "text/plain": [
       "  0%|          | 0/163 [00:00<?, ?it/s]"
      ]
     },
     "metadata": {},
     "output_type": "display_data"
    },
    {
     "data": {
      "application/vnd.jupyter.widget-view+json": {
       "model_id": "996427221bd94c319052c0dbd22dc372",
       "version_major": 2,
       "version_minor": 0
      },
      "text/plain": [
       "  0%|          | 0/163 [00:00<?, ?it/s]"
      ]
     },
     "metadata": {},
     "output_type": "display_data"
    },
    {
     "data": {
      "application/vnd.jupyter.widget-view+json": {
       "model_id": "e87ee29d2dd74f0a908f2a178e53b42c",
       "version_major": 2,
       "version_minor": 0
      },
      "text/plain": [
       "  0%|          | 0/163 [00:00<?, ?it/s]"
      ]
     },
     "metadata": {},
     "output_type": "display_data"
    },
    {
     "data": {
      "application/vnd.jupyter.widget-view+json": {
       "model_id": "d20e35729c4140498a2b7efaea463736",
       "version_major": 2,
       "version_minor": 0
      },
      "text/plain": [
       "  0%|          | 0/163 [00:00<?, ?it/s]"
      ]
     },
     "metadata": {},
     "output_type": "display_data"
    },
    {
     "data": {
      "application/vnd.jupyter.widget-view+json": {
       "model_id": "bcb5a55a8384484aa7763e204faad8ad",
       "version_major": 2,
       "version_minor": 0
      },
      "text/plain": [
       "  0%|          | 0/163 [00:00<?, ?it/s]"
      ]
     },
     "metadata": {},
     "output_type": "display_data"
    },
    {
     "data": {
      "application/vnd.jupyter.widget-view+json": {
       "model_id": "8cd30ae8854446a1965f9805c2c049e6",
       "version_major": 2,
       "version_minor": 0
      },
      "text/plain": [
       "  0%|          | 0/163 [00:00<?, ?it/s]"
      ]
     },
     "metadata": {},
     "output_type": "display_data"
    },
    {
     "data": {
      "application/vnd.jupyter.widget-view+json": {
       "model_id": "ac8da5de5ddc450cb65e66e9c08c3338",
       "version_major": 2,
       "version_minor": 0
      },
      "text/plain": [
       "  0%|          | 0/163 [00:00<?, ?it/s]"
      ]
     },
     "metadata": {},
     "output_type": "display_data"
    },
    {
     "data": {
      "application/vnd.jupyter.widget-view+json": {
       "model_id": "a41f122f497a4ea9a070a1c6a8dbeffc",
       "version_major": 2,
       "version_minor": 0
      },
      "text/plain": [
       "  0%|          | 0/163 [00:00<?, ?it/s]"
      ]
     },
     "metadata": {},
     "output_type": "display_data"
    },
    {
     "data": {
      "application/vnd.jupyter.widget-view+json": {
       "model_id": "53ebd191b15d4b39af1b431fbfa66964",
       "version_major": 2,
       "version_minor": 0
      },
      "text/plain": [
       "  0%|          | 0/163 [00:00<?, ?it/s]"
      ]
     },
     "metadata": {},
     "output_type": "display_data"
    },
    {
     "data": {
      "application/vnd.jupyter.widget-view+json": {
       "model_id": "6c7eee5d36ae406fbeecdb5b04913a1c",
       "version_major": 2,
       "version_minor": 0
      },
      "text/plain": [
       "  0%|          | 0/163 [00:00<?, ?it/s]"
      ]
     },
     "metadata": {},
     "output_type": "display_data"
    },
    {
     "data": {
      "application/vnd.jupyter.widget-view+json": {
       "model_id": "b453414b40044d2dbc6d6ec9f4d3754d",
       "version_major": 2,
       "version_minor": 0
      },
      "text/plain": [
       "  0%|          | 0/163 [00:00<?, ?it/s]"
      ]
     },
     "metadata": {},
     "output_type": "display_data"
    },
    {
     "data": {
      "application/vnd.jupyter.widget-view+json": {
       "model_id": "7711ae5e175949f0b0dbf4358ffacda5",
       "version_major": 2,
       "version_minor": 0
      },
      "text/plain": [
       "  0%|          | 0/163 [00:00<?, ?it/s]"
      ]
     },
     "metadata": {},
     "output_type": "display_data"
    },
    {
     "data": {
      "application/vnd.jupyter.widget-view+json": {
       "model_id": "60de2ea4f73846a896c6a901653ed219",
       "version_major": 2,
       "version_minor": 0
      },
      "text/plain": [
       "  0%|          | 0/163 [00:00<?, ?it/s]"
      ]
     },
     "metadata": {},
     "output_type": "display_data"
    },
    {
     "data": {
      "application/vnd.jupyter.widget-view+json": {
       "model_id": "abb195282163450f8c2fb086051d4b94",
       "version_major": 2,
       "version_minor": 0
      },
      "text/plain": [
       "  0%|          | 0/163 [00:00<?, ?it/s]"
      ]
     },
     "metadata": {},
     "output_type": "display_data"
    },
    {
     "data": {
      "application/vnd.jupyter.widget-view+json": {
       "model_id": "6c94817b9995479b917ceaccc5478c8a",
       "version_major": 2,
       "version_minor": 0
      },
      "text/plain": [
       "  0%|          | 0/163 [00:00<?, ?it/s]"
      ]
     },
     "metadata": {},
     "output_type": "display_data"
    },
    {
     "data": {
      "application/vnd.jupyter.widget-view+json": {
       "model_id": "f7f2017e401441f290ecbb556efb1670",
       "version_major": 2,
       "version_minor": 0
      },
      "text/plain": [
       "  0%|          | 0/163 [00:00<?, ?it/s]"
      ]
     },
     "metadata": {},
     "output_type": "display_data"
    },
    {
     "data": {
      "application/vnd.jupyter.widget-view+json": {
       "model_id": "3085204ea0064ca196767b9fe028ce38",
       "version_major": 2,
       "version_minor": 0
      },
      "text/plain": [
       "  0%|          | 0/163 [00:00<?, ?it/s]"
      ]
     },
     "metadata": {},
     "output_type": "display_data"
    },
    {
     "data": {
      "application/vnd.jupyter.widget-view+json": {
       "model_id": "ad1ad4d4463a4231b4454be3df0c4966",
       "version_major": 2,
       "version_minor": 0
      },
      "text/plain": [
       "  0%|          | 0/163 [00:00<?, ?it/s]"
      ]
     },
     "metadata": {},
     "output_type": "display_data"
    },
    {
     "data": {
      "application/vnd.jupyter.widget-view+json": {
       "model_id": "5e986c8d677043e59a14dcda83069b83",
       "version_major": 2,
       "version_minor": 0
      },
      "text/plain": [
       "  0%|          | 0/163 [00:00<?, ?it/s]"
      ]
     },
     "metadata": {},
     "output_type": "display_data"
    },
    {
     "data": {
      "application/vnd.jupyter.widget-view+json": {
       "model_id": "ee128eaeecdb447689747b352ce8c238",
       "version_major": 2,
       "version_minor": 0
      },
      "text/plain": [
       "  0%|          | 0/163 [00:00<?, ?it/s]"
      ]
     },
     "metadata": {},
     "output_type": "display_data"
    },
    {
     "data": {
      "application/vnd.jupyter.widget-view+json": {
       "model_id": "d8671dd40fb14b9fa6e5c8e6309b83cd",
       "version_major": 2,
       "version_minor": 0
      },
      "text/plain": [
       "  0%|          | 0/163 [00:00<?, ?it/s]"
      ]
     },
     "metadata": {},
     "output_type": "display_data"
    },
    {
     "data": {
      "application/vnd.jupyter.widget-view+json": {
       "model_id": "2dc4cb75f2bb4f6da209e5072dc4f0f2",
       "version_major": 2,
       "version_minor": 0
      },
      "text/plain": [
       "  0%|          | 0/163 [00:00<?, ?it/s]"
      ]
     },
     "metadata": {},
     "output_type": "display_data"
    },
    {
     "data": {
      "application/vnd.jupyter.widget-view+json": {
       "model_id": "cb93189893294a2a99fa04e85d2f30af",
       "version_major": 2,
       "version_minor": 0
      },
      "text/plain": [
       "  0%|          | 0/163 [00:00<?, ?it/s]"
      ]
     },
     "metadata": {},
     "output_type": "display_data"
    },
    {
     "data": {
      "application/vnd.jupyter.widget-view+json": {
       "model_id": "2cc565292a9947a8919122f331e9d3c4",
       "version_major": 2,
       "version_minor": 0
      },
      "text/plain": [
       "  0%|          | 0/163 [00:00<?, ?it/s]"
      ]
     },
     "metadata": {},
     "output_type": "display_data"
    },
    {
     "data": {
      "application/vnd.jupyter.widget-view+json": {
       "model_id": "ec966d6529ee4e41aebe4fb7662778a3",
       "version_major": 2,
       "version_minor": 0
      },
      "text/plain": [
       "  0%|          | 0/163 [00:00<?, ?it/s]"
      ]
     },
     "metadata": {},
     "output_type": "display_data"
    },
    {
     "data": {
      "application/vnd.jupyter.widget-view+json": {
       "model_id": "018216acb5164aa78271344c2b5bc1ba",
       "version_major": 2,
       "version_minor": 0
      },
      "text/plain": [
       "  0%|          | 0/163 [00:00<?, ?it/s]"
      ]
     },
     "metadata": {},
     "output_type": "display_data"
    },
    {
     "data": {
      "application/vnd.jupyter.widget-view+json": {
       "model_id": "989e60dd142148fb98ae2d0214b1d2cb",
       "version_major": 2,
       "version_minor": 0
      },
      "text/plain": [
       "  0%|          | 0/163 [00:00<?, ?it/s]"
      ]
     },
     "metadata": {},
     "output_type": "display_data"
    },
    {
     "data": {
      "application/vnd.jupyter.widget-view+json": {
       "model_id": "506df9ec9922461aae873eb432e81f42",
       "version_major": 2,
       "version_minor": 0
      },
      "text/plain": [
       "  0%|          | 0/163 [00:00<?, ?it/s]"
      ]
     },
     "metadata": {},
     "output_type": "display_data"
    },
    {
     "data": {
      "application/vnd.jupyter.widget-view+json": {
       "model_id": "1434d7df739346479b7aa1e04577c2bc",
       "version_major": 2,
       "version_minor": 0
      },
      "text/plain": [
       "  0%|          | 0/163 [00:00<?, ?it/s]"
      ]
     },
     "metadata": {},
     "output_type": "display_data"
    },
    {
     "data": {
      "application/vnd.jupyter.widget-view+json": {
       "model_id": "1bcce63fbf6d4cf897952063975e82ac",
       "version_major": 2,
       "version_minor": 0
      },
      "text/plain": [
       "  0%|          | 0/163 [00:00<?, ?it/s]"
      ]
     },
     "metadata": {},
     "output_type": "display_data"
    },
    {
     "data": {
      "application/vnd.jupyter.widget-view+json": {
       "model_id": "ee91350d1e164c53bc584272a6870ce7",
       "version_major": 2,
       "version_minor": 0
      },
      "text/plain": [
       "  0%|          | 0/163 [00:00<?, ?it/s]"
      ]
     },
     "metadata": {},
     "output_type": "display_data"
    },
    {
     "data": {
      "application/vnd.jupyter.widget-view+json": {
       "model_id": "88956f848ccb4524bb40958a7e498676",
       "version_major": 2,
       "version_minor": 0
      },
      "text/plain": [
       "  0%|          | 0/163 [00:00<?, ?it/s]"
      ]
     },
     "metadata": {},
     "output_type": "display_data"
    },
    {
     "data": {
      "application/vnd.jupyter.widget-view+json": {
       "model_id": "0eef80b9a24d48c49c192c3d84446fd9",
       "version_major": 2,
       "version_minor": 0
      },
      "text/plain": [
       "  0%|          | 0/163 [00:00<?, ?it/s]"
      ]
     },
     "metadata": {},
     "output_type": "display_data"
    },
    {
     "data": {
      "application/vnd.jupyter.widget-view+json": {
       "model_id": "ae16d93d29074d439811096bbd4d8d6c",
       "version_major": 2,
       "version_minor": 0
      },
      "text/plain": [
       "  0%|          | 0/163 [00:00<?, ?it/s]"
      ]
     },
     "metadata": {},
     "output_type": "display_data"
    },
    {
     "data": {
      "application/vnd.jupyter.widget-view+json": {
       "model_id": "9ad2907197df4a98b332e99c17e26331",
       "version_major": 2,
       "version_minor": 0
      },
      "text/plain": [
       "  0%|          | 0/163 [00:00<?, ?it/s]"
      ]
     },
     "metadata": {},
     "output_type": "display_data"
    },
    {
     "data": {
      "application/vnd.jupyter.widget-view+json": {
       "model_id": "4d4c59f4e168452c808c8964045c650b",
       "version_major": 2,
       "version_minor": 0
      },
      "text/plain": [
       "  0%|          | 0/163 [00:00<?, ?it/s]"
      ]
     },
     "metadata": {},
     "output_type": "display_data"
    },
    {
     "data": {
      "application/vnd.jupyter.widget-view+json": {
       "model_id": "7e5132b75e264b6aacf0558932185a96",
       "version_major": 2,
       "version_minor": 0
      },
      "text/plain": [
       "  0%|          | 0/163 [00:00<?, ?it/s]"
      ]
     },
     "metadata": {},
     "output_type": "display_data"
    },
    {
     "data": {
      "application/vnd.jupyter.widget-view+json": {
       "model_id": "cec41e3c777347ad8e97e589e146b9f3",
       "version_major": 2,
       "version_minor": 0
      },
      "text/plain": [
       "  0%|          | 0/163 [00:00<?, ?it/s]"
      ]
     },
     "metadata": {},
     "output_type": "display_data"
    },
    {
     "data": {
      "application/vnd.jupyter.widget-view+json": {
       "model_id": "8636a386cc5b44de9f2079cb6779e74e",
       "version_major": 2,
       "version_minor": 0
      },
      "text/plain": [
       "  0%|          | 0/163 [00:00<?, ?it/s]"
      ]
     },
     "metadata": {},
     "output_type": "display_data"
    },
    {
     "data": {
      "application/vnd.jupyter.widget-view+json": {
       "model_id": "d4f99b82d0424dc394151c63ff3f13fb",
       "version_major": 2,
       "version_minor": 0
      },
      "text/plain": [
       "  0%|          | 0/163 [00:00<?, ?it/s]"
      ]
     },
     "metadata": {},
     "output_type": "display_data"
    },
    {
     "data": {
      "application/vnd.jupyter.widget-view+json": {
       "model_id": "522d71a11f4f4109b98a833c598a11bf",
       "version_major": 2,
       "version_minor": 0
      },
      "text/plain": [
       "  0%|          | 0/163 [00:00<?, ?it/s]"
      ]
     },
     "metadata": {},
     "output_type": "display_data"
    },
    {
     "data": {
      "application/vnd.jupyter.widget-view+json": {
       "model_id": "5f73dc3f72774359ba3e5c49805e6918",
       "version_major": 2,
       "version_minor": 0
      },
      "text/plain": [
       "  0%|          | 0/163 [00:00<?, ?it/s]"
      ]
     },
     "metadata": {},
     "output_type": "display_data"
    },
    {
     "name": "stdout",
     "output_type": "stream",
     "text": [
      "[('H. Kwasnicka', 0.0), ('M. Przewozniczek', 0.0), ('P. Dziurzanski', 0.0), ('S. Zhao', 0.0), ('L. Indrusiak', 0.0), ('S. Feuerriegel', 0.0), ('M. Gniewkowski', 0.0), ('H. Maciejewski', 0.0), ('T. Surmacz', 0.0), ('Z. Michalewicz', 0.01), ('A. Krakovska', 0.01), ('J. Jakubik', 0.01), ('H. Budacova', 0.01), ('M. Holecyova', 0.01), ('A. Binding', 0.01), ('M. Paradowski', 0.01), ('K. Meissner', 0.01), ('W. Walentynowicz', 0.01), ('P. Myszkowski', 0.02), ('K. Oslizlo', 0.02), ('H. Steinacker', 0.02), ('R. Suszek', 0.02), ('K. Turzynski', 0.02), ('M. Spytkowski', 0.03), ('L. Olech', 0.03), ('M. Panfil', 0.03), ('E. Sessolo', 0.03), ('M. Skowronski', 0.04), ('J. Kwiatkowski', 0.04), ('S. Pokorski', 0.04), ('T. Jelinski', 0.04), ('S. Yankielowicz', 0.04), ('K. Gorman', 0.05), ('S. Theisen', 0.06), ('S. Rey', 0.06), ('Z. Lalak', 0.07), ('K. Kowalska', 0.07), ('O. Aharony', 0.08), ('J. Pawelczyk', 0.11), ('B. Czerny', 0.12), ('S. Wozniak', 0.12), ('J. Kuraszkiewicz', 0.13), ('M. Nikolajuk', 0.16), ('H. Johnson', 0.18), ('R. Radwanski', 0.18), ('H. Jegierski', 0.19), ('B. V', 0.2), ('X. Wang', 0.21), ('M. Rizoiu', 0.23), ('N. Conci', 0.24), ('M. Zieba', 0.25), ('M. Boldt', 0.26), ('J. Grobelny', 0.26), ('Y. Wang', 0.26), ('B. Tjandra', 0.27), ('F. Erlandsson', 0.28), ('M. Szymanski', 0.29), ('X. Sumba', 0.31), ('K. Rajda', 0.33), ('W. Karwowski', 0.33), ('P. Gramacki', 0.33), ('J. Cabezas', 0.33), ('K. Idanwekhai', 0.33), ('E. Kanaga', 0.34), ('A. Chmiel', 0.35), ('W. Liu', 0.36), ('T. Jia', 0.36), ('M. Bernaczyk', 0.38), ('Z. Ropka', 0.38), ('E. Kosasih', 0.38), ('K. Juszczyszyn', 0.39), ('S. Cheong', 0.39), ('K. Kania', 0.4), ('G. Ragozini', 0.41), ('Y. Ran', 0.42), ('M. Falkiewicz', 0.44), ('J. Mizgajski', 0.44), ('N. Chawla', 0.45), ('Y. Yeliseyenka', 0.45), ('A. Zbieg', 0.45), ('A. Jamasb', 0.45), ('W. Indyk', 0.46), ('S. Ciuberek', 0.46), ('N. Bisagno', 0.47), ('M. Nurek', 0.48), ('N. Garau', 0.53), ('P. Bielak', 0.54), ('M. Zolnieruk', 0.57), ('P. Oleszczyk', 0.57), ('B. Zak', 0.57), ('A. Borg', 0.59), ('T. Filipowski', 0.6), ('I. Gisterek', 0.6), ('P. Stawiak', 0.62), ('K. Kersting', 0.62), ('V. Yukhymchuk', 0.62), ('B. Koloszczyk', 0.65), ('J. Gaworecki', 0.67), ('K. Raczycki', 0.67), ('R. Bartusiak', 0.69), ('K. Pasierb', 0.71), ('C. Lebiere', 0.71), ('K. Tagowski', 0.71), ('M. Koziarski', 0.72), ('K. Ozga', 0.73), ('P. Rozewski', 0.74), ('I. Olekseyuk', 0.75), ('M. Skoryk', 0.76), ('P. Doskocz', 0.77), ('M. Shevchuk', 0.77), ('J. Hamari', 0.77), ('M. Magnani', 0.77), ('A. Szymczak', 0.78), ('G. Miebs', 0.79), ('O. Lizardo', 0.79), ('Y. Gule', 0.79), ('M. Zyla-Hoppe', 0.81), ('Y. Carmiel', 0.86), ('A. Kevshyn', 0.92), ('A. Zygmunt', 0.93), ('N. Dehak', 0.93), ('A. Rusin', 0.96), ('K. Skibicki', 0.98), ('S. Utz', 0.98), ('M. Dziezyc', 0.99), ('J. Komoszynska', 0.99), ('J. Banaszczak', 1.0), ('A. Polak', 1.03), ('K. Jedryka', 1.08), ('I. Ivashchenko', 1.09), ('V. Halyan', 1.12), ('W. Michalska', 1.15), ('P. Jakimow', 1.15), ('P. Tishchenko', 1.16), ('M. Kulisiewicz', 1.21), ('S. Keung', 1.22), ('M. Ujma', 1.24), ('M. Piasecki', 1.3), ('J. Jankowski', 1.31), ('J. Kozlak', 1.31), ('L. Augustyniak', 1.36), ('A. Dutkowiak', 1.36), ('L. Zhao', 1.38), ('B. Gliwa', 1.39), ('B. Szymanski', 1.46), ('P. Szymanski', 1.46), ('P. Zelasko', 1.49), ('V. Curcin', 1.51), ('A. Dziadek', 1.53), ('A. Andreasson', 1.56), ('T. Arvanitis', 1.57), ('M. Morzy', 1.59), ('N. Mastellos', 1.72), ('K. Musial', 1.73), ('A. Burgun', 1.73), ('J. Ethier', 1.78), ('M. Mcgilchrist', 1.82), ('B. Delaney', 1.86), ('S. Saganowski', 1.95), ('R. Michalski', 2.42), ('T. Kajdanowicz', 2.47), ('P. Kazienko', 2.89), ('P. Brodka', 3.32)]\n"
     ]
    }
   ],
   "source": [
    "runs = []\n",
    "for _ in range(100):\n",
    "    runs.append(collect_sir_all(ge))\n",
    "df = pd.DataFrame(runs)\n",
    "answer = dict(df.mean())\n",
    "print(sorted(list(answer.items()), key=lambda x: x[1]))"
   ]
  },
  {
   "cell_type": "code",
   "execution_count": 177,
   "metadata": {},
   "outputs": [
    {
     "data": {
      "application/vnd.jupyter.widget-view+json": {
       "model_id": "ceff71ec3de245c8a158a39f16cf6ae5",
       "version_major": 2,
       "version_minor": 0
      },
      "text/plain": [
       "  0%|          | 0/163 [00:00<?, ?it/s]"
      ]
     },
     "metadata": {},
     "output_type": "display_data"
    },
    {
     "data": {
      "application/vnd.jupyter.widget-view+json": {
       "model_id": "159545d2263a4b92b22ea874ba91f645",
       "version_major": 2,
       "version_minor": 0
      },
      "text/plain": [
       "  0%|          | 0/163 [00:00<?, ?it/s]"
      ]
     },
     "metadata": {},
     "output_type": "display_data"
    },
    {
     "data": {
      "application/vnd.jupyter.widget-view+json": {
       "model_id": "566b8e19113848339ff497fa900eaa27",
       "version_major": 2,
       "version_minor": 0
      },
      "text/plain": [
       "  0%|          | 0/163 [00:00<?, ?it/s]"
      ]
     },
     "metadata": {},
     "output_type": "display_data"
    },
    {
     "data": {
      "application/vnd.jupyter.widget-view+json": {
       "model_id": "9ac3cc7fea3f43b2a5453ca8b1ec9b2d",
       "version_major": 2,
       "version_minor": 0
      },
      "text/plain": [
       "  0%|          | 0/163 [00:00<?, ?it/s]"
      ]
     },
     "metadata": {},
     "output_type": "display_data"
    },
    {
     "data": {
      "application/vnd.jupyter.widget-view+json": {
       "model_id": "3fe95aabe6f4479f9c34e023c2bba667",
       "version_major": 2,
       "version_minor": 0
      },
      "text/plain": [
       "  0%|          | 0/163 [00:00<?, ?it/s]"
      ]
     },
     "metadata": {},
     "output_type": "display_data"
    },
    {
     "data": {
      "application/vnd.jupyter.widget-view+json": {
       "model_id": "fd78bf1ab178492e9467f4b81e493162",
       "version_major": 2,
       "version_minor": 0
      },
      "text/plain": [
       "  0%|          | 0/163 [00:00<?, ?it/s]"
      ]
     },
     "metadata": {},
     "output_type": "display_data"
    },
    {
     "data": {
      "application/vnd.jupyter.widget-view+json": {
       "model_id": "e26d268b459a4ab790a4bd39b0fd7daf",
       "version_major": 2,
       "version_minor": 0
      },
      "text/plain": [
       "  0%|          | 0/163 [00:00<?, ?it/s]"
      ]
     },
     "metadata": {},
     "output_type": "display_data"
    },
    {
     "data": {
      "application/vnd.jupyter.widget-view+json": {
       "model_id": "da7dfa0e400144cba278b8799e417203",
       "version_major": 2,
       "version_minor": 0
      },
      "text/plain": [
       "  0%|          | 0/163 [00:00<?, ?it/s]"
      ]
     },
     "metadata": {},
     "output_type": "display_data"
    },
    {
     "data": {
      "application/vnd.jupyter.widget-view+json": {
       "model_id": "f8c8e129fe8247d9aae9610118a4f6bc",
       "version_major": 2,
       "version_minor": 0
      },
      "text/plain": [
       "  0%|          | 0/163 [00:00<?, ?it/s]"
      ]
     },
     "metadata": {},
     "output_type": "display_data"
    },
    {
     "data": {
      "application/vnd.jupyter.widget-view+json": {
       "model_id": "fbca90321fde460b907da9fb4fbe37f2",
       "version_major": 2,
       "version_minor": 0
      },
      "text/plain": [
       "  0%|          | 0/163 [00:00<?, ?it/s]"
      ]
     },
     "metadata": {},
     "output_type": "display_data"
    },
    {
     "data": {
      "application/vnd.jupyter.widget-view+json": {
       "model_id": "c1ad2626fd4442b888e274ed56724f2a",
       "version_major": 2,
       "version_minor": 0
      },
      "text/plain": [
       "  0%|          | 0/163 [00:00<?, ?it/s]"
      ]
     },
     "metadata": {},
     "output_type": "display_data"
    },
    {
     "data": {
      "application/vnd.jupyter.widget-view+json": {
       "model_id": "f822d31403674d838e0ea560db3a6207",
       "version_major": 2,
       "version_minor": 0
      },
      "text/plain": [
       "  0%|          | 0/163 [00:00<?, ?it/s]"
      ]
     },
     "metadata": {},
     "output_type": "display_data"
    },
    {
     "data": {
      "application/vnd.jupyter.widget-view+json": {
       "model_id": "5da2e1efeb18448e9ee8ad47db877b22",
       "version_major": 2,
       "version_minor": 0
      },
      "text/plain": [
       "  0%|          | 0/163 [00:00<?, ?it/s]"
      ]
     },
     "metadata": {},
     "output_type": "display_data"
    },
    {
     "data": {
      "application/vnd.jupyter.widget-view+json": {
       "model_id": "21fa9590b76b4391887f544ac183c961",
       "version_major": 2,
       "version_minor": 0
      },
      "text/plain": [
       "  0%|          | 0/163 [00:00<?, ?it/s]"
      ]
     },
     "metadata": {},
     "output_type": "display_data"
    },
    {
     "data": {
      "application/vnd.jupyter.widget-view+json": {
       "model_id": "315365acab7b40a28f5754248127802f",
       "version_major": 2,
       "version_minor": 0
      },
      "text/plain": [
       "  0%|          | 0/163 [00:00<?, ?it/s]"
      ]
     },
     "metadata": {},
     "output_type": "display_data"
    },
    {
     "data": {
      "application/vnd.jupyter.widget-view+json": {
       "model_id": "e0b1060c1434487da4cdf2b12908e413",
       "version_major": 2,
       "version_minor": 0
      },
      "text/plain": [
       "  0%|          | 0/163 [00:00<?, ?it/s]"
      ]
     },
     "metadata": {},
     "output_type": "display_data"
    },
    {
     "data": {
      "application/vnd.jupyter.widget-view+json": {
       "model_id": "bf2d3887c0e34e8b8b04bd34d4fb560f",
       "version_major": 2,
       "version_minor": 0
      },
      "text/plain": [
       "  0%|          | 0/163 [00:00<?, ?it/s]"
      ]
     },
     "metadata": {},
     "output_type": "display_data"
    },
    {
     "data": {
      "application/vnd.jupyter.widget-view+json": {
       "model_id": "8c933e7b77834be3a76c4a0be70cefb8",
       "version_major": 2,
       "version_minor": 0
      },
      "text/plain": [
       "  0%|          | 0/163 [00:00<?, ?it/s]"
      ]
     },
     "metadata": {},
     "output_type": "display_data"
    },
    {
     "data": {
      "application/vnd.jupyter.widget-view+json": {
       "model_id": "6dc86a52ab834b07887f6715c95604c6",
       "version_major": 2,
       "version_minor": 0
      },
      "text/plain": [
       "  0%|          | 0/163 [00:00<?, ?it/s]"
      ]
     },
     "metadata": {},
     "output_type": "display_data"
    },
    {
     "data": {
      "application/vnd.jupyter.widget-view+json": {
       "model_id": "362c6c49a7db489f939f7c657e06abc9",
       "version_major": 2,
       "version_minor": 0
      },
      "text/plain": [
       "  0%|          | 0/163 [00:00<?, ?it/s]"
      ]
     },
     "metadata": {},
     "output_type": "display_data"
    },
    {
     "data": {
      "application/vnd.jupyter.widget-view+json": {
       "model_id": "619e14285e3d4c02ba41b678a8788d38",
       "version_major": 2,
       "version_minor": 0
      },
      "text/plain": [
       "  0%|          | 0/163 [00:00<?, ?it/s]"
      ]
     },
     "metadata": {},
     "output_type": "display_data"
    },
    {
     "data": {
      "application/vnd.jupyter.widget-view+json": {
       "model_id": "9176f318778c47f787d30567b4da399e",
       "version_major": 2,
       "version_minor": 0
      },
      "text/plain": [
       "  0%|          | 0/163 [00:00<?, ?it/s]"
      ]
     },
     "metadata": {},
     "output_type": "display_data"
    },
    {
     "data": {
      "application/vnd.jupyter.widget-view+json": {
       "model_id": "c25c6fdc4fac4dd9b5ae702c1a7db95f",
       "version_major": 2,
       "version_minor": 0
      },
      "text/plain": [
       "  0%|          | 0/163 [00:00<?, ?it/s]"
      ]
     },
     "metadata": {},
     "output_type": "display_data"
    },
    {
     "data": {
      "application/vnd.jupyter.widget-view+json": {
       "model_id": "882f528723f24f80b0021c11a6897cec",
       "version_major": 2,
       "version_minor": 0
      },
      "text/plain": [
       "  0%|          | 0/163 [00:00<?, ?it/s]"
      ]
     },
     "metadata": {},
     "output_type": "display_data"
    },
    {
     "data": {
      "application/vnd.jupyter.widget-view+json": {
       "model_id": "87ce3aa95df6403ab85fd61e6a632ff0",
       "version_major": 2,
       "version_minor": 0
      },
      "text/plain": [
       "  0%|          | 0/163 [00:00<?, ?it/s]"
      ]
     },
     "metadata": {},
     "output_type": "display_data"
    },
    {
     "data": {
      "application/vnd.jupyter.widget-view+json": {
       "model_id": "fd45c2dd6f764985b6d4f3340a82abd5",
       "version_major": 2,
       "version_minor": 0
      },
      "text/plain": [
       "  0%|          | 0/163 [00:00<?, ?it/s]"
      ]
     },
     "metadata": {},
     "output_type": "display_data"
    },
    {
     "data": {
      "application/vnd.jupyter.widget-view+json": {
       "model_id": "856721922f334a0c9c1675d77d94ebdd",
       "version_major": 2,
       "version_minor": 0
      },
      "text/plain": [
       "  0%|          | 0/163 [00:00<?, ?it/s]"
      ]
     },
     "metadata": {},
     "output_type": "display_data"
    },
    {
     "data": {
      "application/vnd.jupyter.widget-view+json": {
       "model_id": "cdbce157d33f4459b1ebdcedfa17e594",
       "version_major": 2,
       "version_minor": 0
      },
      "text/plain": [
       "  0%|          | 0/163 [00:00<?, ?it/s]"
      ]
     },
     "metadata": {},
     "output_type": "display_data"
    },
    {
     "data": {
      "application/vnd.jupyter.widget-view+json": {
       "model_id": "50935ceb651d456ba614a54c9fd7b37c",
       "version_major": 2,
       "version_minor": 0
      },
      "text/plain": [
       "  0%|          | 0/163 [00:00<?, ?it/s]"
      ]
     },
     "metadata": {},
     "output_type": "display_data"
    },
    {
     "data": {
      "application/vnd.jupyter.widget-view+json": {
       "model_id": "e26ffb1e509a449d93eee416ab948aae",
       "version_major": 2,
       "version_minor": 0
      },
      "text/plain": [
       "  0%|          | 0/163 [00:00<?, ?it/s]"
      ]
     },
     "metadata": {},
     "output_type": "display_data"
    },
    {
     "data": {
      "application/vnd.jupyter.widget-view+json": {
       "model_id": "7373aa86f9c443b08871a990282ff23b",
       "version_major": 2,
       "version_minor": 0
      },
      "text/plain": [
       "  0%|          | 0/163 [00:00<?, ?it/s]"
      ]
     },
     "metadata": {},
     "output_type": "display_data"
    },
    {
     "data": {
      "application/vnd.jupyter.widget-view+json": {
       "model_id": "d6893eb2651f4422bbef66ee1722760e",
       "version_major": 2,
       "version_minor": 0
      },
      "text/plain": [
       "  0%|          | 0/163 [00:00<?, ?it/s]"
      ]
     },
     "metadata": {},
     "output_type": "display_data"
    },
    {
     "data": {
      "application/vnd.jupyter.widget-view+json": {
       "model_id": "00c300cad7c845c481730256b7349265",
       "version_major": 2,
       "version_minor": 0
      },
      "text/plain": [
       "  0%|          | 0/163 [00:00<?, ?it/s]"
      ]
     },
     "metadata": {},
     "output_type": "display_data"
    },
    {
     "data": {
      "application/vnd.jupyter.widget-view+json": {
       "model_id": "412a1477f1f44ae19d90c5dd34f16094",
       "version_major": 2,
       "version_minor": 0
      },
      "text/plain": [
       "  0%|          | 0/163 [00:00<?, ?it/s]"
      ]
     },
     "metadata": {},
     "output_type": "display_data"
    },
    {
     "data": {
      "application/vnd.jupyter.widget-view+json": {
       "model_id": "863a55b262854efc81220eee8cdc094b",
       "version_major": 2,
       "version_minor": 0
      },
      "text/plain": [
       "  0%|          | 0/163 [00:00<?, ?it/s]"
      ]
     },
     "metadata": {},
     "output_type": "display_data"
    },
    {
     "data": {
      "application/vnd.jupyter.widget-view+json": {
       "model_id": "b89099e2cbd64a37b210d479a0f31a3a",
       "version_major": 2,
       "version_minor": 0
      },
      "text/plain": [
       "  0%|          | 0/163 [00:00<?, ?it/s]"
      ]
     },
     "metadata": {},
     "output_type": "display_data"
    },
    {
     "data": {
      "application/vnd.jupyter.widget-view+json": {
       "model_id": "f65eea07c51a4d3ebf3281805187c2c2",
       "version_major": 2,
       "version_minor": 0
      },
      "text/plain": [
       "  0%|          | 0/163 [00:00<?, ?it/s]"
      ]
     },
     "metadata": {},
     "output_type": "display_data"
    },
    {
     "data": {
      "application/vnd.jupyter.widget-view+json": {
       "model_id": "282a3ab2a1804c5fb5a7b066f6d7dde6",
       "version_major": 2,
       "version_minor": 0
      },
      "text/plain": [
       "  0%|          | 0/163 [00:00<?, ?it/s]"
      ]
     },
     "metadata": {},
     "output_type": "display_data"
    },
    {
     "data": {
      "application/vnd.jupyter.widget-view+json": {
       "model_id": "a76dfebfab58440f82e3ddef0cce17e6",
       "version_major": 2,
       "version_minor": 0
      },
      "text/plain": [
       "  0%|          | 0/163 [00:00<?, ?it/s]"
      ]
     },
     "metadata": {},
     "output_type": "display_data"
    },
    {
     "data": {
      "application/vnd.jupyter.widget-view+json": {
       "model_id": "eb3d30a2e9c9431da6e203e12a19c250",
       "version_major": 2,
       "version_minor": 0
      },
      "text/plain": [
       "  0%|          | 0/163 [00:00<?, ?it/s]"
      ]
     },
     "metadata": {},
     "output_type": "display_data"
    },
    {
     "data": {
      "application/vnd.jupyter.widget-view+json": {
       "model_id": "b27d93893c6548d89cb0230966983f9a",
       "version_major": 2,
       "version_minor": 0
      },
      "text/plain": [
       "  0%|          | 0/163 [00:00<?, ?it/s]"
      ]
     },
     "metadata": {},
     "output_type": "display_data"
    },
    {
     "data": {
      "application/vnd.jupyter.widget-view+json": {
       "model_id": "5009700b951546769509fdbbe554f255",
       "version_major": 2,
       "version_minor": 0
      },
      "text/plain": [
       "  0%|          | 0/163 [00:00<?, ?it/s]"
      ]
     },
     "metadata": {},
     "output_type": "display_data"
    },
    {
     "data": {
      "application/vnd.jupyter.widget-view+json": {
       "model_id": "54a9a1c35bcd43b7b61b0611fd7e7178",
       "version_major": 2,
       "version_minor": 0
      },
      "text/plain": [
       "  0%|          | 0/163 [00:00<?, ?it/s]"
      ]
     },
     "metadata": {},
     "output_type": "display_data"
    },
    {
     "data": {
      "application/vnd.jupyter.widget-view+json": {
       "model_id": "4d5baee7d617486eb4f673abe4d5f8e7",
       "version_major": 2,
       "version_minor": 0
      },
      "text/plain": [
       "  0%|          | 0/163 [00:00<?, ?it/s]"
      ]
     },
     "metadata": {},
     "output_type": "display_data"
    },
    {
     "data": {
      "application/vnd.jupyter.widget-view+json": {
       "model_id": "3f2eebd7489c403595845ebe7e7e3c81",
       "version_major": 2,
       "version_minor": 0
      },
      "text/plain": [
       "  0%|          | 0/163 [00:00<?, ?it/s]"
      ]
     },
     "metadata": {},
     "output_type": "display_data"
    },
    {
     "data": {
      "application/vnd.jupyter.widget-view+json": {
       "model_id": "31696ffeef43419baf15ba8ce145efaf",
       "version_major": 2,
       "version_minor": 0
      },
      "text/plain": [
       "  0%|          | 0/163 [00:00<?, ?it/s]"
      ]
     },
     "metadata": {},
     "output_type": "display_data"
    },
    {
     "data": {
      "application/vnd.jupyter.widget-view+json": {
       "model_id": "16935855886b414ba37ed53be7af60ae",
       "version_major": 2,
       "version_minor": 0
      },
      "text/plain": [
       "  0%|          | 0/163 [00:00<?, ?it/s]"
      ]
     },
     "metadata": {},
     "output_type": "display_data"
    },
    {
     "data": {
      "application/vnd.jupyter.widget-view+json": {
       "model_id": "58ab48b019fa456583bb91715a90d237",
       "version_major": 2,
       "version_minor": 0
      },
      "text/plain": [
       "  0%|          | 0/163 [00:00<?, ?it/s]"
      ]
     },
     "metadata": {},
     "output_type": "display_data"
    },
    {
     "data": {
      "application/vnd.jupyter.widget-view+json": {
       "model_id": "97e08b8982b14bbb8a2b58ec4273e60f",
       "version_major": 2,
       "version_minor": 0
      },
      "text/plain": [
       "  0%|          | 0/163 [00:00<?, ?it/s]"
      ]
     },
     "metadata": {},
     "output_type": "display_data"
    },
    {
     "data": {
      "application/vnd.jupyter.widget-view+json": {
       "model_id": "334f746218ee47deb61e4879404ae53f",
       "version_major": 2,
       "version_minor": 0
      },
      "text/plain": [
       "  0%|          | 0/163 [00:00<?, ?it/s]"
      ]
     },
     "metadata": {},
     "output_type": "display_data"
    },
    {
     "data": {
      "application/vnd.jupyter.widget-view+json": {
       "model_id": "a4a308e32a904d0a98990d326509dfe9",
       "version_major": 2,
       "version_minor": 0
      },
      "text/plain": [
       "  0%|          | 0/163 [00:00<?, ?it/s]"
      ]
     },
     "metadata": {},
     "output_type": "display_data"
    },
    {
     "data": {
      "application/vnd.jupyter.widget-view+json": {
       "model_id": "1e34b568e3c0492cb7c02bcdbc3f2dda",
       "version_major": 2,
       "version_minor": 0
      },
      "text/plain": [
       "  0%|          | 0/163 [00:00<?, ?it/s]"
      ]
     },
     "metadata": {},
     "output_type": "display_data"
    },
    {
     "data": {
      "application/vnd.jupyter.widget-view+json": {
       "model_id": "53e0d789d4d445db95a8489840229bfd",
       "version_major": 2,
       "version_minor": 0
      },
      "text/plain": [
       "  0%|          | 0/163 [00:00<?, ?it/s]"
      ]
     },
     "metadata": {},
     "output_type": "display_data"
    },
    {
     "data": {
      "application/vnd.jupyter.widget-view+json": {
       "model_id": "c9c81670b2494ea59d6c4decba092640",
       "version_major": 2,
       "version_minor": 0
      },
      "text/plain": [
       "  0%|          | 0/163 [00:00<?, ?it/s]"
      ]
     },
     "metadata": {},
     "output_type": "display_data"
    },
    {
     "data": {
      "application/vnd.jupyter.widget-view+json": {
       "model_id": "2b5ecddb1ae243de98de849b79ad12ed",
       "version_major": 2,
       "version_minor": 0
      },
      "text/plain": [
       "  0%|          | 0/163 [00:00<?, ?it/s]"
      ]
     },
     "metadata": {},
     "output_type": "display_data"
    },
    {
     "data": {
      "application/vnd.jupyter.widget-view+json": {
       "model_id": "3019ee525b43474cb78e29013aab26d1",
       "version_major": 2,
       "version_minor": 0
      },
      "text/plain": [
       "  0%|          | 0/163 [00:00<?, ?it/s]"
      ]
     },
     "metadata": {},
     "output_type": "display_data"
    },
    {
     "data": {
      "application/vnd.jupyter.widget-view+json": {
       "model_id": "b30cee49d7484f18bfbd5f2c3a0ee40a",
       "version_major": 2,
       "version_minor": 0
      },
      "text/plain": [
       "  0%|          | 0/163 [00:00<?, ?it/s]"
      ]
     },
     "metadata": {},
     "output_type": "display_data"
    },
    {
     "data": {
      "application/vnd.jupyter.widget-view+json": {
       "model_id": "3c204bcbd32b49bc9487daf8e921a00f",
       "version_major": 2,
       "version_minor": 0
      },
      "text/plain": [
       "  0%|          | 0/163 [00:00<?, ?it/s]"
      ]
     },
     "metadata": {},
     "output_type": "display_data"
    },
    {
     "data": {
      "application/vnd.jupyter.widget-view+json": {
       "model_id": "75a67d06f58940fc9663bfbe351a92e6",
       "version_major": 2,
       "version_minor": 0
      },
      "text/plain": [
       "  0%|          | 0/163 [00:00<?, ?it/s]"
      ]
     },
     "metadata": {},
     "output_type": "display_data"
    },
    {
     "data": {
      "application/vnd.jupyter.widget-view+json": {
       "model_id": "f27d93c01a254e0bac87af986ebcaec3",
       "version_major": 2,
       "version_minor": 0
      },
      "text/plain": [
       "  0%|          | 0/163 [00:00<?, ?it/s]"
      ]
     },
     "metadata": {},
     "output_type": "display_data"
    },
    {
     "data": {
      "application/vnd.jupyter.widget-view+json": {
       "model_id": "cec2bed36c55453ca6c5b40aa69fad9a",
       "version_major": 2,
       "version_minor": 0
      },
      "text/plain": [
       "  0%|          | 0/163 [00:00<?, ?it/s]"
      ]
     },
     "metadata": {},
     "output_type": "display_data"
    },
    {
     "data": {
      "application/vnd.jupyter.widget-view+json": {
       "model_id": "4d81671fefa14005914b12b48a34c572",
       "version_major": 2,
       "version_minor": 0
      },
      "text/plain": [
       "  0%|          | 0/163 [00:00<?, ?it/s]"
      ]
     },
     "metadata": {},
     "output_type": "display_data"
    },
    {
     "data": {
      "application/vnd.jupyter.widget-view+json": {
       "model_id": "2fcd6f155e4945dfbaabdee4a937e4e6",
       "version_major": 2,
       "version_minor": 0
      },
      "text/plain": [
       "  0%|          | 0/163 [00:00<?, ?it/s]"
      ]
     },
     "metadata": {},
     "output_type": "display_data"
    },
    {
     "data": {
      "application/vnd.jupyter.widget-view+json": {
       "model_id": "d093f63e3ea14f59a99d5eb45c3257a4",
       "version_major": 2,
       "version_minor": 0
      },
      "text/plain": [
       "  0%|          | 0/163 [00:00<?, ?it/s]"
      ]
     },
     "metadata": {},
     "output_type": "display_data"
    },
    {
     "data": {
      "application/vnd.jupyter.widget-view+json": {
       "model_id": "0229a05f446b4db980171018e188a0a2",
       "version_major": 2,
       "version_minor": 0
      },
      "text/plain": [
       "  0%|          | 0/163 [00:00<?, ?it/s]"
      ]
     },
     "metadata": {},
     "output_type": "display_data"
    },
    {
     "data": {
      "application/vnd.jupyter.widget-view+json": {
       "model_id": "b5b0ca4beaed498182f84e35ab10b192",
       "version_major": 2,
       "version_minor": 0
      },
      "text/plain": [
       "  0%|          | 0/163 [00:00<?, ?it/s]"
      ]
     },
     "metadata": {},
     "output_type": "display_data"
    },
    {
     "data": {
      "application/vnd.jupyter.widget-view+json": {
       "model_id": "a596f0e64b214f689fe969daf57125e9",
       "version_major": 2,
       "version_minor": 0
      },
      "text/plain": [
       "  0%|          | 0/163 [00:00<?, ?it/s]"
      ]
     },
     "metadata": {},
     "output_type": "display_data"
    },
    {
     "data": {
      "application/vnd.jupyter.widget-view+json": {
       "model_id": "2287c41323f04d658400e37356a80983",
       "version_major": 2,
       "version_minor": 0
      },
      "text/plain": [
       "  0%|          | 0/163 [00:00<?, ?it/s]"
      ]
     },
     "metadata": {},
     "output_type": "display_data"
    },
    {
     "data": {
      "application/vnd.jupyter.widget-view+json": {
       "model_id": "14d2e6d7c57849ed99c806ff2493be8e",
       "version_major": 2,
       "version_minor": 0
      },
      "text/plain": [
       "  0%|          | 0/163 [00:00<?, ?it/s]"
      ]
     },
     "metadata": {},
     "output_type": "display_data"
    },
    {
     "data": {
      "application/vnd.jupyter.widget-view+json": {
       "model_id": "d3dd3112d6304a2a8f8bf5204a0ce624",
       "version_major": 2,
       "version_minor": 0
      },
      "text/plain": [
       "  0%|          | 0/163 [00:00<?, ?it/s]"
      ]
     },
     "metadata": {},
     "output_type": "display_data"
    },
    {
     "data": {
      "application/vnd.jupyter.widget-view+json": {
       "model_id": "ddbec46353014086b84cef0abbf5ea9c",
       "version_major": 2,
       "version_minor": 0
      },
      "text/plain": [
       "  0%|          | 0/163 [00:00<?, ?it/s]"
      ]
     },
     "metadata": {},
     "output_type": "display_data"
    },
    {
     "data": {
      "application/vnd.jupyter.widget-view+json": {
       "model_id": "68f3c4c1473c4c21b022477405f8b34a",
       "version_major": 2,
       "version_minor": 0
      },
      "text/plain": [
       "  0%|          | 0/163 [00:00<?, ?it/s]"
      ]
     },
     "metadata": {},
     "output_type": "display_data"
    },
    {
     "data": {
      "application/vnd.jupyter.widget-view+json": {
       "model_id": "e64cd61c1b804f6abc5e9c3d8e95835b",
       "version_major": 2,
       "version_minor": 0
      },
      "text/plain": [
       "  0%|          | 0/163 [00:00<?, ?it/s]"
      ]
     },
     "metadata": {},
     "output_type": "display_data"
    },
    {
     "data": {
      "application/vnd.jupyter.widget-view+json": {
       "model_id": "69e18cc2bb784fd2ae068918333f621d",
       "version_major": 2,
       "version_minor": 0
      },
      "text/plain": [
       "  0%|          | 0/163 [00:00<?, ?it/s]"
      ]
     },
     "metadata": {},
     "output_type": "display_data"
    },
    {
     "data": {
      "application/vnd.jupyter.widget-view+json": {
       "model_id": "6b36e9e5be114086b503dc95dbe6626f",
       "version_major": 2,
       "version_minor": 0
      },
      "text/plain": [
       "  0%|          | 0/163 [00:00<?, ?it/s]"
      ]
     },
     "metadata": {},
     "output_type": "display_data"
    },
    {
     "data": {
      "application/vnd.jupyter.widget-view+json": {
       "model_id": "e90dc644b392447f85f11ff081bcce26",
       "version_major": 2,
       "version_minor": 0
      },
      "text/plain": [
       "  0%|          | 0/163 [00:00<?, ?it/s]"
      ]
     },
     "metadata": {},
     "output_type": "display_data"
    },
    {
     "data": {
      "application/vnd.jupyter.widget-view+json": {
       "model_id": "4a33c2c7d3234ba2a41706ef44433f93",
       "version_major": 2,
       "version_minor": 0
      },
      "text/plain": [
       "  0%|          | 0/163 [00:00<?, ?it/s]"
      ]
     },
     "metadata": {},
     "output_type": "display_data"
    },
    {
     "data": {
      "application/vnd.jupyter.widget-view+json": {
       "model_id": "891c1e16db8c4793b501499c6fcdf097",
       "version_major": 2,
       "version_minor": 0
      },
      "text/plain": [
       "  0%|          | 0/163 [00:00<?, ?it/s]"
      ]
     },
     "metadata": {},
     "output_type": "display_data"
    },
    {
     "data": {
      "application/vnd.jupyter.widget-view+json": {
       "model_id": "2b5a9ddaaa6a427caae1eb6b25e737fc",
       "version_major": 2,
       "version_minor": 0
      },
      "text/plain": [
       "  0%|          | 0/163 [00:00<?, ?it/s]"
      ]
     },
     "metadata": {},
     "output_type": "display_data"
    },
    {
     "data": {
      "application/vnd.jupyter.widget-view+json": {
       "model_id": "78d829d1f41d48b7917bdd0e802ad468",
       "version_major": 2,
       "version_minor": 0
      },
      "text/plain": [
       "  0%|          | 0/163 [00:00<?, ?it/s]"
      ]
     },
     "metadata": {},
     "output_type": "display_data"
    },
    {
     "data": {
      "application/vnd.jupyter.widget-view+json": {
       "model_id": "1f8aa28cac4640099312398fa2fe1415",
       "version_major": 2,
       "version_minor": 0
      },
      "text/plain": [
       "  0%|          | 0/163 [00:00<?, ?it/s]"
      ]
     },
     "metadata": {},
     "output_type": "display_data"
    },
    {
     "data": {
      "application/vnd.jupyter.widget-view+json": {
       "model_id": "138afdcc97c6483e8f63e8e8c8cb0886",
       "version_major": 2,
       "version_minor": 0
      },
      "text/plain": [
       "  0%|          | 0/163 [00:00<?, ?it/s]"
      ]
     },
     "metadata": {},
     "output_type": "display_data"
    },
    {
     "data": {
      "application/vnd.jupyter.widget-view+json": {
       "model_id": "ddd62d47e79d48eabe910daff00b26a0",
       "version_major": 2,
       "version_minor": 0
      },
      "text/plain": [
       "  0%|          | 0/163 [00:00<?, ?it/s]"
      ]
     },
     "metadata": {},
     "output_type": "display_data"
    },
    {
     "data": {
      "application/vnd.jupyter.widget-view+json": {
       "model_id": "e1b92c1a4d984000bf38f97bf0b241a2",
       "version_major": 2,
       "version_minor": 0
      },
      "text/plain": [
       "  0%|          | 0/163 [00:00<?, ?it/s]"
      ]
     },
     "metadata": {},
     "output_type": "display_data"
    },
    {
     "data": {
      "application/vnd.jupyter.widget-view+json": {
       "model_id": "503bf9f7d36147b3a3afd4d70714d84f",
       "version_major": 2,
       "version_minor": 0
      },
      "text/plain": [
       "  0%|          | 0/163 [00:00<?, ?it/s]"
      ]
     },
     "metadata": {},
     "output_type": "display_data"
    },
    {
     "data": {
      "application/vnd.jupyter.widget-view+json": {
       "model_id": "bb54271179e34c199f8ffccc713cb551",
       "version_major": 2,
       "version_minor": 0
      },
      "text/plain": [
       "  0%|          | 0/163 [00:00<?, ?it/s]"
      ]
     },
     "metadata": {},
     "output_type": "display_data"
    },
    {
     "data": {
      "application/vnd.jupyter.widget-view+json": {
       "model_id": "ccc4637165f94f068481186c0a061d13",
       "version_major": 2,
       "version_minor": 0
      },
      "text/plain": [
       "  0%|          | 0/163 [00:00<?, ?it/s]"
      ]
     },
     "metadata": {},
     "output_type": "display_data"
    },
    {
     "data": {
      "application/vnd.jupyter.widget-view+json": {
       "model_id": "64c102536ff54eb3a2c72ebf803f6809",
       "version_major": 2,
       "version_minor": 0
      },
      "text/plain": [
       "  0%|          | 0/163 [00:00<?, ?it/s]"
      ]
     },
     "metadata": {},
     "output_type": "display_data"
    },
    {
     "data": {
      "application/vnd.jupyter.widget-view+json": {
       "model_id": "b7cd3569e045400da9bf39aa6618bddb",
       "version_major": 2,
       "version_minor": 0
      },
      "text/plain": [
       "  0%|          | 0/163 [00:00<?, ?it/s]"
      ]
     },
     "metadata": {},
     "output_type": "display_data"
    },
    {
     "data": {
      "application/vnd.jupyter.widget-view+json": {
       "model_id": "d91ad69b360b433eb470900b23e47648",
       "version_major": 2,
       "version_minor": 0
      },
      "text/plain": [
       "  0%|          | 0/163 [00:00<?, ?it/s]"
      ]
     },
     "metadata": {},
     "output_type": "display_data"
    },
    {
     "data": {
      "application/vnd.jupyter.widget-view+json": {
       "model_id": "b5c9782b66d5477ca0eb7dcd4e4a8fce",
       "version_major": 2,
       "version_minor": 0
      },
      "text/plain": [
       "  0%|          | 0/163 [00:00<?, ?it/s]"
      ]
     },
     "metadata": {},
     "output_type": "display_data"
    },
    {
     "data": {
      "application/vnd.jupyter.widget-view+json": {
       "model_id": "a89e249bae9943b0b8c780820a446c48",
       "version_major": 2,
       "version_minor": 0
      },
      "text/plain": [
       "  0%|          | 0/163 [00:00<?, ?it/s]"
      ]
     },
     "metadata": {},
     "output_type": "display_data"
    },
    {
     "data": {
      "application/vnd.jupyter.widget-view+json": {
       "model_id": "5cb06463343942ff80a5906c78ae5c1a",
       "version_major": 2,
       "version_minor": 0
      },
      "text/plain": [
       "  0%|          | 0/163 [00:00<?, ?it/s]"
      ]
     },
     "metadata": {},
     "output_type": "display_data"
    },
    {
     "data": {
      "application/vnd.jupyter.widget-view+json": {
       "model_id": "8351b8c6979342279aed9e75d137a6be",
       "version_major": 2,
       "version_minor": 0
      },
      "text/plain": [
       "  0%|          | 0/163 [00:00<?, ?it/s]"
      ]
     },
     "metadata": {},
     "output_type": "display_data"
    },
    {
     "data": {
      "application/vnd.jupyter.widget-view+json": {
       "model_id": "ffed0f1503e446ec954df88ab0100c54",
       "version_major": 2,
       "version_minor": 0
      },
      "text/plain": [
       "  0%|          | 0/163 [00:00<?, ?it/s]"
      ]
     },
     "metadata": {},
     "output_type": "display_data"
    },
    {
     "data": {
      "application/vnd.jupyter.widget-view+json": {
       "model_id": "43cb27308dc64072982ca1b19ce807bb",
       "version_major": 2,
       "version_minor": 0
      },
      "text/plain": [
       "  0%|          | 0/163 [00:00<?, ?it/s]"
      ]
     },
     "metadata": {},
     "output_type": "display_data"
    },
    {
     "data": {
      "application/vnd.jupyter.widget-view+json": {
       "model_id": "54fac3fdae864c7a9bf13d6f2bf5bca2",
       "version_major": 2,
       "version_minor": 0
      },
      "text/plain": [
       "  0%|          | 0/163 [00:00<?, ?it/s]"
      ]
     },
     "metadata": {},
     "output_type": "display_data"
    },
    {
     "data": {
      "application/vnd.jupyter.widget-view+json": {
       "model_id": "312473c0424b492a9db3b447d181f66f",
       "version_major": 2,
       "version_minor": 0
      },
      "text/plain": [
       "  0%|          | 0/163 [00:00<?, ?it/s]"
      ]
     },
     "metadata": {},
     "output_type": "display_data"
    },
    {
     "data": {
      "application/vnd.jupyter.widget-view+json": {
       "model_id": "a1f99e60fe544abfad5453ca8f11994c",
       "version_major": 2,
       "version_minor": 0
      },
      "text/plain": [
       "  0%|          | 0/163 [00:00<?, ?it/s]"
      ]
     },
     "metadata": {},
     "output_type": "display_data"
    },
    {
     "data": {
      "application/vnd.jupyter.widget-view+json": {
       "model_id": "4168c5ed4c9b466f8d772ee829c892f6",
       "version_major": 2,
       "version_minor": 0
      },
      "text/plain": [
       "  0%|          | 0/163 [00:00<?, ?it/s]"
      ]
     },
     "metadata": {},
     "output_type": "display_data"
    },
    {
     "name": "stdout",
     "output_type": "stream",
     "text": [
      "[('M. Przewozniczek', 0.0), ('P. Dziurzanski', 0.0), ('H. Budacova', 0.0), ('A. Binding', 0.0), ('J. Kwiatkowski', 0.0), ('K. Meissner', 0.0), ('M. Gniewkowski', 0.0), ('H. Maciejewski', 0.0), ('T. Surmacz', 0.0), ('W. Walentynowicz', 0.0), ('H. Kwasnicka', 0.01), ('M. Skowronski', 0.01), ('S. Zhao', 0.01), ('L. Indrusiak', 0.01), ('M. Holecyova', 0.01), ('Z. Lalak', 0.01), ('R. Suszek', 0.01), ('Z. Michalewicz', 0.02), ('K. Oslizlo', 0.02), ('A. Krakovska', 0.02), ('J. Jakubik', 0.02), ('S. Feuerriegel', 0.02), ('S. Rey', 0.02), ('E. Sessolo', 0.02), ('L. Olech', 0.03), ('Z. Ropka', 0.03), ('M. Paradowski', 0.03), ('T. Jelinski', 0.03), ('K. Kowalska', 0.03), ('M. Spytkowski', 0.04), ('H. Steinacker', 0.04), ('S. Yankielowicz', 0.04), ('P. Myszkowski', 0.05), ('S. Pokorski', 0.05), ('S. Theisen', 0.05), ('M. Panfil', 0.05), ('K. Turzynski', 0.06), ('O. Aharony', 0.07), ('M. Nikolajuk', 0.08), ('J. Pawelczyk', 0.1), ('R. Radwanski', 0.16), ('A. Borg', 0.17), ('H. Jegierski', 0.18), ('M. Nurek', 0.19), ('S. Wozniak', 0.19), ('E. Kosasih', 0.19), ('J. Grobelny', 0.21), ('Y. Wang', 0.21), ('B. Tjandra', 0.21), ('P. Gramacki', 0.22), ('K. Gorman', 0.24), ('X. Wang', 0.25), ('K. Kania', 0.27), ('B. Czerny', 0.27), ('N. Bisagno', 0.28), ('M. Boldt', 0.31), ('K. Raczycki', 0.32), ('W. Indyk', 0.34), ('J. Kuraszkiewicz', 0.35), ('P. Stawiak', 0.36), ('K. Idanwekhai', 0.37), ('M. Zieba', 0.38), ('P. Rozewski', 0.38), ('F. Erlandsson', 0.38), ('N. Conci', 0.38), ('K. Pasierb', 0.39), ('A. Jamasb', 0.4), ('J. Hamari', 0.41), ('A. Chmiel', 0.41), ('M. Zyla-Hoppe', 0.41), ('M. Falkiewicz', 0.42), ('W. Karwowski', 0.42), ('M. Rizoiu', 0.44), ('K. Kersting', 0.45), ('M. Magnani', 0.45), ('S. Ciuberek', 0.47), ('I. Gisterek', 0.48), ('J. Cabezas', 0.48), ('M. Bernaczyk', 0.49), ('X. Sumba', 0.49), ('T. Jia', 0.5), ('N. Garau', 0.51), ('P. Doskocz', 0.52), ('Y. Ran', 0.52), ('N. Chawla', 0.54), ('P. Bielak', 0.55), ('M. Zolnieruk', 0.55), ('Y. Yeliseyenka', 0.55), ('A. Zbieg', 0.56), ('B. V', 0.57), ('K. Skibicki', 0.58), ('K. Tagowski', 0.59), ('M. Szymanski', 0.62), ('S. Cheong', 0.65), ('K. Rajda', 0.66), ('S. Utz', 0.67), ('A. Rusin', 0.67), ('E. Kanaga', 0.68), ('W. Liu', 0.7), ('V. Halyan', 0.7), ('G. Ragozini', 0.71), ('G. Miebs', 0.72), ('P. Oleszczyk', 0.72), ('J. Mizgajski', 0.72), ('N. Dehak', 0.75), ('A. Szymczak', 0.76), ('O. Lizardo', 0.77), ('B. Zak', 0.82), ('J. Banaszczak', 0.82), ('V. Yukhymchuk', 0.83), ('M. Skoryk', 0.83), ('K. Jedryka', 0.84), ('M. Kulisiewicz', 0.86), ('A. Zygmunt', 0.87), ('Y. Carmiel', 0.88), ('J. Gaworecki', 0.89), ('P. Zelasko', 0.89), ('T. Filipowski', 0.9), ('J. Kozlak', 0.91), ('A. Kevshyn', 0.91), ('Y. Gule', 0.95), ('P. Tishchenko', 0.95), ('W. Michalska', 0.96), ('I. Ivashchenko', 0.96), ('A. Dziadek', 0.97), ('I. Olekseyuk', 0.97), ('M. Shevchuk', 0.98), ('H. Johnson', 1.0), ('B. Koloszczyk', 1.02), ('M. Koziarski', 1.02), ('K. Ozga', 1.02), ('M. Ujma', 1.03), ('B. Gliwa', 1.08), ('A. Polak', 1.09), ('A. Dutkowiak', 1.11), ('M. Piasecki', 1.13), ('R. Bartusiak', 1.15), ('M. Dziezyc', 1.15), ('P. Jakimow', 1.16), ('K. Juszczyszyn', 1.17), ('S. Keung', 1.19), ('K. Musial', 1.21), ('M. Morzy', 1.25), ('J. Komoszynska', 1.27), ('P. Szymanski', 1.38), ('A. Andreasson', 1.45), ('C. Lebiere', 1.46), ('S. Saganowski', 1.51), ('T. Arvanitis', 1.52), ('L. Augustyniak', 1.63), ('M. Mcgilchrist', 1.67), ('L. Zhao', 1.68), ('N. Mastellos', 1.7), ('V. Curcin', 1.78), ('B. Szymanski', 1.93), ('B. Delaney', 1.95), ('A. Burgun', 1.96), ('J. Ethier', 1.98), ('J. Jankowski', 2.18), ('T. Kajdanowicz', 2.5), ('R. Michalski', 2.89), ('P. Brodka', 3.11), ('P. Kazienko', 3.17)]\n"
     ]
    }
   ],
   "source": [
    "runs = []\n",
    "for _ in range(100):\n",
    "    runs.append(collect_sir_all(ge, gamma=0.8))\n",
    "df = pd.DataFrame(runs)\n",
    "answer = dict(df.mean())\n",
    "print(sorted(list(answer.items()), key=lambda x: x[1]))"
   ]
  },
  {
   "cell_type": "code",
   "execution_count": 178,
   "metadata": {},
   "outputs": [
    {
     "data": {
      "application/vnd.jupyter.widget-view+json": {
       "model_id": "b26a98e952b24bb19e8b6ec62eb36efc",
       "version_major": 2,
       "version_minor": 0
      },
      "text/plain": [
       "  0%|          | 0/163 [00:00<?, ?it/s]"
      ]
     },
     "metadata": {},
     "output_type": "display_data"
    },
    {
     "data": {
      "application/vnd.jupyter.widget-view+json": {
       "model_id": "ec0b2fe75a0744daa70455af2341a66c",
       "version_major": 2,
       "version_minor": 0
      },
      "text/plain": [
       "  0%|          | 0/163 [00:00<?, ?it/s]"
      ]
     },
     "metadata": {},
     "output_type": "display_data"
    },
    {
     "data": {
      "application/vnd.jupyter.widget-view+json": {
       "model_id": "4e3b695081324f0b9f7327401fb8eb8c",
       "version_major": 2,
       "version_minor": 0
      },
      "text/plain": [
       "  0%|          | 0/163 [00:00<?, ?it/s]"
      ]
     },
     "metadata": {},
     "output_type": "display_data"
    },
    {
     "data": {
      "application/vnd.jupyter.widget-view+json": {
       "model_id": "672f4b22f33d441f92c7afb7d3ac3370",
       "version_major": 2,
       "version_minor": 0
      },
      "text/plain": [
       "  0%|          | 0/163 [00:00<?, ?it/s]"
      ]
     },
     "metadata": {},
     "output_type": "display_data"
    },
    {
     "data": {
      "application/vnd.jupyter.widget-view+json": {
       "model_id": "a323c7cb2f6540f3a8ef8966fb60689e",
       "version_major": 2,
       "version_minor": 0
      },
      "text/plain": [
       "  0%|          | 0/163 [00:00<?, ?it/s]"
      ]
     },
     "metadata": {},
     "output_type": "display_data"
    },
    {
     "data": {
      "application/vnd.jupyter.widget-view+json": {
       "model_id": "b93b660b2d22464d8b135aa0f9bcb057",
       "version_major": 2,
       "version_minor": 0
      },
      "text/plain": [
       "  0%|          | 0/163 [00:00<?, ?it/s]"
      ]
     },
     "metadata": {},
     "output_type": "display_data"
    },
    {
     "data": {
      "application/vnd.jupyter.widget-view+json": {
       "model_id": "53903e4057304e80844aae0cf4979278",
       "version_major": 2,
       "version_minor": 0
      },
      "text/plain": [
       "  0%|          | 0/163 [00:00<?, ?it/s]"
      ]
     },
     "metadata": {},
     "output_type": "display_data"
    },
    {
     "data": {
      "application/vnd.jupyter.widget-view+json": {
       "model_id": "7c04de5b0d624a9e9e6f9a152e531de5",
       "version_major": 2,
       "version_minor": 0
      },
      "text/plain": [
       "  0%|          | 0/163 [00:00<?, ?it/s]"
      ]
     },
     "metadata": {},
     "output_type": "display_data"
    },
    {
     "data": {
      "application/vnd.jupyter.widget-view+json": {
       "model_id": "84aebe1478b841c1862514cd3fbd0759",
       "version_major": 2,
       "version_minor": 0
      },
      "text/plain": [
       "  0%|          | 0/163 [00:00<?, ?it/s]"
      ]
     },
     "metadata": {},
     "output_type": "display_data"
    },
    {
     "data": {
      "application/vnd.jupyter.widget-view+json": {
       "model_id": "41b1698245274ea2ae921cd9e2a4dc42",
       "version_major": 2,
       "version_minor": 0
      },
      "text/plain": [
       "  0%|          | 0/163 [00:00<?, ?it/s]"
      ]
     },
     "metadata": {},
     "output_type": "display_data"
    },
    {
     "data": {
      "application/vnd.jupyter.widget-view+json": {
       "model_id": "b76da42f968d4413bd20e64e7a04d313",
       "version_major": 2,
       "version_minor": 0
      },
      "text/plain": [
       "  0%|          | 0/163 [00:00<?, ?it/s]"
      ]
     },
     "metadata": {},
     "output_type": "display_data"
    },
    {
     "data": {
      "application/vnd.jupyter.widget-view+json": {
       "model_id": "b46c96dc43134b5fb6eceafb8c2aba6f",
       "version_major": 2,
       "version_minor": 0
      },
      "text/plain": [
       "  0%|          | 0/163 [00:00<?, ?it/s]"
      ]
     },
     "metadata": {},
     "output_type": "display_data"
    },
    {
     "data": {
      "application/vnd.jupyter.widget-view+json": {
       "model_id": "103cf06901794718b1e44e6be9003300",
       "version_major": 2,
       "version_minor": 0
      },
      "text/plain": [
       "  0%|          | 0/163 [00:00<?, ?it/s]"
      ]
     },
     "metadata": {},
     "output_type": "display_data"
    },
    {
     "data": {
      "application/vnd.jupyter.widget-view+json": {
       "model_id": "e42b420a95ea4d15a395dd7f4b15ac5c",
       "version_major": 2,
       "version_minor": 0
      },
      "text/plain": [
       "  0%|          | 0/163 [00:00<?, ?it/s]"
      ]
     },
     "metadata": {},
     "output_type": "display_data"
    },
    {
     "data": {
      "application/vnd.jupyter.widget-view+json": {
       "model_id": "a6fbbaca38d942399896675daf424e13",
       "version_major": 2,
       "version_minor": 0
      },
      "text/plain": [
       "  0%|          | 0/163 [00:00<?, ?it/s]"
      ]
     },
     "metadata": {},
     "output_type": "display_data"
    },
    {
     "data": {
      "application/vnd.jupyter.widget-view+json": {
       "model_id": "4eb0948310844fe787cf350f35d66ee5",
       "version_major": 2,
       "version_minor": 0
      },
      "text/plain": [
       "  0%|          | 0/163 [00:00<?, ?it/s]"
      ]
     },
     "metadata": {},
     "output_type": "display_data"
    },
    {
     "data": {
      "application/vnd.jupyter.widget-view+json": {
       "model_id": "e411ed4949ba45818a86410e0911060d",
       "version_major": 2,
       "version_minor": 0
      },
      "text/plain": [
       "  0%|          | 0/163 [00:00<?, ?it/s]"
      ]
     },
     "metadata": {},
     "output_type": "display_data"
    },
    {
     "data": {
      "application/vnd.jupyter.widget-view+json": {
       "model_id": "5bc6ec1769ff4a22b58978127d12f49c",
       "version_major": 2,
       "version_minor": 0
      },
      "text/plain": [
       "  0%|          | 0/163 [00:00<?, ?it/s]"
      ]
     },
     "metadata": {},
     "output_type": "display_data"
    },
    {
     "data": {
      "application/vnd.jupyter.widget-view+json": {
       "model_id": "703703b140314f9aa5e10caf01a8cde8",
       "version_major": 2,
       "version_minor": 0
      },
      "text/plain": [
       "  0%|          | 0/163 [00:00<?, ?it/s]"
      ]
     },
     "metadata": {},
     "output_type": "display_data"
    },
    {
     "data": {
      "application/vnd.jupyter.widget-view+json": {
       "model_id": "200daf4025d44bf99b664988d1847db8",
       "version_major": 2,
       "version_minor": 0
      },
      "text/plain": [
       "  0%|          | 0/163 [00:00<?, ?it/s]"
      ]
     },
     "metadata": {},
     "output_type": "display_data"
    },
    {
     "data": {
      "application/vnd.jupyter.widget-view+json": {
       "model_id": "5053a9d0a8fd4c8ba78a1773b3887364",
       "version_major": 2,
       "version_minor": 0
      },
      "text/plain": [
       "  0%|          | 0/163 [00:00<?, ?it/s]"
      ]
     },
     "metadata": {},
     "output_type": "display_data"
    },
    {
     "data": {
      "application/vnd.jupyter.widget-view+json": {
       "model_id": "7a7e859a5ceb4342839ac4e1b80de930",
       "version_major": 2,
       "version_minor": 0
      },
      "text/plain": [
       "  0%|          | 0/163 [00:00<?, ?it/s]"
      ]
     },
     "metadata": {},
     "output_type": "display_data"
    },
    {
     "data": {
      "application/vnd.jupyter.widget-view+json": {
       "model_id": "c5456ab0c5b94c6bad5fc727409dcf33",
       "version_major": 2,
       "version_minor": 0
      },
      "text/plain": [
       "  0%|          | 0/163 [00:00<?, ?it/s]"
      ]
     },
     "metadata": {},
     "output_type": "display_data"
    },
    {
     "data": {
      "application/vnd.jupyter.widget-view+json": {
       "model_id": "6671e2f9b1f44c5a97ccbb421e020c2a",
       "version_major": 2,
       "version_minor": 0
      },
      "text/plain": [
       "  0%|          | 0/163 [00:00<?, ?it/s]"
      ]
     },
     "metadata": {},
     "output_type": "display_data"
    },
    {
     "data": {
      "application/vnd.jupyter.widget-view+json": {
       "model_id": "d3bdc5b06c1c494095e09f30cc756451",
       "version_major": 2,
       "version_minor": 0
      },
      "text/plain": [
       "  0%|          | 0/163 [00:00<?, ?it/s]"
      ]
     },
     "metadata": {},
     "output_type": "display_data"
    },
    {
     "data": {
      "application/vnd.jupyter.widget-view+json": {
       "model_id": "40be354c2d704c3cabb7eb62aa6ff651",
       "version_major": 2,
       "version_minor": 0
      },
      "text/plain": [
       "  0%|          | 0/163 [00:00<?, ?it/s]"
      ]
     },
     "metadata": {},
     "output_type": "display_data"
    },
    {
     "data": {
      "application/vnd.jupyter.widget-view+json": {
       "model_id": "389984e7bf194b55b9792941eb59dbfa",
       "version_major": 2,
       "version_minor": 0
      },
      "text/plain": [
       "  0%|          | 0/163 [00:00<?, ?it/s]"
      ]
     },
     "metadata": {},
     "output_type": "display_data"
    },
    {
     "data": {
      "application/vnd.jupyter.widget-view+json": {
       "model_id": "b6cb39573f284a5dab0924b98a000fd3",
       "version_major": 2,
       "version_minor": 0
      },
      "text/plain": [
       "  0%|          | 0/163 [00:00<?, ?it/s]"
      ]
     },
     "metadata": {},
     "output_type": "display_data"
    },
    {
     "data": {
      "application/vnd.jupyter.widget-view+json": {
       "model_id": "ca2f25866d344e359901927a7d62a356",
       "version_major": 2,
       "version_minor": 0
      },
      "text/plain": [
       "  0%|          | 0/163 [00:00<?, ?it/s]"
      ]
     },
     "metadata": {},
     "output_type": "display_data"
    },
    {
     "data": {
      "application/vnd.jupyter.widget-view+json": {
       "model_id": "3d1097acf26a4a58b34bd94b332cb12a",
       "version_major": 2,
       "version_minor": 0
      },
      "text/plain": [
       "  0%|          | 0/163 [00:00<?, ?it/s]"
      ]
     },
     "metadata": {},
     "output_type": "display_data"
    },
    {
     "data": {
      "application/vnd.jupyter.widget-view+json": {
       "model_id": "4384e76221f449f3ab7c362beea76082",
       "version_major": 2,
       "version_minor": 0
      },
      "text/plain": [
       "  0%|          | 0/163 [00:00<?, ?it/s]"
      ]
     },
     "metadata": {},
     "output_type": "display_data"
    },
    {
     "data": {
      "application/vnd.jupyter.widget-view+json": {
       "model_id": "3cca30bce5f14a9998319ab42ecf9cfb",
       "version_major": 2,
       "version_minor": 0
      },
      "text/plain": [
       "  0%|          | 0/163 [00:00<?, ?it/s]"
      ]
     },
     "metadata": {},
     "output_type": "display_data"
    },
    {
     "data": {
      "application/vnd.jupyter.widget-view+json": {
       "model_id": "8074c6ad5e534522904cc43ba98a5e05",
       "version_major": 2,
       "version_minor": 0
      },
      "text/plain": [
       "  0%|          | 0/163 [00:00<?, ?it/s]"
      ]
     },
     "metadata": {},
     "output_type": "display_data"
    },
    {
     "data": {
      "application/vnd.jupyter.widget-view+json": {
       "model_id": "044246c1950647eda9308de00c961d0d",
       "version_major": 2,
       "version_minor": 0
      },
      "text/plain": [
       "  0%|          | 0/163 [00:00<?, ?it/s]"
      ]
     },
     "metadata": {},
     "output_type": "display_data"
    },
    {
     "data": {
      "application/vnd.jupyter.widget-view+json": {
       "model_id": "77c0939a8e2e45c49df926c3b8cd591e",
       "version_major": 2,
       "version_minor": 0
      },
      "text/plain": [
       "  0%|          | 0/163 [00:00<?, ?it/s]"
      ]
     },
     "metadata": {},
     "output_type": "display_data"
    },
    {
     "data": {
      "application/vnd.jupyter.widget-view+json": {
       "model_id": "dbdca5b9a68b4695bd92d3995a3c8b4c",
       "version_major": 2,
       "version_minor": 0
      },
      "text/plain": [
       "  0%|          | 0/163 [00:00<?, ?it/s]"
      ]
     },
     "metadata": {},
     "output_type": "display_data"
    },
    {
     "data": {
      "application/vnd.jupyter.widget-view+json": {
       "model_id": "bbc96bf328fd438fa30b57672af204f8",
       "version_major": 2,
       "version_minor": 0
      },
      "text/plain": [
       "  0%|          | 0/163 [00:00<?, ?it/s]"
      ]
     },
     "metadata": {},
     "output_type": "display_data"
    },
    {
     "data": {
      "application/vnd.jupyter.widget-view+json": {
       "model_id": "04ffde0692f3436e90ef5d8e01d6efc5",
       "version_major": 2,
       "version_minor": 0
      },
      "text/plain": [
       "  0%|          | 0/163 [00:00<?, ?it/s]"
      ]
     },
     "metadata": {},
     "output_type": "display_data"
    },
    {
     "data": {
      "application/vnd.jupyter.widget-view+json": {
       "model_id": "422f38e1ec8744f1b3e3c16b46a5e6a8",
       "version_major": 2,
       "version_minor": 0
      },
      "text/plain": [
       "  0%|          | 0/163 [00:00<?, ?it/s]"
      ]
     },
     "metadata": {},
     "output_type": "display_data"
    },
    {
     "data": {
      "application/vnd.jupyter.widget-view+json": {
       "model_id": "f376ca88d9e043719e9ed1a1565752b4",
       "version_major": 2,
       "version_minor": 0
      },
      "text/plain": [
       "  0%|          | 0/163 [00:00<?, ?it/s]"
      ]
     },
     "metadata": {},
     "output_type": "display_data"
    },
    {
     "data": {
      "application/vnd.jupyter.widget-view+json": {
       "model_id": "41c6ae1da4124a03b08d3663aca44c12",
       "version_major": 2,
       "version_minor": 0
      },
      "text/plain": [
       "  0%|          | 0/163 [00:00<?, ?it/s]"
      ]
     },
     "metadata": {},
     "output_type": "display_data"
    },
    {
     "data": {
      "application/vnd.jupyter.widget-view+json": {
       "model_id": "979df5e5205b449f9761e1bdf3cf811e",
       "version_major": 2,
       "version_minor": 0
      },
      "text/plain": [
       "  0%|          | 0/163 [00:00<?, ?it/s]"
      ]
     },
     "metadata": {},
     "output_type": "display_data"
    },
    {
     "data": {
      "application/vnd.jupyter.widget-view+json": {
       "model_id": "9f761757c9214285a94682f068fb3c36",
       "version_major": 2,
       "version_minor": 0
      },
      "text/plain": [
       "  0%|          | 0/163 [00:00<?, ?it/s]"
      ]
     },
     "metadata": {},
     "output_type": "display_data"
    },
    {
     "data": {
      "application/vnd.jupyter.widget-view+json": {
       "model_id": "5ac0e6109d9d4f05b3c52b293b17489f",
       "version_major": 2,
       "version_minor": 0
      },
      "text/plain": [
       "  0%|          | 0/163 [00:00<?, ?it/s]"
      ]
     },
     "metadata": {},
     "output_type": "display_data"
    },
    {
     "data": {
      "application/vnd.jupyter.widget-view+json": {
       "model_id": "78e9487892bd4eed9a4c60f5a25af4ca",
       "version_major": 2,
       "version_minor": 0
      },
      "text/plain": [
       "  0%|          | 0/163 [00:00<?, ?it/s]"
      ]
     },
     "metadata": {},
     "output_type": "display_data"
    },
    {
     "data": {
      "application/vnd.jupyter.widget-view+json": {
       "model_id": "977ae20f2e494ac89081d3f51ed796e2",
       "version_major": 2,
       "version_minor": 0
      },
      "text/plain": [
       "  0%|          | 0/163 [00:00<?, ?it/s]"
      ]
     },
     "metadata": {},
     "output_type": "display_data"
    },
    {
     "data": {
      "application/vnd.jupyter.widget-view+json": {
       "model_id": "81106600522d4534ae7c99d3d6f5f7db",
       "version_major": 2,
       "version_minor": 0
      },
      "text/plain": [
       "  0%|          | 0/163 [00:00<?, ?it/s]"
      ]
     },
     "metadata": {},
     "output_type": "display_data"
    },
    {
     "data": {
      "application/vnd.jupyter.widget-view+json": {
       "model_id": "5b927ae97e3f4585930ee75d7e66dccd",
       "version_major": 2,
       "version_minor": 0
      },
      "text/plain": [
       "  0%|          | 0/163 [00:00<?, ?it/s]"
      ]
     },
     "metadata": {},
     "output_type": "display_data"
    },
    {
     "data": {
      "application/vnd.jupyter.widget-view+json": {
       "model_id": "b0304e14ad124f1896d76491c178c96f",
       "version_major": 2,
       "version_minor": 0
      },
      "text/plain": [
       "  0%|          | 0/163 [00:00<?, ?it/s]"
      ]
     },
     "metadata": {},
     "output_type": "display_data"
    },
    {
     "data": {
      "application/vnd.jupyter.widget-view+json": {
       "model_id": "7f9f1fbc543344f3aa4fda1a7af2abdb",
       "version_major": 2,
       "version_minor": 0
      },
      "text/plain": [
       "  0%|          | 0/163 [00:00<?, ?it/s]"
      ]
     },
     "metadata": {},
     "output_type": "display_data"
    },
    {
     "data": {
      "application/vnd.jupyter.widget-view+json": {
       "model_id": "da84d2602a734570989016ac8ddbb6bf",
       "version_major": 2,
       "version_minor": 0
      },
      "text/plain": [
       "  0%|          | 0/163 [00:00<?, ?it/s]"
      ]
     },
     "metadata": {},
     "output_type": "display_data"
    },
    {
     "data": {
      "application/vnd.jupyter.widget-view+json": {
       "model_id": "f49f50aa752548a39a903aa4fd6eef53",
       "version_major": 2,
       "version_minor": 0
      },
      "text/plain": [
       "  0%|          | 0/163 [00:00<?, ?it/s]"
      ]
     },
     "metadata": {},
     "output_type": "display_data"
    },
    {
     "data": {
      "application/vnd.jupyter.widget-view+json": {
       "model_id": "5a923dfd5ddb4669a2e2819684bde248",
       "version_major": 2,
       "version_minor": 0
      },
      "text/plain": [
       "  0%|          | 0/163 [00:00<?, ?it/s]"
      ]
     },
     "metadata": {},
     "output_type": "display_data"
    },
    {
     "data": {
      "application/vnd.jupyter.widget-view+json": {
       "model_id": "58b62ff2f3e541c49f2249dadf0a656e",
       "version_major": 2,
       "version_minor": 0
      },
      "text/plain": [
       "  0%|          | 0/163 [00:00<?, ?it/s]"
      ]
     },
     "metadata": {},
     "output_type": "display_data"
    },
    {
     "data": {
      "application/vnd.jupyter.widget-view+json": {
       "model_id": "23148d70272048198827dc68c98c5d6f",
       "version_major": 2,
       "version_minor": 0
      },
      "text/plain": [
       "  0%|          | 0/163 [00:00<?, ?it/s]"
      ]
     },
     "metadata": {},
     "output_type": "display_data"
    },
    {
     "data": {
      "application/vnd.jupyter.widget-view+json": {
       "model_id": "0f3282a38d9f41209e971c6055066896",
       "version_major": 2,
       "version_minor": 0
      },
      "text/plain": [
       "  0%|          | 0/163 [00:00<?, ?it/s]"
      ]
     },
     "metadata": {},
     "output_type": "display_data"
    },
    {
     "data": {
      "application/vnd.jupyter.widget-view+json": {
       "model_id": "d73d40f2fad14db5a909a095057b8078",
       "version_major": 2,
       "version_minor": 0
      },
      "text/plain": [
       "  0%|          | 0/163 [00:00<?, ?it/s]"
      ]
     },
     "metadata": {},
     "output_type": "display_data"
    },
    {
     "data": {
      "application/vnd.jupyter.widget-view+json": {
       "model_id": "a54496907a8e4e28817b079403d88b64",
       "version_major": 2,
       "version_minor": 0
      },
      "text/plain": [
       "  0%|          | 0/163 [00:00<?, ?it/s]"
      ]
     },
     "metadata": {},
     "output_type": "display_data"
    },
    {
     "data": {
      "application/vnd.jupyter.widget-view+json": {
       "model_id": "bb1e195d50ab4bca96e5c97bfee2f3a2",
       "version_major": 2,
       "version_minor": 0
      },
      "text/plain": [
       "  0%|          | 0/163 [00:00<?, ?it/s]"
      ]
     },
     "metadata": {},
     "output_type": "display_data"
    },
    {
     "data": {
      "application/vnd.jupyter.widget-view+json": {
       "model_id": "167f3bc043fe4d3496cbba4df59fe8f7",
       "version_major": 2,
       "version_minor": 0
      },
      "text/plain": [
       "  0%|          | 0/163 [00:00<?, ?it/s]"
      ]
     },
     "metadata": {},
     "output_type": "display_data"
    },
    {
     "data": {
      "application/vnd.jupyter.widget-view+json": {
       "model_id": "72ce98b05d1f44f881358ea0781cbef7",
       "version_major": 2,
       "version_minor": 0
      },
      "text/plain": [
       "  0%|          | 0/163 [00:00<?, ?it/s]"
      ]
     },
     "metadata": {},
     "output_type": "display_data"
    },
    {
     "data": {
      "application/vnd.jupyter.widget-view+json": {
       "model_id": "303150002f824e65810150882751cff5",
       "version_major": 2,
       "version_minor": 0
      },
      "text/plain": [
       "  0%|          | 0/163 [00:00<?, ?it/s]"
      ]
     },
     "metadata": {},
     "output_type": "display_data"
    },
    {
     "data": {
      "application/vnd.jupyter.widget-view+json": {
       "model_id": "4354ddf9c8954b63b13ff70cd9484b7c",
       "version_major": 2,
       "version_minor": 0
      },
      "text/plain": [
       "  0%|          | 0/163 [00:00<?, ?it/s]"
      ]
     },
     "metadata": {},
     "output_type": "display_data"
    },
    {
     "data": {
      "application/vnd.jupyter.widget-view+json": {
       "model_id": "bb59fb8404e84352a2462f4b27ee8d23",
       "version_major": 2,
       "version_minor": 0
      },
      "text/plain": [
       "  0%|          | 0/163 [00:00<?, ?it/s]"
      ]
     },
     "metadata": {},
     "output_type": "display_data"
    },
    {
     "data": {
      "application/vnd.jupyter.widget-view+json": {
       "model_id": "4afcf05edf714b608e5e85744b28efca",
       "version_major": 2,
       "version_minor": 0
      },
      "text/plain": [
       "  0%|          | 0/163 [00:00<?, ?it/s]"
      ]
     },
     "metadata": {},
     "output_type": "display_data"
    },
    {
     "data": {
      "application/vnd.jupyter.widget-view+json": {
       "model_id": "41b0178936b1441fbeafb0a47b28bc67",
       "version_major": 2,
       "version_minor": 0
      },
      "text/plain": [
       "  0%|          | 0/163 [00:00<?, ?it/s]"
      ]
     },
     "metadata": {},
     "output_type": "display_data"
    },
    {
     "data": {
      "application/vnd.jupyter.widget-view+json": {
       "model_id": "c64b86f9154443a28c0b3d02dc5c6a5d",
       "version_major": 2,
       "version_minor": 0
      },
      "text/plain": [
       "  0%|          | 0/163 [00:00<?, ?it/s]"
      ]
     },
     "metadata": {},
     "output_type": "display_data"
    },
    {
     "data": {
      "application/vnd.jupyter.widget-view+json": {
       "model_id": "7ce513d67d04413f9efac1efaa589ac5",
       "version_major": 2,
       "version_minor": 0
      },
      "text/plain": [
       "  0%|          | 0/163 [00:00<?, ?it/s]"
      ]
     },
     "metadata": {},
     "output_type": "display_data"
    },
    {
     "data": {
      "application/vnd.jupyter.widget-view+json": {
       "model_id": "d131a86fe51541bfb3c20013a749ab77",
       "version_major": 2,
       "version_minor": 0
      },
      "text/plain": [
       "  0%|          | 0/163 [00:00<?, ?it/s]"
      ]
     },
     "metadata": {},
     "output_type": "display_data"
    },
    {
     "data": {
      "application/vnd.jupyter.widget-view+json": {
       "model_id": "d4c310dc80f14f5088d8662573f29907",
       "version_major": 2,
       "version_minor": 0
      },
      "text/plain": [
       "  0%|          | 0/163 [00:00<?, ?it/s]"
      ]
     },
     "metadata": {},
     "output_type": "display_data"
    },
    {
     "data": {
      "application/vnd.jupyter.widget-view+json": {
       "model_id": "e15b890965b04e63aa452b10d6a9b24b",
       "version_major": 2,
       "version_minor": 0
      },
      "text/plain": [
       "  0%|          | 0/163 [00:00<?, ?it/s]"
      ]
     },
     "metadata": {},
     "output_type": "display_data"
    },
    {
     "data": {
      "application/vnd.jupyter.widget-view+json": {
       "model_id": "616b4b0d8fe54e2f9b5fee49d2100c2b",
       "version_major": 2,
       "version_minor": 0
      },
      "text/plain": [
       "  0%|          | 0/163 [00:00<?, ?it/s]"
      ]
     },
     "metadata": {},
     "output_type": "display_data"
    },
    {
     "data": {
      "application/vnd.jupyter.widget-view+json": {
       "model_id": "c422072c95344c4188c712fa5ba64f20",
       "version_major": 2,
       "version_minor": 0
      },
      "text/plain": [
       "  0%|          | 0/163 [00:00<?, ?it/s]"
      ]
     },
     "metadata": {},
     "output_type": "display_data"
    },
    {
     "data": {
      "application/vnd.jupyter.widget-view+json": {
       "model_id": "8afe30bb735f43a6b525d6ecf2293aa2",
       "version_major": 2,
       "version_minor": 0
      },
      "text/plain": [
       "  0%|          | 0/163 [00:00<?, ?it/s]"
      ]
     },
     "metadata": {},
     "output_type": "display_data"
    },
    {
     "data": {
      "application/vnd.jupyter.widget-view+json": {
       "model_id": "09cd941f52eb4b369cc2090178cdba1e",
       "version_major": 2,
       "version_minor": 0
      },
      "text/plain": [
       "  0%|          | 0/163 [00:00<?, ?it/s]"
      ]
     },
     "metadata": {},
     "output_type": "display_data"
    },
    {
     "data": {
      "application/vnd.jupyter.widget-view+json": {
       "model_id": "4185c12ff2504af6b8bcd777f771cf79",
       "version_major": 2,
       "version_minor": 0
      },
      "text/plain": [
       "  0%|          | 0/163 [00:00<?, ?it/s]"
      ]
     },
     "metadata": {},
     "output_type": "display_data"
    },
    {
     "data": {
      "application/vnd.jupyter.widget-view+json": {
       "model_id": "571f1253050b4a49a32b7c49543ef0cd",
       "version_major": 2,
       "version_minor": 0
      },
      "text/plain": [
       "  0%|          | 0/163 [00:00<?, ?it/s]"
      ]
     },
     "metadata": {},
     "output_type": "display_data"
    },
    {
     "data": {
      "application/vnd.jupyter.widget-view+json": {
       "model_id": "a2f45eccc5424cdeb051b6660a4bb4ce",
       "version_major": 2,
       "version_minor": 0
      },
      "text/plain": [
       "  0%|          | 0/163 [00:00<?, ?it/s]"
      ]
     },
     "metadata": {},
     "output_type": "display_data"
    },
    {
     "data": {
      "application/vnd.jupyter.widget-view+json": {
       "model_id": "33fb2459c6e74a2aab8bc8377cc63cfd",
       "version_major": 2,
       "version_minor": 0
      },
      "text/plain": [
       "  0%|          | 0/163 [00:00<?, ?it/s]"
      ]
     },
     "metadata": {},
     "output_type": "display_data"
    },
    {
     "data": {
      "application/vnd.jupyter.widget-view+json": {
       "model_id": "5c0456b507734afabc6c16b919ef4a80",
       "version_major": 2,
       "version_minor": 0
      },
      "text/plain": [
       "  0%|          | 0/163 [00:00<?, ?it/s]"
      ]
     },
     "metadata": {},
     "output_type": "display_data"
    },
    {
     "data": {
      "application/vnd.jupyter.widget-view+json": {
       "model_id": "4d15aa9b25274c2c8267178be40c23ff",
       "version_major": 2,
       "version_minor": 0
      },
      "text/plain": [
       "  0%|          | 0/163 [00:00<?, ?it/s]"
      ]
     },
     "metadata": {},
     "output_type": "display_data"
    },
    {
     "data": {
      "application/vnd.jupyter.widget-view+json": {
       "model_id": "a0db44b6801a4256b8eb31ad33771e07",
       "version_major": 2,
       "version_minor": 0
      },
      "text/plain": [
       "  0%|          | 0/163 [00:00<?, ?it/s]"
      ]
     },
     "metadata": {},
     "output_type": "display_data"
    },
    {
     "data": {
      "application/vnd.jupyter.widget-view+json": {
       "model_id": "d603c7dcd7134b36b7611991c3790bc7",
       "version_major": 2,
       "version_minor": 0
      },
      "text/plain": [
       "  0%|          | 0/163 [00:00<?, ?it/s]"
      ]
     },
     "metadata": {},
     "output_type": "display_data"
    },
    {
     "data": {
      "application/vnd.jupyter.widget-view+json": {
       "model_id": "4d15db1c21314ace87b9706bd84bed58",
       "version_major": 2,
       "version_minor": 0
      },
      "text/plain": [
       "  0%|          | 0/163 [00:00<?, ?it/s]"
      ]
     },
     "metadata": {},
     "output_type": "display_data"
    },
    {
     "data": {
      "application/vnd.jupyter.widget-view+json": {
       "model_id": "56a0b1e817484f158102f7e020993fe7",
       "version_major": 2,
       "version_minor": 0
      },
      "text/plain": [
       "  0%|          | 0/163 [00:00<?, ?it/s]"
      ]
     },
     "metadata": {},
     "output_type": "display_data"
    },
    {
     "data": {
      "application/vnd.jupyter.widget-view+json": {
       "model_id": "1461cc57a3c24a03825bebbfc16cbf53",
       "version_major": 2,
       "version_minor": 0
      },
      "text/plain": [
       "  0%|          | 0/163 [00:00<?, ?it/s]"
      ]
     },
     "metadata": {},
     "output_type": "display_data"
    },
    {
     "data": {
      "application/vnd.jupyter.widget-view+json": {
       "model_id": "486030c92f7649e6b257daff7ceee89f",
       "version_major": 2,
       "version_minor": 0
      },
      "text/plain": [
       "  0%|          | 0/163 [00:00<?, ?it/s]"
      ]
     },
     "metadata": {},
     "output_type": "display_data"
    },
    {
     "data": {
      "application/vnd.jupyter.widget-view+json": {
       "model_id": "13f9a4fa46ec4c229ebd6a34d0055aed",
       "version_major": 2,
       "version_minor": 0
      },
      "text/plain": [
       "  0%|          | 0/163 [00:00<?, ?it/s]"
      ]
     },
     "metadata": {},
     "output_type": "display_data"
    },
    {
     "data": {
      "application/vnd.jupyter.widget-view+json": {
       "model_id": "326878635ee04ea59da5e29a1d1b3fdb",
       "version_major": 2,
       "version_minor": 0
      },
      "text/plain": [
       "  0%|          | 0/163 [00:00<?, ?it/s]"
      ]
     },
     "metadata": {},
     "output_type": "display_data"
    },
    {
     "data": {
      "application/vnd.jupyter.widget-view+json": {
       "model_id": "8c98ed1216f3492ba1cd9044040129fa",
       "version_major": 2,
       "version_minor": 0
      },
      "text/plain": [
       "  0%|          | 0/163 [00:00<?, ?it/s]"
      ]
     },
     "metadata": {},
     "output_type": "display_data"
    },
    {
     "data": {
      "application/vnd.jupyter.widget-view+json": {
       "model_id": "95f8b2f43cbd4fd1b46e37bf56304124",
       "version_major": 2,
       "version_minor": 0
      },
      "text/plain": [
       "  0%|          | 0/163 [00:00<?, ?it/s]"
      ]
     },
     "metadata": {},
     "output_type": "display_data"
    },
    {
     "data": {
      "application/vnd.jupyter.widget-view+json": {
       "model_id": "ae8ccc49687f436299de860503062b4a",
       "version_major": 2,
       "version_minor": 0
      },
      "text/plain": [
       "  0%|          | 0/163 [00:00<?, ?it/s]"
      ]
     },
     "metadata": {},
     "output_type": "display_data"
    },
    {
     "data": {
      "application/vnd.jupyter.widget-view+json": {
       "model_id": "f4115565d58f47a4812ba44cdcfd14fa",
       "version_major": 2,
       "version_minor": 0
      },
      "text/plain": [
       "  0%|          | 0/163 [00:00<?, ?it/s]"
      ]
     },
     "metadata": {},
     "output_type": "display_data"
    },
    {
     "data": {
      "application/vnd.jupyter.widget-view+json": {
       "model_id": "5718e28b88684b0db4e8c806624ce9fa",
       "version_major": 2,
       "version_minor": 0
      },
      "text/plain": [
       "  0%|          | 0/163 [00:00<?, ?it/s]"
      ]
     },
     "metadata": {},
     "output_type": "display_data"
    },
    {
     "data": {
      "application/vnd.jupyter.widget-view+json": {
       "model_id": "a1d27992dd954029bf19e41d544f4c95",
       "version_major": 2,
       "version_minor": 0
      },
      "text/plain": [
       "  0%|          | 0/163 [00:00<?, ?it/s]"
      ]
     },
     "metadata": {},
     "output_type": "display_data"
    },
    {
     "data": {
      "application/vnd.jupyter.widget-view+json": {
       "model_id": "449618b9dcb1471f9c05883e664e6528",
       "version_major": 2,
       "version_minor": 0
      },
      "text/plain": [
       "  0%|          | 0/163 [00:00<?, ?it/s]"
      ]
     },
     "metadata": {},
     "output_type": "display_data"
    },
    {
     "data": {
      "application/vnd.jupyter.widget-view+json": {
       "model_id": "d8618fd06da148979d936ae6fc6bff4f",
       "version_major": 2,
       "version_minor": 0
      },
      "text/plain": [
       "  0%|          | 0/163 [00:00<?, ?it/s]"
      ]
     },
     "metadata": {},
     "output_type": "display_data"
    },
    {
     "data": {
      "application/vnd.jupyter.widget-view+json": {
       "model_id": "d541787d9e76421a92d0cd01987795fa",
       "version_major": 2,
       "version_minor": 0
      },
      "text/plain": [
       "  0%|          | 0/163 [00:00<?, ?it/s]"
      ]
     },
     "metadata": {},
     "output_type": "display_data"
    },
    {
     "data": {
      "application/vnd.jupyter.widget-view+json": {
       "model_id": "a1fc88d8bd4e48b480b380accd2b2142",
       "version_major": 2,
       "version_minor": 0
      },
      "text/plain": [
       "  0%|          | 0/163 [00:00<?, ?it/s]"
      ]
     },
     "metadata": {},
     "output_type": "display_data"
    },
    {
     "data": {
      "application/vnd.jupyter.widget-view+json": {
       "model_id": "d8fc4d0bcff447b0835aa8186fad95e2",
       "version_major": 2,
       "version_minor": 0
      },
      "text/plain": [
       "  0%|          | 0/163 [00:00<?, ?it/s]"
      ]
     },
     "metadata": {},
     "output_type": "display_data"
    },
    {
     "name": "stdout",
     "output_type": "stream",
     "text": [
      "[('H. Budacova', 0.0), ('A. Binding', 0.0), ('J. Kwiatkowski', 0.0), ('M. Paradowski', 0.0), ('H. Steinacker', 0.0), ('M. Gniewkowski', 0.0), ('T. Surmacz', 0.0), ('W. Walentynowicz', 0.0), ('Z. Michalewicz', 0.01), ('K. Oslizlo', 0.01), ('M. Przewozniczek', 0.01), ('P. Dziurzanski', 0.01), ('L. Indrusiak', 0.01), ('S. Rey', 0.01), ('L. Olech', 0.02), ('S. Zhao', 0.02), ('A. Krakovska', 0.02), ('S. Feuerriegel', 0.02), ('S. Pokorski', 0.02), ('M. Panfil', 0.02), ('S. Yankielowicz', 0.02), ('H. Maciejewski', 0.02), ('M. Spytkowski', 0.03), ('H. Kwasnicka', 0.03), ('P. Myszkowski', 0.03), ('M. Skowronski', 0.03), ('J. Jakubik', 0.03), ('M. Holecyova', 0.03), ('Z. Lalak', 0.03), ('K. Turzynski', 0.03), ('K. Kowalska', 0.04), ('E. Sessolo', 0.05), ('S. Theisen', 0.06), ('T. Jelinski', 0.06), ('R. Suszek', 0.06), ('K. Meissner', 0.07), ('M. Nikolajuk', 0.09), ('O. Aharony', 0.11), ('N. Bisagno', 0.12), ('S. Wozniak', 0.13), ('B. Czerny', 0.14), ('P. Gramacki', 0.15), ('J. Pawelczyk', 0.17), ('R. Radwanski', 0.18), ('K. Gorman', 0.2), ('K. Kania', 0.26), ('N. Garau', 0.26), ('H. Jegierski', 0.26), ('Z. Ropka', 0.27), ('E. Kanaga', 0.29), ('B. V', 0.3), ('B. Tjandra', 0.3), ('M. Rizoiu', 0.32), ('E. Kosasih', 0.32), ('A. Jamasb', 0.33), ('W. Karwowski', 0.34), ('K. Rajda', 0.35), ('J. Grobelny', 0.35), ('J. Kuraszkiewicz', 0.37), ('X. Sumba', 0.37), ('K. Idanwekhai', 0.37), ('A. Chmiel', 0.39), ('T. Jia', 0.39), ('M. Magnani', 0.41), ('Y. Wang', 0.41), ('X. Wang', 0.41), ('M. Falkiewicz', 0.42), ('G. Ragozini', 0.42), ('F. Erlandsson', 0.43), ('N. Conci', 0.43), ('M. Zolnieruk', 0.44), ('M. Nurek', 0.44), ('G. Miebs', 0.45), ('J. Cabezas', 0.45), ('M. Zieba', 0.47), ('M. Bernaczyk', 0.47), ('M. Szymanski', 0.47), ('J. Hamari', 0.47), ('M. Boldt', 0.48), ('S. Ciuberek', 0.48), ('Y. Ran', 0.48), ('H. Johnson', 0.49), ('A. Borg', 0.52), ('K. Kersting', 0.53), ('P. Bielak', 0.53), ('K. Raczycki', 0.54), ('W. Indyk', 0.59), ('M. Kulisiewicz', 0.61), ('T. Filipowski', 0.62), ('O. Lizardo', 0.65), ('P. Stawiak', 0.67), ('J. Gaworecki', 0.69), ('S. Cheong', 0.69), ('Y. Yeliseyenka', 0.69), ('Y. Carmiel', 0.69), ('A. Rusin', 0.7), ('K. Pasierb', 0.75), ('J. Banaszczak', 0.78), ('K. Tagowski', 0.8), ('B. Zak', 0.8), ('M. Zyla-Hoppe', 0.8), ('A. Zbieg', 0.81), ('P. Oleszczyk', 0.82), ('N. Chawla', 0.83), ('V. Yukhymchuk', 0.83), ('I. Ivashchenko', 0.83), ('K. Skibicki', 0.84), ('W. Liu', 0.84), ('A. Dziadek', 0.84), ('K. Juszczyszyn', 0.89), ('V. Halyan', 0.9), ('I. Gisterek', 0.91), ('N. Dehak', 0.93), ('S. Utz', 0.94), ('J. Mizgajski', 0.96), ('B. Koloszczyk', 0.97), ('P. Doskocz', 0.97), ('R. Bartusiak', 0.98), ('M. Skoryk', 0.98), ('M. Koziarski', 0.99), ('J. Kozlak', 0.99), ('P. Zelasko', 1.0), ('A. Szymczak', 1.01), ('B. Gliwa', 1.02), ('P. Rozewski', 1.02), ('C. Lebiere', 1.05), ('M. Morzy', 1.06), ('K. Ozga', 1.06), ('K. Jedryka', 1.06), ('M. Shevchuk', 1.08), ('Y. Gule', 1.09), ('A. Zygmunt', 1.12), ('I. Olekseyuk', 1.12), ('A. Kevshyn', 1.14), ('M. Dziezyc', 1.16), ('M. Ujma', 1.17), ('P. Tishchenko', 1.17), ('A. Dutkowiak', 1.19), ('P. Szymanski', 1.19), ('W. Michalska', 1.2), ('M. Mcgilchrist', 1.23), ('P. Jakimow', 1.24), ('J. Komoszynska', 1.36), ('K. Musial', 1.44), ('A. Polak', 1.46), ('M. Piasecki', 1.54), ('B. Delaney', 1.65), ('V. Curcin', 1.67), ('B. Szymanski', 1.68), ('L. Augustyniak', 1.71), ('L. Zhao', 1.72), ('T. Arvanitis', 1.75), ('A. Andreasson', 1.76), ('A. Burgun', 1.79), ('J. Jankowski', 1.86), ('J. Ethier', 1.88), ('S. Keung', 1.92), ('S. Saganowski', 2.05), ('N. Mastellos', 2.2), ('T. Kajdanowicz', 2.63), ('R. Michalski', 3.07), ('P. Brodka', 3.2), ('P. Kazienko', 3.43)]\n"
     ]
    }
   ],
   "source": [
    "runs = []\n",
    "for _ in range(100):\n",
    "    runs.append(collect_sir_all(ge, gamma=0.6))\n",
    "df = pd.DataFrame(runs)\n",
    "answer = dict(df.mean())\n",
    "print(sorted(list(answer.items()), key=lambda x: x[1]))"
   ]
  },
  {
   "cell_type": "code",
   "execution_count": 179,
   "metadata": {},
   "outputs": [
    {
     "data": {
      "application/vnd.jupyter.widget-view+json": {
       "model_id": "7882318295234fddb564b9388f5deddb",
       "version_major": 2,
       "version_minor": 0
      },
      "text/plain": [
       "  0%|          | 0/163 [00:00<?, ?it/s]"
      ]
     },
     "metadata": {},
     "output_type": "display_data"
    },
    {
     "data": {
      "application/vnd.jupyter.widget-view+json": {
       "model_id": "b387b3c9b3b14232836844d3afa846e1",
       "version_major": 2,
       "version_minor": 0
      },
      "text/plain": [
       "  0%|          | 0/163 [00:00<?, ?it/s]"
      ]
     },
     "metadata": {},
     "output_type": "display_data"
    },
    {
     "data": {
      "application/vnd.jupyter.widget-view+json": {
       "model_id": "4c72fc6010a648dea36b25f2632f764b",
       "version_major": 2,
       "version_minor": 0
      },
      "text/plain": [
       "  0%|          | 0/163 [00:00<?, ?it/s]"
      ]
     },
     "metadata": {},
     "output_type": "display_data"
    },
    {
     "data": {
      "application/vnd.jupyter.widget-view+json": {
       "model_id": "7bf2f1e812e54f92a7b4143b807a78a3",
       "version_major": 2,
       "version_minor": 0
      },
      "text/plain": [
       "  0%|          | 0/163 [00:00<?, ?it/s]"
      ]
     },
     "metadata": {},
     "output_type": "display_data"
    },
    {
     "data": {
      "application/vnd.jupyter.widget-view+json": {
       "model_id": "a46e29fd6298449985c37f0780906213",
       "version_major": 2,
       "version_minor": 0
      },
      "text/plain": [
       "  0%|          | 0/163 [00:00<?, ?it/s]"
      ]
     },
     "metadata": {},
     "output_type": "display_data"
    },
    {
     "data": {
      "application/vnd.jupyter.widget-view+json": {
       "model_id": "4de5898fd68e405193ca0845c82c08ad",
       "version_major": 2,
       "version_minor": 0
      },
      "text/plain": [
       "  0%|          | 0/163 [00:00<?, ?it/s]"
      ]
     },
     "metadata": {},
     "output_type": "display_data"
    },
    {
     "data": {
      "application/vnd.jupyter.widget-view+json": {
       "model_id": "eec6c5fd194a441aaffc05c8c38bffb7",
       "version_major": 2,
       "version_minor": 0
      },
      "text/plain": [
       "  0%|          | 0/163 [00:00<?, ?it/s]"
      ]
     },
     "metadata": {},
     "output_type": "display_data"
    },
    {
     "data": {
      "application/vnd.jupyter.widget-view+json": {
       "model_id": "ade1c7d7d4f943798e5cdfe397d04171",
       "version_major": 2,
       "version_minor": 0
      },
      "text/plain": [
       "  0%|          | 0/163 [00:00<?, ?it/s]"
      ]
     },
     "metadata": {},
     "output_type": "display_data"
    },
    {
     "data": {
      "application/vnd.jupyter.widget-view+json": {
       "model_id": "46b404e1e9dd4591ba6fc54502718768",
       "version_major": 2,
       "version_minor": 0
      },
      "text/plain": [
       "  0%|          | 0/163 [00:00<?, ?it/s]"
      ]
     },
     "metadata": {},
     "output_type": "display_data"
    },
    {
     "data": {
      "application/vnd.jupyter.widget-view+json": {
       "model_id": "1f1140796dbf4d69adb5fb37598ef818",
       "version_major": 2,
       "version_minor": 0
      },
      "text/plain": [
       "  0%|          | 0/163 [00:00<?, ?it/s]"
      ]
     },
     "metadata": {},
     "output_type": "display_data"
    },
    {
     "data": {
      "application/vnd.jupyter.widget-view+json": {
       "model_id": "671021696dac4bdd8dac178b6e054339",
       "version_major": 2,
       "version_minor": 0
      },
      "text/plain": [
       "  0%|          | 0/163 [00:00<?, ?it/s]"
      ]
     },
     "metadata": {},
     "output_type": "display_data"
    },
    {
     "data": {
      "application/vnd.jupyter.widget-view+json": {
       "model_id": "560ae7ef718a487cb26e64eb157369b7",
       "version_major": 2,
       "version_minor": 0
      },
      "text/plain": [
       "  0%|          | 0/163 [00:00<?, ?it/s]"
      ]
     },
     "metadata": {},
     "output_type": "display_data"
    },
    {
     "data": {
      "application/vnd.jupyter.widget-view+json": {
       "model_id": "6bdf81e78c67456db0915d96e2f2ef41",
       "version_major": 2,
       "version_minor": 0
      },
      "text/plain": [
       "  0%|          | 0/163 [00:00<?, ?it/s]"
      ]
     },
     "metadata": {},
     "output_type": "display_data"
    },
    {
     "data": {
      "application/vnd.jupyter.widget-view+json": {
       "model_id": "684cd1def40e45f3a81c0aee3cc16d7e",
       "version_major": 2,
       "version_minor": 0
      },
      "text/plain": [
       "  0%|          | 0/163 [00:00<?, ?it/s]"
      ]
     },
     "metadata": {},
     "output_type": "display_data"
    },
    {
     "data": {
      "application/vnd.jupyter.widget-view+json": {
       "model_id": "e7d363c03ec04b4192695b64599bd68d",
       "version_major": 2,
       "version_minor": 0
      },
      "text/plain": [
       "  0%|          | 0/163 [00:00<?, ?it/s]"
      ]
     },
     "metadata": {},
     "output_type": "display_data"
    },
    {
     "data": {
      "application/vnd.jupyter.widget-view+json": {
       "model_id": "a0f531ac07c24c12a58ac79870f1ebc1",
       "version_major": 2,
       "version_minor": 0
      },
      "text/plain": [
       "  0%|          | 0/163 [00:00<?, ?it/s]"
      ]
     },
     "metadata": {},
     "output_type": "display_data"
    },
    {
     "data": {
      "application/vnd.jupyter.widget-view+json": {
       "model_id": "b872b1d806be4902b37f51c638831e8d",
       "version_major": 2,
       "version_minor": 0
      },
      "text/plain": [
       "  0%|          | 0/163 [00:00<?, ?it/s]"
      ]
     },
     "metadata": {},
     "output_type": "display_data"
    },
    {
     "data": {
      "application/vnd.jupyter.widget-view+json": {
       "model_id": "ac01b96ff55946ffafab751dda50d5d2",
       "version_major": 2,
       "version_minor": 0
      },
      "text/plain": [
       "  0%|          | 0/163 [00:00<?, ?it/s]"
      ]
     },
     "metadata": {},
     "output_type": "display_data"
    },
    {
     "data": {
      "application/vnd.jupyter.widget-view+json": {
       "model_id": "296a88143cb344d68580e6bf7ac3043f",
       "version_major": 2,
       "version_minor": 0
      },
      "text/plain": [
       "  0%|          | 0/163 [00:00<?, ?it/s]"
      ]
     },
     "metadata": {},
     "output_type": "display_data"
    },
    {
     "data": {
      "application/vnd.jupyter.widget-view+json": {
       "model_id": "023a1c3c10014768a5f194ad7284d60c",
       "version_major": 2,
       "version_minor": 0
      },
      "text/plain": [
       "  0%|          | 0/163 [00:00<?, ?it/s]"
      ]
     },
     "metadata": {},
     "output_type": "display_data"
    },
    {
     "data": {
      "application/vnd.jupyter.widget-view+json": {
       "model_id": "2ac92a6dd868488fabc0c109b5d926dc",
       "version_major": 2,
       "version_minor": 0
      },
      "text/plain": [
       "  0%|          | 0/163 [00:00<?, ?it/s]"
      ]
     },
     "metadata": {},
     "output_type": "display_data"
    },
    {
     "data": {
      "application/vnd.jupyter.widget-view+json": {
       "model_id": "1cb7e6486e8f43f2a586a1b7d546c848",
       "version_major": 2,
       "version_minor": 0
      },
      "text/plain": [
       "  0%|          | 0/163 [00:00<?, ?it/s]"
      ]
     },
     "metadata": {},
     "output_type": "display_data"
    },
    {
     "data": {
      "application/vnd.jupyter.widget-view+json": {
       "model_id": "53e9b91377114facaf403eb01e63252c",
       "version_major": 2,
       "version_minor": 0
      },
      "text/plain": [
       "  0%|          | 0/163 [00:00<?, ?it/s]"
      ]
     },
     "metadata": {},
     "output_type": "display_data"
    },
    {
     "data": {
      "application/vnd.jupyter.widget-view+json": {
       "model_id": "a7d2beb25514430196a7631757281a8f",
       "version_major": 2,
       "version_minor": 0
      },
      "text/plain": [
       "  0%|          | 0/163 [00:00<?, ?it/s]"
      ]
     },
     "metadata": {},
     "output_type": "display_data"
    },
    {
     "data": {
      "application/vnd.jupyter.widget-view+json": {
       "model_id": "a60c1496a347468ebd3718d925f4ff8d",
       "version_major": 2,
       "version_minor": 0
      },
      "text/plain": [
       "  0%|          | 0/163 [00:00<?, ?it/s]"
      ]
     },
     "metadata": {},
     "output_type": "display_data"
    },
    {
     "data": {
      "application/vnd.jupyter.widget-view+json": {
       "model_id": "9acd7fd5378c422ab2901258773687d0",
       "version_major": 2,
       "version_minor": 0
      },
      "text/plain": [
       "  0%|          | 0/163 [00:00<?, ?it/s]"
      ]
     },
     "metadata": {},
     "output_type": "display_data"
    },
    {
     "data": {
      "application/vnd.jupyter.widget-view+json": {
       "model_id": "8f3724be0ac94b62b3e1762d340c556a",
       "version_major": 2,
       "version_minor": 0
      },
      "text/plain": [
       "  0%|          | 0/163 [00:00<?, ?it/s]"
      ]
     },
     "metadata": {},
     "output_type": "display_data"
    },
    {
     "data": {
      "application/vnd.jupyter.widget-view+json": {
       "model_id": "3054acd341954d6781fd573765bd16d7",
       "version_major": 2,
       "version_minor": 0
      },
      "text/plain": [
       "  0%|          | 0/163 [00:00<?, ?it/s]"
      ]
     },
     "metadata": {},
     "output_type": "display_data"
    },
    {
     "data": {
      "application/vnd.jupyter.widget-view+json": {
       "model_id": "428104bc6c394a9f8b6d752a4b352058",
       "version_major": 2,
       "version_minor": 0
      },
      "text/plain": [
       "  0%|          | 0/163 [00:00<?, ?it/s]"
      ]
     },
     "metadata": {},
     "output_type": "display_data"
    },
    {
     "data": {
      "application/vnd.jupyter.widget-view+json": {
       "model_id": "24db012d68a54433b483d02ba6bf9bd3",
       "version_major": 2,
       "version_minor": 0
      },
      "text/plain": [
       "  0%|          | 0/163 [00:00<?, ?it/s]"
      ]
     },
     "metadata": {},
     "output_type": "display_data"
    },
    {
     "data": {
      "application/vnd.jupyter.widget-view+json": {
       "model_id": "7f3b85e36de141b09b6f5b9cdf28ad58",
       "version_major": 2,
       "version_minor": 0
      },
      "text/plain": [
       "  0%|          | 0/163 [00:00<?, ?it/s]"
      ]
     },
     "metadata": {},
     "output_type": "display_data"
    },
    {
     "data": {
      "application/vnd.jupyter.widget-view+json": {
       "model_id": "6b23ccff0c8446bda5ee011371f1deed",
       "version_major": 2,
       "version_minor": 0
      },
      "text/plain": [
       "  0%|          | 0/163 [00:00<?, ?it/s]"
      ]
     },
     "metadata": {},
     "output_type": "display_data"
    },
    {
     "data": {
      "application/vnd.jupyter.widget-view+json": {
       "model_id": "d9a3b1e2069b4cd9b8887e5632320c38",
       "version_major": 2,
       "version_minor": 0
      },
      "text/plain": [
       "  0%|          | 0/163 [00:00<?, ?it/s]"
      ]
     },
     "metadata": {},
     "output_type": "display_data"
    },
    {
     "data": {
      "application/vnd.jupyter.widget-view+json": {
       "model_id": "82955ca93cda4dacbba4e966498cfd66",
       "version_major": 2,
       "version_minor": 0
      },
      "text/plain": [
       "  0%|          | 0/163 [00:00<?, ?it/s]"
      ]
     },
     "metadata": {},
     "output_type": "display_data"
    },
    {
     "data": {
      "application/vnd.jupyter.widget-view+json": {
       "model_id": "d9fa25f383fe4ad9a9960f94ee516250",
       "version_major": 2,
       "version_minor": 0
      },
      "text/plain": [
       "  0%|          | 0/163 [00:00<?, ?it/s]"
      ]
     },
     "metadata": {},
     "output_type": "display_data"
    },
    {
     "data": {
      "application/vnd.jupyter.widget-view+json": {
       "model_id": "40627e5e057040528f1bbfd90a5012c2",
       "version_major": 2,
       "version_minor": 0
      },
      "text/plain": [
       "  0%|          | 0/163 [00:00<?, ?it/s]"
      ]
     },
     "metadata": {},
     "output_type": "display_data"
    },
    {
     "data": {
      "application/vnd.jupyter.widget-view+json": {
       "model_id": "e215838591ea4620b3ed166c61c8a566",
       "version_major": 2,
       "version_minor": 0
      },
      "text/plain": [
       "  0%|          | 0/163 [00:00<?, ?it/s]"
      ]
     },
     "metadata": {},
     "output_type": "display_data"
    },
    {
     "data": {
      "application/vnd.jupyter.widget-view+json": {
       "model_id": "f0cdde9652c3454da8ac6132459e6d55",
       "version_major": 2,
       "version_minor": 0
      },
      "text/plain": [
       "  0%|          | 0/163 [00:00<?, ?it/s]"
      ]
     },
     "metadata": {},
     "output_type": "display_data"
    },
    {
     "data": {
      "application/vnd.jupyter.widget-view+json": {
       "model_id": "fe794f785e56463fa82ddffb3b2f05fb",
       "version_major": 2,
       "version_minor": 0
      },
      "text/plain": [
       "  0%|          | 0/163 [00:00<?, ?it/s]"
      ]
     },
     "metadata": {},
     "output_type": "display_data"
    },
    {
     "data": {
      "application/vnd.jupyter.widget-view+json": {
       "model_id": "f2acf8ced859492dad9ca3fbf447dcc4",
       "version_major": 2,
       "version_minor": 0
      },
      "text/plain": [
       "  0%|          | 0/163 [00:00<?, ?it/s]"
      ]
     },
     "metadata": {},
     "output_type": "display_data"
    },
    {
     "data": {
      "application/vnd.jupyter.widget-view+json": {
       "model_id": "1b58df13d2e745acbb72c77284122a53",
       "version_major": 2,
       "version_minor": 0
      },
      "text/plain": [
       "  0%|          | 0/163 [00:00<?, ?it/s]"
      ]
     },
     "metadata": {},
     "output_type": "display_data"
    },
    {
     "data": {
      "application/vnd.jupyter.widget-view+json": {
       "model_id": "89b09a5d0b5a4836a70039ae1555463f",
       "version_major": 2,
       "version_minor": 0
      },
      "text/plain": [
       "  0%|          | 0/163 [00:00<?, ?it/s]"
      ]
     },
     "metadata": {},
     "output_type": "display_data"
    },
    {
     "data": {
      "application/vnd.jupyter.widget-view+json": {
       "model_id": "632ea85db7154a4da33e3e55385f2347",
       "version_major": 2,
       "version_minor": 0
      },
      "text/plain": [
       "  0%|          | 0/163 [00:00<?, ?it/s]"
      ]
     },
     "metadata": {},
     "output_type": "display_data"
    },
    {
     "data": {
      "application/vnd.jupyter.widget-view+json": {
       "model_id": "8d53a7f38da1483b80945868ae0f200b",
       "version_major": 2,
       "version_minor": 0
      },
      "text/plain": [
       "  0%|          | 0/163 [00:00<?, ?it/s]"
      ]
     },
     "metadata": {},
     "output_type": "display_data"
    },
    {
     "data": {
      "application/vnd.jupyter.widget-view+json": {
       "model_id": "54b1d30b76bc41cf87fa67a2e4e30408",
       "version_major": 2,
       "version_minor": 0
      },
      "text/plain": [
       "  0%|          | 0/163 [00:00<?, ?it/s]"
      ]
     },
     "metadata": {},
     "output_type": "display_data"
    },
    {
     "data": {
      "application/vnd.jupyter.widget-view+json": {
       "model_id": "b6f4000100f84c21a52ee3bc20fc753c",
       "version_major": 2,
       "version_minor": 0
      },
      "text/plain": [
       "  0%|          | 0/163 [00:00<?, ?it/s]"
      ]
     },
     "metadata": {},
     "output_type": "display_data"
    },
    {
     "data": {
      "application/vnd.jupyter.widget-view+json": {
       "model_id": "9bd6f2e521c645089854077d650b46a2",
       "version_major": 2,
       "version_minor": 0
      },
      "text/plain": [
       "  0%|          | 0/163 [00:00<?, ?it/s]"
      ]
     },
     "metadata": {},
     "output_type": "display_data"
    },
    {
     "data": {
      "application/vnd.jupyter.widget-view+json": {
       "model_id": "c15daa31c4884f649385aeedb12c1bad",
       "version_major": 2,
       "version_minor": 0
      },
      "text/plain": [
       "  0%|          | 0/163 [00:00<?, ?it/s]"
      ]
     },
     "metadata": {},
     "output_type": "display_data"
    },
    {
     "data": {
      "application/vnd.jupyter.widget-view+json": {
       "model_id": "fc598f6e6f084e06a6a5a0596b0afff4",
       "version_major": 2,
       "version_minor": 0
      },
      "text/plain": [
       "  0%|          | 0/163 [00:00<?, ?it/s]"
      ]
     },
     "metadata": {},
     "output_type": "display_data"
    },
    {
     "data": {
      "application/vnd.jupyter.widget-view+json": {
       "model_id": "1449f3bad1dc406c9056b0b035056dc0",
       "version_major": 2,
       "version_minor": 0
      },
      "text/plain": [
       "  0%|          | 0/163 [00:00<?, ?it/s]"
      ]
     },
     "metadata": {},
     "output_type": "display_data"
    },
    {
     "data": {
      "application/vnd.jupyter.widget-view+json": {
       "model_id": "139fc583734f4353b8ae159e0aacce89",
       "version_major": 2,
       "version_minor": 0
      },
      "text/plain": [
       "  0%|          | 0/163 [00:00<?, ?it/s]"
      ]
     },
     "metadata": {},
     "output_type": "display_data"
    },
    {
     "data": {
      "application/vnd.jupyter.widget-view+json": {
       "model_id": "2b26132c74a448c19d1429d8e56e25c9",
       "version_major": 2,
       "version_minor": 0
      },
      "text/plain": [
       "  0%|          | 0/163 [00:00<?, ?it/s]"
      ]
     },
     "metadata": {},
     "output_type": "display_data"
    },
    {
     "data": {
      "application/vnd.jupyter.widget-view+json": {
       "model_id": "05133f29be134ba4a7ba5b13e3c80a6c",
       "version_major": 2,
       "version_minor": 0
      },
      "text/plain": [
       "  0%|          | 0/163 [00:00<?, ?it/s]"
      ]
     },
     "metadata": {},
     "output_type": "display_data"
    },
    {
     "data": {
      "application/vnd.jupyter.widget-view+json": {
       "model_id": "fa2ed542c36e465b964c3adb52ddf1b3",
       "version_major": 2,
       "version_minor": 0
      },
      "text/plain": [
       "  0%|          | 0/163 [00:00<?, ?it/s]"
      ]
     },
     "metadata": {},
     "output_type": "display_data"
    },
    {
     "data": {
      "application/vnd.jupyter.widget-view+json": {
       "model_id": "8b64ef3b650c4acdabe237365a38fd57",
       "version_major": 2,
       "version_minor": 0
      },
      "text/plain": [
       "  0%|          | 0/163 [00:00<?, ?it/s]"
      ]
     },
     "metadata": {},
     "output_type": "display_data"
    },
    {
     "data": {
      "application/vnd.jupyter.widget-view+json": {
       "model_id": "d401fb66daf949a38039b968e62fdcb7",
       "version_major": 2,
       "version_minor": 0
      },
      "text/plain": [
       "  0%|          | 0/163 [00:00<?, ?it/s]"
      ]
     },
     "metadata": {},
     "output_type": "display_data"
    },
    {
     "data": {
      "application/vnd.jupyter.widget-view+json": {
       "model_id": "8311c0a0718144d0bd61f483dda1094a",
       "version_major": 2,
       "version_minor": 0
      },
      "text/plain": [
       "  0%|          | 0/163 [00:00<?, ?it/s]"
      ]
     },
     "metadata": {},
     "output_type": "display_data"
    },
    {
     "data": {
      "application/vnd.jupyter.widget-view+json": {
       "model_id": "16aebf4876a24f908cb3fdc25a97a786",
       "version_major": 2,
       "version_minor": 0
      },
      "text/plain": [
       "  0%|          | 0/163 [00:00<?, ?it/s]"
      ]
     },
     "metadata": {},
     "output_type": "display_data"
    },
    {
     "data": {
      "application/vnd.jupyter.widget-view+json": {
       "model_id": "52a758063e1b4655a72592a3a2112226",
       "version_major": 2,
       "version_minor": 0
      },
      "text/plain": [
       "  0%|          | 0/163 [00:00<?, ?it/s]"
      ]
     },
     "metadata": {},
     "output_type": "display_data"
    },
    {
     "data": {
      "application/vnd.jupyter.widget-view+json": {
       "model_id": "dafd6f5ed8e24c0bbd60500f9d8bb3af",
       "version_major": 2,
       "version_minor": 0
      },
      "text/plain": [
       "  0%|          | 0/163 [00:00<?, ?it/s]"
      ]
     },
     "metadata": {},
     "output_type": "display_data"
    },
    {
     "data": {
      "application/vnd.jupyter.widget-view+json": {
       "model_id": "20fe4e333ca141c88323f794cc0bf9fc",
       "version_major": 2,
       "version_minor": 0
      },
      "text/plain": [
       "  0%|          | 0/163 [00:00<?, ?it/s]"
      ]
     },
     "metadata": {},
     "output_type": "display_data"
    },
    {
     "data": {
      "application/vnd.jupyter.widget-view+json": {
       "model_id": "5827c51eeecc40a386fd55afb0f06710",
       "version_major": 2,
       "version_minor": 0
      },
      "text/plain": [
       "  0%|          | 0/163 [00:00<?, ?it/s]"
      ]
     },
     "metadata": {},
     "output_type": "display_data"
    },
    {
     "data": {
      "application/vnd.jupyter.widget-view+json": {
       "model_id": "f95130c34908498e87266dfef98e878e",
       "version_major": 2,
       "version_minor": 0
      },
      "text/plain": [
       "  0%|          | 0/163 [00:00<?, ?it/s]"
      ]
     },
     "metadata": {},
     "output_type": "display_data"
    },
    {
     "data": {
      "application/vnd.jupyter.widget-view+json": {
       "model_id": "7cfde2d9a27243a2a97bba487b40a954",
       "version_major": 2,
       "version_minor": 0
      },
      "text/plain": [
       "  0%|          | 0/163 [00:00<?, ?it/s]"
      ]
     },
     "metadata": {},
     "output_type": "display_data"
    },
    {
     "data": {
      "application/vnd.jupyter.widget-view+json": {
       "model_id": "183d0945937e4112b3d4b10a9bb150d8",
       "version_major": 2,
       "version_minor": 0
      },
      "text/plain": [
       "  0%|          | 0/163 [00:00<?, ?it/s]"
      ]
     },
     "metadata": {},
     "output_type": "display_data"
    },
    {
     "data": {
      "application/vnd.jupyter.widget-view+json": {
       "model_id": "caa077f8cfcb45c5b08b2e11d75f8bfd",
       "version_major": 2,
       "version_minor": 0
      },
      "text/plain": [
       "  0%|          | 0/163 [00:00<?, ?it/s]"
      ]
     },
     "metadata": {},
     "output_type": "display_data"
    },
    {
     "data": {
      "application/vnd.jupyter.widget-view+json": {
       "model_id": "6b37d02c75394df5841928cf2b881603",
       "version_major": 2,
       "version_minor": 0
      },
      "text/plain": [
       "  0%|          | 0/163 [00:00<?, ?it/s]"
      ]
     },
     "metadata": {},
     "output_type": "display_data"
    },
    {
     "data": {
      "application/vnd.jupyter.widget-view+json": {
       "model_id": "3fe47a7f20a24531acdd0a8970a57e46",
       "version_major": 2,
       "version_minor": 0
      },
      "text/plain": [
       "  0%|          | 0/163 [00:00<?, ?it/s]"
      ]
     },
     "metadata": {},
     "output_type": "display_data"
    },
    {
     "data": {
      "application/vnd.jupyter.widget-view+json": {
       "model_id": "9566085af92040c199c811d4fc80f6df",
       "version_major": 2,
       "version_minor": 0
      },
      "text/plain": [
       "  0%|          | 0/163 [00:00<?, ?it/s]"
      ]
     },
     "metadata": {},
     "output_type": "display_data"
    },
    {
     "data": {
      "application/vnd.jupyter.widget-view+json": {
       "model_id": "b13de298fadb468c8cb289ee773fb3b9",
       "version_major": 2,
       "version_minor": 0
      },
      "text/plain": [
       "  0%|          | 0/163 [00:00<?, ?it/s]"
      ]
     },
     "metadata": {},
     "output_type": "display_data"
    },
    {
     "data": {
      "application/vnd.jupyter.widget-view+json": {
       "model_id": "944ae9d6804241209c2d6077940a1365",
       "version_major": 2,
       "version_minor": 0
      },
      "text/plain": [
       "  0%|          | 0/163 [00:00<?, ?it/s]"
      ]
     },
     "metadata": {},
     "output_type": "display_data"
    },
    {
     "data": {
      "application/vnd.jupyter.widget-view+json": {
       "model_id": "b29973c5105c45a191b22f010014b0b7",
       "version_major": 2,
       "version_minor": 0
      },
      "text/plain": [
       "  0%|          | 0/163 [00:00<?, ?it/s]"
      ]
     },
     "metadata": {},
     "output_type": "display_data"
    },
    {
     "data": {
      "application/vnd.jupyter.widget-view+json": {
       "model_id": "b4a4b789f6c74a6bbe4bad9806a5f123",
       "version_major": 2,
       "version_minor": 0
      },
      "text/plain": [
       "  0%|          | 0/163 [00:00<?, ?it/s]"
      ]
     },
     "metadata": {},
     "output_type": "display_data"
    },
    {
     "data": {
      "application/vnd.jupyter.widget-view+json": {
       "model_id": "196cce9212394d049ab749509ecdd110",
       "version_major": 2,
       "version_minor": 0
      },
      "text/plain": [
       "  0%|          | 0/163 [00:00<?, ?it/s]"
      ]
     },
     "metadata": {},
     "output_type": "display_data"
    },
    {
     "data": {
      "application/vnd.jupyter.widget-view+json": {
       "model_id": "6a9a963a26b5472a95a504b8771f5f6c",
       "version_major": 2,
       "version_minor": 0
      },
      "text/plain": [
       "  0%|          | 0/163 [00:00<?, ?it/s]"
      ]
     },
     "metadata": {},
     "output_type": "display_data"
    },
    {
     "data": {
      "application/vnd.jupyter.widget-view+json": {
       "model_id": "3d3a9e931a1c444bb7b2c6d1d98f27b4",
       "version_major": 2,
       "version_minor": 0
      },
      "text/plain": [
       "  0%|          | 0/163 [00:00<?, ?it/s]"
      ]
     },
     "metadata": {},
     "output_type": "display_data"
    },
    {
     "data": {
      "application/vnd.jupyter.widget-view+json": {
       "model_id": "d570302270524d10888f2722584cc73d",
       "version_major": 2,
       "version_minor": 0
      },
      "text/plain": [
       "  0%|          | 0/163 [00:00<?, ?it/s]"
      ]
     },
     "metadata": {},
     "output_type": "display_data"
    },
    {
     "data": {
      "application/vnd.jupyter.widget-view+json": {
       "model_id": "7855bd5454414099a5a31335e5e5fca5",
       "version_major": 2,
       "version_minor": 0
      },
      "text/plain": [
       "  0%|          | 0/163 [00:00<?, ?it/s]"
      ]
     },
     "metadata": {},
     "output_type": "display_data"
    },
    {
     "data": {
      "application/vnd.jupyter.widget-view+json": {
       "model_id": "5ca56fd350ea4edb97dba7f8c738fff0",
       "version_major": 2,
       "version_minor": 0
      },
      "text/plain": [
       "  0%|          | 0/163 [00:00<?, ?it/s]"
      ]
     },
     "metadata": {},
     "output_type": "display_data"
    },
    {
     "data": {
      "application/vnd.jupyter.widget-view+json": {
       "model_id": "b8421bbf7a7a4b708e149713c957c927",
       "version_major": 2,
       "version_minor": 0
      },
      "text/plain": [
       "  0%|          | 0/163 [00:00<?, ?it/s]"
      ]
     },
     "metadata": {},
     "output_type": "display_data"
    },
    {
     "data": {
      "application/vnd.jupyter.widget-view+json": {
       "model_id": "cffec568cd84411093e48e12df8db2b4",
       "version_major": 2,
       "version_minor": 0
      },
      "text/plain": [
       "  0%|          | 0/163 [00:00<?, ?it/s]"
      ]
     },
     "metadata": {},
     "output_type": "display_data"
    },
    {
     "data": {
      "application/vnd.jupyter.widget-view+json": {
       "model_id": "5c6e6642749a4ba4a7a3474db9a92569",
       "version_major": 2,
       "version_minor": 0
      },
      "text/plain": [
       "  0%|          | 0/163 [00:00<?, ?it/s]"
      ]
     },
     "metadata": {},
     "output_type": "display_data"
    },
    {
     "data": {
      "application/vnd.jupyter.widget-view+json": {
       "model_id": "60c586bcdf304875a37e8ce88acb0dd7",
       "version_major": 2,
       "version_minor": 0
      },
      "text/plain": [
       "  0%|          | 0/163 [00:00<?, ?it/s]"
      ]
     },
     "metadata": {},
     "output_type": "display_data"
    },
    {
     "data": {
      "application/vnd.jupyter.widget-view+json": {
       "model_id": "59be3818437f404abc49c5ff6ba71d7c",
       "version_major": 2,
       "version_minor": 0
      },
      "text/plain": [
       "  0%|          | 0/163 [00:00<?, ?it/s]"
      ]
     },
     "metadata": {},
     "output_type": "display_data"
    },
    {
     "data": {
      "application/vnd.jupyter.widget-view+json": {
       "model_id": "0d794b1c2766425bb05f920e5d5643bc",
       "version_major": 2,
       "version_minor": 0
      },
      "text/plain": [
       "  0%|          | 0/163 [00:00<?, ?it/s]"
      ]
     },
     "metadata": {},
     "output_type": "display_data"
    },
    {
     "data": {
      "application/vnd.jupyter.widget-view+json": {
       "model_id": "26d9e04dbdef45f79daf6d22c667572e",
       "version_major": 2,
       "version_minor": 0
      },
      "text/plain": [
       "  0%|          | 0/163 [00:00<?, ?it/s]"
      ]
     },
     "metadata": {},
     "output_type": "display_data"
    },
    {
     "data": {
      "application/vnd.jupyter.widget-view+json": {
       "model_id": "34652f1951fa484ea2967b05f8b20235",
       "version_major": 2,
       "version_minor": 0
      },
      "text/plain": [
       "  0%|          | 0/163 [00:00<?, ?it/s]"
      ]
     },
     "metadata": {},
     "output_type": "display_data"
    },
    {
     "data": {
      "application/vnd.jupyter.widget-view+json": {
       "model_id": "9c70c9d0b34345a197c3e9f8df8e129b",
       "version_major": 2,
       "version_minor": 0
      },
      "text/plain": [
       "  0%|          | 0/163 [00:00<?, ?it/s]"
      ]
     },
     "metadata": {},
     "output_type": "display_data"
    },
    {
     "data": {
      "application/vnd.jupyter.widget-view+json": {
       "model_id": "36b7c16190a346d68807b01f6b3009f9",
       "version_major": 2,
       "version_minor": 0
      },
      "text/plain": [
       "  0%|          | 0/163 [00:00<?, ?it/s]"
      ]
     },
     "metadata": {},
     "output_type": "display_data"
    },
    {
     "data": {
      "application/vnd.jupyter.widget-view+json": {
       "model_id": "4c1d830f28d5464bb339fc7865098ff3",
       "version_major": 2,
       "version_minor": 0
      },
      "text/plain": [
       "  0%|          | 0/163 [00:00<?, ?it/s]"
      ]
     },
     "metadata": {},
     "output_type": "display_data"
    },
    {
     "data": {
      "application/vnd.jupyter.widget-view+json": {
       "model_id": "44db91da184c4cfebf66672446bac165",
       "version_major": 2,
       "version_minor": 0
      },
      "text/plain": [
       "  0%|          | 0/163 [00:00<?, ?it/s]"
      ]
     },
     "metadata": {},
     "output_type": "display_data"
    },
    {
     "data": {
      "application/vnd.jupyter.widget-view+json": {
       "model_id": "20e56f622e0e46da9fa5275b1f834055",
       "version_major": 2,
       "version_minor": 0
      },
      "text/plain": [
       "  0%|          | 0/163 [00:00<?, ?it/s]"
      ]
     },
     "metadata": {},
     "output_type": "display_data"
    },
    {
     "data": {
      "application/vnd.jupyter.widget-view+json": {
       "model_id": "3651163d05a8499abdeed9677570267e",
       "version_major": 2,
       "version_minor": 0
      },
      "text/plain": [
       "  0%|          | 0/163 [00:00<?, ?it/s]"
      ]
     },
     "metadata": {},
     "output_type": "display_data"
    },
    {
     "data": {
      "application/vnd.jupyter.widget-view+json": {
       "model_id": "5d73bb72387e49a694977ba240877b98",
       "version_major": 2,
       "version_minor": 0
      },
      "text/plain": [
       "  0%|          | 0/163 [00:00<?, ?it/s]"
      ]
     },
     "metadata": {},
     "output_type": "display_data"
    },
    {
     "data": {
      "application/vnd.jupyter.widget-view+json": {
       "model_id": "f734b94dbd334fe9b439f819bfd59e5f",
       "version_major": 2,
       "version_minor": 0
      },
      "text/plain": [
       "  0%|          | 0/163 [00:00<?, ?it/s]"
      ]
     },
     "metadata": {},
     "output_type": "display_data"
    },
    {
     "data": {
      "application/vnd.jupyter.widget-view+json": {
       "model_id": "c69a01a2a483420dbd792739414fac74",
       "version_major": 2,
       "version_minor": 0
      },
      "text/plain": [
       "  0%|          | 0/163 [00:00<?, ?it/s]"
      ]
     },
     "metadata": {},
     "output_type": "display_data"
    },
    {
     "data": {
      "application/vnd.jupyter.widget-view+json": {
       "model_id": "3820d4d5427b440a8194203f9923ae1f",
       "version_major": 2,
       "version_minor": 0
      },
      "text/plain": [
       "  0%|          | 0/163 [00:00<?, ?it/s]"
      ]
     },
     "metadata": {},
     "output_type": "display_data"
    },
    {
     "data": {
      "application/vnd.jupyter.widget-view+json": {
       "model_id": "9a6e1477b8b245569fdb15f48bffa4b3",
       "version_major": 2,
       "version_minor": 0
      },
      "text/plain": [
       "  0%|          | 0/163 [00:00<?, ?it/s]"
      ]
     },
     "metadata": {},
     "output_type": "display_data"
    },
    {
     "data": {
      "application/vnd.jupyter.widget-view+json": {
       "model_id": "e4154c5710d8409aa7550273c0c58f0c",
       "version_major": 2,
       "version_minor": 0
      },
      "text/plain": [
       "  0%|          | 0/163 [00:00<?, ?it/s]"
      ]
     },
     "metadata": {},
     "output_type": "display_data"
    },
    {
     "data": {
      "application/vnd.jupyter.widget-view+json": {
       "model_id": "2f9ecf63c1ba453dac41a53bde37348a",
       "version_major": 2,
       "version_minor": 0
      },
      "text/plain": [
       "  0%|          | 0/163 [00:00<?, ?it/s]"
      ]
     },
     "metadata": {},
     "output_type": "display_data"
    },
    {
     "name": "stdout",
     "output_type": "stream",
     "text": [
      "[('M. Przewozniczek', 0.0), ('P. Dziurzanski', 0.0), ('S. Zhao', 0.0), ('L. Indrusiak', 0.0), ('A. Krakovska', 0.0), ('J. Jakubik', 0.0), ('H. Budacova', 0.0), ('M. Holecyova', 0.0), ('S. Feuerriegel', 0.0), ('M. Gniewkowski', 0.0), ('H. Maciejewski', 0.0), ('T. Surmacz', 0.0), ('W. Walentynowicz', 0.0), ('M. Spytkowski', 0.01), ('Z. Michalewicz', 0.01), ('K. Oslizlo', 0.01), ('J. Kwiatkowski', 0.01), ('M. Paradowski', 0.01), ('L. Olech', 0.02), ('H. Kwasnicka', 0.02), ('P. Myszkowski', 0.02), ('M. Skowronski', 0.02), ('S. Theisen', 0.02), ('K. Meissner', 0.02), ('A. Binding', 0.03), ('H. Steinacker', 0.03), ('M. Panfil', 0.03), ('R. Suszek', 0.03), ('E. Sessolo', 0.03), ('T. Jelinski', 0.04), ('S. Rey', 0.04), ('K. Kowalska', 0.04), ('O. Aharony', 0.04), ('Z. Lalak', 0.05), ('S. Pokorski', 0.05), ('S. Yankielowicz', 0.05), ('K. Turzynski', 0.07), ('J. Pawelczyk', 0.08), ('J. Hamari', 0.12), ('B. Czerny', 0.14), ('M. Nikolajuk', 0.14), ('K. Kania', 0.15), ('K. Gorman', 0.16), ('A. Jamasb', 0.17), ('K. Kersting', 0.19), ('H. Jegierski', 0.19), ('M. Boldt', 0.2), ('N. Garau', 0.21), ('M. Zieba', 0.22), ('M. Rizoiu', 0.22), ('E. Kosasih', 0.22), ('J. Kuraszkiewicz', 0.24), ('R. Radwanski', 0.24), ('K. Rajda', 0.25), ('B. Tjandra', 0.25), ('S. Wozniak', 0.26), ('A. Borg', 0.27), ('E. Kanaga', 0.27), ('P. Gramacki', 0.27), ('K. Idanwekhai', 0.29), ('P. Doskocz', 0.31), ('G. Ragozini', 0.31), ('J. Grobelny', 0.31), ('M. Magnani', 0.32), ('X. Wang', 0.32), ('N. Bisagno', 0.33), ('Y. Wang', 0.34), ('J. Cabezas', 0.34), ('B. V', 0.37), ('Y. Yeliseyenka', 0.39), ('T. Jia', 0.39), ('X. Sumba', 0.39), ('K. Raczycki', 0.4), ('M. Nurek', 0.42), ('K. Pasierb', 0.45), ('Z. Ropka', 0.45), ('W. Indyk', 0.46), ('Y. Ran', 0.46), ('M. Koziarski', 0.47), ('M. Szymanski', 0.47), ('P. Oleszczyk', 0.48), ('M. Falkiewicz', 0.48), ('W. Karwowski', 0.52), ('S. Cheong', 0.54), ('W. Liu', 0.55), ('I. Gisterek', 0.56), ('H. Johnson', 0.57), ('O. Lizardo', 0.59), ('N. Chawla', 0.6), ('N. Conci', 0.6), ('G. Miebs', 0.62), ('B. Zak', 0.63), ('K. Tagowski', 0.64), ('B. Koloszczyk', 0.65), ('K. Skibicki', 0.66), ('A. Chmiel', 0.66), ('T. Filipowski', 0.67), ('M. Zolnieruk', 0.67), ('F. Erlandsson', 0.69), ('M. Bernaczyk', 0.7), ('P. Rozewski', 0.71), ('P. Zelasko', 0.73), ('N. Dehak', 0.73), ('M. Zyla-Hoppe', 0.73), ('P. Bielak', 0.74), ('V. Yukhymchuk', 0.74), ('S. Utz', 0.75), ('A. Kevshyn', 0.75), ('A. Szymczak', 0.75), ('J. Mizgajski', 0.77), ('I. Olekseyuk', 0.78), ('A. Rusin', 0.79), ('K. Jedryka', 0.79), ('J. Banaszczak', 0.79), ('V. Halyan', 0.81), ('S. Ciuberek', 0.81), ('C. Lebiere', 0.82), ('A. Zbieg', 0.82), ('P. Stawiak', 0.84), ('R. Bartusiak', 0.86), ('M. Kulisiewicz', 0.86), ('I. Ivashchenko', 0.88), ('A. Dziadek', 0.9), ('M. Dziezyc', 0.93), ('Y. Carmiel', 0.93), ('M. Shevchuk', 0.94), ('K. Musial', 0.95), ('A. Zygmunt', 0.96), ('J. Gaworecki', 0.98), ('K. Ozga', 0.99), ('A. Polak', 1.06), ('B. Gliwa', 1.08), ('P. Tishchenko', 1.09), ('M. Ujma', 1.11), ('K. Juszczyszyn', 1.13), ('J. Kozlak', 1.15), ('M. Skoryk', 1.16), ('P. Szymanski', 1.19), ('W. Michalska', 1.22), ('A. Dutkowiak', 1.23), ('J. Komoszynska', 1.23), ('Y. Gule', 1.31), ('N. Mastellos', 1.37), ('B. Szymanski', 1.39), ('M. Mcgilchrist', 1.42), ('M. Morzy', 1.45), ('P. Jakimow', 1.51), ('M. Piasecki', 1.54), ('A. Burgun', 1.57), ('J. Jankowski', 1.61), ('T. Arvanitis', 1.62), ('A. Andreasson', 1.63), ('J. Ethier', 1.65), ('L. Augustyniak', 1.71), ('B. Delaney', 1.85), ('S. Saganowski', 1.86), ('V. Curcin', 1.87), ('S. Keung', 2.01), ('L. Zhao', 2.02), ('T. Kajdanowicz', 2.26), ('R. Michalski', 2.53), ('P. Kazienko', 2.91), ('P. Brodka', 3.07)]\n"
     ]
    }
   ],
   "source": [
    "runs = []\n",
    "for _ in range(100):\n",
    "    runs.append(collect_sir_all(ge, gamma=0.4))\n",
    "df = pd.DataFrame(runs)\n",
    "answer = dict(df.mean())\n",
    "print(sorted(list(answer.items()), key=lambda x: x[1]))"
   ]
  },
  {
   "cell_type": "code",
   "execution_count": null,
   "metadata": {},
   "outputs": [],
   "source": [
    "subgraphs = sorted(nx.connected_components(ge), key=len, reverse=True)\n",
    "\n",
    "ge_biggest_comp = ge.subgraph(subgraphs[0])\n",
    "plt.figure(figsize=(18, 9))\n",
    "pos = nx.spring_layout(ge_biggest_comp)\n",
    "nx.draw(ge_biggest_comp, pos=pos, node_size=50)\n",
    "plt.show()"
   ]
  },
  {
   "cell_type": "code",
   "execution_count": 196,
   "metadata": {},
   "outputs": [
    {
     "data": {
      "text/plain": [
       "<module 'clustering.hcs' from 'C:\\\\Users\\\\Tom\\\\Documents\\\\studia\\\\ComplexNetworkAnalysis\\\\clustering\\\\hcs.py'>"
      ]
     },
     "execution_count": 196,
     "metadata": {},
     "output_type": "execute_result"
    }
   ],
   "source": [
    "import importlib\n",
    "import clustering.hcs as hcs\n",
    "importlib.reload(hcs)"
   ]
  },
  {
   "cell_type": "code",
   "execution_count": 211,
   "metadata": {},
   "outputs": [],
   "source": [
    "ge_biggest_comp_cpy = ge_biggest_comp.copy()\n",
    "_G, sub_graphs  = hcs.labelled_HCS(ge_biggest_comp_cpy)\n"
   ]
  }
 ],
 "metadata": {
  "kernelspec": {
   "display_name": "Python 3",
   "language": "python",
   "name": "python3"
  },
  "language_info": {
   "codemirror_mode": {
    "name": "ipython",
    "version": 3
   },
   "file_extension": ".py",
   "mimetype": "text/x-python",
   "name": "python",
   "nbconvert_exporter": "python",
   "pygments_lexer": "ipython3",
   "version": "3.8.3"
  }
 },
 "nbformat": 4,
 "nbformat_minor": 4
}
